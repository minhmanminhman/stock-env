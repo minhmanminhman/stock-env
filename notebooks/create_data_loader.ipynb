{
 "cells": [
  {
   "cell_type": "code",
   "execution_count": 1,
   "metadata": {},
   "outputs": [],
   "source": [
    "import pandas as pd\n",
    "import yaml\n",
    "from types import SimpleNamespace\n",
    "import stock_env\n",
    "from stock_env.feature.feature_extractor import *\n",
    "from stock_env.data_loader import *\n",
    "from stock_env.common.common_utils import open_config"
   ]
  },
  {
   "cell_type": "code",
   "execution_count": null,
   "metadata": {},
   "outputs": [],
   "source": [
    "faang_loader = USTaskLoader(\n",
    "    tickers=[\"aapl\", \"amzn\", \"meta\", \"goog\", \"nflx\"],\n",
    "    feature_extractor=SimpleFeatures,\n",
    "    max_episode_steps=250,\n",
    "    test_pct=0.2,\n",
    "    data_period=\"10y\",\n",
    ")\n",
    "faang_loader.save(\"../stock_env/datasets/faang_task_loader.pkl\")"
   ]
  },
  {
   "cell_type": "code",
   "execution_count": 2,
   "metadata": {},
   "outputs": [
    {
     "name": "stdout",
     "output_type": "stream",
     "text": [
      "[*********************100%***********************]  5 of 5 completed\n"
     ]
    }
   ],
   "source": [
    "env_id = \"MiniFAANG-v0\"\n",
    "\n",
    "args = open_config(\"../configs/maml.yaml\", env_id)\n",
    "faang_loader = USTaskLoader(\n",
    "    tickers=[\"aapl\", \"amzn\", \"meta\", \"goog\", \"nflx\"],\n",
    "    feature_extractor=SimpleFeatures,\n",
    "    max_episode_steps=args.num_steps,\n",
    "    test_pct=0.2,\n",
    "    data_period=\"5y\",\n",
    ")\n",
    "faang_loader.save(\"../stock_env/datasets/mini_faang.pkl\")"
   ]
  },
  {
   "cell_type": "code",
   "execution_count": null,
   "metadata": {},
   "outputs": [],
   "source": [
    "vnstock_loader = VNTaskLoader(\n",
    "    tickers=[\"SSI\", \"VND\", \"FPT\", \"VNM\", \"VHC\"],\n",
    "    feature_extractor=SimpleFeatures,\n",
    "    max_episode_steps=250,\n",
    "    test_pct=0.2,\n",
    ")\n",
    "vnstock_loader.save(\"../stock_env/datasets/mini_vnstock.pkl\")"
   ]
  },
  {
   "attachments": {},
   "cell_type": "markdown",
   "metadata": {},
   "source": [
    "# Main data loader"
   ]
  },
  {
   "cell_type": "code",
   "execution_count": null,
   "metadata": {},
   "outputs": [],
   "source": [
    "sp500_ticker = pd.read_csv(\"../temp/constituents_csv.csv\")\n",
    "sp500_ticker = list(sp500_ticker[\"Symbol\"])\n",
    "print(len(sp500_ticker))\n",
    "\n",
    "sp500_loader = USTaskLoader(\n",
    "    tickers=sp500_ticker,\n",
    "    feature_extractor=SimpleTrendFeatures,\n",
    "    max_episode_steps=250,\n",
    "    test_pct=0.2,\n",
    "    data_period=\"30y\",\n",
    ")\n",
    "sp500_loader.save(\"../stock_env/datasets/sp500.pkl\")"
   ]
  },
  {
   "cell_type": "code",
   "execution_count": 2,
   "metadata": {},
   "outputs": [],
   "source": [
    "sp500_loader = USTaskLoader.load(\"../stock_env/datasets/sp500.pkl\")\n",
    "sp500_loader.reset_task(sp500_loader.sample_task())\n",
    "sp500_loader.reset()"
   ]
  },
  {
   "cell_type": "code",
   "execution_count": null,
   "metadata": {},
   "outputs": [],
   "source": [
    "vnall = pd.read_csv(\"../temp/VNALL.csv\")\n",
    "vnall_symbol = list(vnall[\"Symbol\"])\n",
    "print(len(vnall))\n",
    "\n",
    "vnstock_loader = VNTaskLoader(\n",
    "    tickers=vnall_symbol,\n",
    "    feature_extractor=SimpleTrendFeatures,\n",
    "    max_episode_steps=250,\n",
    "    test_pct=0.5,\n",
    ")\n",
    "vnstock_loader.save(\"../stock_env/datasets/vnall.pkl\")"
   ]
  },
  {
   "cell_type": "code",
   "execution_count": 10,
   "metadata": {},
   "outputs": [
    {
     "data": {
      "text/plain": [
       "(array([ 0.06978989,  0.24756196,  0.34      ,  0.8       ,  0.46      ,\n",
       "         0.14896551,  0.0830433 ,  0.16539528,  0.025808  ,  0.53329208,\n",
       "         0.94379519,  1.        ,  0.0830433 , -0.01115728,  0.09420058,\n",
       "         0.15668084,  0.02080104,  0.13587979,  0.13984623,  0.0158652 ,\n",
       "         0.12398104,  0.24603751,  0.00704927,  0.23898824,  1.1381788 ,\n",
       "         0.24559897]),\n",
       " {'episode_ticker': 'GEG',\n",
       "  'from_time': '2018-01-12 00:00:00',\n",
       "  'to_time': '2019-01-14 00:00:00'})"
      ]
     },
     "execution_count": 10,
     "metadata": {},
     "output_type": "execute_result"
    }
   ],
   "source": [
    "vnall = VNTaskLoader.load(\"../stock_env/datasets/vnall.pkl\")\n",
    "vnall.reset_task(vnall.sample_task())\n",
    "vnall.reset()"
   ]
  }
 ],
 "metadata": {
  "kernelspec": {
   "display_name": "Python 3.8.13 ('tradingenv')",
   "language": "python",
   "name": "python3"
  },
  "language_info": {
   "codemirror_mode": {
    "name": "ipython",
    "version": 3
   },
   "file_extension": ".py",
   "mimetype": "text/x-python",
   "name": "python",
   "nbconvert_exporter": "python",
   "pygments_lexer": "ipython3",
   "version": "3.8.13"
  },
  "orig_nbformat": 4,
  "vscode": {
   "interpreter": {
    "hash": "faa7f68368d9c9f740356072b5cc858737f0635c1c0b552678cb52f36bb31777"
   }
  }
 },
 "nbformat": 4,
 "nbformat_minor": 2
}
