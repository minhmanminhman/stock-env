{
 "cells": [
  {
   "cell_type": "code",
   "execution_count": null,
   "metadata": {},
   "outputs": [],
   "source": [
    "import pandas as pd\n",
    "import yaml\n",
    "from types import SimpleNamespace\n",
    "import stock_env\n",
    "from stock_env.feature.feature_extractor import *\n",
    "from stock_env.data_loader import *\n",
    "from stock_env.common.common_utils import open_config"
   ]
  },
  {
   "cell_type": "code",
   "execution_count": null,
   "metadata": {},
   "outputs": [],
   "source": [
    "faang_loader = USTaskLoader(\n",
    "    tickers=[\"aapl\", \"amzn\", \"meta\", \"goog\", \"nflx\"],\n",
    "    feature_extractor=SimpleFeatures,\n",
    "    max_episode_steps=250,\n",
    "    test_pct=0.2,\n",
    "    data_period=\"10y\",\n",
    ")\n",
    "faang_loader.save(\"../stock_env/datasets/faang_task_loader.pkl\")"
   ]
  },
  {
   "cell_type": "code",
   "execution_count": null,
   "metadata": {},
   "outputs": [],
   "source": [
    "env_id = \"MiniFAANG-v0\"\n",
    "\n",
    "args = open_config(\"../configs/maml.yaml\", env_id)\n",
    "faang_loader = USTaskLoader(\n",
    "    tickers=[\"aapl\", \"amzn\", \"meta\", \"goog\", \"nflx\"],\n",
    "    feature_extractor=TrendFeatures,\n",
    "    max_episode_steps=args.num_steps,\n",
    "    test_pct=0.2,\n",
    "    data_period=\"5y\",\n",
    ")\n",
    "faang_loader.save(\"../stock_env/datasets/mini_faang.pkl\")"
   ]
  },
  {
   "cell_type": "code",
   "execution_count": null,
   "metadata": {},
   "outputs": [],
   "source": [
    "vnstock_loader = VNTaskLoader(\n",
    "    tickers=[\"SSI\", \"VND\", \"FPT\", \"VNM\", \"VHC\"],\n",
    "    feature_extractor=SimpleFeatures,\n",
    "    max_episode_steps=250,\n",
    "    test_pct=0.2,\n",
    ")\n",
    "vnstock_loader.save(\"../stock_env/datasets/mini_vnstock.pkl\")"
   ]
  },
  {
   "attachments": {},
   "cell_type": "markdown",
   "metadata": {},
   "source": [
    "# Main data loader"
   ]
  },
  {
   "cell_type": "code",
   "execution_count": null,
   "metadata": {},
   "outputs": [],
   "source": [
    "sp500_ticker = pd.read_csv(\"../temp/constituents_csv.csv\")\n",
    "sp500_ticker = list(sp500_ticker[\"Symbol\"])\n",
    "print(len(sp500_ticker))\n",
    "\n",
    "sp500_loader = USTaskLoader(\n",
    "    tickers=sp500_ticker,\n",
    "    feature_extractor=SimpleTrendFeatures,\n",
    "    max_episode_steps=250,\n",
    "    test_pct=0.2,\n",
    "    data_period=\"30y\",\n",
    ")\n",
    "sp500_loader.save(\"../stock_env/datasets/sp500.pkl\")"
   ]
  },
  {
   "cell_type": "code",
   "execution_count": null,
   "metadata": {},
   "outputs": [],
   "source": [
    "vnall = pd.read_csv(\"../temp/VNALL.csv\")\n",
    "vnall_symbol = list(vnall[\"Symbol\"])\n",
    "print(len(vnall))\n",
    "\n",
    "vnstock_loader = VNTaskLoader(\n",
    "    tickers=vnall_symbol,\n",
    "    feature_extractor=SimpleTrendFeatures,\n",
    "    max_episode_steps=250,\n",
    "    test_pct=0.5,\n",
    ")\n",
    "vnstock_loader.save(\"../stock_env/datasets/vnall.pkl\")"
   ]
  }
 ],
 "metadata": {
  "kernelspec": {
   "display_name": "Python 3.8.13 ('tradingenv')",
   "language": "python",
   "name": "python3"
  },
  "language_info": {
   "codemirror_mode": {
    "name": "ipython",
    "version": 3
   },
   "file_extension": ".py",
   "mimetype": "text/x-python",
   "name": "python",
   "nbconvert_exporter": "python",
   "pygments_lexer": "ipython3",
   "version": "3.8.13"
  },
  "orig_nbformat": 4,
  "vscode": {
   "interpreter": {
    "hash": "faa7f68368d9c9f740356072b5cc858737f0635c1c0b552678cb52f36bb31777"
   }
  }
 },
 "nbformat": 4,
 "nbformat_minor": 2
}
