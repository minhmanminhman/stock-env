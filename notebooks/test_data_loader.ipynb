{
 "cells": [
  {
   "cell_type": "code",
   "execution_count": 1,
   "metadata": {},
   "outputs": [],
   "source": [
    "import pandas as pd\n",
    "import yaml\n",
    "from types import SimpleNamespace\n",
    "import stock_env\n",
    "from stock_env.feature.feature_extractor import *\n",
    "from stock_env.data_loader import *\n",
    "from stock_env.common.common_utils import open_config\n",
    "from stock_env.envs import TaskStockEnv"
   ]
  },
  {
   "cell_type": "code",
   "execution_count": 4,
   "metadata": {},
   "outputs": [],
   "source": [
    "args = open_config(f'../configs/envs.yaml', env_id=\"SP500-v0\", is_args=False)\n",
    "sp500_loader = USTaskLoader.load(f\"../stock_env/datasets/sp500\")\n",
    "\n",
    "for ticker in sp500_loader.tickers:\n",
    "    sp500_loader.reset_task(ticker)\n",
    "    try:\n",
    "        obs = sp500_loader.reset()\n",
    "    except:\n",
    "        print(f\"Error: {ticker}\")\n",
    "        print(sp500_loader.ohlcv.shape)\n",
    "        continue"
   ]
  },
  {
   "cell_type": "code",
   "execution_count": 2,
   "metadata": {},
   "outputs": [
    {
     "name": "stdout",
     "output_type": "stream",
     "text": [
      "Error: AAT\n",
      "(229, 7)\n",
      "Error: BAF\n",
      "(52, 7)\n",
      "Error: DXS\n",
      "(148, 7)\n",
      "Error: KHG\n",
      "(146, 7)\n",
      "Error: SSB\n",
      "(229, 7)\n"
     ]
    }
   ],
   "source": [
    "args = open_config(f'../configs/envs.yaml', env_id=\"VNALL-v0\", is_args=False)\n",
    "vnall = VNTaskLoader.load(f\"../stock_env/datasets/vnall\")\n",
    "\n",
    "for ticker in vnall.tickers:\n",
    "    vnall.reset_task(ticker)\n",
    "    try:\n",
    "        obs = vnall.reset()\n",
    "    except:\n",
    "        print(f\"Error: {ticker}\")\n",
    "        print(vnall.ohlcv.shape)\n",
    "        continue"
   ]
  }
 ],
 "metadata": {
  "kernelspec": {
   "display_name": "Python 3.8.13 ('tradingenv')",
   "language": "python",
   "name": "python3"
  },
  "language_info": {
   "codemirror_mode": {
    "name": "ipython",
    "version": 3
   },
   "file_extension": ".py",
   "mimetype": "text/x-python",
   "name": "python",
   "nbconvert_exporter": "python",
   "pygments_lexer": "ipython3",
   "version": "3.8.13"
  },
  "orig_nbformat": 4,
  "vscode": {
   "interpreter": {
    "hash": "faa7f68368d9c9f740356072b5cc858737f0635c1c0b552678cb52f36bb31777"
   }
  }
 },
 "nbformat": 4,
 "nbformat_minor": 2
}
