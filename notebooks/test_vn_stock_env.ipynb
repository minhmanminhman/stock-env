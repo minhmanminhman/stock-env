{
 "cells": [
  {
   "cell_type": "markdown",
   "metadata": {},
   "source": [
    "# Test Vietnamese Stock Env"
   ]
  },
  {
   "cell_type": "code",
   "execution_count": 1,
   "metadata": {},
   "outputs": [],
   "source": [
    "import os\n",
    "from pathlib import Path\n",
    "path = Path(os.getcwd())\n",
    "os.chdir(path.parent.absolute())\n",
    "\n",
    "# import warnings\n",
    "# warnings.filterwarnings('ignore')\n",
    "import pandas as pd\n",
    "import pandas_ta as ta\n",
    "import gym\n",
    "import mt4_hst\n",
    "from stable_baselines3.common.env_checker import check_env\n",
    "from stock_env.feature import *"
   ]
  },
  {
   "cell_type": "markdown",
   "metadata": {},
   "source": [
    "# Test Random Stock Continuous Env"
   ]
  },
  {
   "cell_type": "code",
   "execution_count": 6,
   "metadata": {},
   "outputs": [],
   "source": [
    "# Test RandomStockEnv\n",
    "from stock_env.envs.random_stock import RandomStockEnv\n",
    "from stock_env.wrappers.stack_obs import BufferWrapper\n",
    "from stock_env.data_loader import RandomStockLoader\n",
    "from stock_env.feature import TrendFeatures\n",
    "from stock_env.wrappers import BufferWrapper\n",
    "\n",
    "data_loader = RandomStockLoader(\n",
    "    tickers = \"SSI\".split(),\n",
    "    data_folder_path = \"../stock_datasets/\",\n",
    "    feature_extractor = TrendFeatures\n",
    ")\n",
    "\n",
    "env = RandomStockEnv(data_loader)\n",
    "env = BufferWrapper(env, 5)\n",
    "check_env(env)\n",
    "\n",
    "# play random\n",
    "obs = env.reset()\n",
    "done = False\n",
    "while not done:\n",
    "    obs, _, done, _ = env.step(env.action_space.sample())\n",
    "history = env.get_history()\n",
    "history['percent_cash'] = history['cash'] / history['portfolio_value']"
   ]
  },
  {
   "cell_type": "code",
   "execution_count": 7,
   "metadata": {},
   "outputs": [
    {
     "data": {
      "text/html": [
       "<div>\n",
       "<style scoped>\n",
       "    .dataframe tbody tr th:only-of-type {\n",
       "        vertical-align: middle;\n",
       "    }\n",
       "\n",
       "    .dataframe tbody tr th {\n",
       "        vertical-align: top;\n",
       "    }\n",
       "\n",
       "    .dataframe thead th {\n",
       "        text-align: right;\n",
       "    }\n",
       "</style>\n",
       "<table border=\"1\" class=\"dataframe\">\n",
       "  <thead>\n",
       "    <tr style=\"text-align: right;\">\n",
       "      <th></th>\n",
       "      <th>time</th>\n",
       "      <th>ticker</th>\n",
       "      <th>open</th>\n",
       "      <th>close</th>\n",
       "      <th>actions</th>\n",
       "      <th>percent_cash</th>\n",
       "      <th>delta_shares</th>\n",
       "      <th>quantity</th>\n",
       "      <th>portfolio_value</th>\n",
       "      <th>nav</th>\n",
       "      <th>cash</th>\n",
       "    </tr>\n",
       "  </thead>\n",
       "  <tbody>\n",
       "    <tr>\n",
       "      <th>245</th>\n",
       "      <td>2012-03-22</td>\n",
       "      <td>SSI</td>\n",
       "      <td>5.429793</td>\n",
       "      <td>5.429793</td>\n",
       "      <td>0.785867</td>\n",
       "      <td>0.820986</td>\n",
       "      <td>0</td>\n",
       "      <td>500</td>\n",
       "      <td>15165.831968</td>\n",
       "      <td>2714.896679</td>\n",
       "      <td>12450.935290</td>\n",
       "    </tr>\n",
       "    <tr>\n",
       "      <th>246</th>\n",
       "      <td>2012-03-23</td>\n",
       "      <td>SSI</td>\n",
       "      <td>5.429793</td>\n",
       "      <td>5.619836</td>\n",
       "      <td>0.287986</td>\n",
       "      <td>0.311974</td>\n",
       "      <td>1400</td>\n",
       "      <td>1900</td>\n",
       "      <td>15519.311906</td>\n",
       "      <td>10677.689028</td>\n",
       "      <td>4841.622878</td>\n",
       "    </tr>\n",
       "    <tr>\n",
       "      <th>247</th>\n",
       "      <td>2012-03-26</td>\n",
       "      <td>SSI</td>\n",
       "      <td>5.674134</td>\n",
       "      <td>5.538389</td>\n",
       "      <td>0.802158</td>\n",
       "      <td>0.497383</td>\n",
       "      <td>-500</td>\n",
       "      <td>1400</td>\n",
       "      <td>15426.760759</td>\n",
       "      <td>7753.744888</td>\n",
       "      <td>7673.015871</td>\n",
       "    </tr>\n",
       "    <tr>\n",
       "      <th>248</th>\n",
       "      <td>2012-03-27</td>\n",
       "      <td>SSI</td>\n",
       "      <td>5.484091</td>\n",
       "      <td>5.266900</td>\n",
       "      <td>0.812092</td>\n",
       "      <td>0.509948</td>\n",
       "      <td>0</td>\n",
       "      <td>1400</td>\n",
       "      <td>15046.675291</td>\n",
       "      <td>7373.659420</td>\n",
       "      <td>7673.015871</td>\n",
       "    </tr>\n",
       "    <tr>\n",
       "      <th>249</th>\n",
       "      <td>2012-03-28</td>\n",
       "      <td>SSI</td>\n",
       "      <td>5.158304</td>\n",
       "      <td>5.266900</td>\n",
       "      <td>0.359032</td>\n",
       "      <td>0.371660</td>\n",
       "      <td>400</td>\n",
       "      <td>1800</td>\n",
       "      <td>15088.050309</td>\n",
       "      <td>9480.419254</td>\n",
       "      <td>5607.631054</td>\n",
       "    </tr>\n",
       "  </tbody>\n",
       "</table>\n",
       "</div>"
      ],
      "text/plain": [
       "          time ticker      open     close   actions  percent_cash  \\\n",
       "245 2012-03-22    SSI  5.429793  5.429793  0.785867      0.820986   \n",
       "246 2012-03-23    SSI  5.429793  5.619836  0.287986      0.311974   \n",
       "247 2012-03-26    SSI  5.674134  5.538389  0.802158      0.497383   \n",
       "248 2012-03-27    SSI  5.484091  5.266900  0.812092      0.509948   \n",
       "249 2012-03-28    SSI  5.158304  5.266900  0.359032      0.371660   \n",
       "\n",
       "     delta_shares  quantity  portfolio_value           nav          cash  \n",
       "245             0       500     15165.831968   2714.896679  12450.935290  \n",
       "246          1400      1900     15519.311906  10677.689028   4841.622878  \n",
       "247          -500      1400     15426.760759   7753.744888   7673.015871  \n",
       "248             0      1400     15046.675291   7373.659420   7673.015871  \n",
       "249           400      1800     15088.050309   9480.419254   5607.631054  "
      ]
     },
     "execution_count": 7,
     "metadata": {},
     "output_type": "execute_result"
    }
   ],
   "source": [
    "cols = 'time ticker open close actions percent_cash delta_shares quantity portfolio_value nav cash'.split()\n",
    "history[cols].tail()"
   ]
  }
 ],
 "metadata": {
  "kernelspec": {
   "display_name": "Python 3.8.13 ('py38')",
   "language": "python",
   "name": "python3"
  },
  "language_info": {
   "codemirror_mode": {
    "name": "ipython",
    "version": 3
   },
   "file_extension": ".py",
   "mimetype": "text/x-python",
   "name": "python",
   "nbconvert_exporter": "python",
   "pygments_lexer": "ipython3",
   "version": "3.8.13"
  },
  "orig_nbformat": 4,
  "vscode": {
   "interpreter": {
    "hash": "b6fec2dd9a2861d90b9b32c7c94e7bc501f521a7856255c3157571f0d1c531c5"
   }
  }
 },
 "nbformat": 4,
 "nbformat_minor": 2
}
