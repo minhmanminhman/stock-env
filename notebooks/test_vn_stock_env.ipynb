{
 "cells": [
  {
   "cell_type": "markdown",
   "metadata": {},
   "source": [
    "# Test Vietnamese Stock Env"
   ]
  },
  {
   "cell_type": "code",
   "execution_count": 1,
   "metadata": {},
   "outputs": [
    {
     "name": "stderr",
     "output_type": "stream",
     "text": [
      "c:\\Users\\manbnm\\Miniconda3\\envs\\tradingenv\\lib\\site-packages\\pyfolio\\pos.py:27: UserWarning: Module \"zipline.assets\" not found; mutltipliers will not be applied to position notionals.\n",
      "  'Module \"zipline.assets\" not found; mutltipliers will not be applied' +\n"
     ]
    }
   ],
   "source": [
    "import os\n",
    "from pathlib import Path\n",
    "path = Path(os.getcwd())\n",
    "os.chdir(path.parent.absolute())\n",
    "\n",
    "# import warnings\n",
    "# warnings.filterwarnings('ignore')\n",
    "import pandas as pd\n",
    "import pandas_ta as ta\n",
    "import gym\n",
    "import mt4_hst\n",
    "from stable_baselines3.common.env_checker import check_env\n",
    "from stock_env.feature.feature_extractor import OneStockFeatures\n",
    "\n",
    "path = \"../stock_datasets/\""
   ]
  },
  {
   "cell_type": "markdown",
   "metadata": {},
   "source": [
    "# Test VietnamStockEnv"
   ]
  },
  {
   "cell_type": "code",
   "execution_count": null,
   "metadata": {},
   "outputs": [],
   "source": [
    "from stock_env.envs.vn_stock_env import VietnamStockEnv\n",
    "\n",
    "ticker = \"FPT\"\n",
    "\n",
    "env = VietnamStockEnv(\n",
    "    df = mt4_hst.read_hst(f\"{path}/{ticker}1440.hst\"),\n",
    "    feature_extractor = OneStockFeatures(),\n",
    "    ticker=ticker)\n",
    "check_env(env)\n",
    "\n",
    "# play random\n",
    "obs = env.reset(current_tick=0)\n",
    "done = False\n",
    "while not done:\n",
    "    obs, _, done, _ = env.step(env.action_space.sample())\n",
    "history = env.get_history()"
   ]
  },
  {
   "cell_type": "code",
   "execution_count": null,
   "metadata": {},
   "outputs": [],
   "source": [
    "cols = 'time close delta_shares quantity portfolio_value nav cash delta_vt'.split()\n",
    "history[cols].head(10)"
   ]
  },
  {
   "cell_type": "markdown",
   "metadata": {},
   "source": [
    "# Test Vietnam Stock Continuous Env"
   ]
  },
  {
   "cell_type": "code",
   "execution_count": 2,
   "metadata": {},
   "outputs": [],
   "source": [
    "from stock_env.envs.vn_stock_env import VietnamStockContinuousEnv\n",
    "\n",
    "ticker = \"FPT\"\n",
    "\n",
    "env = VietnamStockContinuousEnv(\n",
    "    df = mt4_hst.read_hst(f\"{path}/{ticker}1440.hst\"),\n",
    "    feature_extractor = OneStockFeatures(),\n",
    "    ticker=ticker)\n",
    "check_env(env)\n",
    "\n",
    "# play random\n",
    "obs = env.reset(current_tick=0)\n",
    "done = False\n",
    "while not done:\n",
    "    obs, _, done, _ = env.step(env.action_space.sample())\n",
    "history = env.get_history()"
   ]
  },
  {
   "cell_type": "code",
   "execution_count": 3,
   "metadata": {},
   "outputs": [
    {
     "data": {
      "text/html": [
       "<div>\n",
       "<style scoped>\n",
       "    .dataframe tbody tr th:only-of-type {\n",
       "        vertical-align: middle;\n",
       "    }\n",
       "\n",
       "    .dataframe tbody tr th {\n",
       "        vertical-align: top;\n",
       "    }\n",
       "\n",
       "    .dataframe thead th {\n",
       "        text-align: right;\n",
       "    }\n",
       "</style>\n",
       "<table border=\"1\" class=\"dataframe\">\n",
       "  <thead>\n",
       "    <tr style=\"text-align: right;\">\n",
       "      <th></th>\n",
       "      <th>time</th>\n",
       "      <th>close</th>\n",
       "      <th>actions</th>\n",
       "      <th>delta_shares</th>\n",
       "      <th>quantity</th>\n",
       "      <th>portfolio_value</th>\n",
       "      <th>nav</th>\n",
       "      <th>cash</th>\n",
       "      <th>delta_vt</th>\n",
       "    </tr>\n",
       "  </thead>\n",
       "  <tbody>\n",
       "    <tr>\n",
       "      <th>0</th>\n",
       "      <td>2007-01-31</td>\n",
       "      <td>25.599743</td>\n",
       "      <td>0.676407</td>\n",
       "      <td>200</td>\n",
       "      <td>200</td>\n",
       "      <td>20074.338321</td>\n",
       "      <td>5119.948578</td>\n",
       "      <td>14954.389743</td>\n",
       "      <td>74.338321</td>\n",
       "    </tr>\n",
       "    <tr>\n",
       "      <th>1</th>\n",
       "      <td>2007-02-01</td>\n",
       "      <td>24.607506</td>\n",
       "      <td>0.975332</td>\n",
       "      <td>0</td>\n",
       "      <td>200</td>\n",
       "      <td>19875.890903</td>\n",
       "      <td>4921.501160</td>\n",
       "      <td>14954.389743</td>\n",
       "      <td>-198.447418</td>\n",
       "    </tr>\n",
       "    <tr>\n",
       "      <th>2</th>\n",
       "      <td>2007-02-02</td>\n",
       "      <td>25.004400</td>\n",
       "      <td>0.749428</td>\n",
       "      <td>0</td>\n",
       "      <td>200</td>\n",
       "      <td>19955.269794</td>\n",
       "      <td>5000.880051</td>\n",
       "      <td>14954.389743</td>\n",
       "      <td>79.378891</td>\n",
       "    </tr>\n",
       "    <tr>\n",
       "      <th>3</th>\n",
       "      <td>2007-02-05</td>\n",
       "      <td>23.774025</td>\n",
       "      <td>0.669164</td>\n",
       "      <td>0</td>\n",
       "      <td>200</td>\n",
       "      <td>19709.194736</td>\n",
       "      <td>4754.804993</td>\n",
       "      <td>14954.389743</td>\n",
       "      <td>-246.075058</td>\n",
       "    </tr>\n",
       "    <tr>\n",
       "      <th>4</th>\n",
       "      <td>2007-02-06</td>\n",
       "      <td>24.805954</td>\n",
       "      <td>0.100688</td>\n",
       "      <td>500</td>\n",
       "      <td>700</td>\n",
       "      <td>20419.658035</td>\n",
       "      <td>17364.167786</td>\n",
       "      <td>3055.490249</td>\n",
       "      <td>710.463299</td>\n",
       "    </tr>\n",
       "    <tr>\n",
       "      <th>5</th>\n",
       "      <td>2007-02-07</td>\n",
       "      <td>25.202848</td>\n",
       "      <td>0.212641</td>\n",
       "      <td>0</td>\n",
       "      <td>700</td>\n",
       "      <td>20697.484153</td>\n",
       "      <td>17641.993904</td>\n",
       "      <td>3055.490249</td>\n",
       "      <td>277.826118</td>\n",
       "    </tr>\n",
       "    <tr>\n",
       "      <th>6</th>\n",
       "      <td>2007-02-08</td>\n",
       "      <td>23.972473</td>\n",
       "      <td>0.893657</td>\n",
       "      <td>-200</td>\n",
       "      <td>500</td>\n",
       "      <td>20072.215369</td>\n",
       "      <td>11986.236572</td>\n",
       "      <td>8085.978797</td>\n",
       "      <td>-625.268784</td>\n",
       "    </tr>\n",
       "    <tr>\n",
       "      <th>7</th>\n",
       "      <td>2007-02-09</td>\n",
       "      <td>22.781788</td>\n",
       "      <td>0.787366</td>\n",
       "      <td>-300</td>\n",
       "      <td>200</td>\n",
       "      <td>19819.694831</td>\n",
       "      <td>4556.357574</td>\n",
       "      <td>15263.337256</td>\n",
       "      <td>-252.520538</td>\n",
       "    </tr>\n",
       "    <tr>\n",
       "      <th>8</th>\n",
       "      <td>2007-02-12</td>\n",
       "      <td>23.893095</td>\n",
       "      <td>0.267315</td>\n",
       "      <td>400</td>\n",
       "      <td>600</td>\n",
       "      <td>20477.366402</td>\n",
       "      <td>14335.857010</td>\n",
       "      <td>6141.509392</td>\n",
       "      <td>657.671571</td>\n",
       "    </tr>\n",
       "    <tr>\n",
       "      <th>9</th>\n",
       "      <td>2007-02-13</td>\n",
       "      <td>25.004400</td>\n",
       "      <td>0.020499</td>\n",
       "      <td>200</td>\n",
       "      <td>800</td>\n",
       "      <td>21361.631973</td>\n",
       "      <td>20003.520203</td>\n",
       "      <td>1358.111770</td>\n",
       "      <td>884.265570</td>\n",
       "    </tr>\n",
       "  </tbody>\n",
       "</table>\n",
       "</div>"
      ],
      "text/plain": [
       "        time      close   actions  delta_shares  quantity  portfolio_value  \\\n",
       "0 2007-01-31  25.599743  0.676407           200       200     20074.338321   \n",
       "1 2007-02-01  24.607506  0.975332             0       200     19875.890903   \n",
       "2 2007-02-02  25.004400  0.749428             0       200     19955.269794   \n",
       "3 2007-02-05  23.774025  0.669164             0       200     19709.194736   \n",
       "4 2007-02-06  24.805954  0.100688           500       700     20419.658035   \n",
       "5 2007-02-07  25.202848  0.212641             0       700     20697.484153   \n",
       "6 2007-02-08  23.972473  0.893657          -200       500     20072.215369   \n",
       "7 2007-02-09  22.781788  0.787366          -300       200     19819.694831   \n",
       "8 2007-02-12  23.893095  0.267315           400       600     20477.366402   \n",
       "9 2007-02-13  25.004400  0.020499           200       800     21361.631973   \n",
       "\n",
       "            nav          cash    delta_vt  \n",
       "0   5119.948578  14954.389743   74.338321  \n",
       "1   4921.501160  14954.389743 -198.447418  \n",
       "2   5000.880051  14954.389743   79.378891  \n",
       "3   4754.804993  14954.389743 -246.075058  \n",
       "4  17364.167786   3055.490249  710.463299  \n",
       "5  17641.993904   3055.490249  277.826118  \n",
       "6  11986.236572   8085.978797 -625.268784  \n",
       "7   4556.357574  15263.337256 -252.520538  \n",
       "8  14335.857010   6141.509392  657.671571  \n",
       "9  20003.520203   1358.111770  884.265570  "
      ]
     },
     "execution_count": 3,
     "metadata": {},
     "output_type": "execute_result"
    }
   ],
   "source": [
    "cols = 'time close actions delta_shares quantity portfolio_value nav cash delta_vt'.split()\n",
    "history[cols].head(10)"
   ]
  },
  {
   "cell_type": "markdown",
   "metadata": {},
   "source": [
    "# Test MultiStockEnv"
   ]
  },
  {
   "cell_type": "code",
   "execution_count": null,
   "metadata": {},
   "outputs": [],
   "source": [
    "from stock_env.envs.multi_stock import MultiStockEnv\n",
    "\n",
    "tickers = \"FPT SSI VNM\".split()\n",
    "env = MultiStockEnv(\n",
    "    tickers=tickers,\n",
    "    feature_extractor=OneStockFeatures(),\n",
    "    data_folder_path=path)\n",
    "check_env(env)\n",
    "\n",
    "obs = env.reset(current_tick=0)\n",
    "done = False\n",
    "while not done:\n",
    "    obs, _, done, _ = env.step(env.action_space.sample())\n",
    "histories, ticker_history = env.get_history()"
   ]
  },
  {
   "cell_type": "code",
   "execution_count": null,
   "metadata": {},
   "outputs": [],
   "source": [
    "histories.head()"
   ]
  },
  {
   "cell_type": "code",
   "execution_count": null,
   "metadata": {},
   "outputs": [],
   "source": [
    "cols = 'time close delta_shares quantity portfolio_value nav cash delta_vt step_reward'.split()\n",
    "ticker_history['FPT'][cols].head()"
   ]
  },
  {
   "cell_type": "code",
   "execution_count": null,
   "metadata": {},
   "outputs": [],
   "source": [
    "ticker_history['SSI'][cols].head()"
   ]
  }
 ],
 "metadata": {
  "kernelspec": {
   "display_name": "Python 3.7.13 ('tradingenv')",
   "language": "python",
   "name": "python3"
  },
  "language_info": {
   "codemirror_mode": {
    "name": "ipython",
    "version": 3
   },
   "file_extension": ".py",
   "mimetype": "text/x-python",
   "name": "python",
   "nbconvert_exporter": "python",
   "pygments_lexer": "ipython3",
   "version": "3.7.13"
  },
  "orig_nbformat": 4,
  "vscode": {
   "interpreter": {
    "hash": "2731de94cdaa6fc28a94d509b273528b2aec7b6d61ee2b4f8544cbcc71fe6bbb"
   }
  }
 },
 "nbformat": 4,
 "nbformat_minor": 2
}
