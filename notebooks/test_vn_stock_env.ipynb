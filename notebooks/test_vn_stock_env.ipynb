{
 "cells": [
  {
   "cell_type": "markdown",
   "metadata": {},
   "source": [
    "# Evaluate model in paper Machine Learning for Trading\n",
    "Link [paper](https://papers.ssrn.com/sol3/papers.cfm?abstract_id=3015609)"
   ]
  },
  {
   "cell_type": "code",
   "execution_count": null,
   "metadata": {},
   "outputs": [],
   "source": [
    "import os\n",
    "from pathlib import Path\n",
    "path = Path(os.getcwd())\n",
    "os.chdir(path.parent.absolute())\n",
    "\n",
    "import warnings\n",
    "warnings.filterwarnings('ignore')\n",
    "\n",
    "import pandas as pd\n",
    "import pandas_ta as ta\n",
    "from stable_baselines3.dqn import DQN\n",
    "import gym\n",
    "import matplotlib.pyplot as plt\n",
    "from stable_baselines3.common.evaluation import evaluate_policy\n",
    "\n",
    "import stock_env\n",
    "from stock_env.utils import *\n",
    "\n",
    "%matplotlib inline"
   ]
  },
  {
   "cell_type": "code",
   "execution_count": null,
   "metadata": {},
   "outputs": [],
   "source": [
    "import mt4_hst\n",
    "import pandas as pd\n",
    "import pandas_ta as ta\n",
    "# import finplot as fplt\n",
    "\n",
    "df = mt4_hst.read_hst(\"stock_env/datasets/FPT1440.hst\")\n",
    "df.ta.rsi(append=True)\n",
    "df.dropna(inplace=True)\n",
    "# df = df.astype({'time':'datetime64[ns]'})\n",
    "# candles = df[['time','open','close','high','low']]\n",
    "df.head()\n"
   ]
  },
  {
   "cell_type": "code",
   "execution_count": null,
   "metadata": {},
   "outputs": [],
   "source": [
    "help(data.ta.rsi)\n",
    "# data.ta.indicators()"
   ]
  },
  {
   "cell_type": "code",
   "execution_count": 1,
   "metadata": {},
   "outputs": [
    {
     "ename": "AttributeError",
     "evalue": "'NoneType' object has no attribute 'lower'",
     "output_type": "error",
     "traceback": [
      "\u001b[0;31m---------------------------------------------------------------------------\u001b[0m",
      "\u001b[0;31mAttributeError\u001b[0m                            Traceback (most recent call last)",
      "\u001b[1;32m/Users/manbnm/stock-env/notebooks/test_vn_stock_env.ipynb Cell 5\u001b[0m in \u001b[0;36m<module>\u001b[0;34m\u001b[0m\n\u001b[0;32m----> <a href='vscode-notebook-cell:/Users/manbnm/stock-env/notebooks/test_vn_stock_env.ipynb#ch0000006?line=0'>1</a>\u001b[0m \u001b[39mimport\u001b[39;00m \u001b[39mfinplot\u001b[39;00m \u001b[39mas\u001b[39;00m \u001b[39mfplt\u001b[39;00m\n\u001b[1;32m      <a href='vscode-notebook-cell:/Users/manbnm/stock-env/notebooks/test_vn_stock_env.ipynb#ch0000006?line=1'>2</a>\u001b[0m \u001b[39mimport\u001b[39;00m \u001b[39myfinance\u001b[39;00m\n\u001b[1;32m      <a href='vscode-notebook-cell:/Users/manbnm/stock-env/notebooks/test_vn_stock_env.ipynb#ch0000006?line=3'>4</a>\u001b[0m df \u001b[39m=\u001b[39m yfinance\u001b[39m.\u001b[39mdownload(\u001b[39m'\u001b[39m\u001b[39mAAPL\u001b[39m\u001b[39m'\u001b[39m)\n",
      "File \u001b[0;32m~/miniconda3/lib/python3.9/site-packages/finplot/__init__.py:2798\u001b[0m, in \u001b[0;36m<module>\u001b[0;34m\u001b[0m\n\u001b[1;32m   2796\u001b[0m \u001b[39mimport\u001b[39;00m \u001b[39mlocale\u001b[39;00m\n\u001b[1;32m   2797\u001b[0m code,_ \u001b[39m=\u001b[39m locale\u001b[39m.\u001b[39mgetdefaultlocale()\n\u001b[0;32m-> 2798\u001b[0m \u001b[39mif\u001b[39;00m \u001b[39many\u001b[39;49m(sanctioned \u001b[39min\u001b[39;49;00m code\u001b[39m.\u001b[39;49mlower() \u001b[39mfor\u001b[39;49;00m sanctioned \u001b[39min\u001b[39;49;00m \u001b[39m'\u001b[39;49m\u001b[39m_ru _by ru_ be_\u001b[39;49m\u001b[39m'\u001b[39;49m\u001b[39m.\u001b[39;49msplit()) \u001b[39mor\u001b[39;00m \\\n\u001b[1;32m   2799\u001b[0m     \u001b[39many\u001b[39m(sanctioned \u001b[39min\u001b[39;00m code\u001b[39m.\u001b[39mlower() \u001b[39mfor\u001b[39;00m sanctioned \u001b[39min\u001b[39;00m \u001b[39m'\u001b[39m\u001b[39mru be\u001b[39m\u001b[39m'\u001b[39m\u001b[39m.\u001b[39msplit()):\n\u001b[1;32m   2800\u001b[0m     \u001b[39mimport\u001b[39;00m \u001b[39mos\u001b[39;00m\n\u001b[1;32m   2801\u001b[0m     os\u001b[39m.\u001b[39m_exit(\u001b[39m1\u001b[39m)\n",
      "File \u001b[0;32m~/miniconda3/lib/python3.9/site-packages/finplot/__init__.py:2798\u001b[0m, in \u001b[0;36m<genexpr>\u001b[0;34m(.0)\u001b[0m\n\u001b[1;32m   2796\u001b[0m \u001b[39mimport\u001b[39;00m \u001b[39mlocale\u001b[39;00m\n\u001b[1;32m   2797\u001b[0m code,_ \u001b[39m=\u001b[39m locale\u001b[39m.\u001b[39mgetdefaultlocale()\n\u001b[0;32m-> 2798\u001b[0m \u001b[39mif\u001b[39;00m \u001b[39many\u001b[39m(sanctioned \u001b[39min\u001b[39;00m code\u001b[39m.\u001b[39;49mlower() \u001b[39mfor\u001b[39;00m sanctioned \u001b[39min\u001b[39;00m \u001b[39m'\u001b[39m\u001b[39m_ru _by ru_ be_\u001b[39m\u001b[39m'\u001b[39m\u001b[39m.\u001b[39msplit()) \u001b[39mor\u001b[39;00m \\\n\u001b[1;32m   2799\u001b[0m     \u001b[39many\u001b[39m(sanctioned \u001b[39min\u001b[39;00m code\u001b[39m.\u001b[39mlower() \u001b[39mfor\u001b[39;00m sanctioned \u001b[39min\u001b[39;00m \u001b[39m'\u001b[39m\u001b[39mru be\u001b[39m\u001b[39m'\u001b[39m\u001b[39m.\u001b[39msplit()):\n\u001b[1;32m   2800\u001b[0m     \u001b[39mimport\u001b[39;00m \u001b[39mos\u001b[39;00m\n\u001b[1;32m   2801\u001b[0m     os\u001b[39m.\u001b[39m_exit(\u001b[39m1\u001b[39m)\n",
      "\u001b[0;31mAttributeError\u001b[0m: 'NoneType' object has no attribute 'lower'"
     ]
    }
   ],
   "source": [
    "import finplot as fplt\n",
    "import yfinance\n",
    "\n",
    "df = yfinance.download('AAPL')\n",
    "df[['Open', 'Close', 'High', 'Low']]\n",
    "df.head()"
   ]
  }
 ],
 "metadata": {
  "kernelspec": {
   "display_name": "Python 3.9.1 ('base')",
   "language": "python",
   "name": "python3"
  },
  "language_info": {
   "codemirror_mode": {
    "name": "ipython",
    "version": 3
   },
   "file_extension": ".py",
   "mimetype": "text/x-python",
   "name": "python",
   "nbconvert_exporter": "python",
   "pygments_lexer": "ipython3",
   "version": "3.9.1"
  },
  "orig_nbformat": 4,
  "vscode": {
   "interpreter": {
    "hash": "c81013f5a8ef15844418e0fca4d941a8bf00295766daf6158ea7eaaf06bc3022"
   }
  }
 },
 "nbformat": 4,
 "nbformat_minor": 2
}
