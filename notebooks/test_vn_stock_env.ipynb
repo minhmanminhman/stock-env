{
 "cells": [
  {
   "cell_type": "markdown",
   "metadata": {},
   "source": [
    "# Evaluate model in paper Machine Learning for Trading\n",
    "Link [paper](https://papers.ssrn.com/sol3/papers.cfm?abstract_id=3015609)"
   ]
  },
  {
   "cell_type": "code",
   "execution_count": 1,
   "metadata": {},
   "outputs": [],
   "source": [
    "import os\n",
    "from pathlib import Path\n",
    "path = Path(os.getcwd())\n",
    "os.chdir(path.parent.absolute())\n",
    "\n",
    "import warnings\n",
    "warnings.filterwarnings('ignore')\n",
    "\n",
    "import pandas as pd\n",
    "import pandas_ta as ta\n",
    "from stable_baselines3.dqn import DQN\n",
    "import gym\n",
    "import matplotlib.pyplot as plt\n",
    "from stable_baselines3.common.evaluation import evaluate_policy\n",
    "import mt4_hst\n",
    "import stock_env\n",
    "from stock_env.utils import *\n",
    "from stock_env.envs.vn_stock_env import VietnamStockEnv\n",
    "from stable_baselines3.common.env_checker import check_env\n",
    "%matplotlib inline"
   ]
  },
  {
   "cell_type": "code",
   "execution_count": 2,
   "metadata": {},
   "outputs": [
    {
     "name": "stdout",
     "output_type": "stream",
     "text": [
      "Wrapping the env with a `Monitor` wrapper\n",
      "Wrapping the env in a DummyVecEnv.\n"
     ]
    }
   ],
   "source": [
    "FPT = mt4_hst.read_hst(\"stock_env/datasets/FPT1440.hst\")\n",
    "FPT = FPT[FPT['time'] >= '2012-01-01']\n",
    "env = VietnamStockEnv(\n",
    "    df=FPT,\n",
    "    max_trade_lot=5,\n",
    "    max_lot=10,\n",
    "    init_cash=100e3)\n",
    "check_env(env)\n",
    "model = DQN.load(\"log/dqn_VietnamStock\", env=env)"
   ]
  },
  {
   "cell_type": "code",
   "execution_count": null,
   "metadata": {},
   "outputs": [],
   "source": [
    "# run model to get detailed information in the enviroment\n",
    "done = False\n",
    "obs = env.reset()\n",
    "obs.shape\n",
    "# while not done:\n",
    "#     obs, _, done, _ = env.step(env.action_space.sample())\n",
    "# # get data\n",
    "# history_df = env.get_history()"
   ]
  },
  {
   "cell_type": "code",
   "execution_count": null,
   "metadata": {},
   "outputs": [],
   "source": [
    "# run model to get detailed information in the enviroment\n",
    "done = False\n",
    "obs = env.reset()\n",
    "while not done:\n",
    "    action, _ = model.predict(obs, deterministic=True)\n",
    "    obs, _, done, _ = env.step(action)\n",
    "\n",
    "# get data\n",
    "history_df = env.get_history()\n",
    "history_df.to_csv('temp/history.csv', index=False)"
   ]
  },
  {
   "cell_type": "code",
   "execution_count": null,
   "metadata": {},
   "outputs": [],
   "source": [
    "columns = 'time close delta_shares quantity portfolio_value nav cash'.split()\n",
    "df = pd.read_csv('temp/history.csv', index_col=0)\n",
    "df = df[columns]\n",
    "# buy = df[df['delta_shares'] < 0]"
   ]
  },
  {
   "cell_type": "code",
   "execution_count": null,
   "metadata": {},
   "outputs": [],
   "source": [
    "FPT = mt4_hst.read_hst(\"stock_env/datasets/FPT1440.hst\")\n",
    "FPT = FPT[FPT['time'] >= '2012-01-01']\n",
    "FPT.sort_values(by='time', inplace=True)\n",
    "FPT = FPT.reset_index(drop=True)\n",
    "\n",
    "FPT.ta.rsi(append=True)\n",
    "FPT.ta.tsignals(FPT['close'] > ta.sma(FPT['close'], 50), append=True)\n",
    "# FPT.ta.log_return(append=True)\n",
    "# FPT.ta.percent_return(append=True)\n",
    "# FPT.ta.roc(append=True)\n",
    "# FPT.ta.stoch(append=True)\n",
    "# FPT.ta.stochrsi(append=True)\n",
    "# FPT.ta.tsi(append=True)\n",
    "\n",
    "# FPT.describe()\n",
    "FPT.head()"
   ]
  },
  {
   "cell_type": "code",
   "execution_count": null,
   "metadata": {},
   "outputs": [],
   "source": []
  },
  {
   "cell_type": "code",
   "execution_count": null,
   "metadata": {},
   "outputs": [],
   "source": [
    "remove_col = set('time open high close low volume'.split())\n",
    "cols = list(set(FPT.columns).difference(remove_col))\n",
    "features = FPT[cols]\n",
    "features.dropna(inplace=True)\n",
    "features = features.reset_index(drop=True)\n",
    "features.head()"
   ]
  },
  {
   "cell_type": "code",
   "execution_count": null,
   "metadata": {},
   "outputs": [],
   "source": [
    "import numpy as np\n",
    "obs = features.iloc[1].values\n",
    "np.append(obs, float(0)).astype(np.float32)"
   ]
  },
  {
   "cell_type": "code",
   "execution_count": null,
   "metadata": {},
   "outputs": [],
   "source": [
    "FPT.ta.strategy(\"performance\")\n",
    "FPT['time open high low close volume RSI_14 AO_5_34'.split()].dropna()"
   ]
  },
  {
   "cell_type": "code",
   "execution_count": null,
   "metadata": {},
   "outputs": [],
   "source": [
    "df = pd.read_csv('temp/history.csv')\n",
    "df.sort_values(by='time', inplace=True)\n",
    "df.index = pd.to_datetime(df['time'])\n",
    "portfolio_value = df['portfolio_value']"
   ]
  },
  {
   "cell_type": "code",
   "execution_count": null,
   "metadata": {},
   "outputs": [],
   "source": [
    "plot_trade_log_v2(df)"
   ]
  },
  {
   "cell_type": "code",
   "execution_count": null,
   "metadata": {},
   "outputs": [],
   "source": [
    "create_performance(portfolio_value.pct_change())"
   ]
  },
  {
   "cell_type": "code",
   "execution_count": null,
   "metadata": {},
   "outputs": [],
   "source": [
    "cols = 'time close delta_shares quantity portfolio_value cash nav'.split()\n",
    "df[cols][df['delta_shares'] != 0]"
   ]
  },
  {
   "cell_type": "code",
   "execution_count": null,
   "metadata": {},
   "outputs": [],
   "source": [
    "help(df.ta.tsignals)"
   ]
  }
 ],
 "metadata": {
  "kernelspec": {
   "display_name": "Python 3.7.13 ('tradingenv')",
   "language": "python",
   "name": "python3"
  },
  "language_info": {
   "codemirror_mode": {
    "name": "ipython",
    "version": 3
   },
   "file_extension": ".py",
   "mimetype": "text/x-python",
   "name": "python",
   "nbconvert_exporter": "python",
   "pygments_lexer": "ipython3",
   "version": "3.7.13"
  },
  "orig_nbformat": 4,
  "vscode": {
   "interpreter": {
    "hash": "2731de94cdaa6fc28a94d509b273528b2aec7b6d61ee2b4f8544cbcc71fe6bbb"
   }
  }
 },
 "nbformat": 4,
 "nbformat_minor": 2
}
