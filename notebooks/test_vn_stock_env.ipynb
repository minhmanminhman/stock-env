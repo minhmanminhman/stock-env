{
 "cells": [
  {
   "cell_type": "markdown",
   "metadata": {},
   "source": [
    "# Test Vietnamese Stock Env"
   ]
  },
  {
   "cell_type": "code",
   "execution_count": 1,
   "metadata": {},
   "outputs": [
    {
     "name": "stderr",
     "output_type": "stream",
     "text": [
      "c:\\Users\\manbnm\\Miniconda3\\envs\\tradingenv\\lib\\site-packages\\pyfolio\\pos.py:27: UserWarning: Module \"zipline.assets\" not found; mutltipliers will not be applied to position notionals.\n",
      "  'Module \"zipline.assets\" not found; mutltipliers will not be applied' +\n"
     ]
    }
   ],
   "source": [
    "import os\n",
    "from pathlib import Path\n",
    "path = Path(os.getcwd())\n",
    "os.chdir(path.parent.absolute())\n",
    "\n",
    "# import warnings\n",
    "# warnings.filterwarnings('ignore')\n",
    "import pandas as pd\n",
    "import pandas_ta as ta\n",
    "import gym\n",
    "import mt4_hst\n",
    "from stable_baselines3.common.env_checker import check_env\n",
    "from stock_env.feature.feature_extractor import *\n",
    "\n",
    "path = \"../stock_datasets/\""
   ]
  },
  {
   "cell_type": "code",
   "execution_count": 2,
   "metadata": {},
   "outputs": [],
   "source": [
    "ticker = \"FPT\"\n",
    "df = mt4_hst.read_hst(f\"{path}/{ticker}1440.hst\")"
   ]
  },
  {
   "cell_type": "markdown",
   "metadata": {},
   "source": [
    "# Test VietnamStockEnv"
   ]
  },
  {
   "cell_type": "code",
   "execution_count": null,
   "metadata": {},
   "outputs": [],
   "source": [
    "from stock_env.envs.vn_stock_env import VietnamStockEnv\n",
    "\n",
    "env = VietnamStockEnv(\n",
    "    df = df,\n",
    "    feature_extractor = OneStockFeatures(),\n",
    "    ticker=ticker)\n",
    "check_env(env)\n",
    "\n",
    "# play random\n",
    "obs = env.reset(current_tick=0)\n",
    "done = False\n",
    "while not done:\n",
    "    obs, _, done, _ = env.step(env.action_space.sample())\n",
    "history = env.get_history()"
   ]
  },
  {
   "cell_type": "code",
   "execution_count": null,
   "metadata": {},
   "outputs": [],
   "source": [
    "cols = 'time open close delta_shares quantity portfolio_value nav cash delta_vt'.split()\n",
    "history[cols].head()"
   ]
  },
  {
   "cell_type": "markdown",
   "metadata": {},
   "source": [
    "# Test Vietnam Stock Continuous Env"
   ]
  },
  {
   "cell_type": "code",
   "execution_count": null,
   "metadata": {},
   "outputs": [],
   "source": [
    "from stock_env.envs.vn_stock_env import VietnamStockContinuousEnv\n",
    "\n",
    "ticker = \"FPT\"\n",
    "\n",
    "env = VietnamStockContinuousEnv(\n",
    "    df = df,\n",
    "    feature_extractor = OneStockFeatures(),\n",
    "    ticker=ticker)\n",
    "check_env(env)\n",
    "\n",
    "# play random\n",
    "obs = env.reset(current_tick=0)\n",
    "done = False\n",
    "while not done:\n",
    "    obs, _, done, _ = env.step(env.action_space.sample())\n",
    "history = env.get_history()"
   ]
  },
  {
   "cell_type": "code",
   "execution_count": null,
   "metadata": {},
   "outputs": [],
   "source": [
    "cols = 'time open close actions delta_shares quantity portfolio_value nav cash delta_vt'.split()\n",
    "history[cols].head()"
   ]
  },
  {
   "cell_type": "markdown",
   "metadata": {},
   "source": [
    "# Test MultiStockEnv"
   ]
  },
  {
   "cell_type": "code",
   "execution_count": null,
   "metadata": {},
   "outputs": [],
   "source": [
    "from stock_env.envs.multi_stock import MultiStockEnv\n",
    "\n",
    "tickers = \"FPT SSI VNM\".split()\n",
    "env = MultiStockEnv(\n",
    "    tickers=tickers,\n",
    "    feature_extractor=OneStockFeatures(),\n",
    "    data_folder_path=path)\n",
    "check_env(env)\n",
    "\n",
    "obs = env.reset(current_tick=0)\n",
    "done = False\n",
    "while not done:\n",
    "    obs, _, done, _ = env.step(env.action_space.sample())\n",
    "histories, ticker_history = env.get_history()\n",
    "histories.head()"
   ]
  },
  {
   "cell_type": "code",
   "execution_count": null,
   "metadata": {},
   "outputs": [],
   "source": [
    "cols = 'time close delta_shares quantity portfolio_value nav cash delta_vt step_reward'.split()\n",
    "ticker_history['FPT'][cols].head()"
   ]
  },
  {
   "cell_type": "code",
   "execution_count": null,
   "metadata": {},
   "outputs": [],
   "source": [
    "ticker_history['SSI'][cols].head()"
   ]
  },
  {
   "cell_type": "markdown",
   "metadata": {},
   "source": [
    "# Test Random Stock Continuous Env"
   ]
  },
  {
   "cell_type": "code",
   "execution_count": null,
   "metadata": {},
   "outputs": [],
   "source": [
    "# Test Vietnam Stock Continuous Env\n",
    "from stock_env.envs.random_stock import RandomStockEnv\n",
    "tickers = \"SSI HPG VNM\".split()\n",
    "data_folder_path = \"../stock_datasets/\"\n",
    "\n",
    "env = RandomStockEnv(\n",
    "    tickers = tickers,\n",
    "    data_folder_path = data_folder_path,\n",
    "    feature_extractor = OneStockFeatures())\n",
    "check_env(env)\n",
    "\n",
    "# play random\n",
    "obs = env.reset(current_tick=0)\n",
    "done = False\n",
    "while not done:\n",
    "    obs, _, done, _ = env.step(env.action_space.sample())\n",
    "history = env.get_history()\n",
    "history['percent_cash'] = history['cash'] / history['portfolio_value']"
   ]
  },
  {
   "cell_type": "code",
   "execution_count": null,
   "metadata": {},
   "outputs": [],
   "source": [
    "cols = 'time ticker open close actions percent_cash delta_shares quantity portfolio_value nav cash'.split()\n",
    "history[cols].head()"
   ]
  }
 ],
 "metadata": {
  "kernelspec": {
   "display_name": "Python 3.7.13 ('tradingenv')",
   "language": "python",
   "name": "python3"
  },
  "language_info": {
   "codemirror_mode": {
    "name": "ipython",
    "version": 3
   },
   "file_extension": ".py",
   "mimetype": "text/x-python",
   "name": "python",
   "nbconvert_exporter": "python",
   "pygments_lexer": "ipython3",
   "version": "3.7.13"
  },
  "orig_nbformat": 4,
  "vscode": {
   "interpreter": {
    "hash": "2731de94cdaa6fc28a94d509b273528b2aec7b6d61ee2b4f8544cbcc71fe6bbb"
   }
  }
 },
 "nbformat": 4,
 "nbformat_minor": 2
}
