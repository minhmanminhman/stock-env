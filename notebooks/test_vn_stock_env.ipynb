{
 "cells": [
  {
   "cell_type": "markdown",
   "metadata": {},
   "source": [
    "# Test Vietnamese Stock Env"
   ]
  },
  {
   "cell_type": "code",
   "execution_count": 1,
   "metadata": {},
   "outputs": [
    {
     "name": "stderr",
     "output_type": "stream",
     "text": [
      "c:\\Users\\manbnm\\Miniconda3\\envs\\tradingenv\\lib\\site-packages\\pyfolio\\pos.py:27: UserWarning: Module \"zipline.assets\" not found; mutltipliers will not be applied to position notionals.\n",
      "  'Module \"zipline.assets\" not found; mutltipliers will not be applied' +\n"
     ]
    }
   ],
   "source": [
    "import os\n",
    "from pathlib import Path\n",
    "path = Path(os.getcwd())\n",
    "os.chdir(path.parent.absolute())\n",
    "\n",
    "# import warnings\n",
    "# warnings.filterwarnings('ignore')\n",
    "import pandas as pd\n",
    "import pandas_ta as ta\n",
    "import gym\n",
    "import mt4_hst\n",
    "from stable_baselines3.common.env_checker import check_env\n",
    "from stock_env.feature.feature_extractor import OneStockFeatures\n",
    "\n",
    "path = \"../stock_datasets/\""
   ]
  },
  {
   "cell_type": "markdown",
   "metadata": {},
   "source": [
    "# Test VietnamStockEnv"
   ]
  },
  {
   "cell_type": "code",
   "execution_count": null,
   "metadata": {},
   "outputs": [],
   "source": [
    "from stock_env.envs.vn_stock_env import VietnamStockEnv\n",
    "\n",
    "ticker = \"FPT\"\n",
    "\n",
    "env = VietnamStockEnv(\n",
    "    df = mt4_hst.read_hst(f\"{path}/{ticker}1440.hst\"),\n",
    "    feature_extractor = OneStockFeatures(),\n",
    "    ticker=ticker)\n",
    "check_env(env)\n",
    "\n",
    "# play random\n",
    "obs = env.reset(current_tick=0)\n",
    "done = False\n",
    "while not done:\n",
    "    obs, _, done, _ = env.step(env.action_space.sample())\n",
    "history = env.get_history()"
   ]
  },
  {
   "cell_type": "code",
   "execution_count": null,
   "metadata": {},
   "outputs": [],
   "source": [
    "cols = 'time close delta_shares quantity portfolio_value nav cash delta_vt'.split()\n",
    "history[cols].head(10)"
   ]
  },
  {
   "cell_type": "markdown",
   "metadata": {},
   "source": [
    "# Test MultiStockEnv"
   ]
  },
  {
   "cell_type": "code",
   "execution_count": 11,
   "metadata": {},
   "outputs": [],
   "source": [
    "from stock_env.envs.multi_stock import MultiStockEnv\n",
    "\n",
    "tickers = \"FPT SSI VNM\".split()\n",
    "env = MultiStockEnv(\n",
    "    tickers=tickers,\n",
    "    feature_extractor=OneStockFeatures(),\n",
    "    data_folder_path=path)\n",
    "check_env(env)\n",
    "\n",
    "obs = env.reset(current_tick=0)\n",
    "done = False\n",
    "while not done:\n",
    "    obs, _, done, _ = env.step(env.action_space.sample())\n",
    "histories, ticker_history = env.get_history()"
   ]
  },
  {
   "cell_type": "code",
   "execution_count": 12,
   "metadata": {},
   "outputs": [
    {
     "data": {
      "text/plain": [
       "(28,)"
      ]
     },
     "execution_count": 12,
     "metadata": {},
     "output_type": "execute_result"
    }
   ],
   "source": [
    "env.observation_space.shape"
   ]
  },
  {
   "cell_type": "code",
   "execution_count": 3,
   "metadata": {},
   "outputs": [
    {
     "data": {
      "text/html": [
       "<div>\n",
       "<style scoped>\n",
       "    .dataframe tbody tr th:only-of-type {\n",
       "        vertical-align: middle;\n",
       "    }\n",
       "\n",
       "    .dataframe tbody tr th {\n",
       "        vertical-align: top;\n",
       "    }\n",
       "\n",
       "    .dataframe thead th {\n",
       "        text-align: right;\n",
       "    }\n",
       "</style>\n",
       "<table border=\"1\" class=\"dataframe\">\n",
       "  <thead>\n",
       "    <tr style=\"text-align: right;\">\n",
       "      <th></th>\n",
       "      <th>total_portfolio_value</th>\n",
       "      <th>total_cash</th>\n",
       "      <th>total_nav</th>\n",
       "      <th>total_step_reward</th>\n",
       "      <th>time</th>\n",
       "    </tr>\n",
       "  </thead>\n",
       "  <tbody>\n",
       "    <tr>\n",
       "      <th>0</th>\n",
       "      <td>20000.000000</td>\n",
       "      <td>20000.000000</td>\n",
       "      <td>0.000000</td>\n",
       "      <td>0.000000</td>\n",
       "      <td>2007-02-02</td>\n",
       "    </tr>\n",
       "    <tr>\n",
       "      <th>1</th>\n",
       "      <td>19874.462031</td>\n",
       "      <td>17497.059535</td>\n",
       "      <td>2377.402496</td>\n",
       "      <td>-126.325958</td>\n",
       "      <td>2007-02-05</td>\n",
       "    </tr>\n",
       "    <tr>\n",
       "      <th>2</th>\n",
       "      <td>19957.487491</td>\n",
       "      <td>11576.365569</td>\n",
       "      <td>8381.121922</td>\n",
       "      <td>82.472685</td>\n",
       "      <td>2007-02-06</td>\n",
       "    </tr>\n",
       "    <tr>\n",
       "      <th>3</th>\n",
       "      <td>19968.439135</td>\n",
       "      <td>583.281359</td>\n",
       "      <td>19385.157776</td>\n",
       "      <td>8.821710</td>\n",
       "      <td>2007-02-07</td>\n",
       "    </tr>\n",
       "    <tr>\n",
       "      <th>4</th>\n",
       "      <td>19043.014178</td>\n",
       "      <td>583.281359</td>\n",
       "      <td>18459.732819</td>\n",
       "      <td>-946.921899</td>\n",
       "      <td>2007-02-08</td>\n",
       "    </tr>\n",
       "  </tbody>\n",
       "</table>\n",
       "</div>"
      ],
      "text/plain": [
       "   total_portfolio_value    total_cash     total_nav  total_step_reward  \\\n",
       "0           20000.000000  20000.000000      0.000000           0.000000   \n",
       "1           19874.462031  17497.059535   2377.402496        -126.325958   \n",
       "2           19957.487491  11576.365569   8381.121922          82.472685   \n",
       "3           19968.439135    583.281359  19385.157776           8.821710   \n",
       "4           19043.014178    583.281359  18459.732819        -946.921899   \n",
       "\n",
       "        time  \n",
       "0 2007-02-02  \n",
       "1 2007-02-05  \n",
       "2 2007-02-06  \n",
       "3 2007-02-07  \n",
       "4 2007-02-08  "
      ]
     },
     "execution_count": 3,
     "metadata": {},
     "output_type": "execute_result"
    }
   ],
   "source": [
    "histories.head()"
   ]
  },
  {
   "cell_type": "code",
   "execution_count": 4,
   "metadata": {},
   "outputs": [
    {
     "data": {
      "text/html": [
       "<div>\n",
       "<style scoped>\n",
       "    .dataframe tbody tr th:only-of-type {\n",
       "        vertical-align: middle;\n",
       "    }\n",
       "\n",
       "    .dataframe tbody tr th {\n",
       "        vertical-align: top;\n",
       "    }\n",
       "\n",
       "    .dataframe thead th {\n",
       "        text-align: right;\n",
       "    }\n",
       "</style>\n",
       "<table border=\"1\" class=\"dataframe\">\n",
       "  <thead>\n",
       "    <tr style=\"text-align: right;\">\n",
       "      <th></th>\n",
       "      <th>time</th>\n",
       "      <th>close</th>\n",
       "      <th>delta_shares</th>\n",
       "      <th>quantity</th>\n",
       "      <th>portfolio_value</th>\n",
       "      <th>nav</th>\n",
       "      <th>cash</th>\n",
       "      <th>delta_vt</th>\n",
       "      <th>step_reward</th>\n",
       "    </tr>\n",
       "  </thead>\n",
       "  <tbody>\n",
       "    <tr>\n",
       "      <th>0</th>\n",
       "      <td>2007-02-02</td>\n",
       "      <td>25.004400</td>\n",
       "      <td>0</td>\n",
       "      <td>0</td>\n",
       "      <td>10000.000000</td>\n",
       "      <td>0.000000</td>\n",
       "      <td>10000.000000</td>\n",
       "      <td>0.000000</td>\n",
       "      <td>0.000000</td>\n",
       "    </tr>\n",
       "    <tr>\n",
       "      <th>1</th>\n",
       "      <td>2007-02-05</td>\n",
       "      <td>23.774025</td>\n",
       "      <td>100</td>\n",
       "      <td>100</td>\n",
       "      <td>9874.462031</td>\n",
       "      <td>2377.402496</td>\n",
       "      <td>7497.059535</td>\n",
       "      <td>-125.537969</td>\n",
       "      <td>-126.325958</td>\n",
       "    </tr>\n",
       "    <tr>\n",
       "      <th>2</th>\n",
       "      <td>2007-02-06</td>\n",
       "      <td>24.805954</td>\n",
       "      <td>0</td>\n",
       "      <td>100</td>\n",
       "      <td>9977.654933</td>\n",
       "      <td>2480.595398</td>\n",
       "      <td>7497.059535</td>\n",
       "      <td>103.192902</td>\n",
       "      <td>102.660463</td>\n",
       "    </tr>\n",
       "    <tr>\n",
       "      <th>3</th>\n",
       "      <td>2007-02-07</td>\n",
       "      <td>25.202848</td>\n",
       "      <td>300</td>\n",
       "      <td>400</td>\n",
       "      <td>10128.970928</td>\n",
       "      <td>10081.139374</td>\n",
       "      <td>47.831555</td>\n",
       "      <td>151.315996</td>\n",
       "      <td>150.171169</td>\n",
       "    </tr>\n",
       "    <tr>\n",
       "      <th>4</th>\n",
       "      <td>2007-02-08</td>\n",
       "      <td>23.972473</td>\n",
       "      <td>0</td>\n",
       "      <td>400</td>\n",
       "      <td>9636.820812</td>\n",
       "      <td>9588.989258</td>\n",
       "      <td>47.831555</td>\n",
       "      <td>-492.150116</td>\n",
       "      <td>-504.260703</td>\n",
       "    </tr>\n",
       "  </tbody>\n",
       "</table>\n",
       "</div>"
      ],
      "text/plain": [
       "        time      close  delta_shares  quantity  portfolio_value  \\\n",
       "0 2007-02-02  25.004400             0         0     10000.000000   \n",
       "1 2007-02-05  23.774025           100       100      9874.462031   \n",
       "2 2007-02-06  24.805954             0       100      9977.654933   \n",
       "3 2007-02-07  25.202848           300       400     10128.970928   \n",
       "4 2007-02-08  23.972473             0       400      9636.820812   \n",
       "\n",
       "            nav          cash    delta_vt  step_reward  \n",
       "0      0.000000  10000.000000    0.000000     0.000000  \n",
       "1   2377.402496   7497.059535 -125.537969  -126.325958  \n",
       "2   2480.595398   7497.059535  103.192902   102.660463  \n",
       "3  10081.139374     47.831555  151.315996   150.171169  \n",
       "4   9588.989258     47.831555 -492.150116  -504.260703  "
      ]
     },
     "execution_count": 4,
     "metadata": {},
     "output_type": "execute_result"
    }
   ],
   "source": [
    "cols = 'time close delta_shares quantity portfolio_value nav cash delta_vt step_reward'.split()\n",
    "ticker_history['FPT'][cols].head()"
   ]
  },
  {
   "cell_type": "code",
   "execution_count": 5,
   "metadata": {},
   "outputs": [
    {
     "data": {
      "text/html": [
       "<div>\n",
       "<style scoped>\n",
       "    .dataframe tbody tr th:only-of-type {\n",
       "        vertical-align: middle;\n",
       "    }\n",
       "\n",
       "    .dataframe tbody tr th {\n",
       "        vertical-align: top;\n",
       "    }\n",
       "\n",
       "    .dataframe thead th {\n",
       "        text-align: right;\n",
       "    }\n",
       "</style>\n",
       "<table border=\"1\" class=\"dataframe\">\n",
       "  <thead>\n",
       "    <tr style=\"text-align: right;\">\n",
       "      <th></th>\n",
       "      <th>time</th>\n",
       "      <th>close</th>\n",
       "      <th>delta_shares</th>\n",
       "      <th>quantity</th>\n",
       "      <th>portfolio_value</th>\n",
       "      <th>nav</th>\n",
       "      <th>cash</th>\n",
       "      <th>delta_vt</th>\n",
       "      <th>step_reward</th>\n",
       "    </tr>\n",
       "  </thead>\n",
       "  <tbody>\n",
       "    <tr>\n",
       "      <th>0</th>\n",
       "      <td>2007-02-02</td>\n",
       "      <td>11.915072</td>\n",
       "      <td>0</td>\n",
       "      <td>0</td>\n",
       "      <td>10000.000000</td>\n",
       "      <td>0.000000</td>\n",
       "      <td>10000.000000</td>\n",
       "      <td>-0.000000</td>\n",
       "      <td>-0.000000</td>\n",
       "    </tr>\n",
       "    <tr>\n",
       "      <th>1</th>\n",
       "      <td>2007-02-05</td>\n",
       "      <td>11.829558</td>\n",
       "      <td>0</td>\n",
       "      <td>0</td>\n",
       "      <td>10000.000000</td>\n",
       "      <td>0.000000</td>\n",
       "      <td>10000.000000</td>\n",
       "      <td>-0.000000</td>\n",
       "      <td>-0.000000</td>\n",
       "    </tr>\n",
       "    <tr>\n",
       "      <th>2</th>\n",
       "      <td>2007-02-06</td>\n",
       "      <td>11.801053</td>\n",
       "      <td>500</td>\n",
       "      <td>500</td>\n",
       "      <td>9979.832558</td>\n",
       "      <td>5900.526524</td>\n",
       "      <td>4079.306035</td>\n",
       "      <td>-20.167442</td>\n",
       "      <td>-20.187778</td>\n",
       "    </tr>\n",
       "    <tr>\n",
       "      <th>3</th>\n",
       "      <td>2007-02-07</td>\n",
       "      <td>11.630023</td>\n",
       "      <td>300</td>\n",
       "      <td>800</td>\n",
       "      <td>9839.468207</td>\n",
       "      <td>9304.018402</td>\n",
       "      <td>535.449804</td>\n",
       "      <td>-140.364352</td>\n",
       "      <td>-141.349459</td>\n",
       "    </tr>\n",
       "    <tr>\n",
       "      <th>4</th>\n",
       "      <td>2007-02-08</td>\n",
       "      <td>11.088429</td>\n",
       "      <td>0</td>\n",
       "      <td>800</td>\n",
       "      <td>9406.193365</td>\n",
       "      <td>8870.743561</td>\n",
       "      <td>535.449804</td>\n",
       "      <td>-433.274841</td>\n",
       "      <td>-442.661196</td>\n",
       "    </tr>\n",
       "  </tbody>\n",
       "</table>\n",
       "</div>"
      ],
      "text/plain": [
       "        time      close  delta_shares  quantity  portfolio_value          nav  \\\n",
       "0 2007-02-02  11.915072             0         0     10000.000000     0.000000   \n",
       "1 2007-02-05  11.829558             0         0     10000.000000     0.000000   \n",
       "2 2007-02-06  11.801053           500       500      9979.832558  5900.526524   \n",
       "3 2007-02-07  11.630023           300       800      9839.468207  9304.018402   \n",
       "4 2007-02-08  11.088429             0       800      9406.193365  8870.743561   \n",
       "\n",
       "           cash    delta_vt  step_reward  \n",
       "0  10000.000000   -0.000000    -0.000000  \n",
       "1  10000.000000   -0.000000    -0.000000  \n",
       "2   4079.306035  -20.167442   -20.187778  \n",
       "3    535.449804 -140.364352  -141.349459  \n",
       "4    535.449804 -433.274841  -442.661196  "
      ]
     },
     "execution_count": 5,
     "metadata": {},
     "output_type": "execute_result"
    }
   ],
   "source": [
    "ticker_history['SSI'][cols].head()"
   ]
  }
 ],
 "metadata": {
  "kernelspec": {
   "display_name": "Python 3.7.13 ('tradingenv')",
   "language": "python",
   "name": "python3"
  },
  "language_info": {
   "codemirror_mode": {
    "name": "ipython",
    "version": 3
   },
   "file_extension": ".py",
   "mimetype": "text/x-python",
   "name": "python",
   "nbconvert_exporter": "python",
   "pygments_lexer": "ipython3",
   "version": "3.7.13"
  },
  "orig_nbformat": 4,
  "vscode": {
   "interpreter": {
    "hash": "2731de94cdaa6fc28a94d509b273528b2aec7b6d61ee2b4f8544cbcc71fe6bbb"
   }
  }
 },
 "nbformat": 4,
 "nbformat_minor": 2
}
