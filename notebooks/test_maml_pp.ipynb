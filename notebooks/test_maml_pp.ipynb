{
 "cells": [
  {
   "cell_type": "code",
   "execution_count": 1,
   "metadata": {},
   "outputs": [],
   "source": [
    "from stock_env.algos.agent import Agent\n",
    "import higher\n",
    "import torch as th\n",
    "import numpy as np\n",
    "import torch.nn as nn\n",
    "from stock_env.common.common_utils import create_performance, plot_trade_log_v2\n",
    "from stock_env.common.evaluation import play_an_episode, evaluate_agent\n",
    "from stock_env.common.common_utils import open_config\n",
    "from stock_env.common.env_utils import make_vec_env"
   ]
  },
  {
   "cell_type": "code",
   "execution_count": null,
   "metadata": {},
   "outputs": [],
   "source": [
    "env_id = \"MiniFAANG-v0\"\n",
    "# model_path = \"../model/ppo_adapt_SSI_20230102_133152.pth\"\n",
    "config_path = \"../configs/maml.yaml\"\n",
    "\n",
    "# setting up\n",
    "args = open_config(config_path, env_id=env_id)\n",
    "envs = make_vec_env(env_id, num_envs=1)\n",
    "agent = Agent(envs, hiddens=args.hiddens)\n",
    "# random_agent = Agent(envs, hiddens=args.hiddens)\n",
    "# agent.load_state_dict(th.load(model_path))"
   ]
  },
  {
   "cell_type": "code",
   "execution_count": 6,
   "metadata": {},
   "outputs": [],
   "source": [
    "class Agent(nn.Module):\n",
    "    def __init__(self) -> None:\n",
    "        super().__init__()\n",
    "        self.actor = nn.Sequential(\n",
    "            nn.Linear(4, 4),\n",
    "            nn.ReLU(),\n",
    "            nn.Linear(4, 1),\n",
    "        )\n",
    "        self.critic = nn.Sequential(\n",
    "            nn.Linear(4, 4),\n",
    "            nn.ReLU(),\n",
    "            nn.Linear(4, 1),\n",
    "        )\n",
    "    def get_action_value(self, x):\n",
    "        return self.actor(x) + self.critic(x)\n",
    "\n",
    "class TestMetaAgent(nn.Module):\n",
    "    def __init__(self):\n",
    "        super().__init__()\n",
    "        self.net = Agent()\n",
    "        param_groups = [\n",
    "            {\"params\": p, \"lr\": 0.00000001}\n",
    "            for p in self.net.parameters()\n",
    "        ]\n",
    "        self.inner_opt = th.optim.SGD(param_groups, lr=0.001)\n",
    "        t = higher.optim.get_trainable_opt_params(self.inner_opt)\n",
    "        self._lrs = nn.ParameterList(map(nn.Parameter, t[\"lr\"]))\n",
    "\n",
    "        print(\"Outer Loop parameters\")\n",
    "        param_shapes = []\n",
    "        for name, param in self.named_parameters():\n",
    "            if param.requires_grad:\n",
    "                print(name, param.shape, param.device, param.requires_grad)\n",
    "                param_shapes.append(param.shape)\n",
    "        print(f\"n_params: {sum(map(np.prod, param_shapes))}\")\n",
    "\n",
    "    def trainable_parameters(self):\n",
    "        \"\"\"\n",
    "        Returns an iterator over the trainable parameters of the model.\n",
    "        \"\"\"\n",
    "        for param in self.parameters():\n",
    "            if param.requires_grad:\n",
    "                yield param\n",
    "    \n",
    "    @property\n",
    "    def lrs(self):\n",
    "        for lr in self._lrs:\n",
    "            lr.data[lr < 1e-4] = 1e-4\n",
    "        return self._lrs"
   ]
  },
  {
   "cell_type": "code",
   "execution_count": 7,
   "metadata": {},
   "outputs": [
    {
     "name": "stdout",
     "output_type": "stream",
     "text": [
      "Outer Loop parameters\n",
      "net.actor.0.weight torch.Size([4, 4]) cpu True\n",
      "net.actor.0.bias torch.Size([4]) cpu True\n",
      "net.actor.2.weight torch.Size([1, 4]) cpu True\n",
      "net.actor.2.bias torch.Size([1]) cpu True\n",
      "net.critic.0.weight torch.Size([4, 4]) cpu True\n",
      "net.critic.0.bias torch.Size([4]) cpu True\n",
      "net.critic.2.weight torch.Size([1, 4]) cpu True\n",
      "net.critic.2.bias torch.Size([1]) cpu True\n",
      "_lrs.0 torch.Size([]) cpu True\n",
      "_lrs.1 torch.Size([]) cpu True\n",
      "_lrs.2 torch.Size([]) cpu True\n",
      "_lrs.3 torch.Size([]) cpu True\n",
      "_lrs.4 torch.Size([]) cpu True\n",
      "_lrs.5 torch.Size([]) cpu True\n",
      "_lrs.6 torch.Size([]) cpu True\n",
      "_lrs.7 torch.Size([]) cpu True\n",
      "n_params: 58.0\n"
     ]
    },
    {
     "ename": "TypeError",
     "evalue": "min() received an invalid combination of arguments - got (ParameterList, float), but expected one of:\n * (Tensor input)\n * (Tensor input, Tensor other, *, Tensor out)\n * (Tensor input, int dim, bool keepdim, *, tuple of Tensors out)\n * (Tensor input, name dim, bool keepdim, *, tuple of Tensors out)\n",
     "output_type": "error",
     "traceback": [
      "\u001b[0;31m---------------------------------------------------------------------------\u001b[0m",
      "\u001b[0;31mTypeError\u001b[0m                                 Traceback (most recent call last)",
      "Cell \u001b[0;32mIn [7], line 2\u001b[0m\n\u001b[1;32m      1\u001b[0m test_agent \u001b[39m=\u001b[39m TestMetaAgent()\n\u001b[0;32m----> 2\u001b[0m [lr\u001b[39m.\u001b[39mdata \u001b[39mfor\u001b[39;00m lr \u001b[39min\u001b[39;00m test_agent\u001b[39m.\u001b[39mlrs]\n",
      "Cell \u001b[0;32mIn [6], line 49\u001b[0m, in \u001b[0;36mTestMetaAgent.lrs\u001b[0;34m(self)\u001b[0m\n\u001b[1;32m     45\u001b[0m \u001b[39m@property\u001b[39m\n\u001b[1;32m     46\u001b[0m \u001b[39mdef\u001b[39;00m \u001b[39mlrs\u001b[39m(\u001b[39mself\u001b[39m):\n\u001b[1;32m     47\u001b[0m     \u001b[39m# for lr in self._lrs:\u001b[39;00m\n\u001b[1;32m     48\u001b[0m     \u001b[39m#     lr.data[lr < 1e-4] = 1e-4\u001b[39;00m\n\u001b[0;32m---> 49\u001b[0m     th\u001b[39m.\u001b[39;49mmin(\u001b[39mself\u001b[39;49m\u001b[39m.\u001b[39;49m_lrs, \u001b[39m1e-4\u001b[39;49m)\n\u001b[1;32m     50\u001b[0m     \u001b[39mreturn\u001b[39;00m \u001b[39mself\u001b[39m\u001b[39m.\u001b[39m_lrs\n",
      "\u001b[0;31mTypeError\u001b[0m: min() received an invalid combination of arguments - got (ParameterList, float), but expected one of:\n * (Tensor input)\n * (Tensor input, Tensor other, *, Tensor out)\n * (Tensor input, int dim, bool keepdim, *, tuple of Tensors out)\n * (Tensor input, name dim, bool keepdim, *, tuple of Tensors out)\n"
     ]
    }
   ],
   "source": [
    "test_agent = TestMetaAgent()\n",
    "[lr.data for lr in test_agent.lrs]"
   ]
  },
  {
   "cell_type": "code",
   "execution_count": 18,
   "metadata": {},
   "outputs": [
    {
     "name": "stdout",
     "output_type": "stream",
     "text": [
      "Outer Loop parameters\n",
      "net.actor.0.weight torch.Size([4, 4]) cpu True\n",
      "net.actor.0.bias torch.Size([4]) cpu True\n",
      "net.actor.2.weight torch.Size([1, 4]) cpu True\n",
      "net.actor.2.bias torch.Size([1]) cpu True\n",
      "net.critic.0.weight torch.Size([4, 4]) cpu True\n",
      "net.critic.0.bias torch.Size([4]) cpu True\n",
      "net.critic.2.weight torch.Size([1, 4]) cpu True\n",
      "net.critic.2.bias torch.Size([1]) cpu True\n",
      "lrs.0 torch.Size([]) cpu True\n",
      "lrs.1 torch.Size([]) cpu True\n",
      "lrs.2 torch.Size([]) cpu True\n",
      "lrs.3 torch.Size([]) cpu True\n",
      "lrs.4 torch.Size([]) cpu True\n",
      "lrs.5 torch.Size([]) cpu True\n",
      "lrs.6 torch.Size([]) cpu True\n",
      "lrs.7 torch.Size([]) cpu True\n",
      "n_params: 58.0\n",
      "[tensor(0.0100), tensor(0.0100), tensor(0.0100), tensor(0.0100), tensor(0.0100), tensor(0.0100), tensor(0.0100), tensor(0.0100)]\n"
     ]
    }
   ],
   "source": [
    "test_agent = TestMetaAgent()\n",
    "meta_opt = th.optim.Adam(test_agent.trainable_parameters(), lr=0.01)\n",
    "lrs = [p.data for p in test_agent.lrs]\n",
    "print(lrs)"
   ]
  },
  {
   "cell_type": "code",
   "execution_count": 21,
   "metadata": {},
   "outputs": [
    {
     "name": "stdout",
     "output_type": "stream",
     "text": [
      "[tensor(0.0100), tensor(0.0100), tensor(0.0100), tensor(0.0100), tensor(0.0100), tensor(0.0100), tensor(0.0100), tensor(0.0100)]\n",
      "[tensor(0.0100), tensor(0.0100), tensor(0.0100), tensor(0.0100), tensor(0.0100), tensor(0.0100), tensor(0.0100), tensor(0.0100)]\n",
      "[tensor(0.0100), tensor(0.0100), tensor(0.0100), tensor(0.0100), tensor(0.0100), tensor(0.0100), tensor(0.0100), tensor(0.0100)]\n",
      "[tensor(0.0100), tensor(0.0100), tensor(0.0100), tensor(0.0100), tensor(0.0100), tensor(0.0100), tensor(0.0100), tensor(0.0100)]\n",
      "[tensor(0.0100), tensor(0.0100), tensor(0.0100), tensor(0.0100), tensor(0.0100), tensor(0.0100), tensor(0.0100), tensor(0.0100)]\n",
      "[tensor(0.0100), tensor(0.0100), tensor(0.0100), tensor(0.0100), tensor(0.0100), tensor(0.0100), tensor(0.0100), tensor(0.0100)]\n",
      "[tensor(0.0100), tensor(0.0100), tensor(0.0100), tensor(0.0100), tensor(0.0100), tensor(0.0100), tensor(0.0100), tensor(0.0100)]\n",
      "[tensor(0.0100), tensor(0.0100), tensor(0.0100), tensor(0.0100), tensor(0.0100), tensor(0.0100), tensor(0.0100), tensor(0.0100)]\n",
      "[tensor(0.0100), tensor(0.0100), tensor(0.0100), tensor(0.0100), tensor(0.0100), tensor(0.0100), tensor(0.0100), tensor(0.0100)]\n",
      "[tensor(0.0100), tensor(0.0100), tensor(0.0100), tensor(0.0100), tensor(0.0100), tensor(0.0100), tensor(0.0100), tensor(0.0100)]\n"
     ]
    }
   ],
   "source": [
    "for epoch in range(10):\n",
    "    test_agent.zero_grad()\n",
    "    outer_loss = []\n",
    "    for i in range(2):\n",
    "        with higher.innerloop_ctx(\n",
    "            test_agent.net, \n",
    "            test_agent.inner_opt, \n",
    "            copy_initial_weights=False\n",
    "        ) as (fnet, diffopt):\n",
    "            x = th.randn(1, 4)\n",
    "            y = th.randn(1, 1)\n",
    "            y_pred = fnet.get_action_value(x)\n",
    "            inner_loss = th.nn.functional.mse_loss(y_pred, y)\n",
    "            diffopt.step(\n",
    "                inner_loss, \n",
    "                override={'lr': test_agent.lrs}\n",
    "            )\n",
    "\n",
    "            x = th.randn(1, 4)\n",
    "            y = th.randn(1, 1)\n",
    "            y_pred = fnet.get_action_value(x)\n",
    "            outer_loss.append(th.nn.functional.mse_loss(y_pred, y))\n",
    "\n",
    "    outer_loss = th.sum(th.stack(outer_loss)).mean()\n",
    "    meta_opt.zero_grad()\n",
    "    outer_loss.backward()\n",
    "    meta_opt.step()\n",
    "    print(lrs)\n",
    "    # train learning rate using higher package with override methods"
   ]
  },
  {
   "cell_type": "code",
   "execution_count": null,
   "metadata": {},
   "outputs": [],
   "source": []
  }
 ],
 "metadata": {
  "kernelspec": {
   "display_name": "Python 3.8.13 ('tradingenv')",
   "language": "python",
   "name": "python3"
  },
  "language_info": {
   "codemirror_mode": {
    "name": "ipython",
    "version": 3
   },
   "file_extension": ".py",
   "mimetype": "text/x-python",
   "name": "python",
   "nbconvert_exporter": "python",
   "pygments_lexer": "ipython3",
   "version": "3.8.13"
  },
  "orig_nbformat": 4,
  "vscode": {
   "interpreter": {
    "hash": "faa7f68368d9c9f740356072b5cc858737f0635c1c0b552678cb52f36bb31777"
   }
  }
 },
 "nbformat": 4,
 "nbformat_minor": 2
}
