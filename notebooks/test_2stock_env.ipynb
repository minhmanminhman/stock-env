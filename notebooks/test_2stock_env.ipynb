{
 "cells": [
  {
   "cell_type": "markdown",
   "metadata": {},
   "source": [
    "# Evaluate model for Vietnamese Stock Env"
   ]
  },
  {
   "cell_type": "code",
   "execution_count": 1,
   "metadata": {},
   "outputs": [
    {
     "name": "stderr",
     "output_type": "stream",
     "text": [
      "/Users/manbnm/miniconda3/envs/tradingenv/lib/python3.7/site-packages/pyfolio/pos.py:27: UserWarning: Module \"zipline.assets\" not found; mutltipliers will not be applied to position notionals.\n",
      "  'Module \"zipline.assets\" not found; mutltipliers will not be applied' +\n"
     ]
    }
   ],
   "source": [
    "import os\n",
    "from pathlib import Path\n",
    "path = Path(os.getcwd())\n",
    "os.chdir(path.parent.absolute())\n",
    "\n",
    "\n",
    "import pandas as pd\n",
    "import pandas_ta as ta\n",
    "import gym\n",
    "import mt4_hst\n",
    "import stock_env\n",
    "from stock_env.utils import *\n",
    "from stock_env.envs.vn_stock_env import VietnamStockEnv, VietnamStockV2Env\n",
    "from stable_baselines3.common.env_checker import check_env"
   ]
  },
  {
   "cell_type": "code",
   "execution_count": 2,
   "metadata": {},
   "outputs": [],
   "source": [
    "ticker = 'FPT'\n",
    "path = \"stock_env/datasets/\"\n",
    "df = mt4_hst.read_hst(path + ticker + \"1440.hst\")"
   ]
  },
  {
   "cell_type": "code",
   "execution_count": 6,
   "metadata": {},
   "outputs": [],
   "source": [
    "import numpy as np\n",
    "from gym import spaces\n",
    "\n",
    "class MultiStockEnv(gym.Env):\n",
    "    def __init__(\n",
    "        self, \n",
    "        tickers, \n",
    "        feature_extractor,\n",
    "        data_folder_path,\n",
    "        tick_size: float = 0.05,\n",
    "        lot_size: int = 100,\n",
    "        max_trade_lot: int = 5,\n",
    "        max_lot: int = 10,\n",
    "        kappa: float = 1e-4,\n",
    "        init_cash: float = 2e4,\n",
    "        random_seed: int = None,\n",
    "    ):\n",
    "        self.tickers = tickers\n",
    "        self.feature_extractor = feature_extractor\n",
    "        self.data_folder_path = data_folder_path\n",
    "        self.n_ticker = len(self.tickers)\n",
    "        self.tick_size = tick_size\n",
    "        self.lot_size = lot_size\n",
    "        self.max_trade_lot = max_trade_lot\n",
    "        self.max_lot = max_lot\n",
    "        self.kappa = kappa\n",
    "        self.init_total_cash = init_cash\n",
    "        self.init_ticker_cash = self.init_total_cash / self.n_ticker\n",
    "        self.random_seed = random_seed\n",
    "        \n",
    "        self._create_envs()\n",
    "        self.obs_dim = sum([env.observation_space.shape[0] for env in self.envs])\n",
    "        self.observation_space = spaces.Box(\n",
    "            low=-np.inf, \n",
    "            high=np.inf, \n",
    "            shape=(self.obs_dim + 1,),\n",
    "            dtype=np.float64\n",
    "        )\n",
    "        self.action_space = spaces.MultiDiscrete([env.action_space.n for env in self.envs])\n",
    "        \n",
    "        self._start_tick = 0\n",
    "        self._end_tick = self.df.shape[0] - 1\n",
    "        self._current_tick = None\n",
    "        self.done = None\n",
    "        self.total_reward = None\n",
    "        self.positions = None\n",
    "        self.histories = None\n",
    "    \n",
    "    def _create_envs(self):\n",
    "        self.envs = []\n",
    "        df = pd.DataFrame()\n",
    "        for ticker in self.tickers:\n",
    "            _df = mt4_hst.read_hst(self.data_folder_path + ticker + \"1440.hst\")\n",
    "            _df.sort_values(by='time', inplace=True)\n",
    "            _df['ticker'] = ticker\n",
    "            df = pd.concat([df, _df])\n",
    "\n",
    "        self.df = df.pivot(columns=['ticker']).swaplevel(0, 1, axis=1)\n",
    "        self.df.dropna(inplace=True)\n",
    "        \n",
    "        for ticker in self.tickers:\n",
    "            _env = VietnamStockV2Env(\n",
    "                df = self.df[ticker],\n",
    "                feature_extractor = self.feature_extractor,\n",
    "                tick_size = self.tick_size,\n",
    "                lot_size = self.lot_size,\n",
    "                max_trade_lot = self.max_trade_lot,\n",
    "                max_lot = self.max_lot,\n",
    "                kappa = self.kappa,\n",
    "                init_cash = self.init_ticker_cash,\n",
    "                random_seed = self.random_seed,\n",
    "            )\n",
    "            self.envs.append(_env)\n",
    "    \n",
    "    @property\n",
    "    def nav(self):\n",
    "        self._current_tick = np.random.randint(self._start_tick, self._end_tick)\n",
    "        return sum([env.nav for env in self.envs])\n",
    "    \n",
    "    @property\n",
    "    def cash(self):\n",
    "        return sum([env.cash for env in self.envs])\n",
    "    \n",
    "    def reset(self, current_tick='random'):\n",
    "        #TODO\n",
    "        if current_tick == 'random':\n",
    "            self._current_tick = np.random.randint(self._start_tick, self._end_tick)\n",
    "        elif isinstance(current_tick, int):\n",
    "            self._current_tick = current_tick\n",
    "        else:\n",
    "            raise NotImplementedError\n",
    "        obs = np.concatenate([env.reset(self._current_tick) for env in self.envs])\n",
    "        obs = np.append(obs, self.cash).astype(np.float64)\n",
    "        return obs\n",
    "    \n",
    "    def step(self):\n",
    "        pass"
   ]
  }
 ],
 "metadata": {
  "kernelspec": {
   "display_name": "Python 3.7.13 ('tradingenv')",
   "language": "python",
   "name": "python3"
  },
  "language_info": {
   "codemirror_mode": {
    "name": "ipython",
    "version": 3
   },
   "file_extension": ".py",
   "mimetype": "text/x-python",
   "name": "python",
   "nbconvert_exporter": "python",
   "pygments_lexer": "ipython3",
   "version": "3.7.13"
  },
  "orig_nbformat": 4,
  "vscode": {
   "interpreter": {
    "hash": "faa7f68368d9c9f740356072b5cc858737f0635c1c0b552678cb52f36bb31777"
   }
  }
 },
 "nbformat": 4,
 "nbformat_minor": 2
}
