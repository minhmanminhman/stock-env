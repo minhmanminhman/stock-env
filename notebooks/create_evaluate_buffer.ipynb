{
 "cells": [
  {
   "cell_type": "code",
   "execution_count": 1,
   "metadata": {},
   "outputs": [],
   "source": [
    "import matplotlib.pyplot as plt\n",
    "import numpy as np\n",
    "import seaborn as sns\n",
    "sns.set()\n",
    "import plotly.graph_objects as go\n",
    "from copy import deepcopy\n",
    "from stock_env.envs import *\n",
    "from stock_env.algos.buffer import RolloutBuffer\n",
    "from stock_env.algos.agent import MetaAgent\n",
    "import gymnasium as gym\n",
    "import torch as th\n",
    "def plot_mean_reward(fig, df, fill_color, line_color, name):\n",
    "\n",
    "    fig.add_trace(\n",
    "        go.Scatter(\n",
    "            x=df[\"n_adapt_steps\"],\n",
    "            y=df[\"mean-std\"],\n",
    "            mode=\"lines\",\n",
    "            fill=None,\n",
    "            line=dict(width=0.5, color=fill_color),\n",
    "            showlegend=False,\n",
    "        )\n",
    "    )\n",
    "\n",
    "    fig.add_trace(\n",
    "        go.Scatter(\n",
    "            x=df[\"n_adapt_steps\"],\n",
    "            y=df[\"mean+std\"],\n",
    "            fill=\"tonexty\",\n",
    "            mode=\"lines\",\n",
    "            line=dict(width=0.5, color=fill_color),\n",
    "            showlegend=False,\n",
    "        )\n",
    "    )\n",
    "\n",
    "    fig.add_trace(\n",
    "        go.Scatter(\n",
    "            x=df[\"n_adapt_steps\"],\n",
    "            y=df[\"mean\"],\n",
    "            fill=None,\n",
    "            line_color=line_color,\n",
    "            name=name,\n",
    "        )\n",
    "    )"
   ]
  },
  {
   "cell_type": "code",
   "execution_count": 2,
   "metadata": {},
   "outputs": [],
   "source": [
    "ARGS_PATH = \"../configs/maml.yaml\"\n",
    "ENV_ID = \"SP500-v0\"\n",
    "args = open_config(ARGS_PATH, env_id=ENV_ID, is_args=True)"
   ]
  },
  {
   "cell_type": "code",
   "execution_count": 3,
   "metadata": {},
   "outputs": [],
   "source": [
    "envs = MetaVectorEnv([lambda: gym.make(ENV_ID) for _ in range(args.num_tasks)])\n",
    "tasks = envs.sample_task(args.num_tasks)\n",
    "for task, env in zip(tasks, envs.envs):\n",
    "    env.reset_task(task)"
   ]
  },
  {
   "cell_type": "code",
   "execution_count": 4,
   "metadata": {},
   "outputs": [],
   "source": [
    "import pandas as pd\n",
    "obs, info = envs.reset()\n",
    "info_df = pd.DataFrame(info)[['from_time', 'episode_ticker']]\n",
    "obs_df = pd.DataFrame(obs)\n",
    "df = pd.concat([info_df, obs_df], axis=1)\n",
    "df = df.rename(columns={'from_time': 'time', 'episode_ticker': 'ticker'})\n",
    "steps = args.num_steps // args.num_tasks\n",
    "tickers = df['ticker']\n",
    "for _ in range(steps):\n",
    "    obs, reward, termninated, truncated, info = envs.step(envs.action_space.sample())\n",
    "    _info_df = pd.DataFrame(info)[['time']]\n",
    "    _info_df['ticker'] = tickers\n",
    "    _obs_df = pd.DataFrame(obs)\n",
    "    _df = pd.concat([_info_df, _obs_df], axis=1)\n",
    "    df = df.append(_df, ignore_index=True)\n",
    "df.to_csv('../temp/evaluate_buffer.csv', index=True)\n",
    "del df"
   ]
  },
  {
   "cell_type": "code",
   "execution_count": 5,
   "metadata": {},
   "outputs": [],
   "source": [
    "df = pd.read_csv('../temp/evaluate_buffer.csv', index_col=0)\n",
    "agent = MetaAgent(envs, hiddens=args.hiddens)\n",
    "batch = df.loc[:, slice('0', '149')].to_numpy()\n",
    "batch = th.from_numpy(batch).float()\n",
    "values = agent.get_value(batch)\n",
    "values = values.detach().flatten().numpy()\n",
    "df['values'] = values"
   ]
  },
  {
   "cell_type": "code",
   "execution_count": 7,
   "metadata": {},
   "outputs": [
    {
     "data": {
      "text/plain": [
       "'149'"
      ]
     },
     "execution_count": 7,
     "metadata": {},
     "output_type": "execute_result"
    }
   ],
   "source": [
    "df.columns[-1]"
   ]
  }
 ],
 "metadata": {
  "kernelspec": {
   "display_name": "Python 3.8.13 ('tradingenv')",
   "language": "python",
   "name": "python3"
  },
  "language_info": {
   "codemirror_mode": {
    "name": "ipython",
    "version": 3
   },
   "file_extension": ".py",
   "mimetype": "text/x-python",
   "name": "python",
   "nbconvert_exporter": "python",
   "pygments_lexer": "ipython3",
   "version": "3.8.13 (default, Mar 28 2022, 06:13:39) \n[Clang 12.0.0 ]"
  },
  "orig_nbformat": 4,
  "vscode": {
   "interpreter": {
    "hash": "faa7f68368d9c9f740356072b5cc858737f0635c1c0b552678cb52f36bb31777"
   }
  }
 },
 "nbformat": 4,
 "nbformat_minor": 2
}
