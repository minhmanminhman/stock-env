{
 "cells": [
  {
   "cell_type": "code",
   "execution_count": 1,
   "metadata": {},
   "outputs": [],
   "source": [
    "import yfinance\n",
    "import pandas as pd\n",
    "import pandas_ta as ta\n",
    "import stock_env\n",
    "from stock_env.feature.feature_extractor import TrendFeatures\n",
    "from stock_env.data_loader import USStockLoader\n",
    "from stable_baselines3.common.save_util import save_to_pkl\n",
    "import gym\n",
    "from stock_env.envs import *"
   ]
  },
  {
   "cell_type": "code",
   "execution_count": 2,
   "metadata": {},
   "outputs": [],
   "source": [
    "sp500_ticker = pd.read_csv('../temp/constituents_csv.csv')\n",
    "sp500_ticker = list(sp500_ticker['Symbol'])"
   ]
  },
  {
   "cell_type": "code",
   "execution_count": 3,
   "metadata": {},
   "outputs": [
    {
     "name": "stdout",
     "output_type": "stream",
     "text": [
      "[*********************100%***********************]  498 of 498 completed\n",
      "\n",
      "1 Failed download:\n",
      "- ANTM: No data found, symbol may be delisted\n"
     ]
    }
   ],
   "source": [
    "data_loader = USStockLoader(\n",
    "    tickers=sp500_ticker, \n",
    "    feature_extractor=TrendFeatures,\n",
    "    max_episode_steps=500,\n",
    "    data_period='30y'\n",
    ")\n",
    "data_loader.save('../stock_env/datasets/sp500_data_loader.pkl')"
   ]
  },
  {
   "cell_type": "code",
   "execution_count": 2,
   "metadata": {},
   "outputs": [
    {
     "data": {
      "text/plain": [
       "(7508, 13)"
      ]
     },
     "execution_count": 2,
     "metadata": {},
     "output_type": "execute_result"
    }
   ],
   "source": [
    "sp500 = gym.make('SP500-v0')\n",
    "_ = sp500.reset()\n",
    "sp500.data_loader.stack_features.loc['AOS'].shape"
   ]
  },
  {
   "cell_type": "code",
   "execution_count": 11,
   "metadata": {},
   "outputs": [
    {
     "data": {
      "text/html": [
       "<div>\n",
       "<style scoped>\n",
       "    .dataframe tbody tr th:only-of-type {\n",
       "        vertical-align: middle;\n",
       "    }\n",
       "\n",
       "    .dataframe tbody tr th {\n",
       "        vertical-align: top;\n",
       "    }\n",
       "\n",
       "    .dataframe thead th {\n",
       "        text-align: right;\n",
       "    }\n",
       "</style>\n",
       "<table border=\"1\" class=\"dataframe\">\n",
       "  <thead>\n",
       "    <tr style=\"text-align: right;\">\n",
       "      <th></th>\n",
       "      <th>time</th>\n",
       "      <th>open</th>\n",
       "      <th>high</th>\n",
       "      <th>low</th>\n",
       "      <th>close</th>\n",
       "      <th>volume</th>\n",
       "    </tr>\n",
       "  </thead>\n",
       "  <tbody>\n",
       "    <tr>\n",
       "      <th>49</th>\n",
       "      <td>2007-03-05</td>\n",
       "      <td>12.496574</td>\n",
       "      <td>12.827231</td>\n",
       "      <td>12.485172</td>\n",
       "      <td>12.684707</td>\n",
       "      <td>261600.0</td>\n",
       "    </tr>\n",
       "    <tr>\n",
       "      <th>50</th>\n",
       "      <td>2007-03-06</td>\n",
       "      <td>12.599192</td>\n",
       "      <td>12.770222</td>\n",
       "      <td>12.433863</td>\n",
       "      <td>12.485172</td>\n",
       "      <td>302400.0</td>\n",
       "    </tr>\n",
       "    <tr>\n",
       "      <th>51</th>\n",
       "      <td>2007-03-07</td>\n",
       "      <td>12.382554</td>\n",
       "      <td>12.713212</td>\n",
       "      <td>11.972083</td>\n",
       "      <td>12.086102</td>\n",
       "      <td>293000.0</td>\n",
       "    </tr>\n",
       "    <tr>\n",
       "      <th>52</th>\n",
       "      <td>2007-03-08</td>\n",
       "      <td>12.382554</td>\n",
       "      <td>13.619669</td>\n",
       "      <td>12.086102</td>\n",
       "      <td>12.428162</td>\n",
       "      <td>234500.0</td>\n",
       "    </tr>\n",
       "    <tr>\n",
       "      <th>53</th>\n",
       "      <td>2007-03-09</td>\n",
       "      <td>12.428162</td>\n",
       "      <td>12.821530</td>\n",
       "      <td>12.428162</td>\n",
       "      <td>12.428162</td>\n",
       "      <td>302400.0</td>\n",
       "    </tr>\n",
       "    <tr>\n",
       "      <th>...</th>\n",
       "      <td>...</td>\n",
       "      <td>...</td>\n",
       "      <td>...</td>\n",
       "      <td>...</td>\n",
       "      <td>...</td>\n",
       "      <td>...</td>\n",
       "    </tr>\n",
       "    <tr>\n",
       "      <th>3887</th>\n",
       "      <td>2022-08-10</td>\n",
       "      <td>24.549999</td>\n",
       "      <td>25.000000</td>\n",
       "      <td>24.450001</td>\n",
       "      <td>24.549999</td>\n",
       "      <td>14584500.0</td>\n",
       "    </tr>\n",
       "    <tr>\n",
       "      <th>3888</th>\n",
       "      <td>2022-08-11</td>\n",
       "      <td>24.850000</td>\n",
       "      <td>25.200001</td>\n",
       "      <td>23.799999</td>\n",
       "      <td>24.400000</td>\n",
       "      <td>28045800.0</td>\n",
       "    </tr>\n",
       "    <tr>\n",
       "      <th>3889</th>\n",
       "      <td>2022-08-12</td>\n",
       "      <td>24.350000</td>\n",
       "      <td>24.900000</td>\n",
       "      <td>24.049999</td>\n",
       "      <td>24.900000</td>\n",
       "      <td>17178600.0</td>\n",
       "    </tr>\n",
       "    <tr>\n",
       "      <th>3890</th>\n",
       "      <td>2022-08-15</td>\n",
       "      <td>25.150000</td>\n",
       "      <td>25.299999</td>\n",
       "      <td>24.600000</td>\n",
       "      <td>24.750000</td>\n",
       "      <td>14575600.0</td>\n",
       "    </tr>\n",
       "    <tr>\n",
       "      <th>3891</th>\n",
       "      <td>2022-08-16</td>\n",
       "      <td>24.750000</td>\n",
       "      <td>25.000000</td>\n",
       "      <td>24.450001</td>\n",
       "      <td>24.600000</td>\n",
       "      <td>11764700.0</td>\n",
       "    </tr>\n",
       "  </tbody>\n",
       "</table>\n",
       "<p>3843 rows × 6 columns</p>\n",
       "</div>"
      ],
      "text/plain": [
       "           time       open       high        low      close      volume\n",
       "49   2007-03-05  12.496574  12.827231  12.485172  12.684707    261600.0\n",
       "50   2007-03-06  12.599192  12.770222  12.433863  12.485172    302400.0\n",
       "51   2007-03-07  12.382554  12.713212  11.972083  12.086102    293000.0\n",
       "52   2007-03-08  12.382554  13.619669  12.086102  12.428162    234500.0\n",
       "53   2007-03-09  12.428162  12.821530  12.428162  12.428162    302400.0\n",
       "...         ...        ...        ...        ...        ...         ...\n",
       "3887 2022-08-10  24.549999  25.000000  24.450001  24.549999  14584500.0\n",
       "3888 2022-08-11  24.850000  25.200001  23.799999  24.400000  28045800.0\n",
       "3889 2022-08-12  24.350000  24.900000  24.049999  24.900000  17178600.0\n",
       "3890 2022-08-15  25.150000  25.299999  24.600000  24.750000  14575600.0\n",
       "3891 2022-08-16  24.750000  25.000000  24.450001  24.600000  11764700.0\n",
       "\n",
       "[3843 rows x 6 columns]"
      ]
     },
     "execution_count": 11,
     "metadata": {},
     "output_type": "execute_result"
    }
   ],
   "source": [
    "finservice = gym.make('FinService-v0')\n",
    "_ = finservice.reset()\n",
    "finservice.data_loader.stack_ohlcv.loc['SSI']"
   ]
  }
 ],
 "metadata": {
  "kernelspec": {
   "display_name": "Python 3.8.13 ('tradingenv')",
   "language": "python",
   "name": "python3"
  },
  "language_info": {
   "codemirror_mode": {
    "name": "ipython",
    "version": 3
   },
   "file_extension": ".py",
   "mimetype": "text/x-python",
   "name": "python",
   "nbconvert_exporter": "python",
   "pygments_lexer": "ipython3",
   "version": "3.8.13"
  },
  "orig_nbformat": 4,
  "vscode": {
   "interpreter": {
    "hash": "faa7f68368d9c9f740356072b5cc858737f0635c1c0b552678cb52f36bb31777"
   }
  }
 },
 "nbformat": 4,
 "nbformat_minor": 2
}
