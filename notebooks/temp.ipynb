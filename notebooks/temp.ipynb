{
 "cells": [
  {
   "cell_type": "code",
   "execution_count": 1,
   "metadata": {},
   "outputs": [],
   "source": [
    "from stock_env.algos.agent import Agent\n",
    "from stock_env.envs import *\n",
    "from stock_env.common.common_utils import open_config\n",
    "from stock_env.common.env_utils import make_vec_env\n",
    "import torch as th\n",
    "from stock_env.common.common_utils import create_performance, plot_trade_log_v2\n",
    "from stock_env.common.evaluation import play_an_episode, evaluate_agent\n",
    "from stock_env.common.common_utils import open_config\n",
    "import seaborn as sns\n",
    "sns.set()\n",
    "import plotly.graph_objects as go\n",
    "import os\n",
    "from empyrical import (\n",
    "    sharpe_ratio,\n",
    "    max_drawdown,\n",
    ")"
   ]
  },
  {
   "cell_type": "code",
   "execution_count": 2,
   "metadata": {},
   "outputs": [
    {
     "data": {
      "text/html": [
       "<div>\n",
       "<style scoped>\n",
       "    .dataframe tbody tr th:only-of-type {\n",
       "        vertical-align: middle;\n",
       "    }\n",
       "\n",
       "    .dataframe tbody tr th {\n",
       "        vertical-align: top;\n",
       "    }\n",
       "\n",
       "    .dataframe thead th {\n",
       "        text-align: right;\n",
       "    }\n",
       "</style>\n",
       "<table border=\"1\" class=\"dataframe\">\n",
       "  <thead>\n",
       "    <tr style=\"text-align: right;\">\n",
       "      <th></th>\n",
       "      <th>Ticker</th>\n",
       "      <th>Algorithm</th>\n",
       "      <th>Ith</th>\n",
       "      <th>Sharpe</th>\n",
       "      <th>MaxDD</th>\n",
       "    </tr>\n",
       "  </thead>\n",
       "  <tbody>\n",
       "    <tr>\n",
       "      <th>0</th>\n",
       "      <td>ACB</td>\n",
       "      <td>PPO</td>\n",
       "      <td>0</td>\n",
       "      <td>0.564580</td>\n",
       "      <td>6.123434</td>\n",
       "    </tr>\n",
       "    <tr>\n",
       "      <th>1</th>\n",
       "      <td>ACB</td>\n",
       "      <td>PPO</td>\n",
       "      <td>1</td>\n",
       "      <td>0.807212</td>\n",
       "      <td>18.443911</td>\n",
       "    </tr>\n",
       "    <tr>\n",
       "      <th>2</th>\n",
       "      <td>ACB</td>\n",
       "      <td>PPO</td>\n",
       "      <td>2</td>\n",
       "      <td>-0.629023</td>\n",
       "      <td>21.948539</td>\n",
       "    </tr>\n",
       "    <tr>\n",
       "      <th>3</th>\n",
       "      <td>ACB</td>\n",
       "      <td>PPO</td>\n",
       "      <td>3</td>\n",
       "      <td>0.564580</td>\n",
       "      <td>6.123434</td>\n",
       "    </tr>\n",
       "    <tr>\n",
       "      <th>4</th>\n",
       "      <td>ACB</td>\n",
       "      <td>PPO</td>\n",
       "      <td>4</td>\n",
       "      <td>0.564580</td>\n",
       "      <td>6.123434</td>\n",
       "    </tr>\n",
       "    <tr>\n",
       "      <th>...</th>\n",
       "      <td>...</td>\n",
       "      <td>...</td>\n",
       "      <td>...</td>\n",
       "      <td>...</td>\n",
       "      <td>...</td>\n",
       "    </tr>\n",
       "    <tr>\n",
       "      <th>828</th>\n",
       "      <td>VRE</td>\n",
       "      <td>Buy-n-Hold</td>\n",
       "      <td>5</td>\n",
       "      <td>-0.210338</td>\n",
       "      <td>25.628141</td>\n",
       "    </tr>\n",
       "    <tr>\n",
       "      <th>829</th>\n",
       "      <td>VRE</td>\n",
       "      <td>Buy-n-Hold</td>\n",
       "      <td>6</td>\n",
       "      <td>0.133817</td>\n",
       "      <td>29.722222</td>\n",
       "    </tr>\n",
       "    <tr>\n",
       "      <th>830</th>\n",
       "      <td>VRE</td>\n",
       "      <td>Buy-n-Hold</td>\n",
       "      <td>7</td>\n",
       "      <td>0.133817</td>\n",
       "      <td>29.722222</td>\n",
       "    </tr>\n",
       "    <tr>\n",
       "      <th>831</th>\n",
       "      <td>VRE</td>\n",
       "      <td>Buy-n-Hold</td>\n",
       "      <td>8</td>\n",
       "      <td>-0.210338</td>\n",
       "      <td>25.628141</td>\n",
       "    </tr>\n",
       "    <tr>\n",
       "      <th>832</th>\n",
       "      <td>VRE</td>\n",
       "      <td>Buy-n-Hold</td>\n",
       "      <td>9</td>\n",
       "      <td>-0.210338</td>\n",
       "      <td>25.628141</td>\n",
       "    </tr>\n",
       "  </tbody>\n",
       "</table>\n",
       "<p>833 rows × 5 columns</p>\n",
       "</div>"
      ],
      "text/plain": [
       "    Ticker   Algorithm  Ith    Sharpe      MaxDD\n",
       "0      ACB         PPO    0  0.564580   6.123434\n",
       "1      ACB         PPO    1  0.807212  18.443911\n",
       "2      ACB         PPO    2 -0.629023  21.948539\n",
       "3      ACB         PPO    3  0.564580   6.123434\n",
       "4      ACB         PPO    4  0.564580   6.123434\n",
       "..     ...         ...  ...       ...        ...\n",
       "828    VRE  Buy-n-Hold    5 -0.210338  25.628141\n",
       "829    VRE  Buy-n-Hold    6  0.133817  29.722222\n",
       "830    VRE  Buy-n-Hold    7  0.133817  29.722222\n",
       "831    VRE  Buy-n-Hold    8 -0.210338  25.628141\n",
       "832    VRE  Buy-n-Hold    9 -0.210338  25.628141\n",
       "\n",
       "[833 rows x 5 columns]"
      ]
     },
     "execution_count": 2,
     "metadata": {},
     "output_type": "execute_result"
    }
   ],
   "source": [
    "data = pd.read_csv('../temp/eval_df.csv')\n",
    "data"
   ]
  },
  {
   "cell_type": "code",
   "execution_count": 18,
   "metadata": {},
   "outputs": [],
   "source": [
    "grouped_data = data.groupby(['Algorithm', 'Ticker']).agg(['mean', 'std'])"
   ]
  },
  {
   "cell_type": "code",
   "execution_count": 19,
   "metadata": {},
   "outputs": [
    {
     "data": {
      "text/html": [
       "<div>\n",
       "<style scoped>\n",
       "    .dataframe tbody tr th:only-of-type {\n",
       "        vertical-align: middle;\n",
       "    }\n",
       "\n",
       "    .dataframe tbody tr th {\n",
       "        vertical-align: top;\n",
       "    }\n",
       "\n",
       "    .dataframe thead tr th {\n",
       "        text-align: left;\n",
       "    }\n",
       "\n",
       "    .dataframe thead tr:last-of-type th {\n",
       "        text-align: right;\n",
       "    }\n",
       "</style>\n",
       "<table border=\"1\" class=\"dataframe\">\n",
       "  <thead>\n",
       "    <tr>\n",
       "      <th></th>\n",
       "      <th colspan=\"2\" halign=\"left\">Ith</th>\n",
       "      <th colspan=\"2\" halign=\"left\">Sharpe</th>\n",
       "      <th colspan=\"2\" halign=\"left\">MaxDD</th>\n",
       "    </tr>\n",
       "    <tr>\n",
       "      <th></th>\n",
       "      <th>mean</th>\n",
       "      <th>std</th>\n",
       "      <th>mean</th>\n",
       "      <th>std</th>\n",
       "      <th>mean</th>\n",
       "      <th>std</th>\n",
       "    </tr>\n",
       "    <tr>\n",
       "      <th>Ticker</th>\n",
       "      <th></th>\n",
       "      <th></th>\n",
       "      <th></th>\n",
       "      <th></th>\n",
       "      <th></th>\n",
       "      <th></th>\n",
       "    </tr>\n",
       "  </thead>\n",
       "  <tbody>\n",
       "    <tr>\n",
       "      <th>ACB</th>\n",
       "      <td>4.5</td>\n",
       "      <td>3.027650</td>\n",
       "      <td>0.275367</td>\n",
       "      <td>0.640786</td>\n",
       "      <td>11.859249</td>\n",
       "      <td>8.028023</td>\n",
       "    </tr>\n",
       "    <tr>\n",
       "      <th>BID</th>\n",
       "      <td>4.5</td>\n",
       "      <td>3.027650</td>\n",
       "      <td>0.191920</td>\n",
       "      <td>0.453278</td>\n",
       "      <td>14.327632</td>\n",
       "      <td>9.388245</td>\n",
       "    </tr>\n",
       "    <tr>\n",
       "      <th>BVH</th>\n",
       "      <td>4.5</td>\n",
       "      <td>3.027650</td>\n",
       "      <td>-0.220797</td>\n",
       "      <td>0.651305</td>\n",
       "      <td>19.385031</td>\n",
       "      <td>10.584035</td>\n",
       "    </tr>\n",
       "    <tr>\n",
       "      <th>CTG</th>\n",
       "      <td>4.5</td>\n",
       "      <td>3.027650</td>\n",
       "      <td>0.727407</td>\n",
       "      <td>1.212601</td>\n",
       "      <td>18.796757</td>\n",
       "      <td>8.759495</td>\n",
       "    </tr>\n",
       "    <tr>\n",
       "      <th>FPT</th>\n",
       "      <td>4.5</td>\n",
       "      <td>3.027650</td>\n",
       "      <td>2.273633</td>\n",
       "      <td>1.791374</td>\n",
       "      <td>7.854680</td>\n",
       "      <td>5.437763</td>\n",
       "    </tr>\n",
       "    <tr>\n",
       "      <th>GAS</th>\n",
       "      <td>4.5</td>\n",
       "      <td>3.027650</td>\n",
       "      <td>0.282979</td>\n",
       "      <td>1.321071</td>\n",
       "      <td>10.967541</td>\n",
       "      <td>3.068143</td>\n",
       "    </tr>\n",
       "    <tr>\n",
       "      <th>GVR</th>\n",
       "      <td>4.5</td>\n",
       "      <td>3.027650</td>\n",
       "      <td>-0.772467</td>\n",
       "      <td>0.804391</td>\n",
       "      <td>35.117003</td>\n",
       "      <td>16.257585</td>\n",
       "    </tr>\n",
       "    <tr>\n",
       "      <th>HDB</th>\n",
       "      <td>4.5</td>\n",
       "      <td>3.027650</td>\n",
       "      <td>0.538715</td>\n",
       "      <td>1.416380</td>\n",
       "      <td>16.460892</td>\n",
       "      <td>9.689446</td>\n",
       "    </tr>\n",
       "    <tr>\n",
       "      <th>HPG</th>\n",
       "      <td>4.5</td>\n",
       "      <td>3.027650</td>\n",
       "      <td>0.621644</td>\n",
       "      <td>2.143168</td>\n",
       "      <td>18.227158</td>\n",
       "      <td>10.693408</td>\n",
       "    </tr>\n",
       "    <tr>\n",
       "      <th>MBB</th>\n",
       "      <td>4.5</td>\n",
       "      <td>3.027650</td>\n",
       "      <td>1.282317</td>\n",
       "      <td>1.231667</td>\n",
       "      <td>12.292633</td>\n",
       "      <td>7.159909</td>\n",
       "    </tr>\n",
       "    <tr>\n",
       "      <th>MSN</th>\n",
       "      <td>4.5</td>\n",
       "      <td>3.027650</td>\n",
       "      <td>0.475949</td>\n",
       "      <td>0.668627</td>\n",
       "      <td>13.373581</td>\n",
       "      <td>7.580643</td>\n",
       "    </tr>\n",
       "    <tr>\n",
       "      <th>MWG</th>\n",
       "      <td>4.5</td>\n",
       "      <td>3.027650</td>\n",
       "      <td>0.524438</td>\n",
       "      <td>0.829042</td>\n",
       "      <td>18.860449</td>\n",
       "      <td>12.211599</td>\n",
       "    </tr>\n",
       "    <tr>\n",
       "      <th>NVL</th>\n",
       "      <td>4.5</td>\n",
       "      <td>3.027650</td>\n",
       "      <td>-3.329864</td>\n",
       "      <td>6.129364</td>\n",
       "      <td>22.000399</td>\n",
       "      <td>21.049095</td>\n",
       "    </tr>\n",
       "    <tr>\n",
       "      <th>PDR</th>\n",
       "      <td>4.5</td>\n",
       "      <td>3.027650</td>\n",
       "      <td>-0.310534</td>\n",
       "      <td>3.228365</td>\n",
       "      <td>16.585701</td>\n",
       "      <td>12.790850</td>\n",
       "    </tr>\n",
       "    <tr>\n",
       "      <th>PLX</th>\n",
       "      <td>4.5</td>\n",
       "      <td>3.027650</td>\n",
       "      <td>-0.521686</td>\n",
       "      <td>1.290814</td>\n",
       "      <td>21.734539</td>\n",
       "      <td>14.788530</td>\n",
       "    </tr>\n",
       "    <tr>\n",
       "      <th>POW</th>\n",
       "      <td>4.5</td>\n",
       "      <td>3.027650</td>\n",
       "      <td>-0.379879</td>\n",
       "      <td>0.915236</td>\n",
       "      <td>24.450925</td>\n",
       "      <td>6.065430</td>\n",
       "    </tr>\n",
       "    <tr>\n",
       "      <th>SAB</th>\n",
       "      <td>4.5</td>\n",
       "      <td>3.027650</td>\n",
       "      <td>-0.423409</td>\n",
       "      <td>0.622613</td>\n",
       "      <td>18.426208</td>\n",
       "      <td>14.048097</td>\n",
       "    </tr>\n",
       "    <tr>\n",
       "      <th>SSI</th>\n",
       "      <td>4.5</td>\n",
       "      <td>3.027650</td>\n",
       "      <td>1.118231</td>\n",
       "      <td>1.833018</td>\n",
       "      <td>19.953630</td>\n",
       "      <td>12.486728</td>\n",
       "    </tr>\n",
       "    <tr>\n",
       "      <th>STB</th>\n",
       "      <td>4.5</td>\n",
       "      <td>3.027650</td>\n",
       "      <td>2.306110</td>\n",
       "      <td>2.513604</td>\n",
       "      <td>13.004394</td>\n",
       "      <td>8.348449</td>\n",
       "    </tr>\n",
       "    <tr>\n",
       "      <th>TCB</th>\n",
       "      <td>4.5</td>\n",
       "      <td>3.027650</td>\n",
       "      <td>-0.293891</td>\n",
       "      <td>1.265082</td>\n",
       "      <td>20.183234</td>\n",
       "      <td>13.597723</td>\n",
       "    </tr>\n",
       "    <tr>\n",
       "      <th>TPB</th>\n",
       "      <td>4.5</td>\n",
       "      <td>3.027650</td>\n",
       "      <td>-0.014748</td>\n",
       "      <td>1.919723</td>\n",
       "      <td>21.626046</td>\n",
       "      <td>11.750550</td>\n",
       "    </tr>\n",
       "    <tr>\n",
       "      <th>VCB</th>\n",
       "      <td>4.5</td>\n",
       "      <td>3.027650</td>\n",
       "      <td>0.977247</td>\n",
       "      <td>0.917442</td>\n",
       "      <td>10.694709</td>\n",
       "      <td>6.382330</td>\n",
       "    </tr>\n",
       "    <tr>\n",
       "      <th>VHM</th>\n",
       "      <td>4.5</td>\n",
       "      <td>3.027650</td>\n",
       "      <td>-1.052880</td>\n",
       "      <td>0.579812</td>\n",
       "      <td>21.330232</td>\n",
       "      <td>6.094631</td>\n",
       "    </tr>\n",
       "    <tr>\n",
       "      <th>VIB</th>\n",
       "      <td>4.5</td>\n",
       "      <td>3.027650</td>\n",
       "      <td>0.812229</td>\n",
       "      <td>0.843024</td>\n",
       "      <td>14.489963</td>\n",
       "      <td>8.185076</td>\n",
       "    </tr>\n",
       "    <tr>\n",
       "      <th>VIC</th>\n",
       "      <td>4.5</td>\n",
       "      <td>3.027650</td>\n",
       "      <td>-0.498950</td>\n",
       "      <td>0.875012</td>\n",
       "      <td>19.036607</td>\n",
       "      <td>7.597496</td>\n",
       "    </tr>\n",
       "    <tr>\n",
       "      <th>VJC</th>\n",
       "      <td>5.0</td>\n",
       "      <td>3.391165</td>\n",
       "      <td>-0.605536</td>\n",
       "      <td>0.399337</td>\n",
       "      <td>14.257307</td>\n",
       "      <td>2.270235</td>\n",
       "    </tr>\n",
       "    <tr>\n",
       "      <th>VNM</th>\n",
       "      <td>4.5</td>\n",
       "      <td>3.027650</td>\n",
       "      <td>-0.009319</td>\n",
       "      <td>0.466351</td>\n",
       "      <td>11.539464</td>\n",
       "      <td>5.152662</td>\n",
       "    </tr>\n",
       "    <tr>\n",
       "      <th>VPB</th>\n",
       "      <td>4.5</td>\n",
       "      <td>3.027650</td>\n",
       "      <td>0.055972</td>\n",
       "      <td>1.048284</td>\n",
       "      <td>16.680517</td>\n",
       "      <td>2.117328</td>\n",
       "    </tr>\n",
       "    <tr>\n",
       "      <th>VRE</th>\n",
       "      <td>4.5</td>\n",
       "      <td>3.027650</td>\n",
       "      <td>-0.237591</td>\n",
       "      <td>0.233615</td>\n",
       "      <td>14.843833</td>\n",
       "      <td>1.187416</td>\n",
       "    </tr>\n",
       "  </tbody>\n",
       "</table>\n",
       "</div>"
      ],
      "text/plain": [
       "        Ith              Sharpe                MaxDD           \n",
       "       mean       std      mean       std       mean        std\n",
       "Ticker                                                         \n",
       "ACB     4.5  3.027650  0.275367  0.640786  11.859249   8.028023\n",
       "BID     4.5  3.027650  0.191920  0.453278  14.327632   9.388245\n",
       "BVH     4.5  3.027650 -0.220797  0.651305  19.385031  10.584035\n",
       "CTG     4.5  3.027650  0.727407  1.212601  18.796757   8.759495\n",
       "FPT     4.5  3.027650  2.273633  1.791374   7.854680   5.437763\n",
       "GAS     4.5  3.027650  0.282979  1.321071  10.967541   3.068143\n",
       "GVR     4.5  3.027650 -0.772467  0.804391  35.117003  16.257585\n",
       "HDB     4.5  3.027650  0.538715  1.416380  16.460892   9.689446\n",
       "HPG     4.5  3.027650  0.621644  2.143168  18.227158  10.693408\n",
       "MBB     4.5  3.027650  1.282317  1.231667  12.292633   7.159909\n",
       "MSN     4.5  3.027650  0.475949  0.668627  13.373581   7.580643\n",
       "MWG     4.5  3.027650  0.524438  0.829042  18.860449  12.211599\n",
       "NVL     4.5  3.027650 -3.329864  6.129364  22.000399  21.049095\n",
       "PDR     4.5  3.027650 -0.310534  3.228365  16.585701  12.790850\n",
       "PLX     4.5  3.027650 -0.521686  1.290814  21.734539  14.788530\n",
       "POW     4.5  3.027650 -0.379879  0.915236  24.450925   6.065430\n",
       "SAB     4.5  3.027650 -0.423409  0.622613  18.426208  14.048097\n",
       "SSI     4.5  3.027650  1.118231  1.833018  19.953630  12.486728\n",
       "STB     4.5  3.027650  2.306110  2.513604  13.004394   8.348449\n",
       "TCB     4.5  3.027650 -0.293891  1.265082  20.183234  13.597723\n",
       "TPB     4.5  3.027650 -0.014748  1.919723  21.626046  11.750550\n",
       "VCB     4.5  3.027650  0.977247  0.917442  10.694709   6.382330\n",
       "VHM     4.5  3.027650 -1.052880  0.579812  21.330232   6.094631\n",
       "VIB     4.5  3.027650  0.812229  0.843024  14.489963   8.185076\n",
       "VIC     4.5  3.027650 -0.498950  0.875012  19.036607   7.597496\n",
       "VJC     5.0  3.391165 -0.605536  0.399337  14.257307   2.270235\n",
       "VNM     4.5  3.027650 -0.009319  0.466351  11.539464   5.152662\n",
       "VPB     4.5  3.027650  0.055972  1.048284  16.680517   2.117328\n",
       "VRE     4.5  3.027650 -0.237591  0.233615  14.843833   1.187416"
      ]
     },
     "execution_count": 19,
     "metadata": {},
     "output_type": "execute_result"
    }
   ],
   "source": [
    "grouped_data.loc['PPO']"
   ]
  },
  {
   "cell_type": "code",
   "execution_count": 25,
   "metadata": {},
   "outputs": [
    {
     "data": {
      "application/vnd.plotly.v1+json": {
       "config": {
        "plotlyServerURL": "https://plot.ly"
       },
       "data": [
        {
         "name": "PPO",
         "type": "bar",
         "x": [
          "ACB",
          "BID",
          "BVH",
          "CTG",
          "FPT",
          "GAS",
          "GVR",
          "HDB",
          "HPG",
          "MBB",
          "MSN",
          "MWG",
          "NVL",
          "PDR",
          "PLX",
          "POW",
          "SAB",
          "SSI",
          "STB",
          "TCB",
          "TPB",
          "VCB",
          "VHM",
          "VIB",
          "VIC",
          "VJC",
          "VNM",
          "VPB",
          "VRE"
         ],
         "y": [
          0.27536733747658426,
          0.1919202265865303,
          -0.22079653208988798,
          0.7274068773402333,
          2.2736333251535,
          0.28297860326982627,
          -0.7724666335671215,
          0.5387145394316364,
          0.6216444796866404,
          1.2823172171408577,
          0.47594876943387654,
          0.5244382356960109,
          -3.32986447506914,
          -0.31053395786691784,
          -0.5216856742865504,
          -0.37987850961437036,
          -0.42340883370471827,
          1.1182314588648155,
          2.3061100065060063,
          -0.29389135349595097,
          -0.014747896351475998,
          0.9772468342652406,
          -1.0528795968535185,
          0.8122288242101676,
          -0.49895021040676235,
          -0.6055364209046352,
          -0.009319428780663441,
          0.055972364585198366,
          -0.23759149223282683
         ]
        },
        {
         "name": "PPO_adapt",
         "type": "bar",
         "x": [
          "ACB",
          "BID",
          "BVH",
          "CTG",
          "FPT",
          "GAS",
          "GVR",
          "HDB",
          "HPG",
          "MBB",
          "MSN",
          "MWG",
          "NVL",
          "PDR",
          "PLX",
          "POW",
          "SAB",
          "SSI",
          "STB",
          "TCB",
          "TPB",
          "VCB",
          "VHM",
          "VIB",
          "VIC",
          "VNM",
          "VPB",
          "VRE"
         ],
         "y": [
          0.5669447829747774,
          -0.3081715467676312,
          0.07536492464828408,
          0.6416307926228054,
          1.1493319710368002,
          -0.17825248132304924,
          -0.7874552195849553,
          0.7639936632953617,
          0.5484885872073809,
          1.034178483178205,
          1.7208738249057636,
          0.857509176797624,
          -6.12779205687923,
          -0.2780691165128438,
          0.2999895197701367,
          -0.16473439634325504,
          -0.4185332143264838,
          1.048685762809008,
          1.1366104916896174,
          -1.404190389992764,
          -0.5500816784871186,
          0.22360325081580065,
          0.1421267035943025,
          1.010674179000367,
          -0.4483557239559516,
          0.9790029315716816,
          1.3254518606233867,
          -0.07453941255210292
         ]
        },
        {
         "name": "Buy-n-Hold",
         "type": "bar",
         "x": [
          "ACB",
          "BID",
          "BVH",
          "CTG",
          "FPT",
          "GAS",
          "GVR",
          "HDB",
          "HPG",
          "MBB",
          "MSN",
          "MWG",
          "NVL",
          "PDR",
          "PLX",
          "POW",
          "SAB",
          "SSI",
          "STB",
          "TCB",
          "TPB",
          "VCB",
          "VHM",
          "VIB",
          "VIC",
          "VJC",
          "VNM",
          "VPB",
          "VRE"
         ],
         "y": [
          0.35486412106669424,
          0.27569926599162675,
          -0.12484299598184431,
          0.8476742463448523,
          2.3310773839818895,
          0.34786576286237747,
          -0.6159176561416511,
          0.6650202333829854,
          0.7350632868773624,
          1.3843641587170665,
          0.5490003124654838,
          0.5807701090333794,
          -3.2905010748642836,
          -0.21918753233308527,
          -0.33277498150318235,
          -0.20374424596671759,
          -0.4566026496062282,
          1.274256521023166,
          2.4697803802856955,
          -0.19381484415161826,
          0.10950483170101011,
          1.0218173884295318,
          -0.977513247066031,
          0.97239903277531,
          -0.45333041018522413,
          -0.3656382822151928,
          0.020004229946460273,
          0.19911895468247282,
          -0.0780192451234406
         ]
        }
       ],
       "layout": {
        "height": 500,
        "template": {
         "data": {
          "bar": [
           {
            "error_x": {
             "color": "#2a3f5f"
            },
            "error_y": {
             "color": "#2a3f5f"
            },
            "marker": {
             "line": {
              "color": "#E5ECF6",
              "width": 0.5
             },
             "pattern": {
              "fillmode": "overlay",
              "size": 10,
              "solidity": 0.2
             }
            },
            "type": "bar"
           }
          ],
          "barpolar": [
           {
            "marker": {
             "line": {
              "color": "#E5ECF6",
              "width": 0.5
             },
             "pattern": {
              "fillmode": "overlay",
              "size": 10,
              "solidity": 0.2
             }
            },
            "type": "barpolar"
           }
          ],
          "carpet": [
           {
            "aaxis": {
             "endlinecolor": "#2a3f5f",
             "gridcolor": "white",
             "linecolor": "white",
             "minorgridcolor": "white",
             "startlinecolor": "#2a3f5f"
            },
            "baxis": {
             "endlinecolor": "#2a3f5f",
             "gridcolor": "white",
             "linecolor": "white",
             "minorgridcolor": "white",
             "startlinecolor": "#2a3f5f"
            },
            "type": "carpet"
           }
          ],
          "choropleth": [
           {
            "colorbar": {
             "outlinewidth": 0,
             "ticks": ""
            },
            "type": "choropleth"
           }
          ],
          "contour": [
           {
            "colorbar": {
             "outlinewidth": 0,
             "ticks": ""
            },
            "colorscale": [
             [
              0,
              "#0d0887"
             ],
             [
              0.1111111111111111,
              "#46039f"
             ],
             [
              0.2222222222222222,
              "#7201a8"
             ],
             [
              0.3333333333333333,
              "#9c179e"
             ],
             [
              0.4444444444444444,
              "#bd3786"
             ],
             [
              0.5555555555555556,
              "#d8576b"
             ],
             [
              0.6666666666666666,
              "#ed7953"
             ],
             [
              0.7777777777777778,
              "#fb9f3a"
             ],
             [
              0.8888888888888888,
              "#fdca26"
             ],
             [
              1,
              "#f0f921"
             ]
            ],
            "type": "contour"
           }
          ],
          "contourcarpet": [
           {
            "colorbar": {
             "outlinewidth": 0,
             "ticks": ""
            },
            "type": "contourcarpet"
           }
          ],
          "heatmap": [
           {
            "colorbar": {
             "outlinewidth": 0,
             "ticks": ""
            },
            "colorscale": [
             [
              0,
              "#0d0887"
             ],
             [
              0.1111111111111111,
              "#46039f"
             ],
             [
              0.2222222222222222,
              "#7201a8"
             ],
             [
              0.3333333333333333,
              "#9c179e"
             ],
             [
              0.4444444444444444,
              "#bd3786"
             ],
             [
              0.5555555555555556,
              "#d8576b"
             ],
             [
              0.6666666666666666,
              "#ed7953"
             ],
             [
              0.7777777777777778,
              "#fb9f3a"
             ],
             [
              0.8888888888888888,
              "#fdca26"
             ],
             [
              1,
              "#f0f921"
             ]
            ],
            "type": "heatmap"
           }
          ],
          "heatmapgl": [
           {
            "colorbar": {
             "outlinewidth": 0,
             "ticks": ""
            },
            "colorscale": [
             [
              0,
              "#0d0887"
             ],
             [
              0.1111111111111111,
              "#46039f"
             ],
             [
              0.2222222222222222,
              "#7201a8"
             ],
             [
              0.3333333333333333,
              "#9c179e"
             ],
             [
              0.4444444444444444,
              "#bd3786"
             ],
             [
              0.5555555555555556,
              "#d8576b"
             ],
             [
              0.6666666666666666,
              "#ed7953"
             ],
             [
              0.7777777777777778,
              "#fb9f3a"
             ],
             [
              0.8888888888888888,
              "#fdca26"
             ],
             [
              1,
              "#f0f921"
             ]
            ],
            "type": "heatmapgl"
           }
          ],
          "histogram": [
           {
            "marker": {
             "pattern": {
              "fillmode": "overlay",
              "size": 10,
              "solidity": 0.2
             }
            },
            "type": "histogram"
           }
          ],
          "histogram2d": [
           {
            "colorbar": {
             "outlinewidth": 0,
             "ticks": ""
            },
            "colorscale": [
             [
              0,
              "#0d0887"
             ],
             [
              0.1111111111111111,
              "#46039f"
             ],
             [
              0.2222222222222222,
              "#7201a8"
             ],
             [
              0.3333333333333333,
              "#9c179e"
             ],
             [
              0.4444444444444444,
              "#bd3786"
             ],
             [
              0.5555555555555556,
              "#d8576b"
             ],
             [
              0.6666666666666666,
              "#ed7953"
             ],
             [
              0.7777777777777778,
              "#fb9f3a"
             ],
             [
              0.8888888888888888,
              "#fdca26"
             ],
             [
              1,
              "#f0f921"
             ]
            ],
            "type": "histogram2d"
           }
          ],
          "histogram2dcontour": [
           {
            "colorbar": {
             "outlinewidth": 0,
             "ticks": ""
            },
            "colorscale": [
             [
              0,
              "#0d0887"
             ],
             [
              0.1111111111111111,
              "#46039f"
             ],
             [
              0.2222222222222222,
              "#7201a8"
             ],
             [
              0.3333333333333333,
              "#9c179e"
             ],
             [
              0.4444444444444444,
              "#bd3786"
             ],
             [
              0.5555555555555556,
              "#d8576b"
             ],
             [
              0.6666666666666666,
              "#ed7953"
             ],
             [
              0.7777777777777778,
              "#fb9f3a"
             ],
             [
              0.8888888888888888,
              "#fdca26"
             ],
             [
              1,
              "#f0f921"
             ]
            ],
            "type": "histogram2dcontour"
           }
          ],
          "mesh3d": [
           {
            "colorbar": {
             "outlinewidth": 0,
             "ticks": ""
            },
            "type": "mesh3d"
           }
          ],
          "parcoords": [
           {
            "line": {
             "colorbar": {
              "outlinewidth": 0,
              "ticks": ""
             }
            },
            "type": "parcoords"
           }
          ],
          "pie": [
           {
            "automargin": true,
            "type": "pie"
           }
          ],
          "scatter": [
           {
            "fillpattern": {
             "fillmode": "overlay",
             "size": 10,
             "solidity": 0.2
            },
            "type": "scatter"
           }
          ],
          "scatter3d": [
           {
            "line": {
             "colorbar": {
              "outlinewidth": 0,
              "ticks": ""
             }
            },
            "marker": {
             "colorbar": {
              "outlinewidth": 0,
              "ticks": ""
             }
            },
            "type": "scatter3d"
           }
          ],
          "scattercarpet": [
           {
            "marker": {
             "colorbar": {
              "outlinewidth": 0,
              "ticks": ""
             }
            },
            "type": "scattercarpet"
           }
          ],
          "scattergeo": [
           {
            "marker": {
             "colorbar": {
              "outlinewidth": 0,
              "ticks": ""
             }
            },
            "type": "scattergeo"
           }
          ],
          "scattergl": [
           {
            "marker": {
             "colorbar": {
              "outlinewidth": 0,
              "ticks": ""
             }
            },
            "type": "scattergl"
           }
          ],
          "scattermapbox": [
           {
            "marker": {
             "colorbar": {
              "outlinewidth": 0,
              "ticks": ""
             }
            },
            "type": "scattermapbox"
           }
          ],
          "scatterpolar": [
           {
            "marker": {
             "colorbar": {
              "outlinewidth": 0,
              "ticks": ""
             }
            },
            "type": "scatterpolar"
           }
          ],
          "scatterpolargl": [
           {
            "marker": {
             "colorbar": {
              "outlinewidth": 0,
              "ticks": ""
             }
            },
            "type": "scatterpolargl"
           }
          ],
          "scatterternary": [
           {
            "marker": {
             "colorbar": {
              "outlinewidth": 0,
              "ticks": ""
             }
            },
            "type": "scatterternary"
           }
          ],
          "surface": [
           {
            "colorbar": {
             "outlinewidth": 0,
             "ticks": ""
            },
            "colorscale": [
             [
              0,
              "#0d0887"
             ],
             [
              0.1111111111111111,
              "#46039f"
             ],
             [
              0.2222222222222222,
              "#7201a8"
             ],
             [
              0.3333333333333333,
              "#9c179e"
             ],
             [
              0.4444444444444444,
              "#bd3786"
             ],
             [
              0.5555555555555556,
              "#d8576b"
             ],
             [
              0.6666666666666666,
              "#ed7953"
             ],
             [
              0.7777777777777778,
              "#fb9f3a"
             ],
             [
              0.8888888888888888,
              "#fdca26"
             ],
             [
              1,
              "#f0f921"
             ]
            ],
            "type": "surface"
           }
          ],
          "table": [
           {
            "cells": {
             "fill": {
              "color": "#EBF0F8"
             },
             "line": {
              "color": "white"
             }
            },
            "header": {
             "fill": {
              "color": "#C8D4E3"
             },
             "line": {
              "color": "white"
             }
            },
            "type": "table"
           }
          ]
         },
         "layout": {
          "annotationdefaults": {
           "arrowcolor": "#2a3f5f",
           "arrowhead": 0,
           "arrowwidth": 1
          },
          "autotypenumbers": "strict",
          "coloraxis": {
           "colorbar": {
            "outlinewidth": 0,
            "ticks": ""
           }
          },
          "colorscale": {
           "diverging": [
            [
             0,
             "#8e0152"
            ],
            [
             0.1,
             "#c51b7d"
            ],
            [
             0.2,
             "#de77ae"
            ],
            [
             0.3,
             "#f1b6da"
            ],
            [
             0.4,
             "#fde0ef"
            ],
            [
             0.5,
             "#f7f7f7"
            ],
            [
             0.6,
             "#e6f5d0"
            ],
            [
             0.7,
             "#b8e186"
            ],
            [
             0.8,
             "#7fbc41"
            ],
            [
             0.9,
             "#4d9221"
            ],
            [
             1,
             "#276419"
            ]
           ],
           "sequential": [
            [
             0,
             "#0d0887"
            ],
            [
             0.1111111111111111,
             "#46039f"
            ],
            [
             0.2222222222222222,
             "#7201a8"
            ],
            [
             0.3333333333333333,
             "#9c179e"
            ],
            [
             0.4444444444444444,
             "#bd3786"
            ],
            [
             0.5555555555555556,
             "#d8576b"
            ],
            [
             0.6666666666666666,
             "#ed7953"
            ],
            [
             0.7777777777777778,
             "#fb9f3a"
            ],
            [
             0.8888888888888888,
             "#fdca26"
            ],
            [
             1,
             "#f0f921"
            ]
           ],
           "sequentialminus": [
            [
             0,
             "#0d0887"
            ],
            [
             0.1111111111111111,
             "#46039f"
            ],
            [
             0.2222222222222222,
             "#7201a8"
            ],
            [
             0.3333333333333333,
             "#9c179e"
            ],
            [
             0.4444444444444444,
             "#bd3786"
            ],
            [
             0.5555555555555556,
             "#d8576b"
            ],
            [
             0.6666666666666666,
             "#ed7953"
            ],
            [
             0.7777777777777778,
             "#fb9f3a"
            ],
            [
             0.8888888888888888,
             "#fdca26"
            ],
            [
             1,
             "#f0f921"
            ]
           ]
          },
          "colorway": [
           "#636efa",
           "#EF553B",
           "#00cc96",
           "#ab63fa",
           "#FFA15A",
           "#19d3f3",
           "#FF6692",
           "#B6E880",
           "#FF97FF",
           "#FECB52"
          ],
          "font": {
           "color": "#2a3f5f"
          },
          "geo": {
           "bgcolor": "white",
           "lakecolor": "white",
           "landcolor": "#E5ECF6",
           "showlakes": true,
           "showland": true,
           "subunitcolor": "white"
          },
          "hoverlabel": {
           "align": "left"
          },
          "hovermode": "closest",
          "mapbox": {
           "style": "light"
          },
          "paper_bgcolor": "white",
          "plot_bgcolor": "#E5ECF6",
          "polar": {
           "angularaxis": {
            "gridcolor": "white",
            "linecolor": "white",
            "ticks": ""
           },
           "bgcolor": "#E5ECF6",
           "radialaxis": {
            "gridcolor": "white",
            "linecolor": "white",
            "ticks": ""
           }
          },
          "scene": {
           "xaxis": {
            "backgroundcolor": "#E5ECF6",
            "gridcolor": "white",
            "gridwidth": 2,
            "linecolor": "white",
            "showbackground": true,
            "ticks": "",
            "zerolinecolor": "white"
           },
           "yaxis": {
            "backgroundcolor": "#E5ECF6",
            "gridcolor": "white",
            "gridwidth": 2,
            "linecolor": "white",
            "showbackground": true,
            "ticks": "",
            "zerolinecolor": "white"
           },
           "zaxis": {
            "backgroundcolor": "#E5ECF6",
            "gridcolor": "white",
            "gridwidth": 2,
            "linecolor": "white",
            "showbackground": true,
            "ticks": "",
            "zerolinecolor": "white"
           }
          },
          "shapedefaults": {
           "line": {
            "color": "#2a3f5f"
           }
          },
          "ternary": {
           "aaxis": {
            "gridcolor": "white",
            "linecolor": "white",
            "ticks": ""
           },
           "baxis": {
            "gridcolor": "white",
            "linecolor": "white",
            "ticks": ""
           },
           "bgcolor": "#E5ECF6",
           "caxis": {
            "gridcolor": "white",
            "linecolor": "white",
            "ticks": ""
           }
          },
          "title": {
           "x": 0.05
          },
          "xaxis": {
           "automargin": true,
           "gridcolor": "white",
           "linecolor": "white",
           "ticks": "",
           "title": {
            "standoff": 15
           },
           "zerolinecolor": "white",
           "zerolinewidth": 2
          },
          "yaxis": {
           "automargin": true,
           "gridcolor": "white",
           "linecolor": "white",
           "ticks": "",
           "title": {
            "standoff": 15
           },
           "zerolinecolor": "white",
           "zerolinewidth": 2
          }
         }
        },
        "title": {
         "text": "Mean evaluation reward over every stock in VNALL",
         "x": 0.5
        },
        "width": 1000,
        "yaxis": {
         "title": {
          "text": "Sharpe"
         }
        }
       }
      }
     },
     "metadata": {},
     "output_type": "display_data"
    }
   ],
   "source": [
    "fig = go.Figure()\n",
    "fig.update_layout(width=1000, height=500)\n",
    "fig.update_layout(title=f\"Mean evaluation reward over every stock in VNALL\", title_x=0.5)\n",
    "# fig.update_xaxes(title_text=\"Number of learning steps before evaluation\")\n",
    "fig.update_yaxes(title_text=\"Sharpe\")\n",
    "# fig.update_layout(legend=dict(\n",
    "#     yanchor=\"top\",\n",
    "#     y=0.99,\n",
    "#     xanchor=\"left\",\n",
    "#     x=0.01\n",
    "# ))\n",
    "# fig.update_layout(barmode='group')\n",
    "for algo in data['Algorithm'].unique():\n",
    "    fig.add_trace(go.Bar(x=grouped_data.loc[algo].index, y=grouped_data.loc[algo]['Sharpe']['mean'], name=algo))\n",
    "fig.show()"
   ]
  },
  {
   "cell_type": "code",
   "execution_count": 14,
   "metadata": {},
   "outputs": [
    {
     "data": {
      "text/html": [
       "<div>\n",
       "<style scoped>\n",
       "    .dataframe tbody tr th:only-of-type {\n",
       "        vertical-align: middle;\n",
       "    }\n",
       "\n",
       "    .dataframe tbody tr th {\n",
       "        vertical-align: top;\n",
       "    }\n",
       "\n",
       "    .dataframe thead th {\n",
       "        text-align: right;\n",
       "    }\n",
       "</style>\n",
       "<table border=\"1\" class=\"dataframe\">\n",
       "  <thead>\n",
       "    <tr style=\"text-align: right;\">\n",
       "      <th></th>\n",
       "      <th>Ticker</th>\n",
       "      <th>Algorithm</th>\n",
       "      <th>Ith</th>\n",
       "      <th>Sharpe</th>\n",
       "      <th>MaxDD</th>\n",
       "    </tr>\n",
       "  </thead>\n",
       "  <tbody>\n",
       "    <tr>\n",
       "      <th>0</th>\n",
       "      <td>ACB</td>\n",
       "      <td>PPO</td>\n",
       "      <td>0</td>\n",
       "      <td>0.564580</td>\n",
       "      <td>6.123434</td>\n",
       "    </tr>\n",
       "    <tr>\n",
       "      <th>1</th>\n",
       "      <td>ACB</td>\n",
       "      <td>PPO</td>\n",
       "      <td>1</td>\n",
       "      <td>0.807212</td>\n",
       "      <td>18.443911</td>\n",
       "    </tr>\n",
       "    <tr>\n",
       "      <th>2</th>\n",
       "      <td>ACB</td>\n",
       "      <td>PPO</td>\n",
       "      <td>2</td>\n",
       "      <td>-0.629023</td>\n",
       "      <td>21.948539</td>\n",
       "    </tr>\n",
       "    <tr>\n",
       "      <th>3</th>\n",
       "      <td>ACB</td>\n",
       "      <td>PPO</td>\n",
       "      <td>3</td>\n",
       "      <td>0.564580</td>\n",
       "      <td>6.123434</td>\n",
       "    </tr>\n",
       "    <tr>\n",
       "      <th>4</th>\n",
       "      <td>ACB</td>\n",
       "      <td>PPO</td>\n",
       "      <td>4</td>\n",
       "      <td>0.564580</td>\n",
       "      <td>6.123434</td>\n",
       "    </tr>\n",
       "    <tr>\n",
       "      <th>...</th>\n",
       "      <td>...</td>\n",
       "      <td>...</td>\n",
       "      <td>...</td>\n",
       "      <td>...</td>\n",
       "      <td>...</td>\n",
       "    </tr>\n",
       "    <tr>\n",
       "      <th>808</th>\n",
       "      <td>VRE</td>\n",
       "      <td>PPO</td>\n",
       "      <td>5</td>\n",
       "      <td>-0.418355</td>\n",
       "      <td>13.929178</td>\n",
       "    </tr>\n",
       "    <tr>\n",
       "      <th>809</th>\n",
       "      <td>VRE</td>\n",
       "      <td>PPO</td>\n",
       "      <td>6</td>\n",
       "      <td>0.024193</td>\n",
       "      <td>16.324103</td>\n",
       "    </tr>\n",
       "    <tr>\n",
       "      <th>810</th>\n",
       "      <td>VRE</td>\n",
       "      <td>PPO</td>\n",
       "      <td>7</td>\n",
       "      <td>0.024193</td>\n",
       "      <td>16.324103</td>\n",
       "    </tr>\n",
       "    <tr>\n",
       "      <th>811</th>\n",
       "      <td>VRE</td>\n",
       "      <td>PPO</td>\n",
       "      <td>8</td>\n",
       "      <td>-0.418355</td>\n",
       "      <td>13.929178</td>\n",
       "    </tr>\n",
       "    <tr>\n",
       "      <th>812</th>\n",
       "      <td>VRE</td>\n",
       "      <td>PPO</td>\n",
       "      <td>9</td>\n",
       "      <td>-0.418355</td>\n",
       "      <td>13.929178</td>\n",
       "    </tr>\n",
       "  </tbody>\n",
       "</table>\n",
       "<p>285 rows × 5 columns</p>\n",
       "</div>"
      ],
      "text/plain": [
       "    Ticker Algorithm  Ith    Sharpe      MaxDD\n",
       "0      ACB       PPO    0  0.564580   6.123434\n",
       "1      ACB       PPO    1  0.807212  18.443911\n",
       "2      ACB       PPO    2 -0.629023  21.948539\n",
       "3      ACB       PPO    3  0.564580   6.123434\n",
       "4      ACB       PPO    4  0.564580   6.123434\n",
       "..     ...       ...  ...       ...        ...\n",
       "808    VRE       PPO    5 -0.418355  13.929178\n",
       "809    VRE       PPO    6  0.024193  16.324103\n",
       "810    VRE       PPO    7  0.024193  16.324103\n",
       "811    VRE       PPO    8 -0.418355  13.929178\n",
       "812    VRE       PPO    9 -0.418355  13.929178\n",
       "\n",
       "[285 rows x 5 columns]"
      ]
     },
     "execution_count": 14,
     "metadata": {},
     "output_type": "execute_result"
    }
   ],
   "source": [
    "data[data.Algorithm == 'PPO']#['Sharpe']"
   ]
  }
 ],
 "metadata": {
  "kernelspec": {
   "display_name": "tradingenv",
   "language": "python",
   "name": "python3"
  },
  "language_info": {
   "codemirror_mode": {
    "name": "ipython",
    "version": 3
   },
   "file_extension": ".py",
   "mimetype": "text/x-python",
   "name": "python",
   "nbconvert_exporter": "python",
   "pygments_lexer": "ipython3",
   "version": "3.8.13"
  },
  "orig_nbformat": 4,
  "vscode": {
   "interpreter": {
    "hash": "faa7f68368d9c9f740356072b5cc858737f0635c1c0b552678cb52f36bb31777"
   }
  }
 },
 "nbformat": 4,
 "nbformat_minor": 2
}
