{
 "cells": [
  {
   "attachments": {},
   "cell_type": "markdown",
   "metadata": {},
   "source": [
    "# Adaption Evaluation\n",
    "Comparision between: \n",
    "- MAML\n",
    "- pretrained model"
   ]
  },
  {
   "cell_type": "code",
   "execution_count": 1,
   "metadata": {},
   "outputs": [],
   "source": [
    "import matplotlib.pyplot as plt\n",
    "import numpy as np\n",
    "import seaborn as sns\n",
    "import vectorbt as vbt\n",
    "sns.set()\n",
    "import plotly.graph_objects as go\n",
    "from copy import deepcopy\n",
    "from stock_env.envs import *\n",
    "from stock_env.common.common_utils import (\n",
    "    open_config,\n",
    "    create_performance,\n",
    "    plot_trade_log_v2,\n",
    ")\n",
    "from stock_env.exp_manager import ExperimentManager\n",
    "from stock_env.algos.maml import adapt, get_task_loss\n",
    "from stock_env.algos.buffer import RolloutBuffer\n",
    "from stock_env.algos.agent import MetaAgent\n",
    "from stock_env.common.evaluation import evaluate_agent, play_an_episode\n",
    "\n",
    "def plot_mean_reward(fig, df, fill_color, line_color, name):\n",
    "\n",
    "    fig.add_trace(\n",
    "        go.Scatter(\n",
    "            x=df[\"n_adapt_steps\"],\n",
    "            y=df[\"mean-std\"],\n",
    "            mode=\"lines\",\n",
    "            fill=None,\n",
    "            line=dict(width=0.5, color=fill_color),\n",
    "            showlegend=False,\n",
    "        )\n",
    "    )\n",
    "\n",
    "    fig.add_trace(\n",
    "        go.Scatter(\n",
    "            x=df[\"n_adapt_steps\"],\n",
    "            y=df[\"mean+std\"],\n",
    "            fill=\"tonexty\",\n",
    "            mode=\"lines\",\n",
    "            line=dict(width=0.5, color=fill_color),\n",
    "            showlegend=False,\n",
    "        )\n",
    "    )\n",
    "\n",
    "    fig.add_trace(\n",
    "        go.Scatter(\n",
    "            x=df[\"n_adapt_steps\"],\n",
    "            y=df[\"mean\"],\n",
    "            fill=None,\n",
    "            line_color=line_color,\n",
    "            name=name,\n",
    "        )\n",
    "    )\n",
    "\n",
    "vnall = pd.read_csv(\"../temp/VNALL.csv\")\n",
    "vnall_ticker = vnall['Symbol'].to_list()"
   ]
  },
  {
   "cell_type": "code",
   "execution_count": 2,
   "metadata": {},
   "outputs": [],
   "source": [
    "ARGS_PATH = \"../configs/maml.yaml\"\n",
    "ENV_ID = \"VNALL-v0\"\n",
    "METHODS_STATE_DICT = {\n",
    "    \"random\": None,\n",
    "    \"maml\": \"../model/maml_sp500_20221218_112927.pth\",\n",
    "}\n",
    "exp = ExperimentManager(\n",
    "    args_path=ARGS_PATH, env_id=ENV_ID, methods_state_dict=METHODS_STATE_DICT\n",
    ")"
   ]
  },
  {
   "cell_type": "code",
   "execution_count": 3,
   "metadata": {},
   "outputs": [
    {
     "name": "stderr",
     "output_type": "stream",
     "text": [
      "2022-12-19 17:10:37,025 : INFO : Evaluating ticker GTA with method 'maml'...\n",
      "2022-12-19 17:10:47,471 : INFO : Evaluating ticker TDC with method 'maml'...\n",
      "2022-12-19 17:10:58,002 : INFO : Evaluating ticker BVH with method 'maml'...\n",
      "2022-12-19 17:11:08,299 : INFO : Evaluating ticker FDC with method 'maml'...\n",
      "2022-12-19 17:11:18,494 : INFO : Evaluating ticker DAG with method 'maml'...\n",
      "2022-12-19 17:11:28,644 : INFO : Evaluating ticker TIP with method 'maml'...\n",
      "2022-12-19 17:11:38,847 : INFO : Evaluating ticker BCG with method 'maml'...\n",
      "2022-12-19 17:11:49,190 : INFO : Evaluating ticker DQC with method 'maml'...\n",
      "2022-12-19 17:11:58,591 : INFO : Evaluating ticker VND with method 'maml'...\n",
      "2022-12-19 17:12:09,001 : INFO : Evaluating ticker CTS with method 'maml'...\n",
      "2022-12-19 17:12:19,338 : INFO : Evaluating ticker ACB with method 'maml'...\n",
      "2022-12-19 17:12:29,673 : INFO : Evaluating ticker DPG with method 'maml'...\n",
      "2022-12-19 17:12:38,322 : INFO : Evaluating ticker LGL with method 'maml'...\n",
      "2022-12-19 17:12:48,544 : INFO : Evaluating ticker MSN with method 'maml'...\n",
      "2022-12-19 17:12:58,907 : INFO : Evaluating ticker EVE with method 'maml'...\n",
      "2022-12-19 17:13:08,454 : INFO : Evaluating ticker ADG with method 'maml'...\n",
      "2022-12-19 17:13:14,258 : INFO : Evaluating ticker MBB with method 'maml'...\n",
      "2022-12-19 17:13:24,737 : INFO : Evaluating ticker LIX with method 'maml'...\n",
      "2022-12-19 17:13:34,339 : INFO : Evaluating ticker HDB with method 'maml'...\n",
      "2022-12-19 17:13:40,232 : INFO : Evaluating ticker HTI with method 'maml'...\n",
      "2022-12-19 17:13:50,689 : INFO : Evaluating ticker VNE with method 'maml'...\n",
      "2022-12-19 17:14:01,115 : INFO : Evaluating ticker LAF with method 'maml'...\n",
      "2022-12-19 17:14:11,302 : INFO : Evaluating ticker TPB with method 'maml'...\n",
      "2022-12-19 17:14:20,996 : INFO : Evaluating ticker CSV with method 'maml'...\n",
      "2022-12-19 17:14:30,536 : INFO : Evaluating ticker KPF with method 'maml'...\n",
      "2022-12-19 17:14:41,024 : INFO : Evaluating ticker SAB with method 'maml'...\n",
      "2022-12-19 17:14:51,407 : INFO : Evaluating ticker TLH with method 'maml'...\n",
      "2022-12-19 17:15:01,930 : INFO : Evaluating ticker BSI with method 'maml'...\n",
      "2022-12-19 17:15:12,817 : INFO : Evaluating ticker D2D with method 'maml'...\n",
      "2022-12-19 17:15:24,314 : INFO : Evaluating ticker CTI with method 'maml'...\n"
     ]
    },
    {
     "data": {
      "text/html": [
       "<div>\n",
       "<style scoped>\n",
       "    .dataframe tbody tr th:only-of-type {\n",
       "        vertical-align: middle;\n",
       "    }\n",
       "\n",
       "    .dataframe tbody tr th {\n",
       "        vertical-align: top;\n",
       "    }\n",
       "\n",
       "    .dataframe thead th {\n",
       "        text-align: right;\n",
       "    }\n",
       "</style>\n",
       "<table border=\"1\" class=\"dataframe\">\n",
       "  <thead>\n",
       "    <tr style=\"text-align: right;\">\n",
       "      <th></th>\n",
       "      <th>task</th>\n",
       "      <th>n_adapt_steps</th>\n",
       "      <th>model_type</th>\n",
       "      <th>mean</th>\n",
       "      <th>std</th>\n",
       "      <th>inner_loss</th>\n",
       "    </tr>\n",
       "  </thead>\n",
       "  <tbody>\n",
       "    <tr>\n",
       "      <th>0</th>\n",
       "      <td>GTA</td>\n",
       "      <td>0</td>\n",
       "      <td>maml</td>\n",
       "      <td>35.049999</td>\n",
       "      <td>207.131989</td>\n",
       "      <td>-0.023193</td>\n",
       "    </tr>\n",
       "    <tr>\n",
       "      <th>1</th>\n",
       "      <td>GTA</td>\n",
       "      <td>1</td>\n",
       "      <td>maml</td>\n",
       "      <td>-7.230767</td>\n",
       "      <td>98.953415</td>\n",
       "      <td>-0.030304</td>\n",
       "    </tr>\n",
       "    <tr>\n",
       "      <th>2</th>\n",
       "      <td>GTA</td>\n",
       "      <td>2</td>\n",
       "      <td>maml</td>\n",
       "      <td>213.000000</td>\n",
       "      <td>222.159851</td>\n",
       "      <td>-0.031004</td>\n",
       "    </tr>\n",
       "    <tr>\n",
       "      <th>3</th>\n",
       "      <td>GTA</td>\n",
       "      <td>3</td>\n",
       "      <td>maml</td>\n",
       "      <td>17.000010</td>\n",
       "      <td>214.661880</td>\n",
       "      <td>-0.030991</td>\n",
       "    </tr>\n",
       "    <tr>\n",
       "      <th>4</th>\n",
       "      <td>GTA</td>\n",
       "      <td>4</td>\n",
       "      <td>maml</td>\n",
       "      <td>-41.714287</td>\n",
       "      <td>71.056740</td>\n",
       "      <td>-0.030698</td>\n",
       "    </tr>\n",
       "    <tr>\n",
       "      <th>...</th>\n",
       "      <td>...</td>\n",
       "      <td>...</td>\n",
       "      <td>...</td>\n",
       "      <td>...</td>\n",
       "      <td>...</td>\n",
       "      <td>...</td>\n",
       "    </tr>\n",
       "    <tr>\n",
       "      <th>145</th>\n",
       "      <td>CTI</td>\n",
       "      <td>0</td>\n",
       "      <td>maml</td>\n",
       "      <td>94.914284</td>\n",
       "      <td>151.316086</td>\n",
       "      <td>-0.031435</td>\n",
       "    </tr>\n",
       "    <tr>\n",
       "      <th>146</th>\n",
       "      <td>CTI</td>\n",
       "      <td>1</td>\n",
       "      <td>maml</td>\n",
       "      <td>40.619995</td>\n",
       "      <td>147.861160</td>\n",
       "      <td>-0.031410</td>\n",
       "    </tr>\n",
       "    <tr>\n",
       "      <th>147</th>\n",
       "      <td>CTI</td>\n",
       "      <td>2</td>\n",
       "      <td>maml</td>\n",
       "      <td>-54.819988</td>\n",
       "      <td>209.447296</td>\n",
       "      <td>-0.030820</td>\n",
       "    </tr>\n",
       "    <tr>\n",
       "      <th>148</th>\n",
       "      <td>CTI</td>\n",
       "      <td>3</td>\n",
       "      <td>maml</td>\n",
       "      <td>-99.020050</td>\n",
       "      <td>162.380569</td>\n",
       "      <td>-0.032292</td>\n",
       "    </tr>\n",
       "    <tr>\n",
       "      <th>149</th>\n",
       "      <td>CTI</td>\n",
       "      <td>4</td>\n",
       "      <td>maml</td>\n",
       "      <td>-56.850021</td>\n",
       "      <td>99.275208</td>\n",
       "      <td>-0.029868</td>\n",
       "    </tr>\n",
       "  </tbody>\n",
       "</table>\n",
       "<p>150 rows × 6 columns</p>\n",
       "</div>"
      ],
      "text/plain": [
       "    task  n_adapt_steps model_type        mean         std  inner_loss\n",
       "0    GTA              0       maml   35.049999  207.131989   -0.023193\n",
       "1    GTA              1       maml   -7.230767   98.953415   -0.030304\n",
       "2    GTA              2       maml  213.000000  222.159851   -0.031004\n",
       "3    GTA              3       maml   17.000010  214.661880   -0.030991\n",
       "4    GTA              4       maml  -41.714287   71.056740   -0.030698\n",
       "..   ...            ...        ...         ...         ...         ...\n",
       "145  CTI              0       maml   94.914284  151.316086   -0.031435\n",
       "146  CTI              1       maml   40.619995  147.861160   -0.031410\n",
       "147  CTI              2       maml  -54.819988  209.447296   -0.030820\n",
       "148  CTI              3       maml  -99.020050  162.380569   -0.032292\n",
       "149  CTI              4       maml  -56.850021   99.275208   -0.029868\n",
       "\n",
       "[150 rows x 6 columns]"
      ]
     },
     "execution_count": 3,
     "metadata": {},
     "output_type": "execute_result"
    }
   ],
   "source": [
    "adaption_results = exp.mass_adaption_results(\n",
    "    methods=[\"maml\"],\n",
    "    maybe_num_tasks=30,\n",
    "    total_adapt_steps=4,\n",
    "    n_eval_episodes=5,\n",
    ")\n",
    "adaption_results"
   ]
  },
  {
   "cell_type": "code",
   "execution_count": 18,
   "metadata": {},
   "outputs": [
    {
     "data": {
      "application/vnd.plotly.v1+json": {
       "config": {
        "plotlyServerURL": "https://plot.ly"
       },
       "data": [
        {
         "hovertemplate": "task=SSI<br>n_adapt_steps=%{x}<br>mean=%{y}<extra></extra>",
         "legendgroup": "SSI",
         "line": {
          "color": "rgb(133, 92, 117)",
          "dash": "solid"
         },
         "marker": {
          "symbol": "circle"
         },
         "mode": "lines",
         "name": "SSI",
         "orientation": "v",
         "showlegend": true,
         "type": "scatter",
         "x": [
          0,
          1,
          2,
          3,
          4,
          5
         ],
         "xaxis": "x",
         "y": [
          -84.125,
          -152,
          -32,
          -130.11669921875,
          -131.8000030517578,
          -167.57142639160156
         ],
         "yaxis": "y"
        }
       ],
       "layout": {
        "legend": {
         "title": {
          "text": "task"
         },
         "tracegroupgap": 0
        },
        "margin": {
         "t": 60
        },
        "template": {
         "data": {
          "bar": [
           {
            "error_x": {
             "color": "#2a3f5f"
            },
            "error_y": {
             "color": "#2a3f5f"
            },
            "marker": {
             "line": {
              "color": "#E5ECF6",
              "width": 0.5
             },
             "pattern": {
              "fillmode": "overlay",
              "size": 10,
              "solidity": 0.2
             }
            },
            "type": "bar"
           }
          ],
          "barpolar": [
           {
            "marker": {
             "line": {
              "color": "#E5ECF6",
              "width": 0.5
             },
             "pattern": {
              "fillmode": "overlay",
              "size": 10,
              "solidity": 0.2
             }
            },
            "type": "barpolar"
           }
          ],
          "carpet": [
           {
            "aaxis": {
             "endlinecolor": "#2a3f5f",
             "gridcolor": "white",
             "linecolor": "white",
             "minorgridcolor": "white",
             "startlinecolor": "#2a3f5f"
            },
            "baxis": {
             "endlinecolor": "#2a3f5f",
             "gridcolor": "white",
             "linecolor": "white",
             "minorgridcolor": "white",
             "startlinecolor": "#2a3f5f"
            },
            "type": "carpet"
           }
          ],
          "choropleth": [
           {
            "colorbar": {
             "outlinewidth": 0,
             "ticks": ""
            },
            "type": "choropleth"
           }
          ],
          "contour": [
           {
            "colorbar": {
             "outlinewidth": 0,
             "ticks": ""
            },
            "colorscale": [
             [
              0,
              "#0d0887"
             ],
             [
              0.1111111111111111,
              "#46039f"
             ],
             [
              0.2222222222222222,
              "#7201a8"
             ],
             [
              0.3333333333333333,
              "#9c179e"
             ],
             [
              0.4444444444444444,
              "#bd3786"
             ],
             [
              0.5555555555555556,
              "#d8576b"
             ],
             [
              0.6666666666666666,
              "#ed7953"
             ],
             [
              0.7777777777777778,
              "#fb9f3a"
             ],
             [
              0.8888888888888888,
              "#fdca26"
             ],
             [
              1,
              "#f0f921"
             ]
            ],
            "type": "contour"
           }
          ],
          "contourcarpet": [
           {
            "colorbar": {
             "outlinewidth": 0,
             "ticks": ""
            },
            "type": "contourcarpet"
           }
          ],
          "heatmap": [
           {
            "colorbar": {
             "outlinewidth": 0,
             "ticks": ""
            },
            "colorscale": [
             [
              0,
              "#0d0887"
             ],
             [
              0.1111111111111111,
              "#46039f"
             ],
             [
              0.2222222222222222,
              "#7201a8"
             ],
             [
              0.3333333333333333,
              "#9c179e"
             ],
             [
              0.4444444444444444,
              "#bd3786"
             ],
             [
              0.5555555555555556,
              "#d8576b"
             ],
             [
              0.6666666666666666,
              "#ed7953"
             ],
             [
              0.7777777777777778,
              "#fb9f3a"
             ],
             [
              0.8888888888888888,
              "#fdca26"
             ],
             [
              1,
              "#f0f921"
             ]
            ],
            "type": "heatmap"
           }
          ],
          "heatmapgl": [
           {
            "colorbar": {
             "outlinewidth": 0,
             "ticks": ""
            },
            "colorscale": [
             [
              0,
              "#0d0887"
             ],
             [
              0.1111111111111111,
              "#46039f"
             ],
             [
              0.2222222222222222,
              "#7201a8"
             ],
             [
              0.3333333333333333,
              "#9c179e"
             ],
             [
              0.4444444444444444,
              "#bd3786"
             ],
             [
              0.5555555555555556,
              "#d8576b"
             ],
             [
              0.6666666666666666,
              "#ed7953"
             ],
             [
              0.7777777777777778,
              "#fb9f3a"
             ],
             [
              0.8888888888888888,
              "#fdca26"
             ],
             [
              1,
              "#f0f921"
             ]
            ],
            "type": "heatmapgl"
           }
          ],
          "histogram": [
           {
            "marker": {
             "pattern": {
              "fillmode": "overlay",
              "size": 10,
              "solidity": 0.2
             }
            },
            "type": "histogram"
           }
          ],
          "histogram2d": [
           {
            "colorbar": {
             "outlinewidth": 0,
             "ticks": ""
            },
            "colorscale": [
             [
              0,
              "#0d0887"
             ],
             [
              0.1111111111111111,
              "#46039f"
             ],
             [
              0.2222222222222222,
              "#7201a8"
             ],
             [
              0.3333333333333333,
              "#9c179e"
             ],
             [
              0.4444444444444444,
              "#bd3786"
             ],
             [
              0.5555555555555556,
              "#d8576b"
             ],
             [
              0.6666666666666666,
              "#ed7953"
             ],
             [
              0.7777777777777778,
              "#fb9f3a"
             ],
             [
              0.8888888888888888,
              "#fdca26"
             ],
             [
              1,
              "#f0f921"
             ]
            ],
            "type": "histogram2d"
           }
          ],
          "histogram2dcontour": [
           {
            "colorbar": {
             "outlinewidth": 0,
             "ticks": ""
            },
            "colorscale": [
             [
              0,
              "#0d0887"
             ],
             [
              0.1111111111111111,
              "#46039f"
             ],
             [
              0.2222222222222222,
              "#7201a8"
             ],
             [
              0.3333333333333333,
              "#9c179e"
             ],
             [
              0.4444444444444444,
              "#bd3786"
             ],
             [
              0.5555555555555556,
              "#d8576b"
             ],
             [
              0.6666666666666666,
              "#ed7953"
             ],
             [
              0.7777777777777778,
              "#fb9f3a"
             ],
             [
              0.8888888888888888,
              "#fdca26"
             ],
             [
              1,
              "#f0f921"
             ]
            ],
            "type": "histogram2dcontour"
           }
          ],
          "mesh3d": [
           {
            "colorbar": {
             "outlinewidth": 0,
             "ticks": ""
            },
            "type": "mesh3d"
           }
          ],
          "parcoords": [
           {
            "line": {
             "colorbar": {
              "outlinewidth": 0,
              "ticks": ""
             }
            },
            "type": "parcoords"
           }
          ],
          "pie": [
           {
            "automargin": true,
            "type": "pie"
           }
          ],
          "scatter": [
           {
            "fillpattern": {
             "fillmode": "overlay",
             "size": 10,
             "solidity": 0.2
            },
            "type": "scatter"
           }
          ],
          "scatter3d": [
           {
            "line": {
             "colorbar": {
              "outlinewidth": 0,
              "ticks": ""
             }
            },
            "marker": {
             "colorbar": {
              "outlinewidth": 0,
              "ticks": ""
             }
            },
            "type": "scatter3d"
           }
          ],
          "scattercarpet": [
           {
            "marker": {
             "colorbar": {
              "outlinewidth": 0,
              "ticks": ""
             }
            },
            "type": "scattercarpet"
           }
          ],
          "scattergeo": [
           {
            "marker": {
             "colorbar": {
              "outlinewidth": 0,
              "ticks": ""
             }
            },
            "type": "scattergeo"
           }
          ],
          "scattergl": [
           {
            "marker": {
             "colorbar": {
              "outlinewidth": 0,
              "ticks": ""
             }
            },
            "type": "scattergl"
           }
          ],
          "scattermapbox": [
           {
            "marker": {
             "colorbar": {
              "outlinewidth": 0,
              "ticks": ""
             }
            },
            "type": "scattermapbox"
           }
          ],
          "scatterpolar": [
           {
            "marker": {
             "colorbar": {
              "outlinewidth": 0,
              "ticks": ""
             }
            },
            "type": "scatterpolar"
           }
          ],
          "scatterpolargl": [
           {
            "marker": {
             "colorbar": {
              "outlinewidth": 0,
              "ticks": ""
             }
            },
            "type": "scatterpolargl"
           }
          ],
          "scatterternary": [
           {
            "marker": {
             "colorbar": {
              "outlinewidth": 0,
              "ticks": ""
             }
            },
            "type": "scatterternary"
           }
          ],
          "surface": [
           {
            "colorbar": {
             "outlinewidth": 0,
             "ticks": ""
            },
            "colorscale": [
             [
              0,
              "#0d0887"
             ],
             [
              0.1111111111111111,
              "#46039f"
             ],
             [
              0.2222222222222222,
              "#7201a8"
             ],
             [
              0.3333333333333333,
              "#9c179e"
             ],
             [
              0.4444444444444444,
              "#bd3786"
             ],
             [
              0.5555555555555556,
              "#d8576b"
             ],
             [
              0.6666666666666666,
              "#ed7953"
             ],
             [
              0.7777777777777778,
              "#fb9f3a"
             ],
             [
              0.8888888888888888,
              "#fdca26"
             ],
             [
              1,
              "#f0f921"
             ]
            ],
            "type": "surface"
           }
          ],
          "table": [
           {
            "cells": {
             "fill": {
              "color": "#EBF0F8"
             },
             "line": {
              "color": "white"
             }
            },
            "header": {
             "fill": {
              "color": "#C8D4E3"
             },
             "line": {
              "color": "white"
             }
            },
            "type": "table"
           }
          ]
         },
         "layout": {
          "annotationdefaults": {
           "arrowcolor": "#2a3f5f",
           "arrowhead": 0,
           "arrowwidth": 1
          },
          "autotypenumbers": "strict",
          "coloraxis": {
           "colorbar": {
            "outlinewidth": 0,
            "ticks": ""
           }
          },
          "colorscale": {
           "diverging": [
            [
             0,
             "#8e0152"
            ],
            [
             0.1,
             "#c51b7d"
            ],
            [
             0.2,
             "#de77ae"
            ],
            [
             0.3,
             "#f1b6da"
            ],
            [
             0.4,
             "#fde0ef"
            ],
            [
             0.5,
             "#f7f7f7"
            ],
            [
             0.6,
             "#e6f5d0"
            ],
            [
             0.7,
             "#b8e186"
            ],
            [
             0.8,
             "#7fbc41"
            ],
            [
             0.9,
             "#4d9221"
            ],
            [
             1,
             "#276419"
            ]
           ],
           "sequential": [
            [
             0,
             "#0d0887"
            ],
            [
             0.1111111111111111,
             "#46039f"
            ],
            [
             0.2222222222222222,
             "#7201a8"
            ],
            [
             0.3333333333333333,
             "#9c179e"
            ],
            [
             0.4444444444444444,
             "#bd3786"
            ],
            [
             0.5555555555555556,
             "#d8576b"
            ],
            [
             0.6666666666666666,
             "#ed7953"
            ],
            [
             0.7777777777777778,
             "#fb9f3a"
            ],
            [
             0.8888888888888888,
             "#fdca26"
            ],
            [
             1,
             "#f0f921"
            ]
           ],
           "sequentialminus": [
            [
             0,
             "#0d0887"
            ],
            [
             0.1111111111111111,
             "#46039f"
            ],
            [
             0.2222222222222222,
             "#7201a8"
            ],
            [
             0.3333333333333333,
             "#9c179e"
            ],
            [
             0.4444444444444444,
             "#bd3786"
            ],
            [
             0.5555555555555556,
             "#d8576b"
            ],
            [
             0.6666666666666666,
             "#ed7953"
            ],
            [
             0.7777777777777778,
             "#fb9f3a"
            ],
            [
             0.8888888888888888,
             "#fdca26"
            ],
            [
             1,
             "#f0f921"
            ]
           ]
          },
          "colorway": [
           "#636efa",
           "#EF553B",
           "#00cc96",
           "#ab63fa",
           "#FFA15A",
           "#19d3f3",
           "#FF6692",
           "#B6E880",
           "#FF97FF",
           "#FECB52"
          ],
          "font": {
           "color": "#2a3f5f"
          },
          "geo": {
           "bgcolor": "white",
           "lakecolor": "white",
           "landcolor": "#E5ECF6",
           "showlakes": true,
           "showland": true,
           "subunitcolor": "white"
          },
          "hoverlabel": {
           "align": "left"
          },
          "hovermode": "closest",
          "mapbox": {
           "style": "light"
          },
          "paper_bgcolor": "white",
          "plot_bgcolor": "#E5ECF6",
          "polar": {
           "angularaxis": {
            "gridcolor": "white",
            "linecolor": "white",
            "ticks": ""
           },
           "bgcolor": "#E5ECF6",
           "radialaxis": {
            "gridcolor": "white",
            "linecolor": "white",
            "ticks": ""
           }
          },
          "scene": {
           "xaxis": {
            "backgroundcolor": "#E5ECF6",
            "gridcolor": "white",
            "gridwidth": 2,
            "linecolor": "white",
            "showbackground": true,
            "ticks": "",
            "zerolinecolor": "white"
           },
           "yaxis": {
            "backgroundcolor": "#E5ECF6",
            "gridcolor": "white",
            "gridwidth": 2,
            "linecolor": "white",
            "showbackground": true,
            "ticks": "",
            "zerolinecolor": "white"
           },
           "zaxis": {
            "backgroundcolor": "#E5ECF6",
            "gridcolor": "white",
            "gridwidth": 2,
            "linecolor": "white",
            "showbackground": true,
            "ticks": "",
            "zerolinecolor": "white"
           }
          },
          "shapedefaults": {
           "line": {
            "color": "#2a3f5f"
           }
          },
          "ternary": {
           "aaxis": {
            "gridcolor": "white",
            "linecolor": "white",
            "ticks": ""
           },
           "baxis": {
            "gridcolor": "white",
            "linecolor": "white",
            "ticks": ""
           },
           "bgcolor": "#E5ECF6",
           "caxis": {
            "gridcolor": "white",
            "linecolor": "white",
            "ticks": ""
           }
          },
          "title": {
           "x": 0.05
          },
          "xaxis": {
           "automargin": true,
           "gridcolor": "white",
           "linecolor": "white",
           "ticks": "",
           "title": {
            "standoff": 15
           },
           "zerolinecolor": "white",
           "zerolinewidth": 2
          },
          "yaxis": {
           "automargin": true,
           "gridcolor": "white",
           "linecolor": "white",
           "ticks": "",
           "title": {
            "standoff": 15
           },
           "zerolinecolor": "white",
           "zerolinewidth": 2
          }
         }
        },
        "xaxis": {
         "anchor": "y",
         "domain": [
          0,
          1
         ],
         "title": {
          "text": "n_adapt_steps"
         }
        },
        "yaxis": {
         "anchor": "x",
         "domain": [
          0,
          1
         ],
         "title": {
          "text": "mean"
         }
        }
       }
      }
     },
     "metadata": {},
     "output_type": "display_data"
    }
   ],
   "source": [
    "import plotly.express as px\n",
    "\n",
    "fig = px.line(\n",
    "    adaption_results,\n",
    "    x=\"n_adapt_steps\",\n",
    "    y=\"mean\",\n",
    "    color=\"task\",\n",
    "    color_discrete_sequence=px.colors.qualitative.Antique,\n",
    ")\n",
    "fig.show()"
   ]
  },
  {
   "cell_type": "code",
   "execution_count": 3,
   "metadata": {},
   "outputs": [
    {
     "name": "stderr",
     "output_type": "stream",
     "text": [
      "2022-12-19 16:34:15,172 : INFO : Adapt #0: trading 'SSI' with method 'maml'...\n"
     ]
    },
    {
     "name": "stdout",
     "output_type": "stream",
     "text": [
      "Ticker: SSI, from date 2021-11-03 00:00:00 to date 2022-11-03 00:00:00\n"
     ]
    },
    {
     "name": "stderr",
     "output_type": "stream",
     "text": [
      "2022-12-19 16:34:16,649 : INFO : Adapt #1: trading 'SSI' with method 'maml'...\n",
      "2022-12-19 16:34:17,730 : INFO : Adapt #2: trading 'SSI' with method 'maml'...\n"
     ]
    },
    {
     "name": "stdout",
     "output_type": "stream",
     "text": [
      "Ticker: SSI, from date 2022-11-03 00:00:00 to date 2022-12-16 00:00:00\n"
     ]
    },
    {
     "name": "stderr",
     "output_type": "stream",
     "text": [
      "2022-12-19 16:34:18,853 : INFO : Adapt #3: trading 'SSI' with method 'maml'...\n"
     ]
    },
    {
     "name": "stdout",
     "output_type": "stream",
     "text": [
      "Ticker: SSI, from date 2022-11-03 00:00:00 to date 2022-12-16 00:00:00\n",
      "Ticker: SSI, from date 2021-11-03 00:00:00 to date 2022-11-03 00:00:00\n"
     ]
    },
    {
     "name": "stderr",
     "output_type": "stream",
     "text": [
      "2022-12-19 16:34:20,125 : INFO : Adapt #4: trading 'SSI' with method 'maml'...\n",
      "2022-12-19 16:34:21,204 : INFO : Adapt #5: trading 'SSI' with method 'maml'...\n"
     ]
    },
    {
     "name": "stdout",
     "output_type": "stream",
     "text": [
      "Ticker: SSI, from date 2022-11-03 00:00:00 to date 2022-12-16 00:00:00\n",
      "Ticker: SSI, from date 2022-11-03 00:00:00 to date 2022-12-16 00:00:00\n"
     ]
    },
    {
     "data": {
      "text/html": [
       "<div>\n",
       "<style scoped>\n",
       "    .dataframe tbody tr th:only-of-type {\n",
       "        vertical-align: middle;\n",
       "    }\n",
       "\n",
       "    .dataframe tbody tr th {\n",
       "        vertical-align: top;\n",
       "    }\n",
       "\n",
       "    .dataframe thead th {\n",
       "        text-align: right;\n",
       "    }\n",
       "</style>\n",
       "<table border=\"1\" class=\"dataframe\">\n",
       "  <thead>\n",
       "    <tr style=\"text-align: right;\">\n",
       "      <th></th>\n",
       "      <th></th>\n",
       "      <th></th>\n",
       "      <th>maml</th>\n",
       "    </tr>\n",
       "    <tr>\n",
       "      <th>n_adapt_steps</th>\n",
       "      <th>ticker</th>\n",
       "      <th>metric</th>\n",
       "      <th></th>\n",
       "    </tr>\n",
       "  </thead>\n",
       "  <tbody>\n",
       "    <tr>\n",
       "      <th rowspan=\"6\" valign=\"top\">0</th>\n",
       "      <th rowspan=\"6\" valign=\"top\">SSI</th>\n",
       "      <th>annual_return</th>\n",
       "      <td>0.01269</td>\n",
       "    </tr>\n",
       "    <tr>\n",
       "      <th>cum_returns_final</th>\n",
       "      <td>0.01259</td>\n",
       "    </tr>\n",
       "    <tr>\n",
       "      <th>sharpe_ratio</th>\n",
       "      <td>0.27372</td>\n",
       "    </tr>\n",
       "    <tr>\n",
       "      <th>max_drawdown</th>\n",
       "      <td>-0.04433</td>\n",
       "    </tr>\n",
       "    <tr>\n",
       "      <th>annual_volatility</th>\n",
       "      <td>0.05095</td>\n",
       "    </tr>\n",
       "    <tr>\n",
       "      <th>value_at_risk</th>\n",
       "      <td>NaN</td>\n",
       "    </tr>\n",
       "    <tr>\n",
       "      <th rowspan=\"6\" valign=\"top\">1</th>\n",
       "      <th rowspan=\"6\" valign=\"top\">SSI</th>\n",
       "      <th>annual_return</th>\n",
       "      <td>-0.26669</td>\n",
       "    </tr>\n",
       "    <tr>\n",
       "      <th>cum_returns_final</th>\n",
       "      <td>-0.03744</td>\n",
       "    </tr>\n",
       "    <tr>\n",
       "      <th>sharpe_ratio</th>\n",
       "      <td>-1.57248</td>\n",
       "    </tr>\n",
       "    <tr>\n",
       "      <th>max_drawdown</th>\n",
       "      <td>-0.07745</td>\n",
       "    </tr>\n",
       "    <tr>\n",
       "      <th>annual_volatility</th>\n",
       "      <td>0.19215</td>\n",
       "    </tr>\n",
       "    <tr>\n",
       "      <th>value_at_risk</th>\n",
       "      <td>NaN</td>\n",
       "    </tr>\n",
       "    <tr>\n",
       "      <th rowspan=\"6\" valign=\"top\">2</th>\n",
       "      <th rowspan=\"6\" valign=\"top\">SSI</th>\n",
       "      <th>annual_return</th>\n",
       "      <td>-0.20594</td>\n",
       "    </tr>\n",
       "    <tr>\n",
       "      <th>cum_returns_final</th>\n",
       "      <td>-0.02797</td>\n",
       "    </tr>\n",
       "    <tr>\n",
       "      <th>sharpe_ratio</th>\n",
       "      <td>-1.09808</td>\n",
       "    </tr>\n",
       "    <tr>\n",
       "      <th>max_drawdown</th>\n",
       "      <td>-0.05771</td>\n",
       "    </tr>\n",
       "    <tr>\n",
       "      <th>annual_volatility</th>\n",
       "      <td>0.19926</td>\n",
       "    </tr>\n",
       "    <tr>\n",
       "      <th>value_at_risk</th>\n",
       "      <td>NaN</td>\n",
       "    </tr>\n",
       "    <tr>\n",
       "      <th rowspan=\"6\" valign=\"top\">3</th>\n",
       "      <th rowspan=\"6\" valign=\"top\">SSI</th>\n",
       "      <th>annual_return</th>\n",
       "      <td>0.09471</td>\n",
       "    </tr>\n",
       "    <tr>\n",
       "      <th>cum_returns_final</th>\n",
       "      <td>0.09392</td>\n",
       "    </tr>\n",
       "    <tr>\n",
       "      <th>sharpe_ratio</th>\n",
       "      <td>0.97101</td>\n",
       "    </tr>\n",
       "    <tr>\n",
       "      <th>max_drawdown</th>\n",
       "      <td>-0.05539</td>\n",
       "    </tr>\n",
       "    <tr>\n",
       "      <th>annual_volatility</th>\n",
       "      <td>0.09853</td>\n",
       "    </tr>\n",
       "    <tr>\n",
       "      <th>value_at_risk</th>\n",
       "      <td>NaN</td>\n",
       "    </tr>\n",
       "    <tr>\n",
       "      <th rowspan=\"6\" valign=\"top\">4</th>\n",
       "      <th rowspan=\"6\" valign=\"top\">SSI</th>\n",
       "      <th>annual_return</th>\n",
       "      <td>0.38443</td>\n",
       "    </tr>\n",
       "    <tr>\n",
       "      <th>cum_returns_final</th>\n",
       "      <td>0.04083</td>\n",
       "    </tr>\n",
       "    <tr>\n",
       "      <th>sharpe_ratio</th>\n",
       "      <td>1.40191</td>\n",
       "    </tr>\n",
       "    <tr>\n",
       "      <th>max_drawdown</th>\n",
       "      <td>-0.07424</td>\n",
       "    </tr>\n",
       "    <tr>\n",
       "      <th>annual_volatility</th>\n",
       "      <td>0.26424</td>\n",
       "    </tr>\n",
       "    <tr>\n",
       "      <th>value_at_risk</th>\n",
       "      <td>NaN</td>\n",
       "    </tr>\n",
       "    <tr>\n",
       "      <th rowspan=\"6\" valign=\"top\">5</th>\n",
       "      <th rowspan=\"6\" valign=\"top\">SSI</th>\n",
       "      <th>annual_return</th>\n",
       "      <td>-0.18836</td>\n",
       "    </tr>\n",
       "    <tr>\n",
       "      <th>cum_returns_final</th>\n",
       "      <td>-0.02535</td>\n",
       "    </tr>\n",
       "    <tr>\n",
       "      <th>sharpe_ratio</th>\n",
       "      <td>-1.09239</td>\n",
       "    </tr>\n",
       "    <tr>\n",
       "      <th>max_drawdown</th>\n",
       "      <td>-0.06431</td>\n",
       "    </tr>\n",
       "    <tr>\n",
       "      <th>annual_volatility</th>\n",
       "      <td>0.18226</td>\n",
       "    </tr>\n",
       "    <tr>\n",
       "      <th>value_at_risk</th>\n",
       "      <td>NaN</td>\n",
       "    </tr>\n",
       "  </tbody>\n",
       "</table>\n",
       "</div>"
      ],
      "text/plain": [
       "                                           maml\n",
       "n_adapt_steps ticker metric                    \n",
       "0             SSI    annual_return      0.01269\n",
       "                     cum_returns_final  0.01259\n",
       "                     sharpe_ratio       0.27372\n",
       "                     max_drawdown      -0.04433\n",
       "                     annual_volatility  0.05095\n",
       "                     value_at_risk          NaN\n",
       "1             SSI    annual_return     -0.26669\n",
       "                     cum_returns_final -0.03744\n",
       "                     sharpe_ratio      -1.57248\n",
       "                     max_drawdown      -0.07745\n",
       "                     annual_volatility  0.19215\n",
       "                     value_at_risk          NaN\n",
       "2             SSI    annual_return     -0.20594\n",
       "                     cum_returns_final -0.02797\n",
       "                     sharpe_ratio      -1.09808\n",
       "                     max_drawdown      -0.05771\n",
       "                     annual_volatility  0.19926\n",
       "                     value_at_risk          NaN\n",
       "3             SSI    annual_return      0.09471\n",
       "                     cum_returns_final  0.09392\n",
       "                     sharpe_ratio       0.97101\n",
       "                     max_drawdown      -0.05539\n",
       "                     annual_volatility  0.09853\n",
       "                     value_at_risk          NaN\n",
       "4             SSI    annual_return      0.38443\n",
       "                     cum_returns_final  0.04083\n",
       "                     sharpe_ratio       1.40191\n",
       "                     max_drawdown      -0.07424\n",
       "                     annual_volatility  0.26424\n",
       "                     value_at_risk          NaN\n",
       "5             SSI    annual_return     -0.18836\n",
       "                     cum_returns_final -0.02535\n",
       "                     sharpe_ratio      -1.09239\n",
       "                     max_drawdown      -0.06431\n",
       "                     annual_volatility  0.18226\n",
       "                     value_at_risk          NaN"
      ]
     },
     "execution_count": 3,
     "metadata": {},
     "output_type": "execute_result"
    }
   ],
   "source": [
    "trading_performance, params = exp.mass_trading_performance(\n",
    "    methods=[\"maml\"],\n",
    "    maybe_num_tasks=[\"SSI\"],\n",
    "    total_adapt_steps=5,\n",
    ")\n",
    "trading_performance"
   ]
  },
  {
   "cell_type": "code",
   "execution_count": 19,
   "metadata": {},
   "outputs": [
    {
     "data": {
      "text/html": [
       "<div>\n",
       "<style scoped>\n",
       "    .dataframe tbody tr th:only-of-type {\n",
       "        vertical-align: middle;\n",
       "    }\n",
       "\n",
       "    .dataframe tbody tr th {\n",
       "        vertical-align: top;\n",
       "    }\n",
       "\n",
       "    .dataframe thead th {\n",
       "        text-align: right;\n",
       "    }\n",
       "</style>\n",
       "<table border=\"1\" class=\"dataframe\">\n",
       "  <thead>\n",
       "    <tr style=\"text-align: right;\">\n",
       "      <th></th>\n",
       "      <th></th>\n",
       "      <th></th>\n",
       "      <th>maml</th>\n",
       "    </tr>\n",
       "    <tr>\n",
       "      <th>n_adapt_steps</th>\n",
       "      <th>ticker</th>\n",
       "      <th>metric</th>\n",
       "      <th></th>\n",
       "    </tr>\n",
       "  </thead>\n",
       "  <tbody>\n",
       "    <tr>\n",
       "      <th rowspan=\"2\" valign=\"top\">0</th>\n",
       "      <th rowspan=\"2\" valign=\"top\">SSI</th>\n",
       "      <th>max_drawdown</th>\n",
       "      <td>-0.04433</td>\n",
       "    </tr>\n",
       "    <tr>\n",
       "      <th>sharpe_ratio</th>\n",
       "      <td>0.27372</td>\n",
       "    </tr>\n",
       "    <tr>\n",
       "      <th rowspan=\"2\" valign=\"top\">1</th>\n",
       "      <th rowspan=\"2\" valign=\"top\">SSI</th>\n",
       "      <th>max_drawdown</th>\n",
       "      <td>-0.07745</td>\n",
       "    </tr>\n",
       "    <tr>\n",
       "      <th>sharpe_ratio</th>\n",
       "      <td>-1.57248</td>\n",
       "    </tr>\n",
       "    <tr>\n",
       "      <th rowspan=\"2\" valign=\"top\">2</th>\n",
       "      <th rowspan=\"2\" valign=\"top\">SSI</th>\n",
       "      <th>max_drawdown</th>\n",
       "      <td>-0.05771</td>\n",
       "    </tr>\n",
       "    <tr>\n",
       "      <th>sharpe_ratio</th>\n",
       "      <td>-1.09808</td>\n",
       "    </tr>\n",
       "    <tr>\n",
       "      <th rowspan=\"2\" valign=\"top\">3</th>\n",
       "      <th rowspan=\"2\" valign=\"top\">SSI</th>\n",
       "      <th>max_drawdown</th>\n",
       "      <td>-0.05539</td>\n",
       "    </tr>\n",
       "    <tr>\n",
       "      <th>sharpe_ratio</th>\n",
       "      <td>0.97101</td>\n",
       "    </tr>\n",
       "    <tr>\n",
       "      <th rowspan=\"2\" valign=\"top\">4</th>\n",
       "      <th rowspan=\"2\" valign=\"top\">SSI</th>\n",
       "      <th>max_drawdown</th>\n",
       "      <td>-0.07424</td>\n",
       "    </tr>\n",
       "    <tr>\n",
       "      <th>sharpe_ratio</th>\n",
       "      <td>1.40191</td>\n",
       "    </tr>\n",
       "    <tr>\n",
       "      <th rowspan=\"2\" valign=\"top\">5</th>\n",
       "      <th rowspan=\"2\" valign=\"top\">SSI</th>\n",
       "      <th>max_drawdown</th>\n",
       "      <td>-0.06431</td>\n",
       "    </tr>\n",
       "    <tr>\n",
       "      <th>sharpe_ratio</th>\n",
       "      <td>-1.09239</td>\n",
       "    </tr>\n",
       "  </tbody>\n",
       "</table>\n",
       "</div>"
      ],
      "text/plain": [
       "                                      maml\n",
       "n_adapt_steps ticker metric               \n",
       "0             SSI    max_drawdown -0.04433\n",
       "                     sharpe_ratio  0.27372\n",
       "1             SSI    max_drawdown -0.07745\n",
       "                     sharpe_ratio -1.57248\n",
       "2             SSI    max_drawdown -0.05771\n",
       "                     sharpe_ratio -1.09808\n",
       "3             SSI    max_drawdown -0.05539\n",
       "                     sharpe_ratio  0.97101\n",
       "4             SSI    max_drawdown -0.07424\n",
       "                     sharpe_ratio  1.40191\n",
       "5             SSI    max_drawdown -0.06431\n",
       "                     sharpe_ratio -1.09239"
      ]
     },
     "execution_count": 19,
     "metadata": {},
     "output_type": "execute_result"
    }
   ],
   "source": [
    "trading_performance.loc[(slice(0,5), [\"SSI\"], (\"sharpe_ratio\", \"max_drawdown\")), :].sort_index()"
   ]
  },
  {
   "attachments": {},
   "cell_type": "markdown",
   "metadata": {},
   "source": [
    "# Evaluate task trading performance"
   ]
  },
  {
   "cell_type": "code",
   "execution_count": 45,
   "metadata": {},
   "outputs": [
    {
     "name": "stdout",
     "output_type": "stream",
     "text": [
      "Ticker: SSI, from date 2021-11-03 00:00:00 to date 2022-11-03 00:00:00\n",
      "\n",
      "        Annual return     :  0.82%\n",
      "        Cumulative return :  0.81%\n",
      "        Sharpe ratio      :  0.15\n",
      "        Maximum Drawdown  : -5.66%\n",
      "        Annual Volatility :  7.65%\n",
      "        Value-At-Risk     :  nan%\n",
      "        \n"
     ]
    },
    {
     "data": {
      "application/vnd.plotly.v1+json": {
       "config": {
        "plotlyServerURL": "https://plot.ly"
       },
       "data": [
        {
         "hoverinfo": "skip",
         "line": {
          "color": "rgba(0, 0, 0, 0)",
          "width": 0
         },
         "opacity": 0,
         "showlegend": false,
         "type": "scatter",
         "x": [
          "2021-11-04T00:00:00",
          "2021-11-05T00:00:00",
          "2021-11-08T00:00:00",
          "2021-11-09T00:00:00",
          "2021-11-10T00:00:00",
          "2021-11-11T00:00:00",
          "2021-11-12T00:00:00",
          "2021-11-15T00:00:00",
          "2021-11-16T00:00:00",
          "2021-11-17T00:00:00",
          "2021-11-18T00:00:00",
          "2021-11-19T00:00:00",
          "2021-11-22T00:00:00",
          "2021-11-23T00:00:00",
          "2021-11-24T00:00:00",
          "2021-11-25T00:00:00",
          "2021-11-26T00:00:00",
          "2021-11-29T00:00:00",
          "2021-11-30T00:00:00",
          "2021-12-01T00:00:00",
          "2021-12-02T00:00:00",
          "2021-12-03T00:00:00",
          "2021-12-06T00:00:00",
          "2021-12-07T00:00:00",
          "2021-12-08T00:00:00",
          "2021-12-09T00:00:00",
          "2021-12-10T00:00:00",
          "2021-12-13T00:00:00",
          "2021-12-14T00:00:00",
          "2021-12-15T00:00:00",
          "2021-12-16T00:00:00",
          "2021-12-17T00:00:00",
          "2021-12-20T00:00:00",
          "2021-12-21T00:00:00",
          "2021-12-22T00:00:00",
          "2021-12-23T00:00:00",
          "2021-12-24T00:00:00",
          "2021-12-27T00:00:00",
          "2021-12-28T00:00:00",
          "2021-12-29T00:00:00",
          "2021-12-30T00:00:00",
          "2021-12-31T00:00:00",
          "2022-01-04T00:00:00",
          "2022-01-05T00:00:00",
          "2022-01-06T00:00:00",
          "2022-01-07T00:00:00",
          "2022-01-10T00:00:00",
          "2022-01-11T00:00:00",
          "2022-01-12T00:00:00",
          "2022-01-13T00:00:00",
          "2022-01-14T00:00:00",
          "2022-01-17T00:00:00",
          "2022-01-18T00:00:00",
          "2022-01-19T00:00:00",
          "2022-01-20T00:00:00",
          "2022-01-21T00:00:00",
          "2022-01-24T00:00:00",
          "2022-01-25T00:00:00",
          "2022-01-26T00:00:00",
          "2022-01-27T00:00:00",
          "2022-01-28T00:00:00",
          "2022-02-07T00:00:00",
          "2022-02-08T00:00:00",
          "2022-02-09T00:00:00",
          "2022-02-10T00:00:00",
          "2022-02-11T00:00:00",
          "2022-02-14T00:00:00",
          "2022-02-15T00:00:00",
          "2022-02-16T00:00:00",
          "2022-02-17T00:00:00",
          "2022-02-18T00:00:00",
          "2022-02-21T00:00:00",
          "2022-02-22T00:00:00",
          "2022-02-23T00:00:00",
          "2022-02-24T00:00:00",
          "2022-02-25T00:00:00",
          "2022-02-28T00:00:00",
          "2022-03-01T00:00:00",
          "2022-03-02T00:00:00",
          "2022-03-03T00:00:00",
          "2022-03-04T00:00:00",
          "2022-03-07T00:00:00",
          "2022-03-08T00:00:00",
          "2022-03-09T00:00:00",
          "2022-03-10T00:00:00",
          "2022-03-11T00:00:00",
          "2022-03-14T00:00:00",
          "2022-03-15T00:00:00",
          "2022-03-16T00:00:00",
          "2022-03-17T00:00:00",
          "2022-03-18T00:00:00",
          "2022-03-21T00:00:00",
          "2022-03-22T00:00:00",
          "2022-03-23T00:00:00",
          "2022-03-24T00:00:00",
          "2022-03-25T00:00:00",
          "2022-03-28T00:00:00",
          "2022-03-29T00:00:00",
          "2022-03-30T00:00:00",
          "2022-03-31T00:00:00",
          "2022-04-01T00:00:00",
          "2022-04-04T00:00:00",
          "2022-04-05T00:00:00",
          "2022-04-06T00:00:00",
          "2022-04-07T00:00:00",
          "2022-04-08T00:00:00",
          "2022-04-12T00:00:00",
          "2022-04-13T00:00:00",
          "2022-04-14T00:00:00",
          "2022-04-15T00:00:00",
          "2022-04-18T00:00:00",
          "2022-04-19T00:00:00",
          "2022-04-20T00:00:00",
          "2022-04-21T00:00:00",
          "2022-04-22T00:00:00",
          "2022-04-25T00:00:00",
          "2022-04-26T00:00:00",
          "2022-04-27T00:00:00",
          "2022-04-28T00:00:00",
          "2022-04-29T00:00:00",
          "2022-05-04T00:00:00",
          "2022-05-05T00:00:00",
          "2022-05-06T00:00:00",
          "2022-05-09T00:00:00",
          "2022-05-10T00:00:00",
          "2022-05-11T00:00:00",
          "2022-05-12T00:00:00",
          "2022-05-13T00:00:00",
          "2022-05-16T00:00:00",
          "2022-05-17T00:00:00",
          "2022-05-18T00:00:00",
          "2022-05-19T00:00:00",
          "2022-05-20T00:00:00",
          "2022-05-23T00:00:00",
          "2022-05-24T00:00:00",
          "2022-05-25T00:00:00",
          "2022-05-26T00:00:00",
          "2022-05-27T00:00:00",
          "2022-05-30T00:00:00",
          "2022-05-31T00:00:00",
          "2022-06-01T00:00:00",
          "2022-06-02T00:00:00",
          "2022-06-03T00:00:00",
          "2022-06-06T00:00:00",
          "2022-06-07T00:00:00",
          "2022-06-08T00:00:00",
          "2022-06-09T00:00:00",
          "2022-06-10T00:00:00",
          "2022-06-13T00:00:00",
          "2022-06-14T00:00:00",
          "2022-06-15T00:00:00",
          "2022-06-16T00:00:00",
          "2022-06-17T00:00:00",
          "2022-06-20T00:00:00",
          "2022-06-21T00:00:00",
          "2022-06-22T00:00:00",
          "2022-06-23T00:00:00",
          "2022-06-24T00:00:00",
          "2022-06-27T00:00:00",
          "2022-06-28T00:00:00",
          "2022-06-29T00:00:00",
          "2022-06-30T00:00:00",
          "2022-07-01T00:00:00",
          "2022-07-04T00:00:00",
          "2022-07-05T00:00:00",
          "2022-07-06T00:00:00",
          "2022-07-07T00:00:00",
          "2022-07-08T00:00:00",
          "2022-07-11T00:00:00",
          "2022-07-12T00:00:00",
          "2022-07-13T00:00:00",
          "2022-07-14T00:00:00",
          "2022-07-15T00:00:00",
          "2022-07-18T00:00:00",
          "2022-07-19T00:00:00",
          "2022-07-20T00:00:00",
          "2022-07-21T00:00:00",
          "2022-07-22T00:00:00",
          "2022-07-25T00:00:00",
          "2022-07-26T00:00:00",
          "2022-07-27T00:00:00",
          "2022-07-28T00:00:00",
          "2022-07-29T00:00:00",
          "2022-08-01T00:00:00",
          "2022-08-02T00:00:00",
          "2022-08-03T00:00:00",
          "2022-08-04T00:00:00",
          "2022-08-05T00:00:00",
          "2022-08-08T00:00:00",
          "2022-08-09T00:00:00",
          "2022-08-10T00:00:00",
          "2022-08-11T00:00:00",
          "2022-08-12T00:00:00",
          "2022-08-15T00:00:00",
          "2022-08-16T00:00:00",
          "2022-08-17T00:00:00",
          "2022-08-18T00:00:00",
          "2022-08-19T00:00:00",
          "2022-08-22T00:00:00",
          "2022-08-23T00:00:00",
          "2022-08-24T00:00:00",
          "2022-08-25T00:00:00",
          "2022-08-26T00:00:00",
          "2022-08-29T00:00:00",
          "2022-08-30T00:00:00",
          "2022-08-31T00:00:00",
          "2022-09-05T00:00:00",
          "2022-09-06T00:00:00",
          "2022-09-07T00:00:00",
          "2022-09-08T00:00:00",
          "2022-09-09T00:00:00",
          "2022-09-12T00:00:00",
          "2022-09-13T00:00:00",
          "2022-09-14T00:00:00",
          "2022-09-15T00:00:00",
          "2022-09-16T00:00:00",
          "2022-09-19T00:00:00",
          "2022-09-20T00:00:00",
          "2022-09-21T00:00:00",
          "2022-09-22T00:00:00",
          "2022-09-23T00:00:00",
          "2022-09-26T00:00:00",
          "2022-09-27T00:00:00",
          "2022-09-28T00:00:00",
          "2022-09-29T00:00:00",
          "2022-09-30T00:00:00",
          "2022-10-03T00:00:00",
          "2022-10-04T00:00:00",
          "2022-10-05T00:00:00",
          "2022-10-06T00:00:00",
          "2022-10-07T00:00:00",
          "2022-10-10T00:00:00",
          "2022-10-11T00:00:00",
          "2022-10-12T00:00:00",
          "2022-10-13T00:00:00",
          "2022-10-14T00:00:00",
          "2022-10-17T00:00:00",
          "2022-10-18T00:00:00",
          "2022-10-19T00:00:00",
          "2022-10-20T00:00:00",
          "2022-10-21T00:00:00",
          "2022-10-24T00:00:00",
          "2022-10-25T00:00:00",
          "2022-10-26T00:00:00",
          "2022-10-27T00:00:00",
          "2022-10-28T00:00:00",
          "2022-10-31T00:00:00",
          "2022-11-01T00:00:00",
          "2022-11-02T00:00:00",
          "2022-11-03T00:00:00"
         ],
         "y": [
          500000,
          498841.57957061223,
          517440.6631313392,
          515123.8222725635,
          519770.37532821915,
          513373.3202903774,
          518611.9548988313,
          532564.4854039026,
          520349.58554291306,
          533143.6956185965,
          570354.7340781548,
          563957.679040313,
          565116.099469701,
          604656.8501261391,
          618609.3806312105,
          639538.1763888174,
          622097.5132574782,
          643026.3090150852,
          650002.5742676209,
          641867.8885856974,
          627915.3580806261,
          587216.1869948,
          593021.1604798435,
          606973.6909849148,
          602327.1379292592,
          625585.6458837461,
          616279.6684343305,
          620939.0928280904,
          612791.5358080626,
          601168.7174998714,
          591862.7400504557,
          610474.694949287,
          622097.5132574782,
          610474.694949287,
          594192.4522473357,
          569775.523863461,
          570354.7340781548,
          571513.1545075426,
          567445.8116665808,
          577330.9993306905,
          611633.1153786748,
          602327.1379292592,
          616279.6684343305,
          613962.8275755548,
          603485.558358647,
          599997.4257323792,
          576159.7075631983,
          559311.1259846574,
          587216.1869948,
          568025.0218812749,
          566287.3912371931,
          526746.6405807548,
          491865.31431807653,
          525588.220151367,
          531393.1936364104,
          518019.8733460331,
          481980.12665396696,
          497683.15914122434,
          493602.9449621583,
          504659.42439376,
          523837.7181691809,
          533143.6956185965,
          530813.9834217166,
          531393.1936364104,
          524416.9283838748,
          524416.9283838748,
          506976.2652525357,
          513952.53050507134,
          522100.08752509917,
          523258.507954487,
          525588.220151367,
          534881.3262626783,
          523258.507954487,
          526746.6405807548,
          518611.9548988313,
          531393.1936364104,
          531393.1936364104,
          534881.3262626783,
          520928.79575760703,
          529076.3527776347,
          541857.591515214,
          544187.303712094,
          546517.015908974,
          541857.591515214,
          541857.591515214,
          523258.507954487,
          502329.71219688,
          503488.13262626785,
          509305.9774494157,
          509305.9774494157,
          509305.9774494157,
          515123.8222725635,
          515703.03248725744,
          513952.53050507134,
          509305.9774494157,
          505238.63460845395,
          491286.10410338256,
          495932.6571590383,
          491865.31431807653,
          488377.1816918087,
          498841.57957061223,
          523258.507954487,
          515123.8222725635,
          518611.9548988313,
          512214.8998609896,
          500000,
          486047.4694949287,
          494774.2367296504,
          488377.1816918087,
          465118.6737373218,
          436055.1922977913,
          406978.83952015656,
          409308.5517170365,
          419193.7393811461,
          419193.7393811461,
          390117.38660351135,
          401160.99469700875,
          400002.5742676209,
          389538.17638881743,
          390117.38660351135,
          372097.51325747825,
          360461.8236111826,
          335465.68501261395,
          312207.177058127,
          324422.0769191165,
          322092.3647222366,
          300005.1485352417,
          300005.1485352417,
          317445.8116665809,
          338953.81763888174,
          333135.972815734,
          331398.3421716522,
          330819.13195695827,
          308139.83421716525,
          326751.7891159965,
          334886.47479792003,
          342441.9502651496,
          347680.5848736035,
          347680.5848736035,
          344771.6624620296,
          343600.3706945374,
          337216.18699480005,
          340112.2380682696,
          337216.18699480005,
          327910.20954538434,
          340704.31962106784,
          337216.18699480005,
          323842.86670442263,
          301742.7791793235,
          283143.69561859657,
          263373.3202903774,
          257555.4754672296,
          239535.60212119654,
          223253.35941924521,
          212788.96154044176,
          227822.68444627503,
          238119.75492972252,
          239406.88874015346,
          255496.06137054012,
          252278.2268444628,
          254208.92756010918,
          241981.1563610153,
          253565.36065489368,
          260001.02970704835,
          253565.36065489368,
          244555.42398187716,
          245842.55779230813,
          262575.2973279102,
          265793.1318539875,
          269010.9663800649,
          266436.698759203,
          276733.7692426505,
          271585.2340009268,
          269010.9663800649,
          265793.1318539875,
          274159.50162178866,
          274159.50162178866,
          269010.9663800649,
          263218.8642331257,
          260644.59661226382,
          262575.2973279102,
          272228.8009061422,
          274803.0685270041,
          293466.50877825264,
          298615.04401997634,
          303120.0123564846,
          303120.0123564846,
          319209.18498687126,
          317278.4842712248,
          319209.18498687126,
          315991.35046079394,
          314060.6497451475,
          320496.3187973022,
          318565.6180816558,
          316634.91736600944,
          315991.35046079394,
          323070.5864181641,
          323714.1533233795,
          317922.0511764403,
          326931.98784945684,
          325001.28713381046,
          328219.1216598878,
          319209.18498687126,
          314060.6497451475,
          308268.5475982083,
          308912.1145034238,
          305050.713072131,
          305694.2799773465,
          290248.67425217526,
          283813.0052000206,
          285743.705915667,
          281238.7375791588,
          278664.46995829686,
          282525.8713895897,
          278664.46995829686,
          272228.8009061422,
          256139.62827575556,
          266436.698759203,
          264505.99804355664,
          271585.2340009268,
          265793.1318539875,
          250991.09303403183,
          251634.6599392473,
          254208.92756010918,
          248416.82541316998,
          254852.49446532465,
          237476.18802450705,
          229109.818256706,
          240050.4556453689,
          223961.28301498224,
          216238.48015239666,
          223961.28301498224,
          208515.67728981105,
          222030.58229933586,
          225248.41682541318,
          230396.9520671369,
          231684.08587756785,
          229109.818256706,
          227179.11754105956,
          223961.28301498224,
          208515.67728981105,
          194357.2053750708,
          193713.63846985536,
          191139.37084899348,
          204010.7089533028,
          204654.27585851826,
          209802.81110024202,
          218169.18086804304,
          212377.07872110387,
          212377.07872110387
         ]
        },
        {
         "connectgaps": false,
         "fill": "tonexty",
         "fillcolor": "palegreen",
         "hoverinfo": "skip",
         "line": {
          "color": "rgba(0, 0, 0, 0)",
          "width": 0
         },
         "opacity": 0,
         "showlegend": false,
         "type": "scatter",
         "x": [
          "2021-11-04T00:00:00",
          "2021-11-05T00:00:00",
          "2021-11-08T00:00:00",
          "2021-11-09T00:00:00",
          "2021-11-10T00:00:00",
          "2021-11-11T00:00:00",
          "2021-11-12T00:00:00",
          "2021-11-15T00:00:00",
          "2021-11-16T00:00:00",
          "2021-11-17T00:00:00",
          "2021-11-18T00:00:00",
          "2021-11-19T00:00:00",
          "2021-11-22T00:00:00",
          "2021-11-23T00:00:00",
          "2021-11-24T00:00:00",
          "2021-11-25T00:00:00",
          "2021-11-26T00:00:00",
          "2021-11-29T00:00:00",
          "2021-11-30T00:00:00",
          "2021-12-01T00:00:00",
          "2021-12-02T00:00:00",
          "2021-12-03T00:00:00",
          "2021-12-06T00:00:00",
          "2021-12-07T00:00:00",
          "2021-12-08T00:00:00",
          "2021-12-09T00:00:00",
          "2021-12-10T00:00:00",
          "2021-12-13T00:00:00",
          "2021-12-14T00:00:00",
          "2021-12-15T00:00:00",
          "2021-12-16T00:00:00",
          "2021-12-17T00:00:00",
          "2021-12-20T00:00:00",
          "2021-12-21T00:00:00",
          "2021-12-22T00:00:00",
          "2021-12-23T00:00:00",
          "2021-12-24T00:00:00",
          "2021-12-27T00:00:00",
          "2021-12-28T00:00:00",
          "2021-12-29T00:00:00",
          "2021-12-30T00:00:00",
          "2021-12-31T00:00:00",
          "2022-01-04T00:00:00",
          "2022-01-05T00:00:00",
          "2022-01-06T00:00:00",
          "2022-01-07T00:00:00",
          "2022-01-10T00:00:00",
          "2022-01-11T00:00:00",
          "2022-01-12T00:00:00",
          "2022-01-13T00:00:00",
          "2022-01-14T00:00:00",
          "2022-01-17T00:00:00",
          "2022-01-18T00:00:00",
          "2022-01-19T00:00:00",
          "2022-01-20T00:00:00",
          "2022-01-21T00:00:00",
          "2022-01-24T00:00:00",
          "2022-01-25T00:00:00",
          "2022-01-26T00:00:00",
          "2022-01-27T00:00:00",
          "2022-01-28T00:00:00",
          "2022-02-07T00:00:00",
          "2022-02-08T00:00:00",
          "2022-02-09T00:00:00",
          "2022-02-10T00:00:00",
          "2022-02-11T00:00:00",
          "2022-02-14T00:00:00",
          "2022-02-15T00:00:00",
          "2022-02-16T00:00:00",
          "2022-02-17T00:00:00",
          "2022-02-18T00:00:00",
          "2022-02-21T00:00:00",
          "2022-02-22T00:00:00",
          "2022-02-23T00:00:00",
          "2022-02-24T00:00:00",
          "2022-02-25T00:00:00",
          "2022-02-28T00:00:00",
          "2022-03-01T00:00:00",
          "2022-03-02T00:00:00",
          "2022-03-03T00:00:00",
          "2022-03-04T00:00:00",
          "2022-03-07T00:00:00",
          "2022-03-08T00:00:00",
          "2022-03-09T00:00:00",
          "2022-03-10T00:00:00",
          "2022-03-11T00:00:00",
          "2022-03-14T00:00:00",
          "2022-03-15T00:00:00",
          "2022-03-16T00:00:00",
          "2022-03-17T00:00:00",
          "2022-03-18T00:00:00",
          "2022-03-21T00:00:00",
          "2022-03-22T00:00:00",
          "2022-03-23T00:00:00",
          "2022-03-24T00:00:00",
          "2022-03-25T00:00:00",
          "2022-03-28T00:00:00",
          "2022-03-29T00:00:00",
          "2022-03-30T00:00:00",
          "2022-03-31T00:00:00",
          "2022-04-01T00:00:00",
          "2022-04-04T00:00:00",
          "2022-04-05T00:00:00",
          "2022-04-06T00:00:00",
          "2022-04-07T00:00:00",
          "2022-04-08T00:00:00",
          "2022-04-12T00:00:00",
          "2022-04-13T00:00:00",
          "2022-04-14T00:00:00",
          "2022-04-15T00:00:00",
          "2022-04-18T00:00:00",
          "2022-04-19T00:00:00",
          "2022-04-20T00:00:00",
          "2022-04-21T00:00:00",
          "2022-04-22T00:00:00",
          "2022-04-25T00:00:00",
          "2022-04-26T00:00:00",
          "2022-04-27T00:00:00",
          "2022-04-28T00:00:00",
          "2022-04-29T00:00:00",
          "2022-05-04T00:00:00",
          "2022-05-05T00:00:00",
          "2022-05-06T00:00:00",
          "2022-05-09T00:00:00",
          "2022-05-10T00:00:00",
          "2022-05-11T00:00:00",
          "2022-05-12T00:00:00",
          "2022-05-13T00:00:00",
          "2022-05-16T00:00:00",
          "2022-05-17T00:00:00",
          "2022-05-18T00:00:00",
          "2022-05-19T00:00:00",
          "2022-05-20T00:00:00",
          "2022-05-23T00:00:00",
          "2022-05-24T00:00:00",
          "2022-05-25T00:00:00",
          "2022-05-26T00:00:00",
          "2022-05-27T00:00:00",
          "2022-05-30T00:00:00",
          "2022-05-31T00:00:00",
          "2022-06-01T00:00:00",
          "2022-06-02T00:00:00",
          "2022-06-03T00:00:00",
          "2022-06-06T00:00:00",
          "2022-06-07T00:00:00",
          "2022-06-08T00:00:00",
          "2022-06-09T00:00:00",
          "2022-06-10T00:00:00",
          "2022-06-13T00:00:00",
          "2022-06-14T00:00:00",
          "2022-06-15T00:00:00",
          "2022-06-16T00:00:00",
          "2022-06-17T00:00:00",
          "2022-06-20T00:00:00",
          "2022-06-21T00:00:00",
          "2022-06-22T00:00:00",
          "2022-06-23T00:00:00",
          "2022-06-24T00:00:00",
          "2022-06-27T00:00:00",
          "2022-06-28T00:00:00",
          "2022-06-29T00:00:00",
          "2022-06-30T00:00:00",
          "2022-07-01T00:00:00",
          "2022-07-04T00:00:00",
          "2022-07-05T00:00:00",
          "2022-07-06T00:00:00",
          "2022-07-07T00:00:00",
          "2022-07-08T00:00:00",
          "2022-07-11T00:00:00",
          "2022-07-12T00:00:00",
          "2022-07-13T00:00:00",
          "2022-07-14T00:00:00",
          "2022-07-15T00:00:00",
          "2022-07-18T00:00:00",
          "2022-07-19T00:00:00",
          "2022-07-20T00:00:00",
          "2022-07-21T00:00:00",
          "2022-07-22T00:00:00",
          "2022-07-25T00:00:00",
          "2022-07-26T00:00:00",
          "2022-07-27T00:00:00",
          "2022-07-28T00:00:00",
          "2022-07-29T00:00:00",
          "2022-08-01T00:00:00",
          "2022-08-02T00:00:00",
          "2022-08-03T00:00:00",
          "2022-08-04T00:00:00",
          "2022-08-05T00:00:00",
          "2022-08-08T00:00:00",
          "2022-08-09T00:00:00",
          "2022-08-10T00:00:00",
          "2022-08-11T00:00:00",
          "2022-08-12T00:00:00",
          "2022-08-15T00:00:00",
          "2022-08-16T00:00:00",
          "2022-08-17T00:00:00",
          "2022-08-18T00:00:00",
          "2022-08-19T00:00:00",
          "2022-08-22T00:00:00",
          "2022-08-23T00:00:00",
          "2022-08-24T00:00:00",
          "2022-08-25T00:00:00",
          "2022-08-26T00:00:00",
          "2022-08-29T00:00:00",
          "2022-08-30T00:00:00",
          "2022-08-31T00:00:00",
          "2022-09-05T00:00:00",
          "2022-09-06T00:00:00",
          "2022-09-07T00:00:00",
          "2022-09-08T00:00:00",
          "2022-09-09T00:00:00",
          "2022-09-12T00:00:00",
          "2022-09-13T00:00:00",
          "2022-09-14T00:00:00",
          "2022-09-15T00:00:00",
          "2022-09-16T00:00:00",
          "2022-09-19T00:00:00",
          "2022-09-20T00:00:00",
          "2022-09-21T00:00:00",
          "2022-09-22T00:00:00",
          "2022-09-23T00:00:00",
          "2022-09-26T00:00:00",
          "2022-09-27T00:00:00",
          "2022-09-28T00:00:00",
          "2022-09-29T00:00:00",
          "2022-09-30T00:00:00",
          "2022-10-03T00:00:00",
          "2022-10-04T00:00:00",
          "2022-10-05T00:00:00",
          "2022-10-06T00:00:00",
          "2022-10-07T00:00:00",
          "2022-10-10T00:00:00",
          "2022-10-11T00:00:00",
          "2022-10-12T00:00:00",
          "2022-10-13T00:00:00",
          "2022-10-14T00:00:00",
          "2022-10-17T00:00:00",
          "2022-10-18T00:00:00",
          "2022-10-19T00:00:00",
          "2022-10-20T00:00:00",
          "2022-10-21T00:00:00",
          "2022-10-24T00:00:00",
          "2022-10-25T00:00:00",
          "2022-10-26T00:00:00",
          "2022-10-27T00:00:00",
          "2022-10-28T00:00:00",
          "2022-10-31T00:00:00",
          "2022-11-01T00:00:00",
          "2022-11-02T00:00:00",
          "2022-11-03T00:00:00"
         ],
         "y": [
          500000,
          500000,
          517440.6631313392,
          515123.8222725635,
          519770.37532821915,
          513373.3202903774,
          518611.9548988313,
          532564.4854039026,
          520349.58554291306,
          533143.6956185965,
          570354.7340781548,
          563957.679040313,
          565116.099469701,
          604656.8501261391,
          618609.3806312105,
          639538.1763888174,
          622097.5132574782,
          643026.3090150852,
          650002.5742676209,
          641867.8885856974,
          627915.3580806261,
          587216.1869948,
          593021.1604798435,
          606973.6909849148,
          602327.1379292592,
          625585.6458837461,
          616279.6684343305,
          620939.0928280904,
          612791.5358080626,
          601168.7174998714,
          591862.7400504557,
          610474.694949287,
          622097.5132574782,
          610474.694949287,
          594192.4522473357,
          569775.523863461,
          570354.7340781548,
          571513.1545075426,
          567445.8116665808,
          577330.9993306905,
          611633.1153786748,
          602327.1379292592,
          616279.6684343305,
          613962.8275755548,
          603485.558358647,
          599997.4257323792,
          576159.7075631983,
          559311.1259846574,
          587216.1869948,
          568025.0218812749,
          566287.3912371931,
          526746.6405807548,
          494637.45690000005,
          525588.220151367,
          531393.1936364104,
          518019.8733460331,
          494637.45690000005,
          497683.15914122434,
          494637.45690000005,
          504659.42439376,
          523837.7181691809,
          533143.6956185965,
          530813.9834217166,
          531393.1936364104,
          524416.9283838748,
          524416.9283838748,
          506976.2652525357,
          513952.53050507134,
          522100.08752509917,
          523258.507954487,
          525588.220151367,
          534881.3262626783,
          523258.507954487,
          526746.6405807548,
          518611.9548988313,
          531393.1936364104,
          531393.1936364104,
          534881.3262626783,
          520928.79575760703,
          529076.3527776347,
          541857.591515214,
          544187.303712094,
          546517.015908974,
          541857.591515214,
          541857.591515214,
          523258.507954487,
          502329.71219688,
          503488.13262626785,
          509305.9774494157,
          509305.9774494157,
          509305.9774494157,
          515123.8222725635,
          515703.03248725744,
          513952.53050507134,
          509305.9774494157,
          505238.63460845395,
          494637.45690000005,
          495932.6571590383,
          494637.45690000005,
          494637.45690000005,
          498841.57957061223,
          523258.507954487,
          515123.8222725635,
          518611.9548988313,
          512214.8998609896,
          500000,
          494637.45690000005,
          494774.2367296504,
          494637.45690000005,
          494637.45690000005,
          494637.45690000005,
          494637.45690000005,
          494637.45690000005,
          494637.45690000005,
          494637.45690000005,
          494637.45690000005,
          494637.45690000005,
          494637.45690000005,
          494637.45690000005,
          494637.45690000005,
          494637.45690000005,
          494637.45690000005,
          494637.45690000005,
          494637.45690000005,
          494637.45690000005,
          494637.45690000005,
          494637.45690000005,
          494637.45690000005,
          494637.45690000005,
          494637.45690000005,
          494637.45690000005,
          494637.45690000005,
          494637.45690000005,
          494637.45690000005,
          494637.45690000005,
          494637.45690000005,
          494637.45690000005,
          494637.45690000005,
          494637.45690000005,
          494637.45690000005,
          494637.45690000005,
          494637.45690000005,
          494637.45690000005,
          494637.45690000005,
          494637.45690000005,
          494637.45690000005,
          494637.45690000005,
          494637.45690000005,
          494637.45690000005,
          494637.45690000005,
          494637.45690000005,
          494637.45690000005,
          494637.45690000005,
          494637.45690000005,
          494637.45690000005,
          494637.45690000005,
          494637.45690000005,
          494637.45690000005,
          494637.45690000005,
          494637.45690000005,
          494637.45690000005,
          494637.45690000005,
          494637.45690000005,
          494637.45690000005,
          494637.45690000005,
          494637.45690000005,
          494637.45690000005,
          494637.45690000005,
          494637.45690000005,
          494637.45690000005,
          494637.45690000005,
          494637.45690000005,
          492759.69690000004,
          492039.69690000004,
          491139.69690000004,
          492248.4969,
          492248.4969,
          492248.4969,
          492248.4969,
          492248.4969,
          492248.4969,
          492248.4969,
          492248.4969,
          512821.0569,
          518581.0569,
          523621.0569,
          526495.1369,
          526445.7969000001,
          526445.7969000001,
          526445.7969000001,
          526445.7969000001,
          526445.7969000001,
          526445.7969000001,
          526445.7969000001,
          526445.7969000001,
          526445.7969000001,
          526445.7969000001,
          526445.7969000001,
          526445.7969000001,
          526445.7969000001,
          526445.7969000001,
          526445.7969000001,
          526445.7969000001,
          526445.7969000001,
          526445.7969000001,
          526445.7969000001,
          526445.7969000001,
          526445.7969000001,
          526445.7969000001,
          526445.7969000001,
          526445.7969000001,
          526445.7969000001,
          526445.7969000001,
          526445.7969000001,
          526445.7969000001,
          526445.7969000001,
          526445.7969000001,
          526445.7969000001,
          526445.7969000001,
          526445.7969000001,
          526445.7969000001,
          526445.7969000001,
          526445.7969000001,
          526445.7969000001,
          510986.4369000001,
          519386.4369000001,
          496706.4369000001,
          502569.1969000001,
          503082.4969000001,
          503082.4969000001,
          503082.4969000001,
          503082.4969000001,
          503082.4969000001,
          503082.4969000001,
          503082.4969000001,
          503082.4969000001,
          503082.4969000001,
          503082.4969000001,
          503082.4969000001,
          502835.7469000001,
          500315.7469000001,
          498005.7469000001,
          497549.2069000001,
          496929.9469000001,
          502329.9469000001,
          503991.4669000001,
          503985.10690000013,
          503985.10690000013,
          503985.10690000013,
          504070.24690000014
         ]
        },
        {
         "hoverinfo": "skip",
         "line": {
          "color": "rgba(0, 0, 0, 0)",
          "width": 0
         },
         "opacity": 0,
         "showlegend": false,
         "type": "scatter",
         "x": [
          "2021-11-04T00:00:00",
          "2021-11-05T00:00:00",
          "2021-11-08T00:00:00",
          "2021-11-09T00:00:00",
          "2021-11-10T00:00:00",
          "2021-11-11T00:00:00",
          "2021-11-12T00:00:00",
          "2021-11-15T00:00:00",
          "2021-11-16T00:00:00",
          "2021-11-17T00:00:00",
          "2021-11-18T00:00:00",
          "2021-11-19T00:00:00",
          "2021-11-22T00:00:00",
          "2021-11-23T00:00:00",
          "2021-11-24T00:00:00",
          "2021-11-25T00:00:00",
          "2021-11-26T00:00:00",
          "2021-11-29T00:00:00",
          "2021-11-30T00:00:00",
          "2021-12-01T00:00:00",
          "2021-12-02T00:00:00",
          "2021-12-03T00:00:00",
          "2021-12-06T00:00:00",
          "2021-12-07T00:00:00",
          "2021-12-08T00:00:00",
          "2021-12-09T00:00:00",
          "2021-12-10T00:00:00",
          "2021-12-13T00:00:00",
          "2021-12-14T00:00:00",
          "2021-12-15T00:00:00",
          "2021-12-16T00:00:00",
          "2021-12-17T00:00:00",
          "2021-12-20T00:00:00",
          "2021-12-21T00:00:00",
          "2021-12-22T00:00:00",
          "2021-12-23T00:00:00",
          "2021-12-24T00:00:00",
          "2021-12-27T00:00:00",
          "2021-12-28T00:00:00",
          "2021-12-29T00:00:00",
          "2021-12-30T00:00:00",
          "2021-12-31T00:00:00",
          "2022-01-04T00:00:00",
          "2022-01-05T00:00:00",
          "2022-01-06T00:00:00",
          "2022-01-07T00:00:00",
          "2022-01-10T00:00:00",
          "2022-01-11T00:00:00",
          "2022-01-12T00:00:00",
          "2022-01-13T00:00:00",
          "2022-01-14T00:00:00",
          "2022-01-17T00:00:00",
          "2022-01-18T00:00:00",
          "2022-01-19T00:00:00",
          "2022-01-20T00:00:00",
          "2022-01-21T00:00:00",
          "2022-01-24T00:00:00",
          "2022-01-25T00:00:00",
          "2022-01-26T00:00:00",
          "2022-01-27T00:00:00",
          "2022-01-28T00:00:00",
          "2022-02-07T00:00:00",
          "2022-02-08T00:00:00",
          "2022-02-09T00:00:00",
          "2022-02-10T00:00:00",
          "2022-02-11T00:00:00",
          "2022-02-14T00:00:00",
          "2022-02-15T00:00:00",
          "2022-02-16T00:00:00",
          "2022-02-17T00:00:00",
          "2022-02-18T00:00:00",
          "2022-02-21T00:00:00",
          "2022-02-22T00:00:00",
          "2022-02-23T00:00:00",
          "2022-02-24T00:00:00",
          "2022-02-25T00:00:00",
          "2022-02-28T00:00:00",
          "2022-03-01T00:00:00",
          "2022-03-02T00:00:00",
          "2022-03-03T00:00:00",
          "2022-03-04T00:00:00",
          "2022-03-07T00:00:00",
          "2022-03-08T00:00:00",
          "2022-03-09T00:00:00",
          "2022-03-10T00:00:00",
          "2022-03-11T00:00:00",
          "2022-03-14T00:00:00",
          "2022-03-15T00:00:00",
          "2022-03-16T00:00:00",
          "2022-03-17T00:00:00",
          "2022-03-18T00:00:00",
          "2022-03-21T00:00:00",
          "2022-03-22T00:00:00",
          "2022-03-23T00:00:00",
          "2022-03-24T00:00:00",
          "2022-03-25T00:00:00",
          "2022-03-28T00:00:00",
          "2022-03-29T00:00:00",
          "2022-03-30T00:00:00",
          "2022-03-31T00:00:00",
          "2022-04-01T00:00:00",
          "2022-04-04T00:00:00",
          "2022-04-05T00:00:00",
          "2022-04-06T00:00:00",
          "2022-04-07T00:00:00",
          "2022-04-08T00:00:00",
          "2022-04-12T00:00:00",
          "2022-04-13T00:00:00",
          "2022-04-14T00:00:00",
          "2022-04-15T00:00:00",
          "2022-04-18T00:00:00",
          "2022-04-19T00:00:00",
          "2022-04-20T00:00:00",
          "2022-04-21T00:00:00",
          "2022-04-22T00:00:00",
          "2022-04-25T00:00:00",
          "2022-04-26T00:00:00",
          "2022-04-27T00:00:00",
          "2022-04-28T00:00:00",
          "2022-04-29T00:00:00",
          "2022-05-04T00:00:00",
          "2022-05-05T00:00:00",
          "2022-05-06T00:00:00",
          "2022-05-09T00:00:00",
          "2022-05-10T00:00:00",
          "2022-05-11T00:00:00",
          "2022-05-12T00:00:00",
          "2022-05-13T00:00:00",
          "2022-05-16T00:00:00",
          "2022-05-17T00:00:00",
          "2022-05-18T00:00:00",
          "2022-05-19T00:00:00",
          "2022-05-20T00:00:00",
          "2022-05-23T00:00:00",
          "2022-05-24T00:00:00",
          "2022-05-25T00:00:00",
          "2022-05-26T00:00:00",
          "2022-05-27T00:00:00",
          "2022-05-30T00:00:00",
          "2022-05-31T00:00:00",
          "2022-06-01T00:00:00",
          "2022-06-02T00:00:00",
          "2022-06-03T00:00:00",
          "2022-06-06T00:00:00",
          "2022-06-07T00:00:00",
          "2022-06-08T00:00:00",
          "2022-06-09T00:00:00",
          "2022-06-10T00:00:00",
          "2022-06-13T00:00:00",
          "2022-06-14T00:00:00",
          "2022-06-15T00:00:00",
          "2022-06-16T00:00:00",
          "2022-06-17T00:00:00",
          "2022-06-20T00:00:00",
          "2022-06-21T00:00:00",
          "2022-06-22T00:00:00",
          "2022-06-23T00:00:00",
          "2022-06-24T00:00:00",
          "2022-06-27T00:00:00",
          "2022-06-28T00:00:00",
          "2022-06-29T00:00:00",
          "2022-06-30T00:00:00",
          "2022-07-01T00:00:00",
          "2022-07-04T00:00:00",
          "2022-07-05T00:00:00",
          "2022-07-06T00:00:00",
          "2022-07-07T00:00:00",
          "2022-07-08T00:00:00",
          "2022-07-11T00:00:00",
          "2022-07-12T00:00:00",
          "2022-07-13T00:00:00",
          "2022-07-14T00:00:00",
          "2022-07-15T00:00:00",
          "2022-07-18T00:00:00",
          "2022-07-19T00:00:00",
          "2022-07-20T00:00:00",
          "2022-07-21T00:00:00",
          "2022-07-22T00:00:00",
          "2022-07-25T00:00:00",
          "2022-07-26T00:00:00",
          "2022-07-27T00:00:00",
          "2022-07-28T00:00:00",
          "2022-07-29T00:00:00",
          "2022-08-01T00:00:00",
          "2022-08-02T00:00:00",
          "2022-08-03T00:00:00",
          "2022-08-04T00:00:00",
          "2022-08-05T00:00:00",
          "2022-08-08T00:00:00",
          "2022-08-09T00:00:00",
          "2022-08-10T00:00:00",
          "2022-08-11T00:00:00",
          "2022-08-12T00:00:00",
          "2022-08-15T00:00:00",
          "2022-08-16T00:00:00",
          "2022-08-17T00:00:00",
          "2022-08-18T00:00:00",
          "2022-08-19T00:00:00",
          "2022-08-22T00:00:00",
          "2022-08-23T00:00:00",
          "2022-08-24T00:00:00",
          "2022-08-25T00:00:00",
          "2022-08-26T00:00:00",
          "2022-08-29T00:00:00",
          "2022-08-30T00:00:00",
          "2022-08-31T00:00:00",
          "2022-09-05T00:00:00",
          "2022-09-06T00:00:00",
          "2022-09-07T00:00:00",
          "2022-09-08T00:00:00",
          "2022-09-09T00:00:00",
          "2022-09-12T00:00:00",
          "2022-09-13T00:00:00",
          "2022-09-14T00:00:00",
          "2022-09-15T00:00:00",
          "2022-09-16T00:00:00",
          "2022-09-19T00:00:00",
          "2022-09-20T00:00:00",
          "2022-09-21T00:00:00",
          "2022-09-22T00:00:00",
          "2022-09-23T00:00:00",
          "2022-09-26T00:00:00",
          "2022-09-27T00:00:00",
          "2022-09-28T00:00:00",
          "2022-09-29T00:00:00",
          "2022-09-30T00:00:00",
          "2022-10-03T00:00:00",
          "2022-10-04T00:00:00",
          "2022-10-05T00:00:00",
          "2022-10-06T00:00:00",
          "2022-10-07T00:00:00",
          "2022-10-10T00:00:00",
          "2022-10-11T00:00:00",
          "2022-10-12T00:00:00",
          "2022-10-13T00:00:00",
          "2022-10-14T00:00:00",
          "2022-10-17T00:00:00",
          "2022-10-18T00:00:00",
          "2022-10-19T00:00:00",
          "2022-10-20T00:00:00",
          "2022-10-21T00:00:00",
          "2022-10-24T00:00:00",
          "2022-10-25T00:00:00",
          "2022-10-26T00:00:00",
          "2022-10-27T00:00:00",
          "2022-10-28T00:00:00",
          "2022-10-31T00:00:00",
          "2022-11-01T00:00:00",
          "2022-11-02T00:00:00",
          "2022-11-03T00:00:00"
         ],
         "y": [
          500000,
          498841.57957061223,
          517440.6631313392,
          515123.8222725635,
          519770.37532821915,
          513373.3202903774,
          518611.9548988313,
          532564.4854039026,
          520349.58554291306,
          533143.6956185965,
          570354.7340781548,
          563957.679040313,
          565116.099469701,
          604656.8501261391,
          618609.3806312105,
          639538.1763888174,
          622097.5132574782,
          643026.3090150852,
          650002.5742676209,
          641867.8885856974,
          627915.3580806261,
          587216.1869948,
          593021.1604798435,
          606973.6909849148,
          602327.1379292592,
          625585.6458837461,
          616279.6684343305,
          620939.0928280904,
          612791.5358080626,
          601168.7174998714,
          591862.7400504557,
          610474.694949287,
          622097.5132574782,
          610474.694949287,
          594192.4522473357,
          569775.523863461,
          570354.7340781548,
          571513.1545075426,
          567445.8116665808,
          577330.9993306905,
          611633.1153786748,
          602327.1379292592,
          616279.6684343305,
          613962.8275755548,
          603485.558358647,
          599997.4257323792,
          576159.7075631983,
          559311.1259846574,
          587216.1869948,
          568025.0218812749,
          566287.3912371931,
          526746.6405807548,
          491865.31431807653,
          525588.220151367,
          531393.1936364104,
          518019.8733460331,
          481980.12665396696,
          497683.15914122434,
          493602.9449621583,
          504659.42439376,
          523837.7181691809,
          533143.6956185965,
          530813.9834217166,
          531393.1936364104,
          524416.9283838748,
          524416.9283838748,
          506976.2652525357,
          513952.53050507134,
          522100.08752509917,
          523258.507954487,
          525588.220151367,
          534881.3262626783,
          523258.507954487,
          526746.6405807548,
          518611.9548988313,
          531393.1936364104,
          531393.1936364104,
          534881.3262626783,
          520928.79575760703,
          529076.3527776347,
          541857.591515214,
          544187.303712094,
          546517.015908974,
          541857.591515214,
          541857.591515214,
          523258.507954487,
          502329.71219688,
          503488.13262626785,
          509305.9774494157,
          509305.9774494157,
          509305.9774494157,
          515123.8222725635,
          515703.03248725744,
          513952.53050507134,
          509305.9774494157,
          505238.63460845395,
          491286.10410338256,
          495932.6571590383,
          491865.31431807653,
          488377.1816918087,
          498841.57957061223,
          523258.507954487,
          515123.8222725635,
          518611.9548988313,
          512214.8998609896,
          500000,
          486047.4694949287,
          494774.2367296504,
          488377.1816918087,
          465118.6737373218,
          436055.1922977913,
          406978.83952015656,
          409308.5517170365,
          419193.7393811461,
          419193.7393811461,
          390117.38660351135,
          401160.99469700875,
          400002.5742676209,
          389538.17638881743,
          390117.38660351135,
          372097.51325747825,
          360461.8236111826,
          335465.68501261395,
          312207.177058127,
          324422.0769191165,
          322092.3647222366,
          300005.1485352417,
          300005.1485352417,
          317445.8116665809,
          338953.81763888174,
          333135.972815734,
          331398.3421716522,
          330819.13195695827,
          308139.83421716525,
          326751.7891159965,
          334886.47479792003,
          342441.9502651496,
          347680.5848736035,
          347680.5848736035,
          344771.6624620296,
          343600.3706945374,
          337216.18699480005,
          340112.2380682696,
          337216.18699480005,
          327910.20954538434,
          340704.31962106784,
          337216.18699480005,
          323842.86670442263,
          301742.7791793235,
          283143.69561859657,
          263373.3202903774,
          257555.4754672296,
          239535.60212119654,
          223253.35941924521,
          212788.96154044176,
          227822.68444627503,
          238119.75492972252,
          239406.88874015346,
          255496.06137054012,
          252278.2268444628,
          254208.92756010918,
          241981.1563610153,
          253565.36065489368,
          260001.02970704835,
          253565.36065489368,
          244555.42398187716,
          245842.55779230813,
          262575.2973279102,
          265793.1318539875,
          269010.9663800649,
          266436.698759203,
          276733.7692426505,
          271585.2340009268,
          269010.9663800649,
          265793.1318539875,
          274159.50162178866,
          274159.50162178866,
          269010.9663800649,
          263218.8642331257,
          260644.59661226382,
          262575.2973279102,
          272228.8009061422,
          274803.0685270041,
          293466.50877825264,
          298615.04401997634,
          303120.0123564846,
          303120.0123564846,
          319209.18498687126,
          317278.4842712248,
          319209.18498687126,
          315991.35046079394,
          314060.6497451475,
          320496.3187973022,
          318565.6180816558,
          316634.91736600944,
          315991.35046079394,
          323070.5864181641,
          323714.1533233795,
          317922.0511764403,
          326931.98784945684,
          325001.28713381046,
          328219.1216598878,
          319209.18498687126,
          314060.6497451475,
          308268.5475982083,
          308912.1145034238,
          305050.713072131,
          305694.2799773465,
          290248.67425217526,
          283813.0052000206,
          285743.705915667,
          281238.7375791588,
          278664.46995829686,
          282525.8713895897,
          278664.46995829686,
          272228.8009061422,
          256139.62827575556,
          266436.698759203,
          264505.99804355664,
          271585.2340009268,
          265793.1318539875,
          250991.09303403183,
          251634.6599392473,
          254208.92756010918,
          248416.82541316998,
          254852.49446532465,
          237476.18802450705,
          229109.818256706,
          240050.4556453689,
          223961.28301498224,
          216238.48015239666,
          223961.28301498224,
          208515.67728981105,
          222030.58229933586,
          225248.41682541318,
          230396.9520671369,
          231684.08587756785,
          229109.818256706,
          227179.11754105956,
          223961.28301498224,
          208515.67728981105,
          194357.2053750708,
          193713.63846985536,
          191139.37084899348,
          204010.7089533028,
          204654.27585851826,
          209802.81110024202,
          218169.18086804304,
          212377.07872110387,
          212377.07872110387
         ]
        },
        {
         "connectgaps": false,
         "fill": "tonexty",
         "fillcolor": "salmon",
         "hoverinfo": "skip",
         "line": {
          "color": "rgba(0, 0, 0, 0)",
          "width": 0
         },
         "opacity": 0,
         "showlegend": false,
         "type": "scatter",
         "x": [
          "2021-11-04T00:00:00",
          "2021-11-05T00:00:00",
          "2021-11-08T00:00:00",
          "2021-11-09T00:00:00",
          "2021-11-10T00:00:00",
          "2021-11-11T00:00:00",
          "2021-11-12T00:00:00",
          "2021-11-15T00:00:00",
          "2021-11-16T00:00:00",
          "2021-11-17T00:00:00",
          "2021-11-18T00:00:00",
          "2021-11-19T00:00:00",
          "2021-11-22T00:00:00",
          "2021-11-23T00:00:00",
          "2021-11-24T00:00:00",
          "2021-11-25T00:00:00",
          "2021-11-26T00:00:00",
          "2021-11-29T00:00:00",
          "2021-11-30T00:00:00",
          "2021-12-01T00:00:00",
          "2021-12-02T00:00:00",
          "2021-12-03T00:00:00",
          "2021-12-06T00:00:00",
          "2021-12-07T00:00:00",
          "2021-12-08T00:00:00",
          "2021-12-09T00:00:00",
          "2021-12-10T00:00:00",
          "2021-12-13T00:00:00",
          "2021-12-14T00:00:00",
          "2021-12-15T00:00:00",
          "2021-12-16T00:00:00",
          "2021-12-17T00:00:00",
          "2021-12-20T00:00:00",
          "2021-12-21T00:00:00",
          "2021-12-22T00:00:00",
          "2021-12-23T00:00:00",
          "2021-12-24T00:00:00",
          "2021-12-27T00:00:00",
          "2021-12-28T00:00:00",
          "2021-12-29T00:00:00",
          "2021-12-30T00:00:00",
          "2021-12-31T00:00:00",
          "2022-01-04T00:00:00",
          "2022-01-05T00:00:00",
          "2022-01-06T00:00:00",
          "2022-01-07T00:00:00",
          "2022-01-10T00:00:00",
          "2022-01-11T00:00:00",
          "2022-01-12T00:00:00",
          "2022-01-13T00:00:00",
          "2022-01-14T00:00:00",
          "2022-01-17T00:00:00",
          "2022-01-18T00:00:00",
          "2022-01-19T00:00:00",
          "2022-01-20T00:00:00",
          "2022-01-21T00:00:00",
          "2022-01-24T00:00:00",
          "2022-01-25T00:00:00",
          "2022-01-26T00:00:00",
          "2022-01-27T00:00:00",
          "2022-01-28T00:00:00",
          "2022-02-07T00:00:00",
          "2022-02-08T00:00:00",
          "2022-02-09T00:00:00",
          "2022-02-10T00:00:00",
          "2022-02-11T00:00:00",
          "2022-02-14T00:00:00",
          "2022-02-15T00:00:00",
          "2022-02-16T00:00:00",
          "2022-02-17T00:00:00",
          "2022-02-18T00:00:00",
          "2022-02-21T00:00:00",
          "2022-02-22T00:00:00",
          "2022-02-23T00:00:00",
          "2022-02-24T00:00:00",
          "2022-02-25T00:00:00",
          "2022-02-28T00:00:00",
          "2022-03-01T00:00:00",
          "2022-03-02T00:00:00",
          "2022-03-03T00:00:00",
          "2022-03-04T00:00:00",
          "2022-03-07T00:00:00",
          "2022-03-08T00:00:00",
          "2022-03-09T00:00:00",
          "2022-03-10T00:00:00",
          "2022-03-11T00:00:00",
          "2022-03-14T00:00:00",
          "2022-03-15T00:00:00",
          "2022-03-16T00:00:00",
          "2022-03-17T00:00:00",
          "2022-03-18T00:00:00",
          "2022-03-21T00:00:00",
          "2022-03-22T00:00:00",
          "2022-03-23T00:00:00",
          "2022-03-24T00:00:00",
          "2022-03-25T00:00:00",
          "2022-03-28T00:00:00",
          "2022-03-29T00:00:00",
          "2022-03-30T00:00:00",
          "2022-03-31T00:00:00",
          "2022-04-01T00:00:00",
          "2022-04-04T00:00:00",
          "2022-04-05T00:00:00",
          "2022-04-06T00:00:00",
          "2022-04-07T00:00:00",
          "2022-04-08T00:00:00",
          "2022-04-12T00:00:00",
          "2022-04-13T00:00:00",
          "2022-04-14T00:00:00",
          "2022-04-15T00:00:00",
          "2022-04-18T00:00:00",
          "2022-04-19T00:00:00",
          "2022-04-20T00:00:00",
          "2022-04-21T00:00:00",
          "2022-04-22T00:00:00",
          "2022-04-25T00:00:00",
          "2022-04-26T00:00:00",
          "2022-04-27T00:00:00",
          "2022-04-28T00:00:00",
          "2022-04-29T00:00:00",
          "2022-05-04T00:00:00",
          "2022-05-05T00:00:00",
          "2022-05-06T00:00:00",
          "2022-05-09T00:00:00",
          "2022-05-10T00:00:00",
          "2022-05-11T00:00:00",
          "2022-05-12T00:00:00",
          "2022-05-13T00:00:00",
          "2022-05-16T00:00:00",
          "2022-05-17T00:00:00",
          "2022-05-18T00:00:00",
          "2022-05-19T00:00:00",
          "2022-05-20T00:00:00",
          "2022-05-23T00:00:00",
          "2022-05-24T00:00:00",
          "2022-05-25T00:00:00",
          "2022-05-26T00:00:00",
          "2022-05-27T00:00:00",
          "2022-05-30T00:00:00",
          "2022-05-31T00:00:00",
          "2022-06-01T00:00:00",
          "2022-06-02T00:00:00",
          "2022-06-03T00:00:00",
          "2022-06-06T00:00:00",
          "2022-06-07T00:00:00",
          "2022-06-08T00:00:00",
          "2022-06-09T00:00:00",
          "2022-06-10T00:00:00",
          "2022-06-13T00:00:00",
          "2022-06-14T00:00:00",
          "2022-06-15T00:00:00",
          "2022-06-16T00:00:00",
          "2022-06-17T00:00:00",
          "2022-06-20T00:00:00",
          "2022-06-21T00:00:00",
          "2022-06-22T00:00:00",
          "2022-06-23T00:00:00",
          "2022-06-24T00:00:00",
          "2022-06-27T00:00:00",
          "2022-06-28T00:00:00",
          "2022-06-29T00:00:00",
          "2022-06-30T00:00:00",
          "2022-07-01T00:00:00",
          "2022-07-04T00:00:00",
          "2022-07-05T00:00:00",
          "2022-07-06T00:00:00",
          "2022-07-07T00:00:00",
          "2022-07-08T00:00:00",
          "2022-07-11T00:00:00",
          "2022-07-12T00:00:00",
          "2022-07-13T00:00:00",
          "2022-07-14T00:00:00",
          "2022-07-15T00:00:00",
          "2022-07-18T00:00:00",
          "2022-07-19T00:00:00",
          "2022-07-20T00:00:00",
          "2022-07-21T00:00:00",
          "2022-07-22T00:00:00",
          "2022-07-25T00:00:00",
          "2022-07-26T00:00:00",
          "2022-07-27T00:00:00",
          "2022-07-28T00:00:00",
          "2022-07-29T00:00:00",
          "2022-08-01T00:00:00",
          "2022-08-02T00:00:00",
          "2022-08-03T00:00:00",
          "2022-08-04T00:00:00",
          "2022-08-05T00:00:00",
          "2022-08-08T00:00:00",
          "2022-08-09T00:00:00",
          "2022-08-10T00:00:00",
          "2022-08-11T00:00:00",
          "2022-08-12T00:00:00",
          "2022-08-15T00:00:00",
          "2022-08-16T00:00:00",
          "2022-08-17T00:00:00",
          "2022-08-18T00:00:00",
          "2022-08-19T00:00:00",
          "2022-08-22T00:00:00",
          "2022-08-23T00:00:00",
          "2022-08-24T00:00:00",
          "2022-08-25T00:00:00",
          "2022-08-26T00:00:00",
          "2022-08-29T00:00:00",
          "2022-08-30T00:00:00",
          "2022-08-31T00:00:00",
          "2022-09-05T00:00:00",
          "2022-09-06T00:00:00",
          "2022-09-07T00:00:00",
          "2022-09-08T00:00:00",
          "2022-09-09T00:00:00",
          "2022-09-12T00:00:00",
          "2022-09-13T00:00:00",
          "2022-09-14T00:00:00",
          "2022-09-15T00:00:00",
          "2022-09-16T00:00:00",
          "2022-09-19T00:00:00",
          "2022-09-20T00:00:00",
          "2022-09-21T00:00:00",
          "2022-09-22T00:00:00",
          "2022-09-23T00:00:00",
          "2022-09-26T00:00:00",
          "2022-09-27T00:00:00",
          "2022-09-28T00:00:00",
          "2022-09-29T00:00:00",
          "2022-09-30T00:00:00",
          "2022-10-03T00:00:00",
          "2022-10-04T00:00:00",
          "2022-10-05T00:00:00",
          "2022-10-06T00:00:00",
          "2022-10-07T00:00:00",
          "2022-10-10T00:00:00",
          "2022-10-11T00:00:00",
          "2022-10-12T00:00:00",
          "2022-10-13T00:00:00",
          "2022-10-14T00:00:00",
          "2022-10-17T00:00:00",
          "2022-10-18T00:00:00",
          "2022-10-19T00:00:00",
          "2022-10-20T00:00:00",
          "2022-10-21T00:00:00",
          "2022-10-24T00:00:00",
          "2022-10-25T00:00:00",
          "2022-10-26T00:00:00",
          "2022-10-27T00:00:00",
          "2022-10-28T00:00:00",
          "2022-10-31T00:00:00",
          "2022-11-01T00:00:00",
          "2022-11-02T00:00:00",
          "2022-11-03T00:00:00"
         ],
         "y": [
          500000,
          498841.57957061223,
          500000,
          500000,
          500281.598,
          499287.598,
          500172.0425,
          502175.6225,
          501701.1225,
          501683.1505,
          506355.31549999997,
          502081.1155,
          502855.1155,
          499774.01070000004,
          499774.01070000004,
          499774.01070000004,
          499774.01070000004,
          499774.01070000004,
          499774.01070000004,
          499774.01070000004,
          498059.17410000006,
          492367.5741000001,
          493179.3741,
          494637.45690000005,
          494637.45690000005,
          494637.45690000005,
          494637.45690000005,
          494637.45690000005,
          494637.45690000005,
          494637.45690000005,
          494637.45690000005,
          494637.45690000005,
          494637.45690000005,
          494637.45690000005,
          494637.45690000005,
          494637.45690000005,
          494637.45690000005,
          494637.45690000005,
          494637.45690000005,
          494637.45690000005,
          494637.45690000005,
          494637.45690000005,
          494637.45690000005,
          494637.45690000005,
          494637.45690000005,
          494637.45690000005,
          494637.45690000005,
          494637.45690000005,
          494637.45690000005,
          494637.45690000005,
          494637.45690000005,
          494637.45690000005,
          491865.31431807653,
          494637.45690000005,
          494637.45690000005,
          494637.45690000005,
          481980.12665396696,
          494637.45690000005,
          493602.9449621583,
          494637.45690000005,
          494637.45690000005,
          494637.45690000005,
          494637.45690000005,
          494637.45690000005,
          494637.45690000005,
          494637.45690000005,
          494637.45690000005,
          494637.45690000005,
          494637.45690000005,
          494637.45690000005,
          494637.45690000005,
          494637.45690000005,
          494637.45690000005,
          494637.45690000005,
          494637.45690000005,
          494637.45690000005,
          494637.45690000005,
          494637.45690000005,
          494637.45690000005,
          494637.45690000005,
          494637.45690000005,
          494637.45690000005,
          494637.45690000005,
          494637.45690000005,
          494637.45690000005,
          494637.45690000005,
          494637.45690000005,
          494637.45690000005,
          494637.45690000005,
          494637.45690000005,
          494637.45690000005,
          494637.45690000005,
          494637.45690000005,
          494637.45690000005,
          494637.45690000005,
          494637.45690000005,
          491286.10410338256,
          494637.45690000005,
          491865.31431807653,
          488377.1816918087,
          494637.45690000005,
          494637.45690000005,
          494637.45690000005,
          494637.45690000005,
          494637.45690000005,
          494637.45690000005,
          486047.4694949287,
          494637.45690000005,
          488377.1816918087,
          465118.6737373218,
          436055.1922977913,
          406978.83952015656,
          409308.5517170365,
          419193.7393811461,
          419193.7393811461,
          390117.38660351135,
          401160.99469700875,
          400002.5742676209,
          389538.17638881743,
          390117.38660351135,
          372097.51325747825,
          360461.8236111826,
          335465.68501261395,
          312207.177058127,
          324422.0769191165,
          322092.3647222366,
          300005.1485352417,
          300005.1485352417,
          317445.8116665809,
          338953.81763888174,
          333135.972815734,
          331398.3421716522,
          330819.13195695827,
          308139.83421716525,
          326751.7891159965,
          334886.47479792003,
          342441.9502651496,
          347680.5848736035,
          347680.5848736035,
          344771.6624620296,
          343600.3706945374,
          337216.18699480005,
          340112.2380682696,
          337216.18699480005,
          327910.20954538434,
          340704.31962106784,
          337216.18699480005,
          323842.86670442263,
          301742.7791793235,
          283143.69561859657,
          263373.3202903774,
          257555.4754672296,
          239535.60212119654,
          223253.35941924521,
          212788.96154044176,
          227822.68444627503,
          238119.75492972252,
          239406.88874015346,
          255496.06137054012,
          252278.2268444628,
          254208.92756010918,
          241981.1563610153,
          253565.36065489368,
          260001.02970704835,
          253565.36065489368,
          244555.42398187716,
          245842.55779230813,
          262575.2973279102,
          265793.1318539875,
          269010.9663800649,
          266436.698759203,
          276733.7692426505,
          271585.2340009268,
          269010.9663800649,
          265793.1318539875,
          274159.50162178866,
          274159.50162178866,
          269010.9663800649,
          263218.8642331257,
          260644.59661226382,
          262575.2973279102,
          272228.8009061422,
          274803.0685270041,
          293466.50877825264,
          298615.04401997634,
          303120.0123564846,
          303120.0123564846,
          319209.18498687126,
          317278.4842712248,
          319209.18498687126,
          315991.35046079394,
          314060.6497451475,
          320496.3187973022,
          318565.6180816558,
          316634.91736600944,
          315991.35046079394,
          323070.5864181641,
          323714.1533233795,
          317922.0511764403,
          326931.98784945684,
          325001.28713381046,
          328219.1216598878,
          319209.18498687126,
          314060.6497451475,
          308268.5475982083,
          308912.1145034238,
          305050.713072131,
          305694.2799773465,
          290248.67425217526,
          283813.0052000206,
          285743.705915667,
          281238.7375791588,
          278664.46995829686,
          282525.8713895897,
          278664.46995829686,
          272228.8009061422,
          256139.62827575556,
          266436.698759203,
          264505.99804355664,
          271585.2340009268,
          265793.1318539875,
          250991.09303403183,
          251634.6599392473,
          254208.92756010918,
          248416.82541316998,
          254852.49446532465,
          237476.18802450705,
          229109.818256706,
          240050.4556453689,
          223961.28301498224,
          216238.48015239666,
          223961.28301498224,
          208515.67728981105,
          222030.58229933586,
          225248.41682541318,
          230396.9520671369,
          231684.08587756785,
          229109.818256706,
          227179.11754105956,
          223961.28301498224,
          208515.67728981105,
          194357.2053750708,
          193713.63846985536,
          191139.37084899348,
          204010.7089533028,
          204654.27585851826,
          209802.81110024202,
          218169.18086804304,
          212377.07872110387,
          212377.07872110387
         ]
        },
        {
         "line": {
          "color": "lightslategray",
          "width": 3
         },
         "mode": "lines+markers",
         "name": "MAML",
         "showlegend": true,
         "type": "scatter",
         "x": [
          "2021-11-04T00:00:00",
          "2021-11-05T00:00:00",
          "2021-11-08T00:00:00",
          "2021-11-09T00:00:00",
          "2021-11-10T00:00:00",
          "2021-11-11T00:00:00",
          "2021-11-12T00:00:00",
          "2021-11-15T00:00:00",
          "2021-11-16T00:00:00",
          "2021-11-17T00:00:00",
          "2021-11-18T00:00:00",
          "2021-11-19T00:00:00",
          "2021-11-22T00:00:00",
          "2021-11-23T00:00:00",
          "2021-11-24T00:00:00",
          "2021-11-25T00:00:00",
          "2021-11-26T00:00:00",
          "2021-11-29T00:00:00",
          "2021-11-30T00:00:00",
          "2021-12-01T00:00:00",
          "2021-12-02T00:00:00",
          "2021-12-03T00:00:00",
          "2021-12-06T00:00:00",
          "2021-12-07T00:00:00",
          "2021-12-08T00:00:00",
          "2021-12-09T00:00:00",
          "2021-12-10T00:00:00",
          "2021-12-13T00:00:00",
          "2021-12-14T00:00:00",
          "2021-12-15T00:00:00",
          "2021-12-16T00:00:00",
          "2021-12-17T00:00:00",
          "2021-12-20T00:00:00",
          "2021-12-21T00:00:00",
          "2021-12-22T00:00:00",
          "2021-12-23T00:00:00",
          "2021-12-24T00:00:00",
          "2021-12-27T00:00:00",
          "2021-12-28T00:00:00",
          "2021-12-29T00:00:00",
          "2021-12-30T00:00:00",
          "2021-12-31T00:00:00",
          "2022-01-04T00:00:00",
          "2022-01-05T00:00:00",
          "2022-01-06T00:00:00",
          "2022-01-07T00:00:00",
          "2022-01-10T00:00:00",
          "2022-01-11T00:00:00",
          "2022-01-12T00:00:00",
          "2022-01-13T00:00:00",
          "2022-01-14T00:00:00",
          "2022-01-17T00:00:00",
          "2022-01-18T00:00:00",
          "2022-01-19T00:00:00",
          "2022-01-20T00:00:00",
          "2022-01-21T00:00:00",
          "2022-01-24T00:00:00",
          "2022-01-25T00:00:00",
          "2022-01-26T00:00:00",
          "2022-01-27T00:00:00",
          "2022-01-28T00:00:00",
          "2022-02-07T00:00:00",
          "2022-02-08T00:00:00",
          "2022-02-09T00:00:00",
          "2022-02-10T00:00:00",
          "2022-02-11T00:00:00",
          "2022-02-14T00:00:00",
          "2022-02-15T00:00:00",
          "2022-02-16T00:00:00",
          "2022-02-17T00:00:00",
          "2022-02-18T00:00:00",
          "2022-02-21T00:00:00",
          "2022-02-22T00:00:00",
          "2022-02-23T00:00:00",
          "2022-02-24T00:00:00",
          "2022-02-25T00:00:00",
          "2022-02-28T00:00:00",
          "2022-03-01T00:00:00",
          "2022-03-02T00:00:00",
          "2022-03-03T00:00:00",
          "2022-03-04T00:00:00",
          "2022-03-07T00:00:00",
          "2022-03-08T00:00:00",
          "2022-03-09T00:00:00",
          "2022-03-10T00:00:00",
          "2022-03-11T00:00:00",
          "2022-03-14T00:00:00",
          "2022-03-15T00:00:00",
          "2022-03-16T00:00:00",
          "2022-03-17T00:00:00",
          "2022-03-18T00:00:00",
          "2022-03-21T00:00:00",
          "2022-03-22T00:00:00",
          "2022-03-23T00:00:00",
          "2022-03-24T00:00:00",
          "2022-03-25T00:00:00",
          "2022-03-28T00:00:00",
          "2022-03-29T00:00:00",
          "2022-03-30T00:00:00",
          "2022-03-31T00:00:00",
          "2022-04-01T00:00:00",
          "2022-04-04T00:00:00",
          "2022-04-05T00:00:00",
          "2022-04-06T00:00:00",
          "2022-04-07T00:00:00",
          "2022-04-08T00:00:00",
          "2022-04-12T00:00:00",
          "2022-04-13T00:00:00",
          "2022-04-14T00:00:00",
          "2022-04-15T00:00:00",
          "2022-04-18T00:00:00",
          "2022-04-19T00:00:00",
          "2022-04-20T00:00:00",
          "2022-04-21T00:00:00",
          "2022-04-22T00:00:00",
          "2022-04-25T00:00:00",
          "2022-04-26T00:00:00",
          "2022-04-27T00:00:00",
          "2022-04-28T00:00:00",
          "2022-04-29T00:00:00",
          "2022-05-04T00:00:00",
          "2022-05-05T00:00:00",
          "2022-05-06T00:00:00",
          "2022-05-09T00:00:00",
          "2022-05-10T00:00:00",
          "2022-05-11T00:00:00",
          "2022-05-12T00:00:00",
          "2022-05-13T00:00:00",
          "2022-05-16T00:00:00",
          "2022-05-17T00:00:00",
          "2022-05-18T00:00:00",
          "2022-05-19T00:00:00",
          "2022-05-20T00:00:00",
          "2022-05-23T00:00:00",
          "2022-05-24T00:00:00",
          "2022-05-25T00:00:00",
          "2022-05-26T00:00:00",
          "2022-05-27T00:00:00",
          "2022-05-30T00:00:00",
          "2022-05-31T00:00:00",
          "2022-06-01T00:00:00",
          "2022-06-02T00:00:00",
          "2022-06-03T00:00:00",
          "2022-06-06T00:00:00",
          "2022-06-07T00:00:00",
          "2022-06-08T00:00:00",
          "2022-06-09T00:00:00",
          "2022-06-10T00:00:00",
          "2022-06-13T00:00:00",
          "2022-06-14T00:00:00",
          "2022-06-15T00:00:00",
          "2022-06-16T00:00:00",
          "2022-06-17T00:00:00",
          "2022-06-20T00:00:00",
          "2022-06-21T00:00:00",
          "2022-06-22T00:00:00",
          "2022-06-23T00:00:00",
          "2022-06-24T00:00:00",
          "2022-06-27T00:00:00",
          "2022-06-28T00:00:00",
          "2022-06-29T00:00:00",
          "2022-06-30T00:00:00",
          "2022-07-01T00:00:00",
          "2022-07-04T00:00:00",
          "2022-07-05T00:00:00",
          "2022-07-06T00:00:00",
          "2022-07-07T00:00:00",
          "2022-07-08T00:00:00",
          "2022-07-11T00:00:00",
          "2022-07-12T00:00:00",
          "2022-07-13T00:00:00",
          "2022-07-14T00:00:00",
          "2022-07-15T00:00:00",
          "2022-07-18T00:00:00",
          "2022-07-19T00:00:00",
          "2022-07-20T00:00:00",
          "2022-07-21T00:00:00",
          "2022-07-22T00:00:00",
          "2022-07-25T00:00:00",
          "2022-07-26T00:00:00",
          "2022-07-27T00:00:00",
          "2022-07-28T00:00:00",
          "2022-07-29T00:00:00",
          "2022-08-01T00:00:00",
          "2022-08-02T00:00:00",
          "2022-08-03T00:00:00",
          "2022-08-04T00:00:00",
          "2022-08-05T00:00:00",
          "2022-08-08T00:00:00",
          "2022-08-09T00:00:00",
          "2022-08-10T00:00:00",
          "2022-08-11T00:00:00",
          "2022-08-12T00:00:00",
          "2022-08-15T00:00:00",
          "2022-08-16T00:00:00",
          "2022-08-17T00:00:00",
          "2022-08-18T00:00:00",
          "2022-08-19T00:00:00",
          "2022-08-22T00:00:00",
          "2022-08-23T00:00:00",
          "2022-08-24T00:00:00",
          "2022-08-25T00:00:00",
          "2022-08-26T00:00:00",
          "2022-08-29T00:00:00",
          "2022-08-30T00:00:00",
          "2022-08-31T00:00:00",
          "2022-09-05T00:00:00",
          "2022-09-06T00:00:00",
          "2022-09-07T00:00:00",
          "2022-09-08T00:00:00",
          "2022-09-09T00:00:00",
          "2022-09-12T00:00:00",
          "2022-09-13T00:00:00",
          "2022-09-14T00:00:00",
          "2022-09-15T00:00:00",
          "2022-09-16T00:00:00",
          "2022-09-19T00:00:00",
          "2022-09-20T00:00:00",
          "2022-09-21T00:00:00",
          "2022-09-22T00:00:00",
          "2022-09-23T00:00:00",
          "2022-09-26T00:00:00",
          "2022-09-27T00:00:00",
          "2022-09-28T00:00:00",
          "2022-09-29T00:00:00",
          "2022-09-30T00:00:00",
          "2022-10-03T00:00:00",
          "2022-10-04T00:00:00",
          "2022-10-05T00:00:00",
          "2022-10-06T00:00:00",
          "2022-10-07T00:00:00",
          "2022-10-10T00:00:00",
          "2022-10-11T00:00:00",
          "2022-10-12T00:00:00",
          "2022-10-13T00:00:00",
          "2022-10-14T00:00:00",
          "2022-10-17T00:00:00",
          "2022-10-18T00:00:00",
          "2022-10-19T00:00:00",
          "2022-10-20T00:00:00",
          "2022-10-21T00:00:00",
          "2022-10-24T00:00:00",
          "2022-10-25T00:00:00",
          "2022-10-26T00:00:00",
          "2022-10-27T00:00:00",
          "2022-10-28T00:00:00",
          "2022-10-31T00:00:00",
          "2022-11-01T00:00:00",
          "2022-11-02T00:00:00",
          "2022-11-03T00:00:00"
         ],
         "y": [
          500000,
          500000,
          500000,
          500000,
          500281.598,
          499287.598,
          500172.0425,
          502175.6225,
          501701.1225,
          501683.1505,
          506355.31549999997,
          502081.1155,
          502855.1155,
          499774.01070000004,
          499774.01070000004,
          499774.01070000004,
          499774.01070000004,
          499774.01070000004,
          499774.01070000004,
          499774.01070000004,
          498059.17410000006,
          492367.5741000001,
          493179.3741,
          494637.45690000005,
          494637.45690000005,
          494637.45690000005,
          494637.45690000005,
          494637.45690000005,
          494637.45690000005,
          494637.45690000005,
          494637.45690000005,
          494637.45690000005,
          494637.45690000005,
          494637.45690000005,
          494637.45690000005,
          494637.45690000005,
          494637.45690000005,
          494637.45690000005,
          494637.45690000005,
          494637.45690000005,
          494637.45690000005,
          494637.45690000005,
          494637.45690000005,
          494637.45690000005,
          494637.45690000005,
          494637.45690000005,
          494637.45690000005,
          494637.45690000005,
          494637.45690000005,
          494637.45690000005,
          494637.45690000005,
          494637.45690000005,
          494637.45690000005,
          494637.45690000005,
          494637.45690000005,
          494637.45690000005,
          494637.45690000005,
          494637.45690000005,
          494637.45690000005,
          494637.45690000005,
          494637.45690000005,
          494637.45690000005,
          494637.45690000005,
          494637.45690000005,
          494637.45690000005,
          494637.45690000005,
          494637.45690000005,
          494637.45690000005,
          494637.45690000005,
          494637.45690000005,
          494637.45690000005,
          494637.45690000005,
          494637.45690000005,
          494637.45690000005,
          494637.45690000005,
          494637.45690000005,
          494637.45690000005,
          494637.45690000005,
          494637.45690000005,
          494637.45690000005,
          494637.45690000005,
          494637.45690000005,
          494637.45690000005,
          494637.45690000005,
          494637.45690000005,
          494637.45690000005,
          494637.45690000005,
          494637.45690000005,
          494637.45690000005,
          494637.45690000005,
          494637.45690000005,
          494637.45690000005,
          494637.45690000005,
          494637.45690000005,
          494637.45690000005,
          494637.45690000005,
          494637.45690000005,
          494637.45690000005,
          494637.45690000005,
          494637.45690000005,
          494637.45690000005,
          494637.45690000005,
          494637.45690000005,
          494637.45690000005,
          494637.45690000005,
          494637.45690000005,
          494637.45690000005,
          494637.45690000005,
          494637.45690000005,
          494637.45690000005,
          494637.45690000005,
          494637.45690000005,
          494637.45690000005,
          494637.45690000005,
          494637.45690000005,
          494637.45690000005,
          494637.45690000005,
          494637.45690000005,
          494637.45690000005,
          494637.45690000005,
          494637.45690000005,
          494637.45690000005,
          494637.45690000005,
          494637.45690000005,
          494637.45690000005,
          494637.45690000005,
          494637.45690000005,
          494637.45690000005,
          494637.45690000005,
          494637.45690000005,
          494637.45690000005,
          494637.45690000005,
          494637.45690000005,
          494637.45690000005,
          494637.45690000005,
          494637.45690000005,
          494637.45690000005,
          494637.45690000005,
          494637.45690000005,
          494637.45690000005,
          494637.45690000005,
          494637.45690000005,
          494637.45690000005,
          494637.45690000005,
          494637.45690000005,
          494637.45690000005,
          494637.45690000005,
          494637.45690000005,
          494637.45690000005,
          494637.45690000005,
          494637.45690000005,
          494637.45690000005,
          494637.45690000005,
          494637.45690000005,
          494637.45690000005,
          494637.45690000005,
          494637.45690000005,
          494637.45690000005,
          494637.45690000005,
          494637.45690000005,
          494637.45690000005,
          494637.45690000005,
          494637.45690000005,
          494637.45690000005,
          494637.45690000005,
          494637.45690000005,
          494637.45690000005,
          494637.45690000005,
          494637.45690000005,
          494637.45690000005,
          494637.45690000005,
          494637.45690000005,
          492759.69690000004,
          492039.69690000004,
          491139.69690000004,
          492248.4969,
          492248.4969,
          492248.4969,
          492248.4969,
          492248.4969,
          492248.4969,
          492248.4969,
          492248.4969,
          512821.0569,
          518581.0569,
          523621.0569,
          526495.1369,
          526445.7969000001,
          526445.7969000001,
          526445.7969000001,
          526445.7969000001,
          526445.7969000001,
          526445.7969000001,
          526445.7969000001,
          526445.7969000001,
          526445.7969000001,
          526445.7969000001,
          526445.7969000001,
          526445.7969000001,
          526445.7969000001,
          526445.7969000001,
          526445.7969000001,
          526445.7969000001,
          526445.7969000001,
          526445.7969000001,
          526445.7969000001,
          526445.7969000001,
          526445.7969000001,
          526445.7969000001,
          526445.7969000001,
          526445.7969000001,
          526445.7969000001,
          526445.7969000001,
          526445.7969000001,
          526445.7969000001,
          526445.7969000001,
          526445.7969000001,
          526445.7969000001,
          526445.7969000001,
          526445.7969000001,
          526445.7969000001,
          526445.7969000001,
          526445.7969000001,
          526445.7969000001,
          510986.4369000001,
          519386.4369000001,
          496706.4369000001,
          502569.1969000001,
          503082.4969000001,
          503082.4969000001,
          503082.4969000001,
          503082.4969000001,
          503082.4969000001,
          503082.4969000001,
          503082.4969000001,
          503082.4969000001,
          503082.4969000001,
          503082.4969000001,
          503082.4969000001,
          502835.7469000001,
          500315.7469000001,
          498005.7469000001,
          497549.2069000001,
          496929.9469000001,
          502329.9469000001,
          503991.4669000001,
          503985.10690000013,
          503985.10690000013,
          503985.10690000013,
          504070.24690000014
         ]
        },
        {
         "line": {
          "color": "dimgray",
          "width": 2
         },
         "mode": "lines",
         "name": "Buy-n-Hold",
         "showlegend": true,
         "type": "scatter",
         "x": [
          "2021-11-04T00:00:00",
          "2021-11-05T00:00:00",
          "2021-11-08T00:00:00",
          "2021-11-09T00:00:00",
          "2021-11-10T00:00:00",
          "2021-11-11T00:00:00",
          "2021-11-12T00:00:00",
          "2021-11-15T00:00:00",
          "2021-11-16T00:00:00",
          "2021-11-17T00:00:00",
          "2021-11-18T00:00:00",
          "2021-11-19T00:00:00",
          "2021-11-22T00:00:00",
          "2021-11-23T00:00:00",
          "2021-11-24T00:00:00",
          "2021-11-25T00:00:00",
          "2021-11-26T00:00:00",
          "2021-11-29T00:00:00",
          "2021-11-30T00:00:00",
          "2021-12-01T00:00:00",
          "2021-12-02T00:00:00",
          "2021-12-03T00:00:00",
          "2021-12-06T00:00:00",
          "2021-12-07T00:00:00",
          "2021-12-08T00:00:00",
          "2021-12-09T00:00:00",
          "2021-12-10T00:00:00",
          "2021-12-13T00:00:00",
          "2021-12-14T00:00:00",
          "2021-12-15T00:00:00",
          "2021-12-16T00:00:00",
          "2021-12-17T00:00:00",
          "2021-12-20T00:00:00",
          "2021-12-21T00:00:00",
          "2021-12-22T00:00:00",
          "2021-12-23T00:00:00",
          "2021-12-24T00:00:00",
          "2021-12-27T00:00:00",
          "2021-12-28T00:00:00",
          "2021-12-29T00:00:00",
          "2021-12-30T00:00:00",
          "2021-12-31T00:00:00",
          "2022-01-04T00:00:00",
          "2022-01-05T00:00:00",
          "2022-01-06T00:00:00",
          "2022-01-07T00:00:00",
          "2022-01-10T00:00:00",
          "2022-01-11T00:00:00",
          "2022-01-12T00:00:00",
          "2022-01-13T00:00:00",
          "2022-01-14T00:00:00",
          "2022-01-17T00:00:00",
          "2022-01-18T00:00:00",
          "2022-01-19T00:00:00",
          "2022-01-20T00:00:00",
          "2022-01-21T00:00:00",
          "2022-01-24T00:00:00",
          "2022-01-25T00:00:00",
          "2022-01-26T00:00:00",
          "2022-01-27T00:00:00",
          "2022-01-28T00:00:00",
          "2022-02-07T00:00:00",
          "2022-02-08T00:00:00",
          "2022-02-09T00:00:00",
          "2022-02-10T00:00:00",
          "2022-02-11T00:00:00",
          "2022-02-14T00:00:00",
          "2022-02-15T00:00:00",
          "2022-02-16T00:00:00",
          "2022-02-17T00:00:00",
          "2022-02-18T00:00:00",
          "2022-02-21T00:00:00",
          "2022-02-22T00:00:00",
          "2022-02-23T00:00:00",
          "2022-02-24T00:00:00",
          "2022-02-25T00:00:00",
          "2022-02-28T00:00:00",
          "2022-03-01T00:00:00",
          "2022-03-02T00:00:00",
          "2022-03-03T00:00:00",
          "2022-03-04T00:00:00",
          "2022-03-07T00:00:00",
          "2022-03-08T00:00:00",
          "2022-03-09T00:00:00",
          "2022-03-10T00:00:00",
          "2022-03-11T00:00:00",
          "2022-03-14T00:00:00",
          "2022-03-15T00:00:00",
          "2022-03-16T00:00:00",
          "2022-03-17T00:00:00",
          "2022-03-18T00:00:00",
          "2022-03-21T00:00:00",
          "2022-03-22T00:00:00",
          "2022-03-23T00:00:00",
          "2022-03-24T00:00:00",
          "2022-03-25T00:00:00",
          "2022-03-28T00:00:00",
          "2022-03-29T00:00:00",
          "2022-03-30T00:00:00",
          "2022-03-31T00:00:00",
          "2022-04-01T00:00:00",
          "2022-04-04T00:00:00",
          "2022-04-05T00:00:00",
          "2022-04-06T00:00:00",
          "2022-04-07T00:00:00",
          "2022-04-08T00:00:00",
          "2022-04-12T00:00:00",
          "2022-04-13T00:00:00",
          "2022-04-14T00:00:00",
          "2022-04-15T00:00:00",
          "2022-04-18T00:00:00",
          "2022-04-19T00:00:00",
          "2022-04-20T00:00:00",
          "2022-04-21T00:00:00",
          "2022-04-22T00:00:00",
          "2022-04-25T00:00:00",
          "2022-04-26T00:00:00",
          "2022-04-27T00:00:00",
          "2022-04-28T00:00:00",
          "2022-04-29T00:00:00",
          "2022-05-04T00:00:00",
          "2022-05-05T00:00:00",
          "2022-05-06T00:00:00",
          "2022-05-09T00:00:00",
          "2022-05-10T00:00:00",
          "2022-05-11T00:00:00",
          "2022-05-12T00:00:00",
          "2022-05-13T00:00:00",
          "2022-05-16T00:00:00",
          "2022-05-17T00:00:00",
          "2022-05-18T00:00:00",
          "2022-05-19T00:00:00",
          "2022-05-20T00:00:00",
          "2022-05-23T00:00:00",
          "2022-05-24T00:00:00",
          "2022-05-25T00:00:00",
          "2022-05-26T00:00:00",
          "2022-05-27T00:00:00",
          "2022-05-30T00:00:00",
          "2022-05-31T00:00:00",
          "2022-06-01T00:00:00",
          "2022-06-02T00:00:00",
          "2022-06-03T00:00:00",
          "2022-06-06T00:00:00",
          "2022-06-07T00:00:00",
          "2022-06-08T00:00:00",
          "2022-06-09T00:00:00",
          "2022-06-10T00:00:00",
          "2022-06-13T00:00:00",
          "2022-06-14T00:00:00",
          "2022-06-15T00:00:00",
          "2022-06-16T00:00:00",
          "2022-06-17T00:00:00",
          "2022-06-20T00:00:00",
          "2022-06-21T00:00:00",
          "2022-06-22T00:00:00",
          "2022-06-23T00:00:00",
          "2022-06-24T00:00:00",
          "2022-06-27T00:00:00",
          "2022-06-28T00:00:00",
          "2022-06-29T00:00:00",
          "2022-06-30T00:00:00",
          "2022-07-01T00:00:00",
          "2022-07-04T00:00:00",
          "2022-07-05T00:00:00",
          "2022-07-06T00:00:00",
          "2022-07-07T00:00:00",
          "2022-07-08T00:00:00",
          "2022-07-11T00:00:00",
          "2022-07-12T00:00:00",
          "2022-07-13T00:00:00",
          "2022-07-14T00:00:00",
          "2022-07-15T00:00:00",
          "2022-07-18T00:00:00",
          "2022-07-19T00:00:00",
          "2022-07-20T00:00:00",
          "2022-07-21T00:00:00",
          "2022-07-22T00:00:00",
          "2022-07-25T00:00:00",
          "2022-07-26T00:00:00",
          "2022-07-27T00:00:00",
          "2022-07-28T00:00:00",
          "2022-07-29T00:00:00",
          "2022-08-01T00:00:00",
          "2022-08-02T00:00:00",
          "2022-08-03T00:00:00",
          "2022-08-04T00:00:00",
          "2022-08-05T00:00:00",
          "2022-08-08T00:00:00",
          "2022-08-09T00:00:00",
          "2022-08-10T00:00:00",
          "2022-08-11T00:00:00",
          "2022-08-12T00:00:00",
          "2022-08-15T00:00:00",
          "2022-08-16T00:00:00",
          "2022-08-17T00:00:00",
          "2022-08-18T00:00:00",
          "2022-08-19T00:00:00",
          "2022-08-22T00:00:00",
          "2022-08-23T00:00:00",
          "2022-08-24T00:00:00",
          "2022-08-25T00:00:00",
          "2022-08-26T00:00:00",
          "2022-08-29T00:00:00",
          "2022-08-30T00:00:00",
          "2022-08-31T00:00:00",
          "2022-09-05T00:00:00",
          "2022-09-06T00:00:00",
          "2022-09-07T00:00:00",
          "2022-09-08T00:00:00",
          "2022-09-09T00:00:00",
          "2022-09-12T00:00:00",
          "2022-09-13T00:00:00",
          "2022-09-14T00:00:00",
          "2022-09-15T00:00:00",
          "2022-09-16T00:00:00",
          "2022-09-19T00:00:00",
          "2022-09-20T00:00:00",
          "2022-09-21T00:00:00",
          "2022-09-22T00:00:00",
          "2022-09-23T00:00:00",
          "2022-09-26T00:00:00",
          "2022-09-27T00:00:00",
          "2022-09-28T00:00:00",
          "2022-09-29T00:00:00",
          "2022-09-30T00:00:00",
          "2022-10-03T00:00:00",
          "2022-10-04T00:00:00",
          "2022-10-05T00:00:00",
          "2022-10-06T00:00:00",
          "2022-10-07T00:00:00",
          "2022-10-10T00:00:00",
          "2022-10-11T00:00:00",
          "2022-10-12T00:00:00",
          "2022-10-13T00:00:00",
          "2022-10-14T00:00:00",
          "2022-10-17T00:00:00",
          "2022-10-18T00:00:00",
          "2022-10-19T00:00:00",
          "2022-10-20T00:00:00",
          "2022-10-21T00:00:00",
          "2022-10-24T00:00:00",
          "2022-10-25T00:00:00",
          "2022-10-26T00:00:00",
          "2022-10-27T00:00:00",
          "2022-10-28T00:00:00",
          "2022-10-31T00:00:00",
          "2022-11-01T00:00:00",
          "2022-11-02T00:00:00",
          "2022-11-03T00:00:00"
         ],
         "y": [
          500000,
          498841.57957061223,
          517440.6631313392,
          515123.8222725635,
          519770.37532821915,
          513373.3202903774,
          518611.9548988313,
          532564.4854039026,
          520349.58554291306,
          533143.6956185965,
          570354.7340781548,
          563957.679040313,
          565116.099469701,
          604656.8501261391,
          618609.3806312105,
          639538.1763888174,
          622097.5132574782,
          643026.3090150852,
          650002.5742676209,
          641867.8885856974,
          627915.3580806261,
          587216.1869948,
          593021.1604798435,
          606973.6909849148,
          602327.1379292592,
          625585.6458837461,
          616279.6684343305,
          620939.0928280904,
          612791.5358080626,
          601168.7174998714,
          591862.7400504557,
          610474.694949287,
          622097.5132574782,
          610474.694949287,
          594192.4522473357,
          569775.523863461,
          570354.7340781548,
          571513.1545075426,
          567445.8116665808,
          577330.9993306905,
          611633.1153786748,
          602327.1379292592,
          616279.6684343305,
          613962.8275755548,
          603485.558358647,
          599997.4257323792,
          576159.7075631983,
          559311.1259846574,
          587216.1869948,
          568025.0218812749,
          566287.3912371931,
          526746.6405807548,
          491865.31431807653,
          525588.220151367,
          531393.1936364104,
          518019.8733460331,
          481980.12665396696,
          497683.15914122434,
          493602.9449621583,
          504659.42439376,
          523837.7181691809,
          533143.6956185965,
          530813.9834217166,
          531393.1936364104,
          524416.9283838748,
          524416.9283838748,
          506976.2652525357,
          513952.53050507134,
          522100.08752509917,
          523258.507954487,
          525588.220151367,
          534881.3262626783,
          523258.507954487,
          526746.6405807548,
          518611.9548988313,
          531393.1936364104,
          531393.1936364104,
          534881.3262626783,
          520928.79575760703,
          529076.3527776347,
          541857.591515214,
          544187.303712094,
          546517.015908974,
          541857.591515214,
          541857.591515214,
          523258.507954487,
          502329.71219688,
          503488.13262626785,
          509305.9774494157,
          509305.9774494157,
          509305.9774494157,
          515123.8222725635,
          515703.03248725744,
          513952.53050507134,
          509305.9774494157,
          505238.63460845395,
          491286.10410338256,
          495932.6571590383,
          491865.31431807653,
          488377.1816918087,
          498841.57957061223,
          523258.507954487,
          515123.8222725635,
          518611.9548988313,
          512214.8998609896,
          500000,
          486047.4694949287,
          494774.2367296504,
          488377.1816918087,
          465118.6737373218,
          436055.1922977913,
          406978.83952015656,
          409308.5517170365,
          419193.7393811461,
          419193.7393811461,
          390117.38660351135,
          401160.99469700875,
          400002.5742676209,
          389538.17638881743,
          390117.38660351135,
          372097.51325747825,
          360461.8236111826,
          335465.68501261395,
          312207.177058127,
          324422.0769191165,
          322092.3647222366,
          300005.1485352417,
          300005.1485352417,
          317445.8116665809,
          338953.81763888174,
          333135.972815734,
          331398.3421716522,
          330819.13195695827,
          308139.83421716525,
          326751.7891159965,
          334886.47479792003,
          342441.9502651496,
          347680.5848736035,
          347680.5848736035,
          344771.6624620296,
          343600.3706945374,
          337216.18699480005,
          340112.2380682696,
          337216.18699480005,
          327910.20954538434,
          340704.31962106784,
          337216.18699480005,
          323842.86670442263,
          301742.7791793235,
          283143.69561859657,
          263373.3202903774,
          257555.4754672296,
          239535.60212119654,
          223253.35941924521,
          212788.96154044176,
          227822.68444627503,
          238119.75492972252,
          239406.88874015346,
          255496.06137054012,
          252278.2268444628,
          254208.92756010918,
          241981.1563610153,
          253565.36065489368,
          260001.02970704835,
          253565.36065489368,
          244555.42398187716,
          245842.55779230813,
          262575.2973279102,
          265793.1318539875,
          269010.9663800649,
          266436.698759203,
          276733.7692426505,
          271585.2340009268,
          269010.9663800649,
          265793.1318539875,
          274159.50162178866,
          274159.50162178866,
          269010.9663800649,
          263218.8642331257,
          260644.59661226382,
          262575.2973279102,
          272228.8009061422,
          274803.0685270041,
          293466.50877825264,
          298615.04401997634,
          303120.0123564846,
          303120.0123564846,
          319209.18498687126,
          317278.4842712248,
          319209.18498687126,
          315991.35046079394,
          314060.6497451475,
          320496.3187973022,
          318565.6180816558,
          316634.91736600944,
          315991.35046079394,
          323070.5864181641,
          323714.1533233795,
          317922.0511764403,
          326931.98784945684,
          325001.28713381046,
          328219.1216598878,
          319209.18498687126,
          314060.6497451475,
          308268.5475982083,
          308912.1145034238,
          305050.713072131,
          305694.2799773465,
          290248.67425217526,
          283813.0052000206,
          285743.705915667,
          281238.7375791588,
          278664.46995829686,
          282525.8713895897,
          278664.46995829686,
          272228.8009061422,
          256139.62827575556,
          266436.698759203,
          264505.99804355664,
          271585.2340009268,
          265793.1318539875,
          250991.09303403183,
          251634.6599392473,
          254208.92756010918,
          248416.82541316998,
          254852.49446532465,
          237476.18802450705,
          229109.818256706,
          240050.4556453689,
          223961.28301498224,
          216238.48015239666,
          223961.28301498224,
          208515.67728981105,
          222030.58229933586,
          225248.41682541318,
          230396.9520671369,
          231684.08587756785,
          229109.818256706,
          227179.11754105956,
          223961.28301498224,
          208515.67728981105,
          194357.2053750708,
          193713.63846985536,
          191139.37084899348,
          204010.7089533028,
          204654.27585851826,
          209802.81110024202,
          218169.18086804304,
          212377.07872110387,
          212377.07872110387
         ]
        }
       ],
       "layout": {
        "height": 500,
        "template": {
         "data": {
          "bar": [
           {
            "error_x": {
             "color": "#2a3f5f"
            },
            "error_y": {
             "color": "#2a3f5f"
            },
            "marker": {
             "line": {
              "color": "#E5ECF6",
              "width": 0.5
             },
             "pattern": {
              "fillmode": "overlay",
              "size": 10,
              "solidity": 0.2
             }
            },
            "type": "bar"
           }
          ],
          "barpolar": [
           {
            "marker": {
             "line": {
              "color": "#E5ECF6",
              "width": 0.5
             },
             "pattern": {
              "fillmode": "overlay",
              "size": 10,
              "solidity": 0.2
             }
            },
            "type": "barpolar"
           }
          ],
          "carpet": [
           {
            "aaxis": {
             "endlinecolor": "#2a3f5f",
             "gridcolor": "white",
             "linecolor": "white",
             "minorgridcolor": "white",
             "startlinecolor": "#2a3f5f"
            },
            "baxis": {
             "endlinecolor": "#2a3f5f",
             "gridcolor": "white",
             "linecolor": "white",
             "minorgridcolor": "white",
             "startlinecolor": "#2a3f5f"
            },
            "type": "carpet"
           }
          ],
          "choropleth": [
           {
            "colorbar": {
             "outlinewidth": 0,
             "ticks": ""
            },
            "type": "choropleth"
           }
          ],
          "contour": [
           {
            "colorbar": {
             "outlinewidth": 0,
             "ticks": ""
            },
            "colorscale": [
             [
              0,
              "#0d0887"
             ],
             [
              0.1111111111111111,
              "#46039f"
             ],
             [
              0.2222222222222222,
              "#7201a8"
             ],
             [
              0.3333333333333333,
              "#9c179e"
             ],
             [
              0.4444444444444444,
              "#bd3786"
             ],
             [
              0.5555555555555556,
              "#d8576b"
             ],
             [
              0.6666666666666666,
              "#ed7953"
             ],
             [
              0.7777777777777778,
              "#fb9f3a"
             ],
             [
              0.8888888888888888,
              "#fdca26"
             ],
             [
              1,
              "#f0f921"
             ]
            ],
            "type": "contour"
           }
          ],
          "contourcarpet": [
           {
            "colorbar": {
             "outlinewidth": 0,
             "ticks": ""
            },
            "type": "contourcarpet"
           }
          ],
          "heatmap": [
           {
            "colorbar": {
             "outlinewidth": 0,
             "ticks": ""
            },
            "colorscale": [
             [
              0,
              "#0d0887"
             ],
             [
              0.1111111111111111,
              "#46039f"
             ],
             [
              0.2222222222222222,
              "#7201a8"
             ],
             [
              0.3333333333333333,
              "#9c179e"
             ],
             [
              0.4444444444444444,
              "#bd3786"
             ],
             [
              0.5555555555555556,
              "#d8576b"
             ],
             [
              0.6666666666666666,
              "#ed7953"
             ],
             [
              0.7777777777777778,
              "#fb9f3a"
             ],
             [
              0.8888888888888888,
              "#fdca26"
             ],
             [
              1,
              "#f0f921"
             ]
            ],
            "type": "heatmap"
           }
          ],
          "heatmapgl": [
           {
            "colorbar": {
             "outlinewidth": 0,
             "ticks": ""
            },
            "colorscale": [
             [
              0,
              "#0d0887"
             ],
             [
              0.1111111111111111,
              "#46039f"
             ],
             [
              0.2222222222222222,
              "#7201a8"
             ],
             [
              0.3333333333333333,
              "#9c179e"
             ],
             [
              0.4444444444444444,
              "#bd3786"
             ],
             [
              0.5555555555555556,
              "#d8576b"
             ],
             [
              0.6666666666666666,
              "#ed7953"
             ],
             [
              0.7777777777777778,
              "#fb9f3a"
             ],
             [
              0.8888888888888888,
              "#fdca26"
             ],
             [
              1,
              "#f0f921"
             ]
            ],
            "type": "heatmapgl"
           }
          ],
          "histogram": [
           {
            "marker": {
             "pattern": {
              "fillmode": "overlay",
              "size": 10,
              "solidity": 0.2
             }
            },
            "type": "histogram"
           }
          ],
          "histogram2d": [
           {
            "colorbar": {
             "outlinewidth": 0,
             "ticks": ""
            },
            "colorscale": [
             [
              0,
              "#0d0887"
             ],
             [
              0.1111111111111111,
              "#46039f"
             ],
             [
              0.2222222222222222,
              "#7201a8"
             ],
             [
              0.3333333333333333,
              "#9c179e"
             ],
             [
              0.4444444444444444,
              "#bd3786"
             ],
             [
              0.5555555555555556,
              "#d8576b"
             ],
             [
              0.6666666666666666,
              "#ed7953"
             ],
             [
              0.7777777777777778,
              "#fb9f3a"
             ],
             [
              0.8888888888888888,
              "#fdca26"
             ],
             [
              1,
              "#f0f921"
             ]
            ],
            "type": "histogram2d"
           }
          ],
          "histogram2dcontour": [
           {
            "colorbar": {
             "outlinewidth": 0,
             "ticks": ""
            },
            "colorscale": [
             [
              0,
              "#0d0887"
             ],
             [
              0.1111111111111111,
              "#46039f"
             ],
             [
              0.2222222222222222,
              "#7201a8"
             ],
             [
              0.3333333333333333,
              "#9c179e"
             ],
             [
              0.4444444444444444,
              "#bd3786"
             ],
             [
              0.5555555555555556,
              "#d8576b"
             ],
             [
              0.6666666666666666,
              "#ed7953"
             ],
             [
              0.7777777777777778,
              "#fb9f3a"
             ],
             [
              0.8888888888888888,
              "#fdca26"
             ],
             [
              1,
              "#f0f921"
             ]
            ],
            "type": "histogram2dcontour"
           }
          ],
          "mesh3d": [
           {
            "colorbar": {
             "outlinewidth": 0,
             "ticks": ""
            },
            "type": "mesh3d"
           }
          ],
          "parcoords": [
           {
            "line": {
             "colorbar": {
              "outlinewidth": 0,
              "ticks": ""
             }
            },
            "type": "parcoords"
           }
          ],
          "pie": [
           {
            "automargin": true,
            "type": "pie"
           }
          ],
          "scatter": [
           {
            "fillpattern": {
             "fillmode": "overlay",
             "size": 10,
             "solidity": 0.2
            },
            "type": "scatter"
           }
          ],
          "scatter3d": [
           {
            "line": {
             "colorbar": {
              "outlinewidth": 0,
              "ticks": ""
             }
            },
            "marker": {
             "colorbar": {
              "outlinewidth": 0,
              "ticks": ""
             }
            },
            "type": "scatter3d"
           }
          ],
          "scattercarpet": [
           {
            "marker": {
             "colorbar": {
              "outlinewidth": 0,
              "ticks": ""
             }
            },
            "type": "scattercarpet"
           }
          ],
          "scattergeo": [
           {
            "marker": {
             "colorbar": {
              "outlinewidth": 0,
              "ticks": ""
             }
            },
            "type": "scattergeo"
           }
          ],
          "scattergl": [
           {
            "marker": {
             "colorbar": {
              "outlinewidth": 0,
              "ticks": ""
             }
            },
            "type": "scattergl"
           }
          ],
          "scattermapbox": [
           {
            "marker": {
             "colorbar": {
              "outlinewidth": 0,
              "ticks": ""
             }
            },
            "type": "scattermapbox"
           }
          ],
          "scatterpolar": [
           {
            "marker": {
             "colorbar": {
              "outlinewidth": 0,
              "ticks": ""
             }
            },
            "type": "scatterpolar"
           }
          ],
          "scatterpolargl": [
           {
            "marker": {
             "colorbar": {
              "outlinewidth": 0,
              "ticks": ""
             }
            },
            "type": "scatterpolargl"
           }
          ],
          "scatterternary": [
           {
            "marker": {
             "colorbar": {
              "outlinewidth": 0,
              "ticks": ""
             }
            },
            "type": "scatterternary"
           }
          ],
          "surface": [
           {
            "colorbar": {
             "outlinewidth": 0,
             "ticks": ""
            },
            "colorscale": [
             [
              0,
              "#0d0887"
             ],
             [
              0.1111111111111111,
              "#46039f"
             ],
             [
              0.2222222222222222,
              "#7201a8"
             ],
             [
              0.3333333333333333,
              "#9c179e"
             ],
             [
              0.4444444444444444,
              "#bd3786"
             ],
             [
              0.5555555555555556,
              "#d8576b"
             ],
             [
              0.6666666666666666,
              "#ed7953"
             ],
             [
              0.7777777777777778,
              "#fb9f3a"
             ],
             [
              0.8888888888888888,
              "#fdca26"
             ],
             [
              1,
              "#f0f921"
             ]
            ],
            "type": "surface"
           }
          ],
          "table": [
           {
            "cells": {
             "fill": {
              "color": "#EBF0F8"
             },
             "line": {
              "color": "white"
             }
            },
            "header": {
             "fill": {
              "color": "#C8D4E3"
             },
             "line": {
              "color": "white"
             }
            },
            "type": "table"
           }
          ]
         },
         "layout": {
          "annotationdefaults": {
           "arrowcolor": "#2a3f5f",
           "arrowhead": 0,
           "arrowwidth": 1
          },
          "autotypenumbers": "strict",
          "coloraxis": {
           "colorbar": {
            "outlinewidth": 0,
            "ticks": ""
           }
          },
          "colorscale": {
           "diverging": [
            [
             0,
             "#8e0152"
            ],
            [
             0.1,
             "#c51b7d"
            ],
            [
             0.2,
             "#de77ae"
            ],
            [
             0.3,
             "#f1b6da"
            ],
            [
             0.4,
             "#fde0ef"
            ],
            [
             0.5,
             "#f7f7f7"
            ],
            [
             0.6,
             "#e6f5d0"
            ],
            [
             0.7,
             "#b8e186"
            ],
            [
             0.8,
             "#7fbc41"
            ],
            [
             0.9,
             "#4d9221"
            ],
            [
             1,
             "#276419"
            ]
           ],
           "sequential": [
            [
             0,
             "#0d0887"
            ],
            [
             0.1111111111111111,
             "#46039f"
            ],
            [
             0.2222222222222222,
             "#7201a8"
            ],
            [
             0.3333333333333333,
             "#9c179e"
            ],
            [
             0.4444444444444444,
             "#bd3786"
            ],
            [
             0.5555555555555556,
             "#d8576b"
            ],
            [
             0.6666666666666666,
             "#ed7953"
            ],
            [
             0.7777777777777778,
             "#fb9f3a"
            ],
            [
             0.8888888888888888,
             "#fdca26"
            ],
            [
             1,
             "#f0f921"
            ]
           ],
           "sequentialminus": [
            [
             0,
             "#0d0887"
            ],
            [
             0.1111111111111111,
             "#46039f"
            ],
            [
             0.2222222222222222,
             "#7201a8"
            ],
            [
             0.3333333333333333,
             "#9c179e"
            ],
            [
             0.4444444444444444,
             "#bd3786"
            ],
            [
             0.5555555555555556,
             "#d8576b"
            ],
            [
             0.6666666666666666,
             "#ed7953"
            ],
            [
             0.7777777777777778,
             "#fb9f3a"
            ],
            [
             0.8888888888888888,
             "#fdca26"
            ],
            [
             1,
             "#f0f921"
            ]
           ]
          },
          "colorway": [
           "#636efa",
           "#EF553B",
           "#00cc96",
           "#ab63fa",
           "#FFA15A",
           "#19d3f3",
           "#FF6692",
           "#B6E880",
           "#FF97FF",
           "#FECB52"
          ],
          "font": {
           "color": "#2a3f5f"
          },
          "geo": {
           "bgcolor": "white",
           "lakecolor": "white",
           "landcolor": "#E5ECF6",
           "showlakes": true,
           "showland": true,
           "subunitcolor": "white"
          },
          "hoverlabel": {
           "align": "left"
          },
          "hovermode": "closest",
          "mapbox": {
           "style": "light"
          },
          "paper_bgcolor": "white",
          "plot_bgcolor": "#E5ECF6",
          "polar": {
           "angularaxis": {
            "gridcolor": "white",
            "linecolor": "white",
            "ticks": ""
           },
           "bgcolor": "#E5ECF6",
           "radialaxis": {
            "gridcolor": "white",
            "linecolor": "white",
            "ticks": ""
           }
          },
          "scene": {
           "xaxis": {
            "backgroundcolor": "#E5ECF6",
            "gridcolor": "white",
            "gridwidth": 2,
            "linecolor": "white",
            "showbackground": true,
            "ticks": "",
            "zerolinecolor": "white"
           },
           "yaxis": {
            "backgroundcolor": "#E5ECF6",
            "gridcolor": "white",
            "gridwidth": 2,
            "linecolor": "white",
            "showbackground": true,
            "ticks": "",
            "zerolinecolor": "white"
           },
           "zaxis": {
            "backgroundcolor": "#E5ECF6",
            "gridcolor": "white",
            "gridwidth": 2,
            "linecolor": "white",
            "showbackground": true,
            "ticks": "",
            "zerolinecolor": "white"
           }
          },
          "shapedefaults": {
           "line": {
            "color": "#2a3f5f"
           }
          },
          "ternary": {
           "aaxis": {
            "gridcolor": "white",
            "linecolor": "white",
            "ticks": ""
           },
           "baxis": {
            "gridcolor": "white",
            "linecolor": "white",
            "ticks": ""
           },
           "bgcolor": "#E5ECF6",
           "caxis": {
            "gridcolor": "white",
            "linecolor": "white",
            "ticks": ""
           }
          },
          "title": {
           "x": 0.05
          },
          "xaxis": {
           "automargin": true,
           "gridcolor": "white",
           "linecolor": "white",
           "ticks": "",
           "title": {
            "standoff": 15
           },
           "zerolinecolor": "white",
           "zerolinewidth": 2
          },
          "yaxis": {
           "automargin": true,
           "gridcolor": "white",
           "linecolor": "white",
           "ticks": "",
           "title": {
            "standoff": 15
           },
           "zerolinecolor": "white",
           "zerolinewidth": 2
          }
         }
        },
        "title": {
         "text": "Buy-n-Hold Comparision, Ticker: SSI",
         "x": 0.5
        },
        "width": 800,
        "xaxis": {
         "title": {
          "text": "Date"
         }
        },
        "yaxis": {
         "title": {
          "text": "Portfolio Value (VND)"
         }
        }
       }
      }
     },
     "metadata": {},
     "output_type": "display_data"
    },
    {
     "data": {
      "image/png": "[encoded data removed]",
      "text/plain": [
       "<Figure size 1200x1000 with 3 Axes>"
      ]
     },
     "metadata": {},
     "output_type": "display_data"
    },
    {
     "data": {
      "image/png": "[encoded data removed]",
      "text/plain": [
       "<Figure size 1500x800 with 2 Axes>"
      ]
     },
     "metadata": {},
     "output_type": "display_data"
    }
   ],
   "source": [
    "ENV_ID = 'VNALL-v0'\n",
    "TASK = 'SSI'\n",
    "ITH_ADAPT_STEP = 2\n",
    "\n",
    "args = open_config('../configs/maml.yaml', env_id=ENV_ID)\n",
    "envs = MetaVectorEnv([lambda: gym.make(ENV_ID) for _ in range(1)])\n",
    "agent = MetaAgent(envs=envs, hiddens=args.hiddens)\n",
    "agent.load_state_dict(params['maml']['SSI'][ITH_ADAPT_STEP])\n",
    "\n",
    "envs.train(False)\n",
    "envs.reset_task(TASK)\n",
    "\n",
    "info = play_an_episode(agent, envs)\n",
    "df = info[\"final_info\"][0][\"final_history\"]\n",
    "\n",
    "returns = df.set_index('time')[\"portfolio_value\"].pct_change()\n",
    "perf = create_performance(returns, plot=True)\n",
    "\n",
    "plot_trade_log_v2(df)\n",
    "\n",
    "# portfolio value from hodling\n",
    "df[\"pv_from_holding\"] = vbt.Portfolio.from_holding(\n",
    "    df.close, init_cash=envs.envs[0].init_cash\n",
    ").value()\n",
    "df = df.set_index(\"time\")\n",
    "ticker = df[\"ticker_x\"].unique()[0]\n",
    "\n",
    "fig = go.Figure()\n",
    "fig.update_layout(width=800, height=500)\n",
    "fig.update_layout(title=f\"Buy-n-Hold Comparision, Ticker: {ticker}\", title_x=0.5)\n",
    "fig.update_xaxes(title_text=\"Date\")\n",
    "fig.update_yaxes(title_text=\"Portfolio Value (VND)\")\n",
    "\n",
    "df[\"portfolio_value\"].vbt.plot_against(\n",
    "    other=df[\"pv_from_holding\"],\n",
    "    other_trace_kwargs=dict(\n",
    "        line=dict(width=2, color=\"dimgray\"), mode=\"lines\", name=\"Buy-n-Hold\"\n",
    "    ),\n",
    "    trace_kwargs=dict(\n",
    "        mode=\"lines+markers\",\n",
    "        line=dict(width=3, color=\"lightslategray\"),\n",
    "        name=\"MAML\",\n",
    "    ),\n",
    "    pos_trace_kwargs=dict(fillcolor=\"palegreen\"),\n",
    "    neg_trace_kwargs=dict(fillcolor=\"salmon\"),\n",
    "    fig=fig,\n",
    ")\n",
    "fig.show()"
   ]
  },
  {
   "cell_type": "code",
   "execution_count": 36,
   "metadata": {},
   "outputs": [],
   "source": [
    "# # preprocess for plotting\n",
    "# df_result = pd.DataFrame(results)\n",
    "# df_result[\"mean-std\"] = df_result[\"mean\"] - df_result[\"std\"]\n",
    "# df_result[\"mean+std\"] = df_result[\"mean\"] + df_result[\"std\"]\n",
    "# maml_df = df_result[df_result.model_type == \"maml\"]\n",
    "# random_df = df_result[df_result.model_type == \"random\"]\n",
    "\n",
    "# fig = go.Figure()\n",
    "# # adjust size Figure\n",
    "# fig.update_layout(width=500, height=500)\n",
    "# fig.update_layout(\n",
    "#     title=\"Mean Reward +/- Std vs Number of Adaptation Steps\", title_x=0.5\n",
    "# )\n",
    "# fig.update_xaxes(\n",
    "#     title_text=\"Number of Adaptation Steps\", dtick=1, range=[0, TOTAL_ADAPT_STEPS - 1]\n",
    "# )\n",
    "# fig.update_yaxes(title_text=\"Mean Reward +/- Std\", dtick=100)\n",
    "\n",
    "# plot_mean_reward(fig, maml_df, fill_color=\"lightcoral\", line_color=\"red\", name=\"MAML\")\n",
    "# plot_mean_reward(\n",
    "#     fig, random_df, fill_color=\"lightskyblue\", line_color=\"blue\", name=\"Random\"\n",
    "# )\n",
    "\n",
    "# fig.show()"
   ]
  }
 ],
 "metadata": {
  "kernelspec": {
   "display_name": "Python 3.8.13 ('tradingenv')",
   "language": "python",
   "name": "python3"
  },
  "language_info": {
   "codemirror_mode": {
    "name": "ipython",
    "version": 3
   },
   "file_extension": ".py",
   "mimetype": "text/x-python",
   "name": "python",
   "nbconvert_exporter": "python",
   "pygments_lexer": "ipython3",
   "version": "3.8.13"
  },
  "orig_nbformat": 4,
  "vscode": {
   "interpreter": {
    "hash": "faa7f68368d9c9f740356072b5cc858737f0635c1c0b552678cb52f36bb31777"
   }
  }
 },
 "nbformat": 4,
 "nbformat_minor": 2
}
