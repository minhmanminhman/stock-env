{
 "cells": [
  {
   "attachments": {},
   "cell_type": "markdown",
   "metadata": {},
   "source": [
    "# Adaption Evaluation\n",
    "Comparision between: \n",
    "- MAML\n",
    "- pretrained model"
   ]
  },
  {
   "cell_type": "code",
   "execution_count": 1,
   "metadata": {},
   "outputs": [],
   "source": [
    "import matplotlib.pyplot as plt\n",
    "import numpy as np\n",
    "import seaborn as sns\n",
    "import vectorbt as vbt\n",
    "\n",
    "sns.set()\n",
    "import plotly.graph_objects as go\n",
    "from copy import deepcopy\n",
    "from stock_env.envs import *\n",
    "from stock_env.common.common_utils import (\n",
    "    open_config,\n",
    "    create_performance,\n",
    "    plot_trade_log_v2,\n",
    ")\n",
    "from stock_env.exp_manager import ExperimentManager\n",
    "from stock_env.algos.maml import adapt, get_task_loss\n",
    "from stock_env.algos.buffer import RolloutBuffer\n",
    "from stock_env.algos.agent import MetaAgent\n",
    "from stock_env.common.evaluation import evaluate_agent, play_an_episode\n",
    "\n",
    "\n",
    "def plot_mean_reward(fig, df, fill_color, line_color, name):\n",
    "\n",
    "    fig.add_trace(\n",
    "        go.Scatter(\n",
    "            x=df[\"n_adapt_steps\"],\n",
    "            y=df[\"mean-std\"],\n",
    "            mode=\"lines\",\n",
    "            fill=None,\n",
    "            line=dict(width=0.5, color=fill_color),\n",
    "            showlegend=False,\n",
    "        )\n",
    "    )\n",
    "\n",
    "    fig.add_trace(\n",
    "        go.Scatter(\n",
    "            x=df[\"n_adapt_steps\"],\n",
    "            y=df[\"mean+std\"],\n",
    "            fill=\"tonexty\",\n",
    "            mode=\"lines\",\n",
    "            line=dict(width=0.5, color=fill_color),\n",
    "            showlegend=False,\n",
    "        )\n",
    "    )\n",
    "\n",
    "    fig.add_trace(\n",
    "        go.Scatter(\n",
    "            x=df[\"n_adapt_steps\"],\n",
    "            y=df[\"mean\"],\n",
    "            fill=None,\n",
    "            line_color=line_color,\n",
    "            name=name,\n",
    "        )\n",
    "    )"
   ]
  },
  {
   "cell_type": "code",
   "execution_count": 2,
   "metadata": {},
   "outputs": [],
   "source": [
    "ARGS_PATH = \"../configs/maml.yaml\"\n",
    "ENV_ID = \"VNALL-v0\"\n",
    "METHODS_STATE_DICT = {\n",
    "    \"random\": None,\n",
    "    \"maml\": \"../model/maml_sp500_20221222_115520.pth\",\n",
    "}\n",
    "exp = ExperimentManager(\n",
    "    args_path=ARGS_PATH, env_id=ENV_ID, methods_state_dict=METHODS_STATE_DICT\n",
    ")"
   ]
  },
  {
   "cell_type": "code",
   "execution_count": 3,
   "metadata": {},
   "outputs": [
    {
     "name": "stderr",
     "output_type": "stream",
     "text": [
      "2022-12-22 13:03:55,334 : INFO : Evaluating ticker C47 with method 'maml'...\n",
      "2022-12-22 13:04:07,419 : INFO : Evaluating ticker DHC with method 'maml'...\n",
      "2022-12-22 13:04:19,659 : INFO : Evaluating ticker ITC with method 'maml'...\n",
      "2022-12-22 13:04:31,505 : INFO : Evaluating ticker DBC with method 'maml'...\n",
      "2022-12-22 13:04:43,320 : INFO : Evaluating ticker DCL with method 'maml'...\n"
     ]
    },
    {
     "data": {
      "text/html": [
       "<div>\n",
       "<style scoped>\n",
       "    .dataframe tbody tr th:only-of-type {\n",
       "        vertical-align: middle;\n",
       "    }\n",
       "\n",
       "    .dataframe tbody tr th {\n",
       "        vertical-align: top;\n",
       "    }\n",
       "\n",
       "    .dataframe thead th {\n",
       "        text-align: right;\n",
       "    }\n",
       "</style>\n",
       "<table border=\"1\" class=\"dataframe\">\n",
       "  <thead>\n",
       "    <tr style=\"text-align: right;\">\n",
       "      <th></th>\n",
       "      <th>task</th>\n",
       "      <th>n_adapt_steps</th>\n",
       "      <th>model_type</th>\n",
       "      <th>mean</th>\n",
       "      <th>std</th>\n",
       "      <th>inner_loss</th>\n",
       "    </tr>\n",
       "  </thead>\n",
       "  <tbody>\n",
       "    <tr>\n",
       "      <th>0</th>\n",
       "      <td>C47</td>\n",
       "      <td>0</td>\n",
       "      <td>maml</td>\n",
       "      <td>61.987549</td>\n",
       "      <td>94.304398</td>\n",
       "      <td>0.156858</td>\n",
       "    </tr>\n",
       "    <tr>\n",
       "      <th>1</th>\n",
       "      <td>C47</td>\n",
       "      <td>1</td>\n",
       "      <td>maml</td>\n",
       "      <td>55.139534</td>\n",
       "      <td>41.923618</td>\n",
       "      <td>-0.007166</td>\n",
       "    </tr>\n",
       "    <tr>\n",
       "      <th>2</th>\n",
       "      <td>C47</td>\n",
       "      <td>2</td>\n",
       "      <td>maml</td>\n",
       "      <td>15.425817</td>\n",
       "      <td>64.829346</td>\n",
       "      <td>0.001585</td>\n",
       "    </tr>\n",
       "    <tr>\n",
       "      <th>3</th>\n",
       "      <td>C47</td>\n",
       "      <td>3</td>\n",
       "      <td>maml</td>\n",
       "      <td>-16.139961</td>\n",
       "      <td>28.515631</td>\n",
       "      <td>-0.009217</td>\n",
       "    </tr>\n",
       "    <tr>\n",
       "      <th>4</th>\n",
       "      <td>C47</td>\n",
       "      <td>4</td>\n",
       "      <td>maml</td>\n",
       "      <td>-25.563850</td>\n",
       "      <td>23.709747</td>\n",
       "      <td>-0.007595</td>\n",
       "    </tr>\n",
       "    <tr>\n",
       "      <th>5</th>\n",
       "      <td>DHC</td>\n",
       "      <td>0</td>\n",
       "      <td>maml</td>\n",
       "      <td>52.237522</td>\n",
       "      <td>96.005676</td>\n",
       "      <td>0.013042</td>\n",
       "    </tr>\n",
       "    <tr>\n",
       "      <th>6</th>\n",
       "      <td>DHC</td>\n",
       "      <td>1</td>\n",
       "      <td>maml</td>\n",
       "      <td>20.302872</td>\n",
       "      <td>91.886581</td>\n",
       "      <td>0.013486</td>\n",
       "    </tr>\n",
       "    <tr>\n",
       "      <th>7</th>\n",
       "      <td>DHC</td>\n",
       "      <td>2</td>\n",
       "      <td>maml</td>\n",
       "      <td>48.633488</td>\n",
       "      <td>97.634422</td>\n",
       "      <td>0.007538</td>\n",
       "    </tr>\n",
       "    <tr>\n",
       "      <th>8</th>\n",
       "      <td>DHC</td>\n",
       "      <td>3</td>\n",
       "      <td>maml</td>\n",
       "      <td>-14.969468</td>\n",
       "      <td>45.414391</td>\n",
       "      <td>-0.007499</td>\n",
       "    </tr>\n",
       "    <tr>\n",
       "      <th>9</th>\n",
       "      <td>DHC</td>\n",
       "      <td>4</td>\n",
       "      <td>maml</td>\n",
       "      <td>-0.390380</td>\n",
       "      <td>12.795130</td>\n",
       "      <td>-0.007975</td>\n",
       "    </tr>\n",
       "    <tr>\n",
       "      <th>10</th>\n",
       "      <td>ITC</td>\n",
       "      <td>0</td>\n",
       "      <td>maml</td>\n",
       "      <td>-12.255310</td>\n",
       "      <td>29.914173</td>\n",
       "      <td>0.023815</td>\n",
       "    </tr>\n",
       "    <tr>\n",
       "      <th>11</th>\n",
       "      <td>ITC</td>\n",
       "      <td>1</td>\n",
       "      <td>maml</td>\n",
       "      <td>-17.732452</td>\n",
       "      <td>18.005259</td>\n",
       "      <td>0.006853</td>\n",
       "    </tr>\n",
       "    <tr>\n",
       "      <th>12</th>\n",
       "      <td>ITC</td>\n",
       "      <td>2</td>\n",
       "      <td>maml</td>\n",
       "      <td>-20.536766</td>\n",
       "      <td>18.488976</td>\n",
       "      <td>1.245972</td>\n",
       "    </tr>\n",
       "    <tr>\n",
       "      <th>13</th>\n",
       "      <td>ITC</td>\n",
       "      <td>3</td>\n",
       "      <td>maml</td>\n",
       "      <td>4.984330</td>\n",
       "      <td>30.326916</td>\n",
       "      <td>0.118915</td>\n",
       "    </tr>\n",
       "    <tr>\n",
       "      <th>14</th>\n",
       "      <td>ITC</td>\n",
       "      <td>4</td>\n",
       "      <td>maml</td>\n",
       "      <td>-12.255309</td>\n",
       "      <td>29.914173</td>\n",
       "      <td>0.138300</td>\n",
       "    </tr>\n",
       "    <tr>\n",
       "      <th>15</th>\n",
       "      <td>DBC</td>\n",
       "      <td>0</td>\n",
       "      <td>maml</td>\n",
       "      <td>92.517189</td>\n",
       "      <td>61.969894</td>\n",
       "      <td>-0.002387</td>\n",
       "    </tr>\n",
       "    <tr>\n",
       "      <th>16</th>\n",
       "      <td>DBC</td>\n",
       "      <td>1</td>\n",
       "      <td>maml</td>\n",
       "      <td>53.377171</td>\n",
       "      <td>69.170486</td>\n",
       "      <td>-0.001513</td>\n",
       "    </tr>\n",
       "    <tr>\n",
       "      <th>17</th>\n",
       "      <td>DBC</td>\n",
       "      <td>2</td>\n",
       "      <td>maml</td>\n",
       "      <td>74.246330</td>\n",
       "      <td>71.930885</td>\n",
       "      <td>0.786708</td>\n",
       "    </tr>\n",
       "    <tr>\n",
       "      <th>18</th>\n",
       "      <td>DBC</td>\n",
       "      <td>3</td>\n",
       "      <td>maml</td>\n",
       "      <td>-9.551221</td>\n",
       "      <td>29.530716</td>\n",
       "      <td>0.007537</td>\n",
       "    </tr>\n",
       "    <tr>\n",
       "      <th>19</th>\n",
       "      <td>DBC</td>\n",
       "      <td>4</td>\n",
       "      <td>maml</td>\n",
       "      <td>-30.206940</td>\n",
       "      <td>36.106827</td>\n",
       "      <td>0.104195</td>\n",
       "    </tr>\n",
       "    <tr>\n",
       "      <th>20</th>\n",
       "      <td>DCL</td>\n",
       "      <td>0</td>\n",
       "      <td>maml</td>\n",
       "      <td>19.742151</td>\n",
       "      <td>35.711899</td>\n",
       "      <td>0.066552</td>\n",
       "    </tr>\n",
       "    <tr>\n",
       "      <th>21</th>\n",
       "      <td>DCL</td>\n",
       "      <td>1</td>\n",
       "      <td>maml</td>\n",
       "      <td>-24.488644</td>\n",
       "      <td>35.584023</td>\n",
       "      <td>0.031436</td>\n",
       "    </tr>\n",
       "    <tr>\n",
       "      <th>22</th>\n",
       "      <td>DCL</td>\n",
       "      <td>2</td>\n",
       "      <td>maml</td>\n",
       "      <td>57.355396</td>\n",
       "      <td>70.126022</td>\n",
       "      <td>0.022650</td>\n",
       "    </tr>\n",
       "    <tr>\n",
       "      <th>23</th>\n",
       "      <td>DCL</td>\n",
       "      <td>3</td>\n",
       "      <td>maml</td>\n",
       "      <td>-34.959965</td>\n",
       "      <td>52.597271</td>\n",
       "      <td>-0.005534</td>\n",
       "    </tr>\n",
       "    <tr>\n",
       "      <th>24</th>\n",
       "      <td>DCL</td>\n",
       "      <td>4</td>\n",
       "      <td>maml</td>\n",
       "      <td>-0.927549</td>\n",
       "      <td>18.108355</td>\n",
       "      <td>-0.005665</td>\n",
       "    </tr>\n",
       "  </tbody>\n",
       "</table>\n",
       "</div>"
      ],
      "text/plain": [
       "   task  n_adapt_steps model_type       mean        std  inner_loss\n",
       "0   C47              0       maml  61.987549  94.304398    0.156858\n",
       "1   C47              1       maml  55.139534  41.923618   -0.007166\n",
       "2   C47              2       maml  15.425817  64.829346    0.001585\n",
       "3   C47              3       maml -16.139961  28.515631   -0.009217\n",
       "4   C47              4       maml -25.563850  23.709747   -0.007595\n",
       "5   DHC              0       maml  52.237522  96.005676    0.013042\n",
       "6   DHC              1       maml  20.302872  91.886581    0.013486\n",
       "7   DHC              2       maml  48.633488  97.634422    0.007538\n",
       "8   DHC              3       maml -14.969468  45.414391   -0.007499\n",
       "9   DHC              4       maml  -0.390380  12.795130   -0.007975\n",
       "10  ITC              0       maml -12.255310  29.914173    0.023815\n",
       "11  ITC              1       maml -17.732452  18.005259    0.006853\n",
       "12  ITC              2       maml -20.536766  18.488976    1.245972\n",
       "13  ITC              3       maml   4.984330  30.326916    0.118915\n",
       "14  ITC              4       maml -12.255309  29.914173    0.138300\n",
       "15  DBC              0       maml  92.517189  61.969894   -0.002387\n",
       "16  DBC              1       maml  53.377171  69.170486   -0.001513\n",
       "17  DBC              2       maml  74.246330  71.930885    0.786708\n",
       "18  DBC              3       maml  -9.551221  29.530716    0.007537\n",
       "19  DBC              4       maml -30.206940  36.106827    0.104195\n",
       "20  DCL              0       maml  19.742151  35.711899    0.066552\n",
       "21  DCL              1       maml -24.488644  35.584023    0.031436\n",
       "22  DCL              2       maml  57.355396  70.126022    0.022650\n",
       "23  DCL              3       maml -34.959965  52.597271   -0.005534\n",
       "24  DCL              4       maml  -0.927549  18.108355   -0.005665"
      ]
     },
     "execution_count": 3,
     "metadata": {},
     "output_type": "execute_result"
    }
   ],
   "source": [
    "adaption_results = exp.mass_adaption_results(\n",
    "    methods=[\"maml\"],\n",
    "    maybe_num_tasks=5,\n",
    "    total_adapt_steps=4,\n",
    "    n_eval_episodes=5,\n",
    ")\n",
    "adaption_results"
   ]
  },
  {
   "cell_type": "code",
   "execution_count": 4,
   "metadata": {},
   "outputs": [],
   "source": [
    "agg_stats = adaption_results.groupby(\"n_adapt_steps\").agg({\"mean\": \"mean\"})\n",
    "agg_stats.reset_index(inplace=True)"
   ]
  },
  {
   "cell_type": "code",
   "execution_count": 5,
   "metadata": {},
   "outputs": [
    {
     "data": {
      "application/vnd.plotly.v1+json": {
       "config": {
        "plotlyServerURL": "https://plot.ly"
       },
       "data": [
        {
         "hovertemplate": "n_adapt_steps=%{x}<br>mean=%{y}<extra></extra>",
         "legendgroup": "",
         "line": {
          "color": "#636efa",
          "dash": "solid"
         },
         "marker": {
          "symbol": "circle"
         },
         "mode": "lines",
         "name": "",
         "orientation": "v",
         "showlegend": false,
         "type": "scatter",
         "x": [
          0,
          1,
          2,
          3,
          4
         ],
         "xaxis": "x",
         "y": [
          42.845821380615234,
          17.3196964263916,
          35.02485275268555,
          -14.127256393432617,
          -13.868804931640625
         ],
         "yaxis": "y"
        }
       ],
       "layout": {
        "legend": {
         "tracegroupgap": 0
        },
        "margin": {
         "t": 60
        },
        "template": {
         "data": {
          "bar": [
           {
            "error_x": {
             "color": "#2a3f5f"
            },
            "error_y": {
             "color": "#2a3f5f"
            },
            "marker": {
             "line": {
              "color": "#E5ECF6",
              "width": 0.5
             },
             "pattern": {
              "fillmode": "overlay",
              "size": 10,
              "solidity": 0.2
             }
            },
            "type": "bar"
           }
          ],
          "barpolar": [
           {
            "marker": {
             "line": {
              "color": "#E5ECF6",
              "width": 0.5
             },
             "pattern": {
              "fillmode": "overlay",
              "size": 10,
              "solidity": 0.2
             }
            },
            "type": "barpolar"
           }
          ],
          "carpet": [
           {
            "aaxis": {
             "endlinecolor": "#2a3f5f",
             "gridcolor": "white",
             "linecolor": "white",
             "minorgridcolor": "white",
             "startlinecolor": "#2a3f5f"
            },
            "baxis": {
             "endlinecolor": "#2a3f5f",
             "gridcolor": "white",
             "linecolor": "white",
             "minorgridcolor": "white",
             "startlinecolor": "#2a3f5f"
            },
            "type": "carpet"
           }
          ],
          "choropleth": [
           {
            "colorbar": {
             "outlinewidth": 0,
             "ticks": ""
            },
            "type": "choropleth"
           }
          ],
          "contour": [
           {
            "colorbar": {
             "outlinewidth": 0,
             "ticks": ""
            },
            "colorscale": [
             [
              0,
              "#0d0887"
             ],
             [
              0.1111111111111111,
              "#46039f"
             ],
             [
              0.2222222222222222,
              "#7201a8"
             ],
             [
              0.3333333333333333,
              "#9c179e"
             ],
             [
              0.4444444444444444,
              "#bd3786"
             ],
             [
              0.5555555555555556,
              "#d8576b"
             ],
             [
              0.6666666666666666,
              "#ed7953"
             ],
             [
              0.7777777777777778,
              "#fb9f3a"
             ],
             [
              0.8888888888888888,
              "#fdca26"
             ],
             [
              1,
              "#f0f921"
             ]
            ],
            "type": "contour"
           }
          ],
          "contourcarpet": [
           {
            "colorbar": {
             "outlinewidth": 0,
             "ticks": ""
            },
            "type": "contourcarpet"
           }
          ],
          "heatmap": [
           {
            "colorbar": {
             "outlinewidth": 0,
             "ticks": ""
            },
            "colorscale": [
             [
              0,
              "#0d0887"
             ],
             [
              0.1111111111111111,
              "#46039f"
             ],
             [
              0.2222222222222222,
              "#7201a8"
             ],
             [
              0.3333333333333333,
              "#9c179e"
             ],
             [
              0.4444444444444444,
              "#bd3786"
             ],
             [
              0.5555555555555556,
              "#d8576b"
             ],
             [
              0.6666666666666666,
              "#ed7953"
             ],
             [
              0.7777777777777778,
              "#fb9f3a"
             ],
             [
              0.8888888888888888,
              "#fdca26"
             ],
             [
              1,
              "#f0f921"
             ]
            ],
            "type": "heatmap"
           }
          ],
          "heatmapgl": [
           {
            "colorbar": {
             "outlinewidth": 0,
             "ticks": ""
            },
            "colorscale": [
             [
              0,
              "#0d0887"
             ],
             [
              0.1111111111111111,
              "#46039f"
             ],
             [
              0.2222222222222222,
              "#7201a8"
             ],
             [
              0.3333333333333333,
              "#9c179e"
             ],
             [
              0.4444444444444444,
              "#bd3786"
             ],
             [
              0.5555555555555556,
              "#d8576b"
             ],
             [
              0.6666666666666666,
              "#ed7953"
             ],
             [
              0.7777777777777778,
              "#fb9f3a"
             ],
             [
              0.8888888888888888,
              "#fdca26"
             ],
             [
              1,
              "#f0f921"
             ]
            ],
            "type": "heatmapgl"
           }
          ],
          "histogram": [
           {
            "marker": {
             "pattern": {
              "fillmode": "overlay",
              "size": 10,
              "solidity": 0.2
             }
            },
            "type": "histogram"
           }
          ],
          "histogram2d": [
           {
            "colorbar": {
             "outlinewidth": 0,
             "ticks": ""
            },
            "colorscale": [
             [
              0,
              "#0d0887"
             ],
             [
              0.1111111111111111,
              "#46039f"
             ],
             [
              0.2222222222222222,
              "#7201a8"
             ],
             [
              0.3333333333333333,
              "#9c179e"
             ],
             [
              0.4444444444444444,
              "#bd3786"
             ],
             [
              0.5555555555555556,
              "#d8576b"
             ],
             [
              0.6666666666666666,
              "#ed7953"
             ],
             [
              0.7777777777777778,
              "#fb9f3a"
             ],
             [
              0.8888888888888888,
              "#fdca26"
             ],
             [
              1,
              "#f0f921"
             ]
            ],
            "type": "histogram2d"
           }
          ],
          "histogram2dcontour": [
           {
            "colorbar": {
             "outlinewidth": 0,
             "ticks": ""
            },
            "colorscale": [
             [
              0,
              "#0d0887"
             ],
             [
              0.1111111111111111,
              "#46039f"
             ],
             [
              0.2222222222222222,
              "#7201a8"
             ],
             [
              0.3333333333333333,
              "#9c179e"
             ],
             [
              0.4444444444444444,
              "#bd3786"
             ],
             [
              0.5555555555555556,
              "#d8576b"
             ],
             [
              0.6666666666666666,
              "#ed7953"
             ],
             [
              0.7777777777777778,
              "#fb9f3a"
             ],
             [
              0.8888888888888888,
              "#fdca26"
             ],
             [
              1,
              "#f0f921"
             ]
            ],
            "type": "histogram2dcontour"
           }
          ],
          "mesh3d": [
           {
            "colorbar": {
             "outlinewidth": 0,
             "ticks": ""
            },
            "type": "mesh3d"
           }
          ],
          "parcoords": [
           {
            "line": {
             "colorbar": {
              "outlinewidth": 0,
              "ticks": ""
             }
            },
            "type": "parcoords"
           }
          ],
          "pie": [
           {
            "automargin": true,
            "type": "pie"
           }
          ],
          "scatter": [
           {
            "fillpattern": {
             "fillmode": "overlay",
             "size": 10,
             "solidity": 0.2
            },
            "type": "scatter"
           }
          ],
          "scatter3d": [
           {
            "line": {
             "colorbar": {
              "outlinewidth": 0,
              "ticks": ""
             }
            },
            "marker": {
             "colorbar": {
              "outlinewidth": 0,
              "ticks": ""
             }
            },
            "type": "scatter3d"
           }
          ],
          "scattercarpet": [
           {
            "marker": {
             "colorbar": {
              "outlinewidth": 0,
              "ticks": ""
             }
            },
            "type": "scattercarpet"
           }
          ],
          "scattergeo": [
           {
            "marker": {
             "colorbar": {
              "outlinewidth": 0,
              "ticks": ""
             }
            },
            "type": "scattergeo"
           }
          ],
          "scattergl": [
           {
            "marker": {
             "colorbar": {
              "outlinewidth": 0,
              "ticks": ""
             }
            },
            "type": "scattergl"
           }
          ],
          "scattermapbox": [
           {
            "marker": {
             "colorbar": {
              "outlinewidth": 0,
              "ticks": ""
             }
            },
            "type": "scattermapbox"
           }
          ],
          "scatterpolar": [
           {
            "marker": {
             "colorbar": {
              "outlinewidth": 0,
              "ticks": ""
             }
            },
            "type": "scatterpolar"
           }
          ],
          "scatterpolargl": [
           {
            "marker": {
             "colorbar": {
              "outlinewidth": 0,
              "ticks": ""
             }
            },
            "type": "scatterpolargl"
           }
          ],
          "scatterternary": [
           {
            "marker": {
             "colorbar": {
              "outlinewidth": 0,
              "ticks": ""
             }
            },
            "type": "scatterternary"
           }
          ],
          "surface": [
           {
            "colorbar": {
             "outlinewidth": 0,
             "ticks": ""
            },
            "colorscale": [
             [
              0,
              "#0d0887"
             ],
             [
              0.1111111111111111,
              "#46039f"
             ],
             [
              0.2222222222222222,
              "#7201a8"
             ],
             [
              0.3333333333333333,
              "#9c179e"
             ],
             [
              0.4444444444444444,
              "#bd3786"
             ],
             [
              0.5555555555555556,
              "#d8576b"
             ],
             [
              0.6666666666666666,
              "#ed7953"
             ],
             [
              0.7777777777777778,
              "#fb9f3a"
             ],
             [
              0.8888888888888888,
              "#fdca26"
             ],
             [
              1,
              "#f0f921"
             ]
            ],
            "type": "surface"
           }
          ],
          "table": [
           {
            "cells": {
             "fill": {
              "color": "#EBF0F8"
             },
             "line": {
              "color": "white"
             }
            },
            "header": {
             "fill": {
              "color": "#C8D4E3"
             },
             "line": {
              "color": "white"
             }
            },
            "type": "table"
           }
          ]
         },
         "layout": {
          "annotationdefaults": {
           "arrowcolor": "#2a3f5f",
           "arrowhead": 0,
           "arrowwidth": 1
          },
          "autotypenumbers": "strict",
          "coloraxis": {
           "colorbar": {
            "outlinewidth": 0,
            "ticks": ""
           }
          },
          "colorscale": {
           "diverging": [
            [
             0,
             "#8e0152"
            ],
            [
             0.1,
             "#c51b7d"
            ],
            [
             0.2,
             "#de77ae"
            ],
            [
             0.3,
             "#f1b6da"
            ],
            [
             0.4,
             "#fde0ef"
            ],
            [
             0.5,
             "#f7f7f7"
            ],
            [
             0.6,
             "#e6f5d0"
            ],
            [
             0.7,
             "#b8e186"
            ],
            [
             0.8,
             "#7fbc41"
            ],
            [
             0.9,
             "#4d9221"
            ],
            [
             1,
             "#276419"
            ]
           ],
           "sequential": [
            [
             0,
             "#0d0887"
            ],
            [
             0.1111111111111111,
             "#46039f"
            ],
            [
             0.2222222222222222,
             "#7201a8"
            ],
            [
             0.3333333333333333,
             "#9c179e"
            ],
            [
             0.4444444444444444,
             "#bd3786"
            ],
            [
             0.5555555555555556,
             "#d8576b"
            ],
            [
             0.6666666666666666,
             "#ed7953"
            ],
            [
             0.7777777777777778,
             "#fb9f3a"
            ],
            [
             0.8888888888888888,
             "#fdca26"
            ],
            [
             1,
             "#f0f921"
            ]
           ],
           "sequentialminus": [
            [
             0,
             "#0d0887"
            ],
            [
             0.1111111111111111,
             "#46039f"
            ],
            [
             0.2222222222222222,
             "#7201a8"
            ],
            [
             0.3333333333333333,
             "#9c179e"
            ],
            [
             0.4444444444444444,
             "#bd3786"
            ],
            [
             0.5555555555555556,
             "#d8576b"
            ],
            [
             0.6666666666666666,
             "#ed7953"
            ],
            [
             0.7777777777777778,
             "#fb9f3a"
            ],
            [
             0.8888888888888888,
             "#fdca26"
            ],
            [
             1,
             "#f0f921"
            ]
           ]
          },
          "colorway": [
           "#636efa",
           "#EF553B",
           "#00cc96",
           "#ab63fa",
           "#FFA15A",
           "#19d3f3",
           "#FF6692",
           "#B6E880",
           "#FF97FF",
           "#FECB52"
          ],
          "font": {
           "color": "#2a3f5f"
          },
          "geo": {
           "bgcolor": "white",
           "lakecolor": "white",
           "landcolor": "#E5ECF6",
           "showlakes": true,
           "showland": true,
           "subunitcolor": "white"
          },
          "hoverlabel": {
           "align": "left"
          },
          "hovermode": "closest",
          "mapbox": {
           "style": "light"
          },
          "paper_bgcolor": "white",
          "plot_bgcolor": "#E5ECF6",
          "polar": {
           "angularaxis": {
            "gridcolor": "white",
            "linecolor": "white",
            "ticks": ""
           },
           "bgcolor": "#E5ECF6",
           "radialaxis": {
            "gridcolor": "white",
            "linecolor": "white",
            "ticks": ""
           }
          },
          "scene": {
           "xaxis": {
            "backgroundcolor": "#E5ECF6",
            "gridcolor": "white",
            "gridwidth": 2,
            "linecolor": "white",
            "showbackground": true,
            "ticks": "",
            "zerolinecolor": "white"
           },
           "yaxis": {
            "backgroundcolor": "#E5ECF6",
            "gridcolor": "white",
            "gridwidth": 2,
            "linecolor": "white",
            "showbackground": true,
            "ticks": "",
            "zerolinecolor": "white"
           },
           "zaxis": {
            "backgroundcolor": "#E5ECF6",
            "gridcolor": "white",
            "gridwidth": 2,
            "linecolor": "white",
            "showbackground": true,
            "ticks": "",
            "zerolinecolor": "white"
           }
          },
          "shapedefaults": {
           "line": {
            "color": "#2a3f5f"
           }
          },
          "ternary": {
           "aaxis": {
            "gridcolor": "white",
            "linecolor": "white",
            "ticks": ""
           },
           "baxis": {
            "gridcolor": "white",
            "linecolor": "white",
            "ticks": ""
           },
           "bgcolor": "#E5ECF6",
           "caxis": {
            "gridcolor": "white",
            "linecolor": "white",
            "ticks": ""
           }
          },
          "title": {
           "x": 0.05
          },
          "xaxis": {
           "automargin": true,
           "gridcolor": "white",
           "linecolor": "white",
           "ticks": "",
           "title": {
            "standoff": 15
           },
           "zerolinecolor": "white",
           "zerolinewidth": 2
          },
          "yaxis": {
           "automargin": true,
           "gridcolor": "white",
           "linecolor": "white",
           "ticks": "",
           "title": {
            "standoff": 15
           },
           "zerolinecolor": "white",
           "zerolinewidth": 2
          }
         }
        },
        "xaxis": {
         "anchor": "y",
         "domain": [
          0,
          1
         ],
         "title": {
          "text": "n_adapt_steps"
         }
        },
        "yaxis": {
         "anchor": "x",
         "domain": [
          0,
          1
         ],
         "title": {
          "text": "mean"
         }
        }
       }
      }
     },
     "metadata": {},
     "output_type": "display_data"
    }
   ],
   "source": [
    "import plotly.express as px\n",
    "\n",
    "fig = px.line(\n",
    "    agg_stats,\n",
    "    x=\"n_adapt_steps\",\n",
    "    y=\"mean\",\n",
    "    # color=\"task\",\n",
    "    # color_discrete_sequence=px.colors.qualitative.Antique,\n",
    ")\n",
    "fig.show()"
   ]
  },
  {
   "cell_type": "code",
   "execution_count": 6,
   "metadata": {},
   "outputs": [
    {
     "name": "stderr",
     "output_type": "stream",
     "text": [
      "2022-12-22 13:04:55,424 : INFO : Adapt #0: trading 'HAH' with method 'maml'...\n",
      "2022-12-22 13:04:56,729 : INFO : Adapt #1: trading 'HAH' with method 'maml'...\n"
     ]
    },
    {
     "name": "stdout",
     "output_type": "stream",
     "text": [
      "Ticker: HAH, from date 2022-11-03 00:00:00 to date 2022-12-20 00:00:00\n",
      "Ticker: HAH, from date 2020-11-03 00:00:00 to date 2021-11-03 00:00:00\n"
     ]
    },
    {
     "name": "stderr",
     "output_type": "stream",
     "text": [
      "2022-12-22 13:04:58,210 : INFO : Adapt #2: trading 'HAH' with method 'maml'...\n",
      "2022-12-22 13:04:59,509 : INFO : Adapt #3: trading 'HAH' with method 'maml'...\n"
     ]
    },
    {
     "name": "stdout",
     "output_type": "stream",
     "text": [
      "Ticker: HAH, from date 2022-11-03 00:00:00 to date 2022-12-20 00:00:00\n",
      "Ticker: HAH, from date 2019-11-05 00:00:00 to date 2020-11-03 00:00:00\n"
     ]
    },
    {
     "name": "stderr",
     "output_type": "stream",
     "text": [
      "2022-12-22 13:05:01,000 : INFO : Adapt #0: trading 'HPG' with method 'maml'...\n"
     ]
    },
    {
     "name": "stdout",
     "output_type": "stream",
     "text": [
      "Ticker: HPG, from date 2021-11-03 00:00:00 to date 2022-11-03 00:00:00\n"
     ]
    },
    {
     "name": "stderr",
     "output_type": "stream",
     "text": [
      "2022-12-22 13:05:02,466 : INFO : Adapt #1: trading 'HPG' with method 'maml'...\n"
     ]
    },
    {
     "name": "stdout",
     "output_type": "stream",
     "text": [
      "Ticker: HPG, from date 2021-11-03 00:00:00 to date 2022-11-03 00:00:00\n"
     ]
    },
    {
     "name": "stderr",
     "output_type": "stream",
     "text": [
      "2022-12-22 13:05:03,957 : INFO : Adapt #2: trading 'HPG' with method 'maml'...\n"
     ]
    },
    {
     "name": "stdout",
     "output_type": "stream",
     "text": [
      "Ticker: HPG, from date 2021-11-03 00:00:00 to date 2022-11-03 00:00:00\n"
     ]
    },
    {
     "name": "stderr",
     "output_type": "stream",
     "text": [
      "2022-12-22 13:05:05,408 : INFO : Adapt #3: trading 'HPG' with method 'maml'...\n"
     ]
    },
    {
     "name": "stdout",
     "output_type": "stream",
     "text": [
      "Ticker: HPG, from date 2021-11-03 00:00:00 to date 2022-11-03 00:00:00\n"
     ]
    },
    {
     "name": "stderr",
     "output_type": "stream",
     "text": [
      "2022-12-22 13:05:06,849 : INFO : Adapt #0: trading 'VND' with method 'maml'...\n"
     ]
    },
    {
     "name": "stdout",
     "output_type": "stream",
     "text": [
      "Ticker: VND, from date 2021-11-17 00:00:00 to date 2022-11-17 00:00:00\n"
     ]
    },
    {
     "name": "stderr",
     "output_type": "stream",
     "text": [
      "2022-12-22 13:05:08,336 : INFO : Adapt #1: trading 'VND' with method 'maml'...\n"
     ]
    },
    {
     "name": "stdout",
     "output_type": "stream",
     "text": [
      "Ticker: VND, from date 2021-11-17 00:00:00 to date 2022-11-17 00:00:00\n"
     ]
    },
    {
     "name": "stderr",
     "output_type": "stream",
     "text": [
      "2022-12-22 13:05:09,825 : INFO : Adapt #2: trading 'VND' with method 'maml'...\n"
     ]
    },
    {
     "name": "stdout",
     "output_type": "stream",
     "text": [
      "Ticker: VND, from date 2021-11-17 00:00:00 to date 2022-11-17 00:00:00\n"
     ]
    },
    {
     "name": "stderr",
     "output_type": "stream",
     "text": [
      "2022-12-22 13:05:11,386 : INFO : Adapt #3: trading 'VND' with method 'maml'...\n"
     ]
    },
    {
     "name": "stdout",
     "output_type": "stream",
     "text": [
      "Ticker: VND, from date 2021-11-17 00:00:00 to date 2022-11-17 00:00:00\n"
     ]
    },
    {
     "name": "stderr",
     "output_type": "stream",
     "text": [
      "2022-12-22 13:05:12,894 : INFO : Adapt #0: trading 'VNM' with method 'maml'...\n"
     ]
    },
    {
     "name": "stdout",
     "output_type": "stream",
     "text": [
      "Ticker: VNM, from date 2019-11-05 00:00:00 to date 2020-11-03 00:00:00\n"
     ]
    },
    {
     "name": "stderr",
     "output_type": "stream",
     "text": [
      "2022-12-22 13:05:14,410 : INFO : Adapt #1: trading 'VNM' with method 'maml'...\n"
     ]
    },
    {
     "name": "stdout",
     "output_type": "stream",
     "text": [
      "Ticker: VNM, from date 2019-11-05 00:00:00 to date 2020-11-03 00:00:00\n"
     ]
    },
    {
     "name": "stderr",
     "output_type": "stream",
     "text": [
      "2022-12-22 13:05:15,915 : INFO : Adapt #2: trading 'VNM' with method 'maml'...\n"
     ]
    },
    {
     "name": "stdout",
     "output_type": "stream",
     "text": [
      "Ticker: VNM, from date 2021-11-03 00:00:00 to date 2022-11-03 00:00:00\n"
     ]
    },
    {
     "name": "stderr",
     "output_type": "stream",
     "text": [
      "2022-12-22 13:05:17,367 : INFO : Adapt #3: trading 'VNM' with method 'maml'...\n"
     ]
    },
    {
     "name": "stdout",
     "output_type": "stream",
     "text": [
      "Ticker: VNM, from date 2021-11-03 00:00:00 to date 2022-11-03 00:00:00\n"
     ]
    },
    {
     "data": {
      "text/html": [
       "<div>\n",
       "<style scoped>\n",
       "    .dataframe tbody tr th:only-of-type {\n",
       "        vertical-align: middle;\n",
       "    }\n",
       "\n",
       "    .dataframe tbody tr th {\n",
       "        vertical-align: top;\n",
       "    }\n",
       "\n",
       "    .dataframe thead th {\n",
       "        text-align: right;\n",
       "    }\n",
       "</style>\n",
       "<table border=\"1\" class=\"dataframe\">\n",
       "  <thead>\n",
       "    <tr style=\"text-align: right;\">\n",
       "      <th></th>\n",
       "      <th></th>\n",
       "      <th></th>\n",
       "      <th>maml</th>\n",
       "    </tr>\n",
       "    <tr>\n",
       "      <th>n_adapt_steps</th>\n",
       "      <th>ticker</th>\n",
       "      <th>metric</th>\n",
       "      <th></th>\n",
       "    </tr>\n",
       "  </thead>\n",
       "  <tbody>\n",
       "    <tr>\n",
       "      <th rowspan=\"5\" valign=\"top\">0</th>\n",
       "      <th rowspan=\"5\" valign=\"top\">HAH</th>\n",
       "      <th>annual_return</th>\n",
       "      <td>0.0</td>\n",
       "    </tr>\n",
       "    <tr>\n",
       "      <th>cum_returns_final</th>\n",
       "      <td>0.0</td>\n",
       "    </tr>\n",
       "    <tr>\n",
       "      <th>sharpe_ratio</th>\n",
       "      <td>NaN</td>\n",
       "    </tr>\n",
       "    <tr>\n",
       "      <th>max_drawdown</th>\n",
       "      <td>0.0</td>\n",
       "    </tr>\n",
       "    <tr>\n",
       "      <th>annual_volatility</th>\n",
       "      <td>0.0</td>\n",
       "    </tr>\n",
       "    <tr>\n",
       "      <th>...</th>\n",
       "      <th>...</th>\n",
       "      <th>...</th>\n",
       "      <td>...</td>\n",
       "    </tr>\n",
       "    <tr>\n",
       "      <th rowspan=\"5\" valign=\"top\">3</th>\n",
       "      <th rowspan=\"5\" valign=\"top\">VNM</th>\n",
       "      <th>cum_returns_final</th>\n",
       "      <td>-0.02367</td>\n",
       "    </tr>\n",
       "    <tr>\n",
       "      <th>sharpe_ratio</th>\n",
       "      <td>-0.10793</td>\n",
       "    </tr>\n",
       "    <tr>\n",
       "      <th>max_drawdown</th>\n",
       "      <td>-0.15611</td>\n",
       "    </tr>\n",
       "    <tr>\n",
       "      <th>annual_volatility</th>\n",
       "      <td>0.13764</td>\n",
       "    </tr>\n",
       "    <tr>\n",
       "      <th>value_at_risk</th>\n",
       "      <td>NaN</td>\n",
       "    </tr>\n",
       "  </tbody>\n",
       "</table>\n",
       "<p>96 rows × 1 columns</p>\n",
       "</div>"
      ],
      "text/plain": [
       "                                           maml\n",
       "n_adapt_steps ticker metric                    \n",
       "0             HAH    annual_return          0.0\n",
       "                     cum_returns_final      0.0\n",
       "                     sharpe_ratio           NaN\n",
       "                     max_drawdown           0.0\n",
       "                     annual_volatility      0.0\n",
       "...                                         ...\n",
       "3             VNM    cum_returns_final -0.02367\n",
       "                     sharpe_ratio      -0.10793\n",
       "                     max_drawdown      -0.15611\n",
       "                     annual_volatility  0.13764\n",
       "                     value_at_risk          NaN\n",
       "\n",
       "[96 rows x 1 columns]"
      ]
     },
     "execution_count": 6,
     "metadata": {},
     "output_type": "execute_result"
    }
   ],
   "source": [
    "TASKS = [\"HAH\", \"HPG\", \"VND\", \"VNM\"]\n",
    "\n",
    "trading_performance, params = exp.mass_trading_performance(\n",
    "    methods=[\"maml\"],\n",
    "    maybe_num_tasks=TASKS,\n",
    "    total_adapt_steps=3,\n",
    ")\n",
    "trading_performance"
   ]
  },
  {
   "cell_type": "code",
   "execution_count": 7,
   "metadata": {},
   "outputs": [
    {
     "data": {
      "text/html": [
       "<div>\n",
       "<style scoped>\n",
       "    .dataframe tbody tr th:only-of-type {\n",
       "        vertical-align: middle;\n",
       "    }\n",
       "\n",
       "    .dataframe tbody tr th {\n",
       "        vertical-align: top;\n",
       "    }\n",
       "\n",
       "    .dataframe thead th {\n",
       "        text-align: right;\n",
       "    }\n",
       "</style>\n",
       "<table border=\"1\" class=\"dataframe\">\n",
       "  <thead>\n",
       "    <tr style=\"text-align: right;\">\n",
       "      <th></th>\n",
       "      <th></th>\n",
       "      <th></th>\n",
       "      <th>maml</th>\n",
       "    </tr>\n",
       "    <tr>\n",
       "      <th>n_adapt_steps</th>\n",
       "      <th>ticker</th>\n",
       "      <th>metric</th>\n",
       "      <th></th>\n",
       "    </tr>\n",
       "  </thead>\n",
       "  <tbody>\n",
       "    <tr>\n",
       "      <th rowspan=\"8\" valign=\"top\">0</th>\n",
       "      <th rowspan=\"2\" valign=\"top\">HAH</th>\n",
       "      <th>max_drawdown</th>\n",
       "      <td>0.0</td>\n",
       "    </tr>\n",
       "    <tr>\n",
       "      <th>sharpe_ratio</th>\n",
       "      <td>NaN</td>\n",
       "    </tr>\n",
       "    <tr>\n",
       "      <th rowspan=\"2\" valign=\"top\">HPG</th>\n",
       "      <th>max_drawdown</th>\n",
       "      <td>0.0</td>\n",
       "    </tr>\n",
       "    <tr>\n",
       "      <th>sharpe_ratio</th>\n",
       "      <td>NaN</td>\n",
       "    </tr>\n",
       "    <tr>\n",
       "      <th rowspan=\"2\" valign=\"top\">VND</th>\n",
       "      <th>max_drawdown</th>\n",
       "      <td>-0.71957</td>\n",
       "    </tr>\n",
       "    <tr>\n",
       "      <th>sharpe_ratio</th>\n",
       "      <td>-1.48937</td>\n",
       "    </tr>\n",
       "    <tr>\n",
       "      <th rowspan=\"2\" valign=\"top\">VNM</th>\n",
       "      <th>max_drawdown</th>\n",
       "      <td>0.0</td>\n",
       "    </tr>\n",
       "    <tr>\n",
       "      <th>sharpe_ratio</th>\n",
       "      <td>NaN</td>\n",
       "    </tr>\n",
       "    <tr>\n",
       "      <th rowspan=\"8\" valign=\"top\">1</th>\n",
       "      <th rowspan=\"2\" valign=\"top\">HAH</th>\n",
       "      <th>max_drawdown</th>\n",
       "      <td>0.0</td>\n",
       "    </tr>\n",
       "    <tr>\n",
       "      <th>sharpe_ratio</th>\n",
       "      <td>NaN</td>\n",
       "    </tr>\n",
       "    <tr>\n",
       "      <th rowspan=\"2\" valign=\"top\">HPG</th>\n",
       "      <th>max_drawdown</th>\n",
       "      <td>-0.42766</td>\n",
       "    </tr>\n",
       "    <tr>\n",
       "      <th>sharpe_ratio</th>\n",
       "      <td>-2.5821</td>\n",
       "    </tr>\n",
       "    <tr>\n",
       "      <th rowspan=\"2\" valign=\"top\">VND</th>\n",
       "      <th>max_drawdown</th>\n",
       "      <td>-0.71957</td>\n",
       "    </tr>\n",
       "    <tr>\n",
       "      <th>sharpe_ratio</th>\n",
       "      <td>-1.48937</td>\n",
       "    </tr>\n",
       "    <tr>\n",
       "      <th rowspan=\"2\" valign=\"top\">VNM</th>\n",
       "      <th>max_drawdown</th>\n",
       "      <td>-0.20093</td>\n",
       "    </tr>\n",
       "    <tr>\n",
       "      <th>sharpe_ratio</th>\n",
       "      <td>0.23228</td>\n",
       "    </tr>\n",
       "    <tr>\n",
       "      <th rowspan=\"8\" valign=\"top\">2</th>\n",
       "      <th rowspan=\"2\" valign=\"top\">HAH</th>\n",
       "      <th>max_drawdown</th>\n",
       "      <td>0.0</td>\n",
       "    </tr>\n",
       "    <tr>\n",
       "      <th>sharpe_ratio</th>\n",
       "      <td>NaN</td>\n",
       "    </tr>\n",
       "    <tr>\n",
       "      <th rowspan=\"2\" valign=\"top\">HPG</th>\n",
       "      <th>max_drawdown</th>\n",
       "      <td>-0.42864</td>\n",
       "    </tr>\n",
       "    <tr>\n",
       "      <th>sharpe_ratio</th>\n",
       "      <td>-2.58425</td>\n",
       "    </tr>\n",
       "    <tr>\n",
       "      <th rowspan=\"2\" valign=\"top\">VND</th>\n",
       "      <th>max_drawdown</th>\n",
       "      <td>-0.71957</td>\n",
       "    </tr>\n",
       "    <tr>\n",
       "      <th>sharpe_ratio</th>\n",
       "      <td>-1.48937</td>\n",
       "    </tr>\n",
       "    <tr>\n",
       "      <th rowspan=\"2\" valign=\"top\">VNM</th>\n",
       "      <th>max_drawdown</th>\n",
       "      <td>-0.15611</td>\n",
       "    </tr>\n",
       "    <tr>\n",
       "      <th>sharpe_ratio</th>\n",
       "      <td>-0.10793</td>\n",
       "    </tr>\n",
       "    <tr>\n",
       "      <th rowspan=\"8\" valign=\"top\">3</th>\n",
       "      <th rowspan=\"2\" valign=\"top\">HAH</th>\n",
       "      <th>max_drawdown</th>\n",
       "      <td>0.0</td>\n",
       "    </tr>\n",
       "    <tr>\n",
       "      <th>sharpe_ratio</th>\n",
       "      <td>NaN</td>\n",
       "    </tr>\n",
       "    <tr>\n",
       "      <th rowspan=\"2\" valign=\"top\">HPG</th>\n",
       "      <th>max_drawdown</th>\n",
       "      <td>-0.42826</td>\n",
       "    </tr>\n",
       "    <tr>\n",
       "      <th>sharpe_ratio</th>\n",
       "      <td>-2.58454</td>\n",
       "    </tr>\n",
       "    <tr>\n",
       "      <th rowspan=\"2\" valign=\"top\">VND</th>\n",
       "      <th>max_drawdown</th>\n",
       "      <td>-0.32562</td>\n",
       "    </tr>\n",
       "    <tr>\n",
       "      <th>sharpe_ratio</th>\n",
       "      <td>-1.63251</td>\n",
       "    </tr>\n",
       "    <tr>\n",
       "      <th rowspan=\"2\" valign=\"top\">VNM</th>\n",
       "      <th>max_drawdown</th>\n",
       "      <td>-0.15611</td>\n",
       "    </tr>\n",
       "    <tr>\n",
       "      <th>sharpe_ratio</th>\n",
       "      <td>-0.10793</td>\n",
       "    </tr>\n",
       "  </tbody>\n",
       "</table>\n",
       "</div>"
      ],
      "text/plain": [
       "                                      maml\n",
       "n_adapt_steps ticker metric               \n",
       "0             HAH    max_drawdown      0.0\n",
       "                     sharpe_ratio      NaN\n",
       "              HPG    max_drawdown      0.0\n",
       "                     sharpe_ratio      NaN\n",
       "              VND    max_drawdown -0.71957\n",
       "                     sharpe_ratio -1.48937\n",
       "              VNM    max_drawdown      0.0\n",
       "                     sharpe_ratio      NaN\n",
       "1             HAH    max_drawdown      0.0\n",
       "                     sharpe_ratio      NaN\n",
       "              HPG    max_drawdown -0.42766\n",
       "                     sharpe_ratio  -2.5821\n",
       "              VND    max_drawdown -0.71957\n",
       "                     sharpe_ratio -1.48937\n",
       "              VNM    max_drawdown -0.20093\n",
       "                     sharpe_ratio  0.23228\n",
       "2             HAH    max_drawdown      0.0\n",
       "                     sharpe_ratio      NaN\n",
       "              HPG    max_drawdown -0.42864\n",
       "                     sharpe_ratio -2.58425\n",
       "              VND    max_drawdown -0.71957\n",
       "                     sharpe_ratio -1.48937\n",
       "              VNM    max_drawdown -0.15611\n",
       "                     sharpe_ratio -0.10793\n",
       "3             HAH    max_drawdown      0.0\n",
       "                     sharpe_ratio      NaN\n",
       "              HPG    max_drawdown -0.42826\n",
       "                     sharpe_ratio -2.58454\n",
       "              VND    max_drawdown -0.32562\n",
       "                     sharpe_ratio -1.63251\n",
       "              VNM    max_drawdown -0.15611\n",
       "                     sharpe_ratio -0.10793"
      ]
     },
     "execution_count": 7,
     "metadata": {},
     "output_type": "execute_result"
    }
   ],
   "source": [
    "trading_performance.loc[\n",
    "    (slice(0, 5), TASKS, (\"sharpe_ratio\", \"max_drawdown\")), :\n",
    "].sort_index()"
   ]
  },
  {
   "attachments": {},
   "cell_type": "markdown",
   "metadata": {},
   "source": [
    "# Evaluate task trading performance"
   ]
  },
  {
   "cell_type": "code",
   "execution_count": 56,
   "metadata": {},
   "outputs": [
    {
     "name": "stdout",
     "output_type": "stream",
     "text": [
      "Ticker: VNM, from date 2020-11-03 00:00:00 to date 2021-11-03 00:00:00\n",
      "\n",
      "        Annual return     : -8.20%\n",
      "        Cumulative return : -8.13%\n",
      "        Sharpe ratio      : -0.64\n",
      "        Maximum Drawdown  : -14.88%\n",
      "        Annual Volatility :  12.31%\n",
      "        Value-At-Risk     :  nan%\n",
      "        \n"
     ]
    },
    {
     "data": {
      "application/vnd.plotly.v1+json": {
       "config": {
        "plotlyServerURL": "https://plot.ly"
       },
       "data": [
        {
         "hoverinfo": "skip",
         "line": {
          "color": "rgba(0, 0, 0, 0)",
          "width": 0
         },
         "opacity": 0,
         "showlegend": false,
         "type": "scatter",
         "x": [
          "2020-11-04T00:00:00",
          "2020-11-05T00:00:00",
          "2020-11-06T00:00:00",
          "2020-11-09T00:00:00",
          "2020-11-10T00:00:00",
          "2020-11-11T00:00:00",
          "2020-11-12T00:00:00",
          "2020-11-13T00:00:00",
          "2020-11-16T00:00:00",
          "2020-11-17T00:00:00",
          "2020-11-18T00:00:00",
          "2020-11-19T00:00:00",
          "2020-11-20T00:00:00",
          "2020-11-23T00:00:00",
          "2020-11-24T00:00:00",
          "2020-11-25T00:00:00",
          "2020-11-26T00:00:00",
          "2020-11-27T00:00:00",
          "2020-11-30T00:00:00",
          "2020-12-01T00:00:00",
          "2020-12-02T00:00:00",
          "2020-12-03T00:00:00",
          "2020-12-04T00:00:00",
          "2020-12-07T00:00:00",
          "2020-12-08T00:00:00",
          "2020-12-09T00:00:00",
          "2020-12-10T00:00:00",
          "2020-12-11T00:00:00",
          "2020-12-14T00:00:00",
          "2020-12-15T00:00:00",
          "2020-12-16T00:00:00",
          "2020-12-17T00:00:00",
          "2020-12-18T00:00:00",
          "2020-12-21T00:00:00",
          "2020-12-22T00:00:00",
          "2020-12-23T00:00:00",
          "2020-12-24T00:00:00",
          "2020-12-25T00:00:00",
          "2020-12-28T00:00:00",
          "2020-12-29T00:00:00",
          "2020-12-30T00:00:00",
          "2020-12-31T00:00:00",
          "2021-01-04T00:00:00",
          "2021-01-05T00:00:00",
          "2021-01-06T00:00:00",
          "2021-01-07T00:00:00",
          "2021-01-08T00:00:00",
          "2021-01-11T00:00:00",
          "2021-01-12T00:00:00",
          "2021-01-13T00:00:00",
          "2021-01-14T00:00:00",
          "2021-01-15T00:00:00",
          "2021-01-18T00:00:00",
          "2021-01-19T00:00:00",
          "2021-01-20T00:00:00",
          "2021-01-21T00:00:00",
          "2021-01-22T00:00:00",
          "2021-01-25T00:00:00",
          "2021-01-26T00:00:00",
          "2021-01-27T00:00:00",
          "2021-01-28T00:00:00",
          "2021-01-29T00:00:00",
          "2021-02-01T00:00:00",
          "2021-02-02T00:00:00",
          "2021-02-03T00:00:00",
          "2021-02-04T00:00:00",
          "2021-02-05T00:00:00",
          "2021-02-08T00:00:00",
          "2021-02-09T00:00:00",
          "2021-02-17T00:00:00",
          "2021-02-18T00:00:00",
          "2021-02-19T00:00:00",
          "2021-02-22T00:00:00",
          "2021-02-23T00:00:00",
          "2021-02-24T00:00:00",
          "2021-02-25T00:00:00",
          "2021-02-26T00:00:00",
          "2021-03-01T00:00:00",
          "2021-03-02T00:00:00",
          "2021-03-03T00:00:00",
          "2021-03-04T00:00:00",
          "2021-03-05T00:00:00",
          "2021-03-08T00:00:00",
          "2021-03-09T00:00:00",
          "2021-03-10T00:00:00",
          "2021-03-11T00:00:00",
          "2021-03-12T00:00:00",
          "2021-03-15T00:00:00",
          "2021-03-16T00:00:00",
          "2021-03-17T00:00:00",
          "2021-03-18T00:00:00",
          "2021-03-19T00:00:00",
          "2021-03-22T00:00:00",
          "2021-03-23T00:00:00",
          "2021-03-24T00:00:00",
          "2021-03-25T00:00:00",
          "2021-03-26T00:00:00",
          "2021-03-29T00:00:00",
          "2021-03-30T00:00:00",
          "2021-03-31T00:00:00",
          "2021-04-01T00:00:00",
          "2021-04-02T00:00:00",
          "2021-04-05T00:00:00",
          "2021-04-06T00:00:00",
          "2021-04-07T00:00:00",
          "2021-04-08T00:00:00",
          "2021-04-09T00:00:00",
          "2021-04-12T00:00:00",
          "2021-04-13T00:00:00",
          "2021-04-14T00:00:00",
          "2021-04-15T00:00:00",
          "2021-04-16T00:00:00",
          "2021-04-19T00:00:00",
          "2021-04-20T00:00:00",
          "2021-04-22T00:00:00",
          "2021-04-23T00:00:00",
          "2021-04-26T00:00:00",
          "2021-04-27T00:00:00",
          "2021-04-28T00:00:00",
          "2021-04-29T00:00:00",
          "2021-05-04T00:00:00",
          "2021-05-05T00:00:00",
          "2021-05-06T00:00:00",
          "2021-05-07T00:00:00",
          "2021-05-10T00:00:00",
          "2021-05-11T00:00:00",
          "2021-05-12T00:00:00",
          "2021-05-13T00:00:00",
          "2021-05-14T00:00:00",
          "2021-05-17T00:00:00",
          "2021-05-18T00:00:00",
          "2021-05-19T00:00:00",
          "2021-05-20T00:00:00",
          "2021-05-21T00:00:00",
          "2021-05-24T00:00:00",
          "2021-05-25T00:00:00",
          "2021-05-26T00:00:00",
          "2021-05-27T00:00:00",
          "2021-05-28T00:00:00",
          "2021-05-31T00:00:00",
          "2021-06-01T00:00:00",
          "2021-06-02T00:00:00",
          "2021-06-03T00:00:00",
          "2021-06-04T00:00:00",
          "2021-06-07T00:00:00",
          "2021-06-08T00:00:00",
          "2021-06-09T00:00:00",
          "2021-06-10T00:00:00",
          "2021-06-11T00:00:00",
          "2021-06-14T00:00:00",
          "2021-06-15T00:00:00",
          "2021-06-16T00:00:00",
          "2021-06-17T00:00:00",
          "2021-06-18T00:00:00",
          "2021-06-21T00:00:00",
          "2021-06-22T00:00:00",
          "2021-06-23T00:00:00",
          "2021-06-24T00:00:00",
          "2021-06-25T00:00:00",
          "2021-06-28T00:00:00",
          "2021-06-29T00:00:00",
          "2021-06-30T00:00:00",
          "2021-07-01T00:00:00",
          "2021-07-02T00:00:00",
          "2021-07-05T00:00:00",
          "2021-07-06T00:00:00",
          "2021-07-07T00:00:00",
          "2021-07-08T00:00:00",
          "2021-07-09T00:00:00",
          "2021-07-12T00:00:00",
          "2021-07-13T00:00:00",
          "2021-07-14T00:00:00",
          "2021-07-15T00:00:00",
          "2021-07-16T00:00:00",
          "2021-07-19T00:00:00",
          "2021-07-20T00:00:00",
          "2021-07-21T00:00:00",
          "2021-07-22T00:00:00",
          "2021-07-23T00:00:00",
          "2021-07-26T00:00:00",
          "2021-07-27T00:00:00",
          "2021-07-28T00:00:00",
          "2021-07-29T00:00:00",
          "2021-07-30T00:00:00",
          "2021-08-02T00:00:00",
          "2021-08-03T00:00:00",
          "2021-08-04T00:00:00",
          "2021-08-05T00:00:00",
          "2021-08-06T00:00:00",
          "2021-08-09T00:00:00",
          "2021-08-10T00:00:00",
          "2021-08-11T00:00:00",
          "2021-08-12T00:00:00",
          "2021-08-13T00:00:00",
          "2021-08-16T00:00:00",
          "2021-08-17T00:00:00",
          "2021-08-18T00:00:00",
          "2021-08-19T00:00:00",
          "2021-08-20T00:00:00",
          "2021-08-23T00:00:00",
          "2021-08-24T00:00:00",
          "2021-08-25T00:00:00",
          "2021-08-26T00:00:00",
          "2021-08-27T00:00:00",
          "2021-08-30T00:00:00",
          "2021-08-31T00:00:00",
          "2021-09-01T00:00:00",
          "2021-09-06T00:00:00",
          "2021-09-07T00:00:00",
          "2021-09-08T00:00:00",
          "2021-09-09T00:00:00",
          "2021-09-10T00:00:00",
          "2021-09-13T00:00:00",
          "2021-09-14T00:00:00",
          "2021-09-15T00:00:00",
          "2021-09-16T00:00:00",
          "2021-09-17T00:00:00",
          "2021-09-20T00:00:00",
          "2021-09-21T00:00:00",
          "2021-09-22T00:00:00",
          "2021-09-23T00:00:00",
          "2021-09-24T00:00:00",
          "2021-09-27T00:00:00",
          "2021-09-28T00:00:00",
          "2021-09-29T00:00:00",
          "2021-09-30T00:00:00",
          "2021-10-01T00:00:00",
          "2021-10-04T00:00:00",
          "2021-10-05T00:00:00",
          "2021-10-06T00:00:00",
          "2021-10-07T00:00:00",
          "2021-10-08T00:00:00",
          "2021-10-11T00:00:00",
          "2021-10-12T00:00:00",
          "2021-10-13T00:00:00",
          "2021-10-14T00:00:00",
          "2021-10-15T00:00:00",
          "2021-10-18T00:00:00",
          "2021-10-19T00:00:00",
          "2021-10-20T00:00:00",
          "2021-10-21T00:00:00",
          "2021-10-22T00:00:00",
          "2021-10-25T00:00:00",
          "2021-10-26T00:00:00",
          "2021-10-27T00:00:00",
          "2021-10-28T00:00:00",
          "2021-10-29T00:00:00",
          "2021-11-01T00:00:00",
          "2021-11-02T00:00:00",
          "2021-11-03T00:00:00"
         ],
         "y": [
          500000,
          503702.7669583692,
          503702.7669583692,
          503702.7669583692,
          497683.24143861607,
          497683.24143861607,
          495371.5413020386,
          497222.9247812232,
          495831.8579594315,
          498148.61652081547,
          506479.8421771461,
          507865.8505741313,
          513420.001011685,
          512033.9926146998,
          507405.53391673835,
          511573.6759573069,
          508801.65916333656,
          508336.28408113716,
          500925.69173959235,
          507865.8505741313,
          504633.517122768,
          506935.10040973243,
          504633.517122768,
          509256.91739592294,
          505554.15043755376,
          507865.8505741313,
          518518.8932166524,
          521295.96843542927,
          525003.7938186049,
          514821.1846830897,
          516667.5097374678,
          511108.3008751075,
          511108.3008751075,
          513890.43451869086,
          508801.65916333656,
          510187.66756032174,
          503242.45030097634,
          504633.517122768,
          503242.45030097634,
          505554.15043755376,
          503702.7669583692,
          503702.7669583692,
          506024.5839445597,
          517699.4283979969,
          513030.50230158336,
          515832.86964439275,
          523309.22150842234,
          541529.6676614903,
          543401.2848399009,
          534989.124386666,
          528443.5226870353,
          532181.69861905,
          529379.3312762406,
          503212.09975213726,
          509287.267944762,
          515362.4361373869,
          507886.0842733573,
          505549.09201274725,
          498548.2320805302,
          482654.66133845923,
          449021.1947999393,
          480317.66907784913,
          479857.3524204563,
          497141.9899843189,
          512560.06879457744,
          508356.5177803632,
          512094.69371237804,
          492002.6303808994,
          504618.34184834844,
          507886.0842733573,
          509287.267944762,
          504618.34184834844,
          502281.34958773846,
          499944.35732712835,
          494339.62264150946,
          488729.82953108405,
          489665.6381202894,
          493403.81405230414,
          490136.0716272953,
          488269.51287369116,
          483125.09484546515,
          481258.536091861,
          477520.36015984626,
          469578.6332136173,
          472375.94213162025,
          480317.66907784913,
          477520.36015984626,
          477520.36015984626,
          471910.56704942085,
          469578.6332136173,
          478916.4854064445,
          475183.36789923615,
          470979.81688502204,
          468167.33269259956,
          461161.41433557594,
          460230.66417117714,
          455091.30456775764,
          462567.6564317871,
          463498.406596186,
          459765.28908897773,
          471910.56704942085,
          479857.3524204563,
          479381.86048864387,
          474247.5593100309,
          467701.9576104001,
          466771.20744600135,
          466300.77393899544,
          467241.64095300727,
          467241.64095300727,
          463968.84010319185,
          463033.0315139866,
          452754.31230714754,
          449021.1947999393,
          463968.84010319185,
          457893.6719105671,
          464899.5902675907,
          448545.7028681269,
          447144.5191967222,
          437801.6085790885,
          436865.7999898832,
          427988.2644544489,
          429854.823208053,
          418645.3538368152,
          406500.07587637217,
          434533.8661540797,
          426121.70570084476,
          428924.0730436542,
          422848.90485102945,
          418174.9203298093,
          407430.8260407709,
          406500.07587637217,
          408837.06813698215,
          411163.9435479792,
          416778.7950832111,
          426121.70570084476,
          422848.90485102945,
          425185.8971116395,
          422848.90485102945,
          425646.2137690323,
          422848.90485102945,
          420046.53750821995,
          417709.5452476099,
          421452.7796044312,
          418174.9203298093,
          422909.6059487076,
          424325.9648945319,
          421488.1885780768,
          436157.62051697104,
          435206.6366533462,
          437573.97946279537,
          439465.830340432,
          434265.7696393343,
          430477.0094592544,
          435677.0701603521,
          428585.15858161775,
          428585.15858161775,
          425747.38226516265,
          419596.33770044014,
          424325.9648945319,
          421963.68050988927,
          430477.0094592544,
          427639.2331427994,
          430006.5759522485,
          426217.8157721686,
          421963.68050988927,
          411553.4422580809,
          424796.39840153774,
          418174.9203298093,
          411553.4422580809,
          408245.2324346199,
          398785.9780464364,
          402094.1878698973,
          403040.11330871575,
          406353.38155698316,
          402094.1878698973,
          406353.38155698316,
          403515.6052405281,
          410607.5168192625,
          414396.27699934243,
          420547.321564065,
          413920.78506753,
          411083.0087510749,
          410607.5168192625,
          407294.248570995,
          409191.15787343826,
          412028.93418989325,
          412028.93418989325,
          409666.64980525064,
          412504.42612170574,
          414866.71050634835,
          422909.6059487076,
          430006.5759522485,
          428114.7250746118,
          425276.9487581567,
          423385.09788052004,
          422434.1140168951,
          425747.38226516265,
          427163.7412109869,
          415342.2024381608,
          406828.87348879565,
          408245.2324346199,
          411083.0087510749,
          411553.4422580809,
          411553.4422580809,
          413445.2931357175,
          413445.2931357175,
          416758.56138398504,
          417704.4868228034,
          415301.73503970867,
          410966.6649805251,
          410005.5642672872,
          416257.7773281401,
          419631.7466740857,
          418665.58753604133,
          414335.5759016642,
          415782.2853963276,
          416257.7773281401,
          426845.06044817646,
          427330.6692296019,
          440320.70413273305,
          436956.8516364005,
          436476.30127978156,
          427330.6692296019,
          429733.42101269664,
          431180.13050736004,
          431180.13050736004,
          432141.231220598,
          434068.4910718803,
          431180.13050736004,
          429733.42101269664,
          427330.6692296019,
          431180.13050736004,
          433102.33193383587,
          435029.59178511816,
          433582.8822904548,
          433102.33193383587,
          433102.33193383587,
          432141.231220598,
          434549.0414284992,
          433102.33193383587,
          428772.32029945875,
          435510.1421417371,
          433582.8822904548,
          431180.13050736004,
          435029.59178511816,
          435990.69249835605,
          436476.30127978156,
          433102.33193383587,
          429252.8706560777,
          424442.30866508174
         ]
        },
        {
         "connectgaps": false,
         "fill": "tonexty",
         "fillcolor": "palegreen",
         "hoverinfo": "skip",
         "line": {
          "color": "rgba(0, 0, 0, 0)",
          "width": 0
         },
         "opacity": 0,
         "showlegend": false,
         "type": "scatter",
         "x": [
          "2020-11-04T00:00:00",
          "2020-11-05T00:00:00",
          "2020-11-06T00:00:00",
          "2020-11-09T00:00:00",
          "2020-11-10T00:00:00",
          "2020-11-11T00:00:00",
          "2020-11-12T00:00:00",
          "2020-11-13T00:00:00",
          "2020-11-16T00:00:00",
          "2020-11-17T00:00:00",
          "2020-11-18T00:00:00",
          "2020-11-19T00:00:00",
          "2020-11-20T00:00:00",
          "2020-11-23T00:00:00",
          "2020-11-24T00:00:00",
          "2020-11-25T00:00:00",
          "2020-11-26T00:00:00",
          "2020-11-27T00:00:00",
          "2020-11-30T00:00:00",
          "2020-12-01T00:00:00",
          "2020-12-02T00:00:00",
          "2020-12-03T00:00:00",
          "2020-12-04T00:00:00",
          "2020-12-07T00:00:00",
          "2020-12-08T00:00:00",
          "2020-12-09T00:00:00",
          "2020-12-10T00:00:00",
          "2020-12-11T00:00:00",
          "2020-12-14T00:00:00",
          "2020-12-15T00:00:00",
          "2020-12-16T00:00:00",
          "2020-12-17T00:00:00",
          "2020-12-18T00:00:00",
          "2020-12-21T00:00:00",
          "2020-12-22T00:00:00",
          "2020-12-23T00:00:00",
          "2020-12-24T00:00:00",
          "2020-12-25T00:00:00",
          "2020-12-28T00:00:00",
          "2020-12-29T00:00:00",
          "2020-12-30T00:00:00",
          "2020-12-31T00:00:00",
          "2021-01-04T00:00:00",
          "2021-01-05T00:00:00",
          "2021-01-06T00:00:00",
          "2021-01-07T00:00:00",
          "2021-01-08T00:00:00",
          "2021-01-11T00:00:00",
          "2021-01-12T00:00:00",
          "2021-01-13T00:00:00",
          "2021-01-14T00:00:00",
          "2021-01-15T00:00:00",
          "2021-01-18T00:00:00",
          "2021-01-19T00:00:00",
          "2021-01-20T00:00:00",
          "2021-01-21T00:00:00",
          "2021-01-22T00:00:00",
          "2021-01-25T00:00:00",
          "2021-01-26T00:00:00",
          "2021-01-27T00:00:00",
          "2021-01-28T00:00:00",
          "2021-01-29T00:00:00",
          "2021-02-01T00:00:00",
          "2021-02-02T00:00:00",
          "2021-02-03T00:00:00",
          "2021-02-04T00:00:00",
          "2021-02-05T00:00:00",
          "2021-02-08T00:00:00",
          "2021-02-09T00:00:00",
          "2021-02-17T00:00:00",
          "2021-02-18T00:00:00",
          "2021-02-19T00:00:00",
          "2021-02-22T00:00:00",
          "2021-02-23T00:00:00",
          "2021-02-24T00:00:00",
          "2021-02-25T00:00:00",
          "2021-02-26T00:00:00",
          "2021-03-01T00:00:00",
          "2021-03-02T00:00:00",
          "2021-03-03T00:00:00",
          "2021-03-04T00:00:00",
          "2021-03-05T00:00:00",
          "2021-03-08T00:00:00",
          "2021-03-09T00:00:00",
          "2021-03-10T00:00:00",
          "2021-03-11T00:00:00",
          "2021-03-12T00:00:00",
          "2021-03-15T00:00:00",
          "2021-03-16T00:00:00",
          "2021-03-17T00:00:00",
          "2021-03-18T00:00:00",
          "2021-03-19T00:00:00",
          "2021-03-22T00:00:00",
          "2021-03-23T00:00:00",
          "2021-03-24T00:00:00",
          "2021-03-25T00:00:00",
          "2021-03-26T00:00:00",
          "2021-03-29T00:00:00",
          "2021-03-30T00:00:00",
          "2021-03-31T00:00:00",
          "2021-04-01T00:00:00",
          "2021-04-02T00:00:00",
          "2021-04-05T00:00:00",
          "2021-04-06T00:00:00",
          "2021-04-07T00:00:00",
          "2021-04-08T00:00:00",
          "2021-04-09T00:00:00",
          "2021-04-12T00:00:00",
          "2021-04-13T00:00:00",
          "2021-04-14T00:00:00",
          "2021-04-15T00:00:00",
          "2021-04-16T00:00:00",
          "2021-04-19T00:00:00",
          "2021-04-20T00:00:00",
          "2021-04-22T00:00:00",
          "2021-04-23T00:00:00",
          "2021-04-26T00:00:00",
          "2021-04-27T00:00:00",
          "2021-04-28T00:00:00",
          "2021-04-29T00:00:00",
          "2021-05-04T00:00:00",
          "2021-05-05T00:00:00",
          "2021-05-06T00:00:00",
          "2021-05-07T00:00:00",
          "2021-05-10T00:00:00",
          "2021-05-11T00:00:00",
          "2021-05-12T00:00:00",
          "2021-05-13T00:00:00",
          "2021-05-14T00:00:00",
          "2021-05-17T00:00:00",
          "2021-05-18T00:00:00",
          "2021-05-19T00:00:00",
          "2021-05-20T00:00:00",
          "2021-05-21T00:00:00",
          "2021-05-24T00:00:00",
          "2021-05-25T00:00:00",
          "2021-05-26T00:00:00",
          "2021-05-27T00:00:00",
          "2021-05-28T00:00:00",
          "2021-05-31T00:00:00",
          "2021-06-01T00:00:00",
          "2021-06-02T00:00:00",
          "2021-06-03T00:00:00",
          "2021-06-04T00:00:00",
          "2021-06-07T00:00:00",
          "2021-06-08T00:00:00",
          "2021-06-09T00:00:00",
          "2021-06-10T00:00:00",
          "2021-06-11T00:00:00",
          "2021-06-14T00:00:00",
          "2021-06-15T00:00:00",
          "2021-06-16T00:00:00",
          "2021-06-17T00:00:00",
          "2021-06-18T00:00:00",
          "2021-06-21T00:00:00",
          "2021-06-22T00:00:00",
          "2021-06-23T00:00:00",
          "2021-06-24T00:00:00",
          "2021-06-25T00:00:00",
          "2021-06-28T00:00:00",
          "2021-06-29T00:00:00",
          "2021-06-30T00:00:00",
          "2021-07-01T00:00:00",
          "2021-07-02T00:00:00",
          "2021-07-05T00:00:00",
          "2021-07-06T00:00:00",
          "2021-07-07T00:00:00",
          "2021-07-08T00:00:00",
          "2021-07-09T00:00:00",
          "2021-07-12T00:00:00",
          "2021-07-13T00:00:00",
          "2021-07-14T00:00:00",
          "2021-07-15T00:00:00",
          "2021-07-16T00:00:00",
          "2021-07-19T00:00:00",
          "2021-07-20T00:00:00",
          "2021-07-21T00:00:00",
          "2021-07-22T00:00:00",
          "2021-07-23T00:00:00",
          "2021-07-26T00:00:00",
          "2021-07-27T00:00:00",
          "2021-07-28T00:00:00",
          "2021-07-29T00:00:00",
          "2021-07-30T00:00:00",
          "2021-08-02T00:00:00",
          "2021-08-03T00:00:00",
          "2021-08-04T00:00:00",
          "2021-08-05T00:00:00",
          "2021-08-06T00:00:00",
          "2021-08-09T00:00:00",
          "2021-08-10T00:00:00",
          "2021-08-11T00:00:00",
          "2021-08-12T00:00:00",
          "2021-08-13T00:00:00",
          "2021-08-16T00:00:00",
          "2021-08-17T00:00:00",
          "2021-08-18T00:00:00",
          "2021-08-19T00:00:00",
          "2021-08-20T00:00:00",
          "2021-08-23T00:00:00",
          "2021-08-24T00:00:00",
          "2021-08-25T00:00:00",
          "2021-08-26T00:00:00",
          "2021-08-27T00:00:00",
          "2021-08-30T00:00:00",
          "2021-08-31T00:00:00",
          "2021-09-01T00:00:00",
          "2021-09-06T00:00:00",
          "2021-09-07T00:00:00",
          "2021-09-08T00:00:00",
          "2021-09-09T00:00:00",
          "2021-09-10T00:00:00",
          "2021-09-13T00:00:00",
          "2021-09-14T00:00:00",
          "2021-09-15T00:00:00",
          "2021-09-16T00:00:00",
          "2021-09-17T00:00:00",
          "2021-09-20T00:00:00",
          "2021-09-21T00:00:00",
          "2021-09-22T00:00:00",
          "2021-09-23T00:00:00",
          "2021-09-24T00:00:00",
          "2021-09-27T00:00:00",
          "2021-09-28T00:00:00",
          "2021-09-29T00:00:00",
          "2021-09-30T00:00:00",
          "2021-10-01T00:00:00",
          "2021-10-04T00:00:00",
          "2021-10-05T00:00:00",
          "2021-10-06T00:00:00",
          "2021-10-07T00:00:00",
          "2021-10-08T00:00:00",
          "2021-10-11T00:00:00",
          "2021-10-12T00:00:00",
          "2021-10-13T00:00:00",
          "2021-10-14T00:00:00",
          "2021-10-15T00:00:00",
          "2021-10-18T00:00:00",
          "2021-10-19T00:00:00",
          "2021-10-20T00:00:00",
          "2021-10-21T00:00:00",
          "2021-10-22T00:00:00",
          "2021-10-25T00:00:00",
          "2021-10-26T00:00:00",
          "2021-10-27T00:00:00",
          "2021-10-28T00:00:00",
          "2021-10-29T00:00:00",
          "2021-11-01T00:00:00",
          "2021-11-02T00:00:00",
          "2021-11-03T00:00:00"
         ],
         "y": [
          500000,
          503702.7669583692,
          503702.7669583692,
          503702.7669583692,
          498552.203,
          498552.203,
          497364.003,
          498315.603,
          497600.603,
          498791.403,
          506479.8421771461,
          507865.8505741313,
          513420.001011685,
          512033.9926146998,
          507405.53391673835,
          511573.6759573069,
          508801.65916333656,
          508336.28408113716,
          500925.69173959235,
          507865.8505741313,
          504633.517122768,
          506935.10040973243,
          504633.517122768,
          509256.91739592294,
          505554.15043755376,
          507865.8505741313,
          518518.8932166524,
          521295.96843542927,
          525003.7938186049,
          514821.1846830897,
          516667.5097374678,
          511108.3008751075,
          511108.3008751075,
          513890.43451869086,
          508801.65916333656,
          510187.66756032174,
          503242.45030097634,
          504633.517122768,
          503242.45030097634,
          505554.15043755376,
          503702.7669583692,
          503702.7669583692,
          506024.5839445597,
          517699.4283979969,
          513030.50230158336,
          515832.86964439275,
          523309.22150842234,
          541529.6676614903,
          543401.2848399009,
          534989.124386666,
          528443.5226870353,
          532181.69861905,
          529379.3312762406,
          503212.09975213726,
          509287.267944762,
          515362.4361373869,
          507886.0842733573,
          505549.09201274725,
          498996.803,
          490568.412,
          472616.11199999996,
          489321.012,
          489075.31200000003,
          498301.212,
          512560.06879457744,
          508356.5177803632,
          512094.69371237804,
          495558.012,
          504618.34184834844,
          507886.0842733573,
          509287.267944762,
          504618.34184834844,
          502281.34958773846,
          499944.35732712835,
          496805.412,
          493811.112,
          494310.612,
          496305.912,
          494561.712,
          493565.412,
          490819.512,
          489823.212,
          487827.912,
          483588.912,
          485082.012,
          489321.012,
          487827.912,
          487827.912,
          484833.61199999996,
          483588.912,
          488573.112,
          486580.512,
          484336.81200000003,
          482835.612,
          479096.11199999996,
          478599.31200000003,
          475856.11199999996,
          479846.71199999994,
          480343.512,
          478350.912,
          484833.61199999996,
          489075.31200000003,
          488821.512,
          486081.012,
          482587.21199999994,
          482090.412,
          481839.31200000003,
          482341.512,
          482341.512,
          480594.61199999996,
          480095.112,
          474608.712,
          472533.3615,
          480807.3615,
          477444.56149999995,
          481322.5615,
          472270.1615,
          471494.56149999995,
          466322.9615,
          465804.9615,
          460890.9615,
          461924.1615,
          455719.3615,
          448803.6407,
          464875.44070000004,
          460052.74069999997,
          461659.34069999994,
          458176.44070000004,
          455496.84069999994,
          449337.24069999997,
          448803.6407,
          450143.4407,
          451477.44070000004,
          454696.44070000004,
          460052.74069999997,
          458176.44070000004,
          459516.2407,
          458176.44070000004,
          459780.1407,
          458176.44070000004,
          456569.8407,
          455230.0407,
          457376.0407,
          455496.84069999994,
          458211.24069999997,
          459023.2407,
          457396.3407,
          465806.3407,
          465261.1407,
          466618.3407,
          467702.94070000004,
          464721.74069999997,
          462549.6407,
          465530.8407,
          461465.0407,
          461465.0407,
          459838.1407,
          456311.74069999997,
          459023.2407,
          457668.94070000004,
          462549.6407,
          460922.7407,
          462279.9407,
          460107.8407,
          457668.94070000004,
          451700.74069999997,
          459292.9407,
          455496.84069999994,
          451700.74069999997,
          449804.1407,
          444381.1407,
          446277.74069999997,
          446820.0407,
          448719.5407,
          446277.74069999997,
          448719.5407,
          447092.6407,
          451158.44070000004,
          453330.5407,
          456856.94070000004,
          453057.94070000004,
          451431.0407,
          451158.44070000004,
          449258.94070000004,
          450346.44070000004,
          451973.34069999994,
          451973.34069999994,
          450619.0407,
          452245.94070000004,
          453600.24069999997,
          458211.24069999997,
          462279.9407,
          461195.3407,
          459568.4407,
          458483.8407,
          457938.6407,
          459838.1407,
          460650.1407,
          453872.84069999994,
          448992.1407,
          449804.1407,
          451431.0407,
          451700.74069999997,
          451700.74069999997,
          452785.34069999994,
          452785.34069999994,
          454684.84069999994,
          455227.1407,
          453849.6407,
          451364.3407,
          450813.3407,
          454397.7407,
          456332.0407,
          455778.1407,
          453295.74069999997,
          454125.1407,
          454397.7407,
          460467.4407,
          460745.8407,
          468193.0407,
          466264.5407,
          465989.0407,
          460745.8407,
          462123.34069999994,
          462952.74069999997,
          462952.74069999997,
          463503.7407,
          464608.6407,
          462952.74069999997,
          462123.34069999994,
          460745.8407,
          462952.74069999997,
          464054.74069999997,
          465159.6407,
          464330.24069999997,
          464054.74069999997,
          464054.74069999997,
          463503.7407,
          464884.1407,
          464054.74069999997,
          461572.34069999994,
          465435.1407,
          464330.24069999997,
          462952.74069999997,
          465159.6407,
          465710.6407,
          465989.0407,
          464054.74069999997,
          461847.84069999994,
          459089.94070000004
         ]
        },
        {
         "hoverinfo": "skip",
         "line": {
          "color": "rgba(0, 0, 0, 0)",
          "width": 0
         },
         "opacity": 0,
         "showlegend": false,
         "type": "scatter",
         "x": [
          "2020-11-04T00:00:00",
          "2020-11-05T00:00:00",
          "2020-11-06T00:00:00",
          "2020-11-09T00:00:00",
          "2020-11-10T00:00:00",
          "2020-11-11T00:00:00",
          "2020-11-12T00:00:00",
          "2020-11-13T00:00:00",
          "2020-11-16T00:00:00",
          "2020-11-17T00:00:00",
          "2020-11-18T00:00:00",
          "2020-11-19T00:00:00",
          "2020-11-20T00:00:00",
          "2020-11-23T00:00:00",
          "2020-11-24T00:00:00",
          "2020-11-25T00:00:00",
          "2020-11-26T00:00:00",
          "2020-11-27T00:00:00",
          "2020-11-30T00:00:00",
          "2020-12-01T00:00:00",
          "2020-12-02T00:00:00",
          "2020-12-03T00:00:00",
          "2020-12-04T00:00:00",
          "2020-12-07T00:00:00",
          "2020-12-08T00:00:00",
          "2020-12-09T00:00:00",
          "2020-12-10T00:00:00",
          "2020-12-11T00:00:00",
          "2020-12-14T00:00:00",
          "2020-12-15T00:00:00",
          "2020-12-16T00:00:00",
          "2020-12-17T00:00:00",
          "2020-12-18T00:00:00",
          "2020-12-21T00:00:00",
          "2020-12-22T00:00:00",
          "2020-12-23T00:00:00",
          "2020-12-24T00:00:00",
          "2020-12-25T00:00:00",
          "2020-12-28T00:00:00",
          "2020-12-29T00:00:00",
          "2020-12-30T00:00:00",
          "2020-12-31T00:00:00",
          "2021-01-04T00:00:00",
          "2021-01-05T00:00:00",
          "2021-01-06T00:00:00",
          "2021-01-07T00:00:00",
          "2021-01-08T00:00:00",
          "2021-01-11T00:00:00",
          "2021-01-12T00:00:00",
          "2021-01-13T00:00:00",
          "2021-01-14T00:00:00",
          "2021-01-15T00:00:00",
          "2021-01-18T00:00:00",
          "2021-01-19T00:00:00",
          "2021-01-20T00:00:00",
          "2021-01-21T00:00:00",
          "2021-01-22T00:00:00",
          "2021-01-25T00:00:00",
          "2021-01-26T00:00:00",
          "2021-01-27T00:00:00",
          "2021-01-28T00:00:00",
          "2021-01-29T00:00:00",
          "2021-02-01T00:00:00",
          "2021-02-02T00:00:00",
          "2021-02-03T00:00:00",
          "2021-02-04T00:00:00",
          "2021-02-05T00:00:00",
          "2021-02-08T00:00:00",
          "2021-02-09T00:00:00",
          "2021-02-17T00:00:00",
          "2021-02-18T00:00:00",
          "2021-02-19T00:00:00",
          "2021-02-22T00:00:00",
          "2021-02-23T00:00:00",
          "2021-02-24T00:00:00",
          "2021-02-25T00:00:00",
          "2021-02-26T00:00:00",
          "2021-03-01T00:00:00",
          "2021-03-02T00:00:00",
          "2021-03-03T00:00:00",
          "2021-03-04T00:00:00",
          "2021-03-05T00:00:00",
          "2021-03-08T00:00:00",
          "2021-03-09T00:00:00",
          "2021-03-10T00:00:00",
          "2021-03-11T00:00:00",
          "2021-03-12T00:00:00",
          "2021-03-15T00:00:00",
          "2021-03-16T00:00:00",
          "2021-03-17T00:00:00",
          "2021-03-18T00:00:00",
          "2021-03-19T00:00:00",
          "2021-03-22T00:00:00",
          "2021-03-23T00:00:00",
          "2021-03-24T00:00:00",
          "2021-03-25T00:00:00",
          "2021-03-26T00:00:00",
          "2021-03-29T00:00:00",
          "2021-03-30T00:00:00",
          "2021-03-31T00:00:00",
          "2021-04-01T00:00:00",
          "2021-04-02T00:00:00",
          "2021-04-05T00:00:00",
          "2021-04-06T00:00:00",
          "2021-04-07T00:00:00",
          "2021-04-08T00:00:00",
          "2021-04-09T00:00:00",
          "2021-04-12T00:00:00",
          "2021-04-13T00:00:00",
          "2021-04-14T00:00:00",
          "2021-04-15T00:00:00",
          "2021-04-16T00:00:00",
          "2021-04-19T00:00:00",
          "2021-04-20T00:00:00",
          "2021-04-22T00:00:00",
          "2021-04-23T00:00:00",
          "2021-04-26T00:00:00",
          "2021-04-27T00:00:00",
          "2021-04-28T00:00:00",
          "2021-04-29T00:00:00",
          "2021-05-04T00:00:00",
          "2021-05-05T00:00:00",
          "2021-05-06T00:00:00",
          "2021-05-07T00:00:00",
          "2021-05-10T00:00:00",
          "2021-05-11T00:00:00",
          "2021-05-12T00:00:00",
          "2021-05-13T00:00:00",
          "2021-05-14T00:00:00",
          "2021-05-17T00:00:00",
          "2021-05-18T00:00:00",
          "2021-05-19T00:00:00",
          "2021-05-20T00:00:00",
          "2021-05-21T00:00:00",
          "2021-05-24T00:00:00",
          "2021-05-25T00:00:00",
          "2021-05-26T00:00:00",
          "2021-05-27T00:00:00",
          "2021-05-28T00:00:00",
          "2021-05-31T00:00:00",
          "2021-06-01T00:00:00",
          "2021-06-02T00:00:00",
          "2021-06-03T00:00:00",
          "2021-06-04T00:00:00",
          "2021-06-07T00:00:00",
          "2021-06-08T00:00:00",
          "2021-06-09T00:00:00",
          "2021-06-10T00:00:00",
          "2021-06-11T00:00:00",
          "2021-06-14T00:00:00",
          "2021-06-15T00:00:00",
          "2021-06-16T00:00:00",
          "2021-06-17T00:00:00",
          "2021-06-18T00:00:00",
          "2021-06-21T00:00:00",
          "2021-06-22T00:00:00",
          "2021-06-23T00:00:00",
          "2021-06-24T00:00:00",
          "2021-06-25T00:00:00",
          "2021-06-28T00:00:00",
          "2021-06-29T00:00:00",
          "2021-06-30T00:00:00",
          "2021-07-01T00:00:00",
          "2021-07-02T00:00:00",
          "2021-07-05T00:00:00",
          "2021-07-06T00:00:00",
          "2021-07-07T00:00:00",
          "2021-07-08T00:00:00",
          "2021-07-09T00:00:00",
          "2021-07-12T00:00:00",
          "2021-07-13T00:00:00",
          "2021-07-14T00:00:00",
          "2021-07-15T00:00:00",
          "2021-07-16T00:00:00",
          "2021-07-19T00:00:00",
          "2021-07-20T00:00:00",
          "2021-07-21T00:00:00",
          "2021-07-22T00:00:00",
          "2021-07-23T00:00:00",
          "2021-07-26T00:00:00",
          "2021-07-27T00:00:00",
          "2021-07-28T00:00:00",
          "2021-07-29T00:00:00",
          "2021-07-30T00:00:00",
          "2021-08-02T00:00:00",
          "2021-08-03T00:00:00",
          "2021-08-04T00:00:00",
          "2021-08-05T00:00:00",
          "2021-08-06T00:00:00",
          "2021-08-09T00:00:00",
          "2021-08-10T00:00:00",
          "2021-08-11T00:00:00",
          "2021-08-12T00:00:00",
          "2021-08-13T00:00:00",
          "2021-08-16T00:00:00",
          "2021-08-17T00:00:00",
          "2021-08-18T00:00:00",
          "2021-08-19T00:00:00",
          "2021-08-20T00:00:00",
          "2021-08-23T00:00:00",
          "2021-08-24T00:00:00",
          "2021-08-25T00:00:00",
          "2021-08-26T00:00:00",
          "2021-08-27T00:00:00",
          "2021-08-30T00:00:00",
          "2021-08-31T00:00:00",
          "2021-09-01T00:00:00",
          "2021-09-06T00:00:00",
          "2021-09-07T00:00:00",
          "2021-09-08T00:00:00",
          "2021-09-09T00:00:00",
          "2021-09-10T00:00:00",
          "2021-09-13T00:00:00",
          "2021-09-14T00:00:00",
          "2021-09-15T00:00:00",
          "2021-09-16T00:00:00",
          "2021-09-17T00:00:00",
          "2021-09-20T00:00:00",
          "2021-09-21T00:00:00",
          "2021-09-22T00:00:00",
          "2021-09-23T00:00:00",
          "2021-09-24T00:00:00",
          "2021-09-27T00:00:00",
          "2021-09-28T00:00:00",
          "2021-09-29T00:00:00",
          "2021-09-30T00:00:00",
          "2021-10-01T00:00:00",
          "2021-10-04T00:00:00",
          "2021-10-05T00:00:00",
          "2021-10-06T00:00:00",
          "2021-10-07T00:00:00",
          "2021-10-08T00:00:00",
          "2021-10-11T00:00:00",
          "2021-10-12T00:00:00",
          "2021-10-13T00:00:00",
          "2021-10-14T00:00:00",
          "2021-10-15T00:00:00",
          "2021-10-18T00:00:00",
          "2021-10-19T00:00:00",
          "2021-10-20T00:00:00",
          "2021-10-21T00:00:00",
          "2021-10-22T00:00:00",
          "2021-10-25T00:00:00",
          "2021-10-26T00:00:00",
          "2021-10-27T00:00:00",
          "2021-10-28T00:00:00",
          "2021-10-29T00:00:00",
          "2021-11-01T00:00:00",
          "2021-11-02T00:00:00",
          "2021-11-03T00:00:00"
         ],
         "y": [
          500000,
          503702.7669583692,
          503702.7669583692,
          503702.7669583692,
          497683.24143861607,
          497683.24143861607,
          495371.5413020386,
          497222.9247812232,
          495831.8579594315,
          498148.61652081547,
          506479.8421771461,
          507865.8505741313,
          513420.001011685,
          512033.9926146998,
          507405.53391673835,
          511573.6759573069,
          508801.65916333656,
          508336.28408113716,
          500925.69173959235,
          507865.8505741313,
          504633.517122768,
          506935.10040973243,
          504633.517122768,
          509256.91739592294,
          505554.15043755376,
          507865.8505741313,
          518518.8932166524,
          521295.96843542927,
          525003.7938186049,
          514821.1846830897,
          516667.5097374678,
          511108.3008751075,
          511108.3008751075,
          513890.43451869086,
          508801.65916333656,
          510187.66756032174,
          503242.45030097634,
          504633.517122768,
          503242.45030097634,
          505554.15043755376,
          503702.7669583692,
          503702.7669583692,
          506024.5839445597,
          517699.4283979969,
          513030.50230158336,
          515832.86964439275,
          523309.22150842234,
          541529.6676614903,
          543401.2848399009,
          534989.124386666,
          528443.5226870353,
          532181.69861905,
          529379.3312762406,
          503212.09975213726,
          509287.267944762,
          515362.4361373869,
          507886.0842733573,
          505549.09201274725,
          498548.2320805302,
          482654.66133845923,
          449021.1947999393,
          480317.66907784913,
          479857.3524204563,
          497141.9899843189,
          512560.06879457744,
          508356.5177803632,
          512094.69371237804,
          492002.6303808994,
          504618.34184834844,
          507886.0842733573,
          509287.267944762,
          504618.34184834844,
          502281.34958773846,
          499944.35732712835,
          494339.62264150946,
          488729.82953108405,
          489665.6381202894,
          493403.81405230414,
          490136.0716272953,
          488269.51287369116,
          483125.09484546515,
          481258.536091861,
          477520.36015984626,
          469578.6332136173,
          472375.94213162025,
          480317.66907784913,
          477520.36015984626,
          477520.36015984626,
          471910.56704942085,
          469578.6332136173,
          478916.4854064445,
          475183.36789923615,
          470979.81688502204,
          468167.33269259956,
          461161.41433557594,
          460230.66417117714,
          455091.30456775764,
          462567.6564317871,
          463498.406596186,
          459765.28908897773,
          471910.56704942085,
          479857.3524204563,
          479381.86048864387,
          474247.5593100309,
          467701.9576104001,
          466771.20744600135,
          466300.77393899544,
          467241.64095300727,
          467241.64095300727,
          463968.84010319185,
          463033.0315139866,
          452754.31230714754,
          449021.1947999393,
          463968.84010319185,
          457893.6719105671,
          464899.5902675907,
          448545.7028681269,
          447144.5191967222,
          437801.6085790885,
          436865.7999898832,
          427988.2644544489,
          429854.823208053,
          418645.3538368152,
          406500.07587637217,
          434533.8661540797,
          426121.70570084476,
          428924.0730436542,
          422848.90485102945,
          418174.9203298093,
          407430.8260407709,
          406500.07587637217,
          408837.06813698215,
          411163.9435479792,
          416778.7950832111,
          426121.70570084476,
          422848.90485102945,
          425185.8971116395,
          422848.90485102945,
          425646.2137690323,
          422848.90485102945,
          420046.53750821995,
          417709.5452476099,
          421452.7796044312,
          418174.9203298093,
          422909.6059487076,
          424325.9648945319,
          421488.1885780768,
          436157.62051697104,
          435206.6366533462,
          437573.97946279537,
          439465.830340432,
          434265.7696393343,
          430477.0094592544,
          435677.0701603521,
          428585.15858161775,
          428585.15858161775,
          425747.38226516265,
          419596.33770044014,
          424325.9648945319,
          421963.68050988927,
          430477.0094592544,
          427639.2331427994,
          430006.5759522485,
          426217.8157721686,
          421963.68050988927,
          411553.4422580809,
          424796.39840153774,
          418174.9203298093,
          411553.4422580809,
          408245.2324346199,
          398785.9780464364,
          402094.1878698973,
          403040.11330871575,
          406353.38155698316,
          402094.1878698973,
          406353.38155698316,
          403515.6052405281,
          410607.5168192625,
          414396.27699934243,
          420547.321564065,
          413920.78506753,
          411083.0087510749,
          410607.5168192625,
          407294.248570995,
          409191.15787343826,
          412028.93418989325,
          412028.93418989325,
          409666.64980525064,
          412504.42612170574,
          414866.71050634835,
          422909.6059487076,
          430006.5759522485,
          428114.7250746118,
          425276.9487581567,
          423385.09788052004,
          422434.1140168951,
          425747.38226516265,
          427163.7412109869,
          415342.2024381608,
          406828.87348879565,
          408245.2324346199,
          411083.0087510749,
          411553.4422580809,
          411553.4422580809,
          413445.2931357175,
          413445.2931357175,
          416758.56138398504,
          417704.4868228034,
          415301.73503970867,
          410966.6649805251,
          410005.5642672872,
          416257.7773281401,
          419631.7466740857,
          418665.58753604133,
          414335.5759016642,
          415782.2853963276,
          416257.7773281401,
          426845.06044817646,
          427330.6692296019,
          440320.70413273305,
          436956.8516364005,
          436476.30127978156,
          427330.6692296019,
          429733.42101269664,
          431180.13050736004,
          431180.13050736004,
          432141.231220598,
          434068.4910718803,
          431180.13050736004,
          429733.42101269664,
          427330.6692296019,
          431180.13050736004,
          433102.33193383587,
          435029.59178511816,
          433582.8822904548,
          433102.33193383587,
          433102.33193383587,
          432141.231220598,
          434549.0414284992,
          433102.33193383587,
          428772.32029945875,
          435510.1421417371,
          433582.8822904548,
          431180.13050736004,
          435029.59178511816,
          435990.69249835605,
          436476.30127978156,
          433102.33193383587,
          429252.8706560777,
          424442.30866508174
         ]
        },
        {
         "connectgaps": false,
         "fill": "tonexty",
         "fillcolor": "salmon",
         "hoverinfo": "skip",
         "line": {
          "color": "rgba(0, 0, 0, 0)",
          "width": 0
         },
         "opacity": 0,
         "showlegend": false,
         "type": "scatter",
         "x": [
          "2020-11-04T00:00:00",
          "2020-11-05T00:00:00",
          "2020-11-06T00:00:00",
          "2020-11-09T00:00:00",
          "2020-11-10T00:00:00",
          "2020-11-11T00:00:00",
          "2020-11-12T00:00:00",
          "2020-11-13T00:00:00",
          "2020-11-16T00:00:00",
          "2020-11-17T00:00:00",
          "2020-11-18T00:00:00",
          "2020-11-19T00:00:00",
          "2020-11-20T00:00:00",
          "2020-11-23T00:00:00",
          "2020-11-24T00:00:00",
          "2020-11-25T00:00:00",
          "2020-11-26T00:00:00",
          "2020-11-27T00:00:00",
          "2020-11-30T00:00:00",
          "2020-12-01T00:00:00",
          "2020-12-02T00:00:00",
          "2020-12-03T00:00:00",
          "2020-12-04T00:00:00",
          "2020-12-07T00:00:00",
          "2020-12-08T00:00:00",
          "2020-12-09T00:00:00",
          "2020-12-10T00:00:00",
          "2020-12-11T00:00:00",
          "2020-12-14T00:00:00",
          "2020-12-15T00:00:00",
          "2020-12-16T00:00:00",
          "2020-12-17T00:00:00",
          "2020-12-18T00:00:00",
          "2020-12-21T00:00:00",
          "2020-12-22T00:00:00",
          "2020-12-23T00:00:00",
          "2020-12-24T00:00:00",
          "2020-12-25T00:00:00",
          "2020-12-28T00:00:00",
          "2020-12-29T00:00:00",
          "2020-12-30T00:00:00",
          "2020-12-31T00:00:00",
          "2021-01-04T00:00:00",
          "2021-01-05T00:00:00",
          "2021-01-06T00:00:00",
          "2021-01-07T00:00:00",
          "2021-01-08T00:00:00",
          "2021-01-11T00:00:00",
          "2021-01-12T00:00:00",
          "2021-01-13T00:00:00",
          "2021-01-14T00:00:00",
          "2021-01-15T00:00:00",
          "2021-01-18T00:00:00",
          "2021-01-19T00:00:00",
          "2021-01-20T00:00:00",
          "2021-01-21T00:00:00",
          "2021-01-22T00:00:00",
          "2021-01-25T00:00:00",
          "2021-01-26T00:00:00",
          "2021-01-27T00:00:00",
          "2021-01-28T00:00:00",
          "2021-01-29T00:00:00",
          "2021-02-01T00:00:00",
          "2021-02-02T00:00:00",
          "2021-02-03T00:00:00",
          "2021-02-04T00:00:00",
          "2021-02-05T00:00:00",
          "2021-02-08T00:00:00",
          "2021-02-09T00:00:00",
          "2021-02-17T00:00:00",
          "2021-02-18T00:00:00",
          "2021-02-19T00:00:00",
          "2021-02-22T00:00:00",
          "2021-02-23T00:00:00",
          "2021-02-24T00:00:00",
          "2021-02-25T00:00:00",
          "2021-02-26T00:00:00",
          "2021-03-01T00:00:00",
          "2021-03-02T00:00:00",
          "2021-03-03T00:00:00",
          "2021-03-04T00:00:00",
          "2021-03-05T00:00:00",
          "2021-03-08T00:00:00",
          "2021-03-09T00:00:00",
          "2021-03-10T00:00:00",
          "2021-03-11T00:00:00",
          "2021-03-12T00:00:00",
          "2021-03-15T00:00:00",
          "2021-03-16T00:00:00",
          "2021-03-17T00:00:00",
          "2021-03-18T00:00:00",
          "2021-03-19T00:00:00",
          "2021-03-22T00:00:00",
          "2021-03-23T00:00:00",
          "2021-03-24T00:00:00",
          "2021-03-25T00:00:00",
          "2021-03-26T00:00:00",
          "2021-03-29T00:00:00",
          "2021-03-30T00:00:00",
          "2021-03-31T00:00:00",
          "2021-04-01T00:00:00",
          "2021-04-02T00:00:00",
          "2021-04-05T00:00:00",
          "2021-04-06T00:00:00",
          "2021-04-07T00:00:00",
          "2021-04-08T00:00:00",
          "2021-04-09T00:00:00",
          "2021-04-12T00:00:00",
          "2021-04-13T00:00:00",
          "2021-04-14T00:00:00",
          "2021-04-15T00:00:00",
          "2021-04-16T00:00:00",
          "2021-04-19T00:00:00",
          "2021-04-20T00:00:00",
          "2021-04-22T00:00:00",
          "2021-04-23T00:00:00",
          "2021-04-26T00:00:00",
          "2021-04-27T00:00:00",
          "2021-04-28T00:00:00",
          "2021-04-29T00:00:00",
          "2021-05-04T00:00:00",
          "2021-05-05T00:00:00",
          "2021-05-06T00:00:00",
          "2021-05-07T00:00:00",
          "2021-05-10T00:00:00",
          "2021-05-11T00:00:00",
          "2021-05-12T00:00:00",
          "2021-05-13T00:00:00",
          "2021-05-14T00:00:00",
          "2021-05-17T00:00:00",
          "2021-05-18T00:00:00",
          "2021-05-19T00:00:00",
          "2021-05-20T00:00:00",
          "2021-05-21T00:00:00",
          "2021-05-24T00:00:00",
          "2021-05-25T00:00:00",
          "2021-05-26T00:00:00",
          "2021-05-27T00:00:00",
          "2021-05-28T00:00:00",
          "2021-05-31T00:00:00",
          "2021-06-01T00:00:00",
          "2021-06-02T00:00:00",
          "2021-06-03T00:00:00",
          "2021-06-04T00:00:00",
          "2021-06-07T00:00:00",
          "2021-06-08T00:00:00",
          "2021-06-09T00:00:00",
          "2021-06-10T00:00:00",
          "2021-06-11T00:00:00",
          "2021-06-14T00:00:00",
          "2021-06-15T00:00:00",
          "2021-06-16T00:00:00",
          "2021-06-17T00:00:00",
          "2021-06-18T00:00:00",
          "2021-06-21T00:00:00",
          "2021-06-22T00:00:00",
          "2021-06-23T00:00:00",
          "2021-06-24T00:00:00",
          "2021-06-25T00:00:00",
          "2021-06-28T00:00:00",
          "2021-06-29T00:00:00",
          "2021-06-30T00:00:00",
          "2021-07-01T00:00:00",
          "2021-07-02T00:00:00",
          "2021-07-05T00:00:00",
          "2021-07-06T00:00:00",
          "2021-07-07T00:00:00",
          "2021-07-08T00:00:00",
          "2021-07-09T00:00:00",
          "2021-07-12T00:00:00",
          "2021-07-13T00:00:00",
          "2021-07-14T00:00:00",
          "2021-07-15T00:00:00",
          "2021-07-16T00:00:00",
          "2021-07-19T00:00:00",
          "2021-07-20T00:00:00",
          "2021-07-21T00:00:00",
          "2021-07-22T00:00:00",
          "2021-07-23T00:00:00",
          "2021-07-26T00:00:00",
          "2021-07-27T00:00:00",
          "2021-07-28T00:00:00",
          "2021-07-29T00:00:00",
          "2021-07-30T00:00:00",
          "2021-08-02T00:00:00",
          "2021-08-03T00:00:00",
          "2021-08-04T00:00:00",
          "2021-08-05T00:00:00",
          "2021-08-06T00:00:00",
          "2021-08-09T00:00:00",
          "2021-08-10T00:00:00",
          "2021-08-11T00:00:00",
          "2021-08-12T00:00:00",
          "2021-08-13T00:00:00",
          "2021-08-16T00:00:00",
          "2021-08-17T00:00:00",
          "2021-08-18T00:00:00",
          "2021-08-19T00:00:00",
          "2021-08-20T00:00:00",
          "2021-08-23T00:00:00",
          "2021-08-24T00:00:00",
          "2021-08-25T00:00:00",
          "2021-08-26T00:00:00",
          "2021-08-27T00:00:00",
          "2021-08-30T00:00:00",
          "2021-08-31T00:00:00",
          "2021-09-01T00:00:00",
          "2021-09-06T00:00:00",
          "2021-09-07T00:00:00",
          "2021-09-08T00:00:00",
          "2021-09-09T00:00:00",
          "2021-09-10T00:00:00",
          "2021-09-13T00:00:00",
          "2021-09-14T00:00:00",
          "2021-09-15T00:00:00",
          "2021-09-16T00:00:00",
          "2021-09-17T00:00:00",
          "2021-09-20T00:00:00",
          "2021-09-21T00:00:00",
          "2021-09-22T00:00:00",
          "2021-09-23T00:00:00",
          "2021-09-24T00:00:00",
          "2021-09-27T00:00:00",
          "2021-09-28T00:00:00",
          "2021-09-29T00:00:00",
          "2021-09-30T00:00:00",
          "2021-10-01T00:00:00",
          "2021-10-04T00:00:00",
          "2021-10-05T00:00:00",
          "2021-10-06T00:00:00",
          "2021-10-07T00:00:00",
          "2021-10-08T00:00:00",
          "2021-10-11T00:00:00",
          "2021-10-12T00:00:00",
          "2021-10-13T00:00:00",
          "2021-10-14T00:00:00",
          "2021-10-15T00:00:00",
          "2021-10-18T00:00:00",
          "2021-10-19T00:00:00",
          "2021-10-20T00:00:00",
          "2021-10-21T00:00:00",
          "2021-10-22T00:00:00",
          "2021-10-25T00:00:00",
          "2021-10-26T00:00:00",
          "2021-10-27T00:00:00",
          "2021-10-28T00:00:00",
          "2021-10-29T00:00:00",
          "2021-11-01T00:00:00",
          "2021-11-02T00:00:00",
          "2021-11-03T00:00:00"
         ],
         "y": [
          499743.003,
          501646.203,
          501646.203,
          501646.203,
          497683.24143861607,
          497683.24143861607,
          495371.5413020386,
          497222.9247812232,
          495831.8579594315,
          498148.61652081547,
          503073.603,
          503786.003,
          506640.80299999996,
          505928.40300000005,
          503549.403,
          505691.80299999996,
          504267.00299999997,
          504027.80299999996,
          500218.803,
          503786.003,
          502124.603,
          503307.603,
          502124.603,
          504501.003,
          502597.80299999996,
          503786.003,
          509261.603,
          510689.003,
          512594.80299999996,
          507361.003,
          508310.003,
          505452.603,
          505452.603,
          506882.603,
          504267.00299999997,
          504979.40299999993,
          501409.603,
          502124.603,
          501409.603,
          502597.80299999996,
          501646.203,
          501646.203,
          502839.603,
          508840.40299999993,
          506440.603,
          507881.003,
          511723.80299999996,
          521089.003,
          522051.003,
          517727.203,
          514362.80299999996,
          516284.203,
          514843.80299999996,
          501394.003,
          504516.603,
          507639.203,
          503796.403,
          502595.203,
          498548.2320805302,
          482654.66133845923,
          449021.1947999393,
          480317.66907784913,
          479857.3524204563,
          497141.9899843189,
          506530.81200000003,
          504287.112,
          506282.412,
          492002.6303808994,
          502291.812,
          504036.012,
          504783.912,
          502291.812,
          501044.412,
          499797.012,
          494339.62264150946,
          488729.82953108405,
          489665.6381202894,
          493403.81405230414,
          490136.0716272953,
          488269.51287369116,
          483125.09484546515,
          481258.536091861,
          477520.36015984626,
          469578.6332136173,
          472375.94213162025,
          480317.66907784913,
          477520.36015984626,
          477520.36015984626,
          471910.56704942085,
          469578.6332136173,
          478916.4854064445,
          475183.36789923615,
          470979.81688502204,
          468167.33269259956,
          461161.41433557594,
          460230.66417117714,
          455091.30456775764,
          462567.6564317871,
          463498.406596186,
          459765.28908897773,
          471910.56704942085,
          479857.3524204563,
          479381.86048864387,
          474247.5593100309,
          467701.9576104001,
          466771.20744600135,
          466300.77393899544,
          467241.64095300727,
          467241.64095300727,
          463968.84010319185,
          463033.0315139866,
          452754.31230714754,
          449021.1947999393,
          463968.84010319185,
          457893.6719105671,
          464899.5902675907,
          448545.7028681269,
          447144.5191967222,
          437801.6085790885,
          436865.7999898832,
          427988.2644544489,
          429854.823208053,
          418645.3538368152,
          406500.07587637217,
          434533.8661540797,
          426121.70570084476,
          428924.0730436542,
          422848.90485102945,
          418174.9203298093,
          407430.8260407709,
          406500.07587637217,
          408837.06813698215,
          411163.9435479792,
          416778.7950832111,
          426121.70570084476,
          422848.90485102945,
          425185.8971116395,
          422848.90485102945,
          425646.2137690323,
          422848.90485102945,
          420046.53750821995,
          417709.5452476099,
          421452.7796044312,
          418174.9203298093,
          422909.6059487076,
          424325.9648945319,
          421488.1885780768,
          436157.62051697104,
          435206.6366533462,
          437573.97946279537,
          439465.830340432,
          434265.7696393343,
          430477.0094592544,
          435677.0701603521,
          428585.15858161775,
          428585.15858161775,
          425747.38226516265,
          419596.33770044014,
          424325.9648945319,
          421963.68050988927,
          430477.0094592544,
          427639.2331427994,
          430006.5759522485,
          426217.8157721686,
          421963.68050988927,
          411553.4422580809,
          424796.39840153774,
          418174.9203298093,
          411553.4422580809,
          408245.2324346199,
          398785.9780464364,
          402094.1878698973,
          403040.11330871575,
          406353.38155698316,
          402094.1878698973,
          406353.38155698316,
          403515.6052405281,
          410607.5168192625,
          414396.27699934243,
          420547.321564065,
          413920.78506753,
          411083.0087510749,
          410607.5168192625,
          407294.248570995,
          409191.15787343826,
          412028.93418989325,
          412028.93418989325,
          409666.64980525064,
          412504.42612170574,
          414866.71050634835,
          422909.6059487076,
          430006.5759522485,
          428114.7250746118,
          425276.9487581567,
          423385.09788052004,
          422434.1140168951,
          425747.38226516265,
          427163.7412109869,
          415342.2024381608,
          406828.87348879565,
          408245.2324346199,
          411083.0087510749,
          411553.4422580809,
          411553.4422580809,
          413445.2931357175,
          413445.2931357175,
          416758.56138398504,
          417704.4868228034,
          415301.73503970867,
          410966.6649805251,
          410005.5642672872,
          416257.7773281401,
          419631.7466740857,
          418665.58753604133,
          414335.5759016642,
          415782.2853963276,
          416257.7773281401,
          426845.06044817646,
          427330.6692296019,
          440320.70413273305,
          436956.8516364005,
          436476.30127978156,
          427330.6692296019,
          429733.42101269664,
          431180.13050736004,
          431180.13050736004,
          432141.231220598,
          434068.4910718803,
          431180.13050736004,
          429733.42101269664,
          427330.6692296019,
          431180.13050736004,
          433102.33193383587,
          435029.59178511816,
          433582.8822904548,
          433102.33193383587,
          433102.33193383587,
          432141.231220598,
          434549.0414284992,
          433102.33193383587,
          428772.32029945875,
          435510.1421417371,
          433582.8822904548,
          431180.13050736004,
          435029.59178511816,
          435990.69249835605,
          436476.30127978156,
          433102.33193383587,
          429252.8706560777,
          424442.30866508174
         ]
        },
        {
         "line": {
          "color": "lightslategray",
          "width": 3
         },
         "mode": "lines+markers",
         "name": "MAML",
         "showlegend": true,
         "type": "scatter",
         "x": [
          "2020-11-04T00:00:00",
          "2020-11-05T00:00:00",
          "2020-11-06T00:00:00",
          "2020-11-09T00:00:00",
          "2020-11-10T00:00:00",
          "2020-11-11T00:00:00",
          "2020-11-12T00:00:00",
          "2020-11-13T00:00:00",
          "2020-11-16T00:00:00",
          "2020-11-17T00:00:00",
          "2020-11-18T00:00:00",
          "2020-11-19T00:00:00",
          "2020-11-20T00:00:00",
          "2020-11-23T00:00:00",
          "2020-11-24T00:00:00",
          "2020-11-25T00:00:00",
          "2020-11-26T00:00:00",
          "2020-11-27T00:00:00",
          "2020-11-30T00:00:00",
          "2020-12-01T00:00:00",
          "2020-12-02T00:00:00",
          "2020-12-03T00:00:00",
          "2020-12-04T00:00:00",
          "2020-12-07T00:00:00",
          "2020-12-08T00:00:00",
          "2020-12-09T00:00:00",
          "2020-12-10T00:00:00",
          "2020-12-11T00:00:00",
          "2020-12-14T00:00:00",
          "2020-12-15T00:00:00",
          "2020-12-16T00:00:00",
          "2020-12-17T00:00:00",
          "2020-12-18T00:00:00",
          "2020-12-21T00:00:00",
          "2020-12-22T00:00:00",
          "2020-12-23T00:00:00",
          "2020-12-24T00:00:00",
          "2020-12-25T00:00:00",
          "2020-12-28T00:00:00",
          "2020-12-29T00:00:00",
          "2020-12-30T00:00:00",
          "2020-12-31T00:00:00",
          "2021-01-04T00:00:00",
          "2021-01-05T00:00:00",
          "2021-01-06T00:00:00",
          "2021-01-07T00:00:00",
          "2021-01-08T00:00:00",
          "2021-01-11T00:00:00",
          "2021-01-12T00:00:00",
          "2021-01-13T00:00:00",
          "2021-01-14T00:00:00",
          "2021-01-15T00:00:00",
          "2021-01-18T00:00:00",
          "2021-01-19T00:00:00",
          "2021-01-20T00:00:00",
          "2021-01-21T00:00:00",
          "2021-01-22T00:00:00",
          "2021-01-25T00:00:00",
          "2021-01-26T00:00:00",
          "2021-01-27T00:00:00",
          "2021-01-28T00:00:00",
          "2021-01-29T00:00:00",
          "2021-02-01T00:00:00",
          "2021-02-02T00:00:00",
          "2021-02-03T00:00:00",
          "2021-02-04T00:00:00",
          "2021-02-05T00:00:00",
          "2021-02-08T00:00:00",
          "2021-02-09T00:00:00",
          "2021-02-17T00:00:00",
          "2021-02-18T00:00:00",
          "2021-02-19T00:00:00",
          "2021-02-22T00:00:00",
          "2021-02-23T00:00:00",
          "2021-02-24T00:00:00",
          "2021-02-25T00:00:00",
          "2021-02-26T00:00:00",
          "2021-03-01T00:00:00",
          "2021-03-02T00:00:00",
          "2021-03-03T00:00:00",
          "2021-03-04T00:00:00",
          "2021-03-05T00:00:00",
          "2021-03-08T00:00:00",
          "2021-03-09T00:00:00",
          "2021-03-10T00:00:00",
          "2021-03-11T00:00:00",
          "2021-03-12T00:00:00",
          "2021-03-15T00:00:00",
          "2021-03-16T00:00:00",
          "2021-03-17T00:00:00",
          "2021-03-18T00:00:00",
          "2021-03-19T00:00:00",
          "2021-03-22T00:00:00",
          "2021-03-23T00:00:00",
          "2021-03-24T00:00:00",
          "2021-03-25T00:00:00",
          "2021-03-26T00:00:00",
          "2021-03-29T00:00:00",
          "2021-03-30T00:00:00",
          "2021-03-31T00:00:00",
          "2021-04-01T00:00:00",
          "2021-04-02T00:00:00",
          "2021-04-05T00:00:00",
          "2021-04-06T00:00:00",
          "2021-04-07T00:00:00",
          "2021-04-08T00:00:00",
          "2021-04-09T00:00:00",
          "2021-04-12T00:00:00",
          "2021-04-13T00:00:00",
          "2021-04-14T00:00:00",
          "2021-04-15T00:00:00",
          "2021-04-16T00:00:00",
          "2021-04-19T00:00:00",
          "2021-04-20T00:00:00",
          "2021-04-22T00:00:00",
          "2021-04-23T00:00:00",
          "2021-04-26T00:00:00",
          "2021-04-27T00:00:00",
          "2021-04-28T00:00:00",
          "2021-04-29T00:00:00",
          "2021-05-04T00:00:00",
          "2021-05-05T00:00:00",
          "2021-05-06T00:00:00",
          "2021-05-07T00:00:00",
          "2021-05-10T00:00:00",
          "2021-05-11T00:00:00",
          "2021-05-12T00:00:00",
          "2021-05-13T00:00:00",
          "2021-05-14T00:00:00",
          "2021-05-17T00:00:00",
          "2021-05-18T00:00:00",
          "2021-05-19T00:00:00",
          "2021-05-20T00:00:00",
          "2021-05-21T00:00:00",
          "2021-05-24T00:00:00",
          "2021-05-25T00:00:00",
          "2021-05-26T00:00:00",
          "2021-05-27T00:00:00",
          "2021-05-28T00:00:00",
          "2021-05-31T00:00:00",
          "2021-06-01T00:00:00",
          "2021-06-02T00:00:00",
          "2021-06-03T00:00:00",
          "2021-06-04T00:00:00",
          "2021-06-07T00:00:00",
          "2021-06-08T00:00:00",
          "2021-06-09T00:00:00",
          "2021-06-10T00:00:00",
          "2021-06-11T00:00:00",
          "2021-06-14T00:00:00",
          "2021-06-15T00:00:00",
          "2021-06-16T00:00:00",
          "2021-06-17T00:00:00",
          "2021-06-18T00:00:00",
          "2021-06-21T00:00:00",
          "2021-06-22T00:00:00",
          "2021-06-23T00:00:00",
          "2021-06-24T00:00:00",
          "2021-06-25T00:00:00",
          "2021-06-28T00:00:00",
          "2021-06-29T00:00:00",
          "2021-06-30T00:00:00",
          "2021-07-01T00:00:00",
          "2021-07-02T00:00:00",
          "2021-07-05T00:00:00",
          "2021-07-06T00:00:00",
          "2021-07-07T00:00:00",
          "2021-07-08T00:00:00",
          "2021-07-09T00:00:00",
          "2021-07-12T00:00:00",
          "2021-07-13T00:00:00",
          "2021-07-14T00:00:00",
          "2021-07-15T00:00:00",
          "2021-07-16T00:00:00",
          "2021-07-19T00:00:00",
          "2021-07-20T00:00:00",
          "2021-07-21T00:00:00",
          "2021-07-22T00:00:00",
          "2021-07-23T00:00:00",
          "2021-07-26T00:00:00",
          "2021-07-27T00:00:00",
          "2021-07-28T00:00:00",
          "2021-07-29T00:00:00",
          "2021-07-30T00:00:00",
          "2021-08-02T00:00:00",
          "2021-08-03T00:00:00",
          "2021-08-04T00:00:00",
          "2021-08-05T00:00:00",
          "2021-08-06T00:00:00",
          "2021-08-09T00:00:00",
          "2021-08-10T00:00:00",
          "2021-08-11T00:00:00",
          "2021-08-12T00:00:00",
          "2021-08-13T00:00:00",
          "2021-08-16T00:00:00",
          "2021-08-17T00:00:00",
          "2021-08-18T00:00:00",
          "2021-08-19T00:00:00",
          "2021-08-20T00:00:00",
          "2021-08-23T00:00:00",
          "2021-08-24T00:00:00",
          "2021-08-25T00:00:00",
          "2021-08-26T00:00:00",
          "2021-08-27T00:00:00",
          "2021-08-30T00:00:00",
          "2021-08-31T00:00:00",
          "2021-09-01T00:00:00",
          "2021-09-06T00:00:00",
          "2021-09-07T00:00:00",
          "2021-09-08T00:00:00",
          "2021-09-09T00:00:00",
          "2021-09-10T00:00:00",
          "2021-09-13T00:00:00",
          "2021-09-14T00:00:00",
          "2021-09-15T00:00:00",
          "2021-09-16T00:00:00",
          "2021-09-17T00:00:00",
          "2021-09-20T00:00:00",
          "2021-09-21T00:00:00",
          "2021-09-22T00:00:00",
          "2021-09-23T00:00:00",
          "2021-09-24T00:00:00",
          "2021-09-27T00:00:00",
          "2021-09-28T00:00:00",
          "2021-09-29T00:00:00",
          "2021-09-30T00:00:00",
          "2021-10-01T00:00:00",
          "2021-10-04T00:00:00",
          "2021-10-05T00:00:00",
          "2021-10-06T00:00:00",
          "2021-10-07T00:00:00",
          "2021-10-08T00:00:00",
          "2021-10-11T00:00:00",
          "2021-10-12T00:00:00",
          "2021-10-13T00:00:00",
          "2021-10-14T00:00:00",
          "2021-10-15T00:00:00",
          "2021-10-18T00:00:00",
          "2021-10-19T00:00:00",
          "2021-10-20T00:00:00",
          "2021-10-21T00:00:00",
          "2021-10-22T00:00:00",
          "2021-10-25T00:00:00",
          "2021-10-26T00:00:00",
          "2021-10-27T00:00:00",
          "2021-10-28T00:00:00",
          "2021-10-29T00:00:00",
          "2021-11-01T00:00:00",
          "2021-11-02T00:00:00",
          "2021-11-03T00:00:00"
         ],
         "y": [
          499743.003,
          501646.203,
          501646.203,
          501646.203,
          498552.203,
          498552.203,
          497364.003,
          498315.603,
          497600.603,
          498791.403,
          503073.603,
          503786.003,
          506640.80299999996,
          505928.40300000005,
          503549.403,
          505691.80299999996,
          504267.00299999997,
          504027.80299999996,
          500218.803,
          503786.003,
          502124.603,
          503307.603,
          502124.603,
          504501.003,
          502597.80299999996,
          503786.003,
          509261.603,
          510689.003,
          512594.80299999996,
          507361.003,
          508310.003,
          505452.603,
          505452.603,
          506882.603,
          504267.00299999997,
          504979.40299999993,
          501409.603,
          502124.603,
          501409.603,
          502597.80299999996,
          501646.203,
          501646.203,
          502839.603,
          508840.40299999993,
          506440.603,
          507881.003,
          511723.80299999996,
          521089.003,
          522051.003,
          517727.203,
          514362.80299999996,
          516284.203,
          514843.80299999996,
          501394.003,
          504516.603,
          507639.203,
          503796.403,
          502595.203,
          498996.803,
          490568.412,
          472616.11199999996,
          489321.012,
          489075.31200000003,
          498301.212,
          506530.81200000003,
          504287.112,
          506282.412,
          495558.012,
          502291.812,
          504036.012,
          504783.912,
          502291.812,
          501044.412,
          499797.012,
          496805.412,
          493811.112,
          494310.612,
          496305.912,
          494561.712,
          493565.412,
          490819.512,
          489823.212,
          487827.912,
          483588.912,
          485082.012,
          489321.012,
          487827.912,
          487827.912,
          484833.61199999996,
          483588.912,
          488573.112,
          486580.512,
          484336.81200000003,
          482835.612,
          479096.11199999996,
          478599.31200000003,
          475856.11199999996,
          479846.71199999994,
          480343.512,
          478350.912,
          484833.61199999996,
          489075.31200000003,
          488821.512,
          486081.012,
          482587.21199999994,
          482090.412,
          481839.31200000003,
          482341.512,
          482341.512,
          480594.61199999996,
          480095.112,
          474608.712,
          472533.3615,
          480807.3615,
          477444.56149999995,
          481322.5615,
          472270.1615,
          471494.56149999995,
          466322.9615,
          465804.9615,
          460890.9615,
          461924.1615,
          455719.3615,
          448803.6407,
          464875.44070000004,
          460052.74069999997,
          461659.34069999994,
          458176.44070000004,
          455496.84069999994,
          449337.24069999997,
          448803.6407,
          450143.4407,
          451477.44070000004,
          454696.44070000004,
          460052.74069999997,
          458176.44070000004,
          459516.2407,
          458176.44070000004,
          459780.1407,
          458176.44070000004,
          456569.8407,
          455230.0407,
          457376.0407,
          455496.84069999994,
          458211.24069999997,
          459023.2407,
          457396.3407,
          465806.3407,
          465261.1407,
          466618.3407,
          467702.94070000004,
          464721.74069999997,
          462549.6407,
          465530.8407,
          461465.0407,
          461465.0407,
          459838.1407,
          456311.74069999997,
          459023.2407,
          457668.94070000004,
          462549.6407,
          460922.7407,
          462279.9407,
          460107.8407,
          457668.94070000004,
          451700.74069999997,
          459292.9407,
          455496.84069999994,
          451700.74069999997,
          449804.1407,
          444381.1407,
          446277.74069999997,
          446820.0407,
          448719.5407,
          446277.74069999997,
          448719.5407,
          447092.6407,
          451158.44070000004,
          453330.5407,
          456856.94070000004,
          453057.94070000004,
          451431.0407,
          451158.44070000004,
          449258.94070000004,
          450346.44070000004,
          451973.34069999994,
          451973.34069999994,
          450619.0407,
          452245.94070000004,
          453600.24069999997,
          458211.24069999997,
          462279.9407,
          461195.3407,
          459568.4407,
          458483.8407,
          457938.6407,
          459838.1407,
          460650.1407,
          453872.84069999994,
          448992.1407,
          449804.1407,
          451431.0407,
          451700.74069999997,
          451700.74069999997,
          452785.34069999994,
          452785.34069999994,
          454684.84069999994,
          455227.1407,
          453849.6407,
          451364.3407,
          450813.3407,
          454397.7407,
          456332.0407,
          455778.1407,
          453295.74069999997,
          454125.1407,
          454397.7407,
          460467.4407,
          460745.8407,
          468193.0407,
          466264.5407,
          465989.0407,
          460745.8407,
          462123.34069999994,
          462952.74069999997,
          462952.74069999997,
          463503.7407,
          464608.6407,
          462952.74069999997,
          462123.34069999994,
          460745.8407,
          462952.74069999997,
          464054.74069999997,
          465159.6407,
          464330.24069999997,
          464054.74069999997,
          464054.74069999997,
          463503.7407,
          464884.1407,
          464054.74069999997,
          461572.34069999994,
          465435.1407,
          464330.24069999997,
          462952.74069999997,
          465159.6407,
          465710.6407,
          465989.0407,
          464054.74069999997,
          461847.84069999994,
          459089.94070000004
         ]
        },
        {
         "line": {
          "color": "dimgray",
          "width": 2
         },
         "mode": "lines",
         "name": "Buy-n-Hold",
         "showlegend": true,
         "type": "scatter",
         "x": [
          "2020-11-04T00:00:00",
          "2020-11-05T00:00:00",
          "2020-11-06T00:00:00",
          "2020-11-09T00:00:00",
          "2020-11-10T00:00:00",
          "2020-11-11T00:00:00",
          "2020-11-12T00:00:00",
          "2020-11-13T00:00:00",
          "2020-11-16T00:00:00",
          "2020-11-17T00:00:00",
          "2020-11-18T00:00:00",
          "2020-11-19T00:00:00",
          "2020-11-20T00:00:00",
          "2020-11-23T00:00:00",
          "2020-11-24T00:00:00",
          "2020-11-25T00:00:00",
          "2020-11-26T00:00:00",
          "2020-11-27T00:00:00",
          "2020-11-30T00:00:00",
          "2020-12-01T00:00:00",
          "2020-12-02T00:00:00",
          "2020-12-03T00:00:00",
          "2020-12-04T00:00:00",
          "2020-12-07T00:00:00",
          "2020-12-08T00:00:00",
          "2020-12-09T00:00:00",
          "2020-12-10T00:00:00",
          "2020-12-11T00:00:00",
          "2020-12-14T00:00:00",
          "2020-12-15T00:00:00",
          "2020-12-16T00:00:00",
          "2020-12-17T00:00:00",
          "2020-12-18T00:00:00",
          "2020-12-21T00:00:00",
          "2020-12-22T00:00:00",
          "2020-12-23T00:00:00",
          "2020-12-24T00:00:00",
          "2020-12-25T00:00:00",
          "2020-12-28T00:00:00",
          "2020-12-29T00:00:00",
          "2020-12-30T00:00:00",
          "2020-12-31T00:00:00",
          "2021-01-04T00:00:00",
          "2021-01-05T00:00:00",
          "2021-01-06T00:00:00",
          "2021-01-07T00:00:00",
          "2021-01-08T00:00:00",
          "2021-01-11T00:00:00",
          "2021-01-12T00:00:00",
          "2021-01-13T00:00:00",
          "2021-01-14T00:00:00",
          "2021-01-15T00:00:00",
          "2021-01-18T00:00:00",
          "2021-01-19T00:00:00",
          "2021-01-20T00:00:00",
          "2021-01-21T00:00:00",
          "2021-01-22T00:00:00",
          "2021-01-25T00:00:00",
          "2021-01-26T00:00:00",
          "2021-01-27T00:00:00",
          "2021-01-28T00:00:00",
          "2021-01-29T00:00:00",
          "2021-02-01T00:00:00",
          "2021-02-02T00:00:00",
          "2021-02-03T00:00:00",
          "2021-02-04T00:00:00",
          "2021-02-05T00:00:00",
          "2021-02-08T00:00:00",
          "2021-02-09T00:00:00",
          "2021-02-17T00:00:00",
          "2021-02-18T00:00:00",
          "2021-02-19T00:00:00",
          "2021-02-22T00:00:00",
          "2021-02-23T00:00:00",
          "2021-02-24T00:00:00",
          "2021-02-25T00:00:00",
          "2021-02-26T00:00:00",
          "2021-03-01T00:00:00",
          "2021-03-02T00:00:00",
          "2021-03-03T00:00:00",
          "2021-03-04T00:00:00",
          "2021-03-05T00:00:00",
          "2021-03-08T00:00:00",
          "2021-03-09T00:00:00",
          "2021-03-10T00:00:00",
          "2021-03-11T00:00:00",
          "2021-03-12T00:00:00",
          "2021-03-15T00:00:00",
          "2021-03-16T00:00:00",
          "2021-03-17T00:00:00",
          "2021-03-18T00:00:00",
          "2021-03-19T00:00:00",
          "2021-03-22T00:00:00",
          "2021-03-23T00:00:00",
          "2021-03-24T00:00:00",
          "2021-03-25T00:00:00",
          "2021-03-26T00:00:00",
          "2021-03-29T00:00:00",
          "2021-03-30T00:00:00",
          "2021-03-31T00:00:00",
          "2021-04-01T00:00:00",
          "2021-04-02T00:00:00",
          "2021-04-05T00:00:00",
          "2021-04-06T00:00:00",
          "2021-04-07T00:00:00",
          "2021-04-08T00:00:00",
          "2021-04-09T00:00:00",
          "2021-04-12T00:00:00",
          "2021-04-13T00:00:00",
          "2021-04-14T00:00:00",
          "2021-04-15T00:00:00",
          "2021-04-16T00:00:00",
          "2021-04-19T00:00:00",
          "2021-04-20T00:00:00",
          "2021-04-22T00:00:00",
          "2021-04-23T00:00:00",
          "2021-04-26T00:00:00",
          "2021-04-27T00:00:00",
          "2021-04-28T00:00:00",
          "2021-04-29T00:00:00",
          "2021-05-04T00:00:00",
          "2021-05-05T00:00:00",
          "2021-05-06T00:00:00",
          "2021-05-07T00:00:00",
          "2021-05-10T00:00:00",
          "2021-05-11T00:00:00",
          "2021-05-12T00:00:00",
          "2021-05-13T00:00:00",
          "2021-05-14T00:00:00",
          "2021-05-17T00:00:00",
          "2021-05-18T00:00:00",
          "2021-05-19T00:00:00",
          "2021-05-20T00:00:00",
          "2021-05-21T00:00:00",
          "2021-05-24T00:00:00",
          "2021-05-25T00:00:00",
          "2021-05-26T00:00:00",
          "2021-05-27T00:00:00",
          "2021-05-28T00:00:00",
          "2021-05-31T00:00:00",
          "2021-06-01T00:00:00",
          "2021-06-02T00:00:00",
          "2021-06-03T00:00:00",
          "2021-06-04T00:00:00",
          "2021-06-07T00:00:00",
          "2021-06-08T00:00:00",
          "2021-06-09T00:00:00",
          "2021-06-10T00:00:00",
          "2021-06-11T00:00:00",
          "2021-06-14T00:00:00",
          "2021-06-15T00:00:00",
          "2021-06-16T00:00:00",
          "2021-06-17T00:00:00",
          "2021-06-18T00:00:00",
          "2021-06-21T00:00:00",
          "2021-06-22T00:00:00",
          "2021-06-23T00:00:00",
          "2021-06-24T00:00:00",
          "2021-06-25T00:00:00",
          "2021-06-28T00:00:00",
          "2021-06-29T00:00:00",
          "2021-06-30T00:00:00",
          "2021-07-01T00:00:00",
          "2021-07-02T00:00:00",
          "2021-07-05T00:00:00",
          "2021-07-06T00:00:00",
          "2021-07-07T00:00:00",
          "2021-07-08T00:00:00",
          "2021-07-09T00:00:00",
          "2021-07-12T00:00:00",
          "2021-07-13T00:00:00",
          "2021-07-14T00:00:00",
          "2021-07-15T00:00:00",
          "2021-07-16T00:00:00",
          "2021-07-19T00:00:00",
          "2021-07-20T00:00:00",
          "2021-07-21T00:00:00",
          "2021-07-22T00:00:00",
          "2021-07-23T00:00:00",
          "2021-07-26T00:00:00",
          "2021-07-27T00:00:00",
          "2021-07-28T00:00:00",
          "2021-07-29T00:00:00",
          "2021-07-30T00:00:00",
          "2021-08-02T00:00:00",
          "2021-08-03T00:00:00",
          "2021-08-04T00:00:00",
          "2021-08-05T00:00:00",
          "2021-08-06T00:00:00",
          "2021-08-09T00:00:00",
          "2021-08-10T00:00:00",
          "2021-08-11T00:00:00",
          "2021-08-12T00:00:00",
          "2021-08-13T00:00:00",
          "2021-08-16T00:00:00",
          "2021-08-17T00:00:00",
          "2021-08-18T00:00:00",
          "2021-08-19T00:00:00",
          "2021-08-20T00:00:00",
          "2021-08-23T00:00:00",
          "2021-08-24T00:00:00",
          "2021-08-25T00:00:00",
          "2021-08-26T00:00:00",
          "2021-08-27T00:00:00",
          "2021-08-30T00:00:00",
          "2021-08-31T00:00:00",
          "2021-09-01T00:00:00",
          "2021-09-06T00:00:00",
          "2021-09-07T00:00:00",
          "2021-09-08T00:00:00",
          "2021-09-09T00:00:00",
          "2021-09-10T00:00:00",
          "2021-09-13T00:00:00",
          "2021-09-14T00:00:00",
          "2021-09-15T00:00:00",
          "2021-09-16T00:00:00",
          "2021-09-17T00:00:00",
          "2021-09-20T00:00:00",
          "2021-09-21T00:00:00",
          "2021-09-22T00:00:00",
          "2021-09-23T00:00:00",
          "2021-09-24T00:00:00",
          "2021-09-27T00:00:00",
          "2021-09-28T00:00:00",
          "2021-09-29T00:00:00",
          "2021-09-30T00:00:00",
          "2021-10-01T00:00:00",
          "2021-10-04T00:00:00",
          "2021-10-05T00:00:00",
          "2021-10-06T00:00:00",
          "2021-10-07T00:00:00",
          "2021-10-08T00:00:00",
          "2021-10-11T00:00:00",
          "2021-10-12T00:00:00",
          "2021-10-13T00:00:00",
          "2021-10-14T00:00:00",
          "2021-10-15T00:00:00",
          "2021-10-18T00:00:00",
          "2021-10-19T00:00:00",
          "2021-10-20T00:00:00",
          "2021-10-21T00:00:00",
          "2021-10-22T00:00:00",
          "2021-10-25T00:00:00",
          "2021-10-26T00:00:00",
          "2021-10-27T00:00:00",
          "2021-10-28T00:00:00",
          "2021-10-29T00:00:00",
          "2021-11-01T00:00:00",
          "2021-11-02T00:00:00",
          "2021-11-03T00:00:00"
         ],
         "y": [
          500000,
          503702.7669583692,
          503702.7669583692,
          503702.7669583692,
          497683.24143861607,
          497683.24143861607,
          495371.5413020386,
          497222.9247812232,
          495831.8579594315,
          498148.61652081547,
          506479.8421771461,
          507865.8505741313,
          513420.001011685,
          512033.9926146998,
          507405.53391673835,
          511573.6759573069,
          508801.65916333656,
          508336.28408113716,
          500925.69173959235,
          507865.8505741313,
          504633.517122768,
          506935.10040973243,
          504633.517122768,
          509256.91739592294,
          505554.15043755376,
          507865.8505741313,
          518518.8932166524,
          521295.96843542927,
          525003.7938186049,
          514821.1846830897,
          516667.5097374678,
          511108.3008751075,
          511108.3008751075,
          513890.43451869086,
          508801.65916333656,
          510187.66756032174,
          503242.45030097634,
          504633.517122768,
          503242.45030097634,
          505554.15043755376,
          503702.7669583692,
          503702.7669583692,
          506024.5839445597,
          517699.4283979969,
          513030.50230158336,
          515832.86964439275,
          523309.22150842234,
          541529.6676614903,
          543401.2848399009,
          534989.124386666,
          528443.5226870353,
          532181.69861905,
          529379.3312762406,
          503212.09975213726,
          509287.267944762,
          515362.4361373869,
          507886.0842733573,
          505549.09201274725,
          498548.2320805302,
          482654.66133845923,
          449021.1947999393,
          480317.66907784913,
          479857.3524204563,
          497141.9899843189,
          512560.06879457744,
          508356.5177803632,
          512094.69371237804,
          492002.6303808994,
          504618.34184834844,
          507886.0842733573,
          509287.267944762,
          504618.34184834844,
          502281.34958773846,
          499944.35732712835,
          494339.62264150946,
          488729.82953108405,
          489665.6381202894,
          493403.81405230414,
          490136.0716272953,
          488269.51287369116,
          483125.09484546515,
          481258.536091861,
          477520.36015984626,
          469578.6332136173,
          472375.94213162025,
          480317.66907784913,
          477520.36015984626,
          477520.36015984626,
          471910.56704942085,
          469578.6332136173,
          478916.4854064445,
          475183.36789923615,
          470979.81688502204,
          468167.33269259956,
          461161.41433557594,
          460230.66417117714,
          455091.30456775764,
          462567.6564317871,
          463498.406596186,
          459765.28908897773,
          471910.56704942085,
          479857.3524204563,
          479381.86048864387,
          474247.5593100309,
          467701.9576104001,
          466771.20744600135,
          466300.77393899544,
          467241.64095300727,
          467241.64095300727,
          463968.84010319185,
          463033.0315139866,
          452754.31230714754,
          449021.1947999393,
          463968.84010319185,
          457893.6719105671,
          464899.5902675907,
          448545.7028681269,
          447144.5191967222,
          437801.6085790885,
          436865.7999898832,
          427988.2644544489,
          429854.823208053,
          418645.3538368152,
          406500.07587637217,
          434533.8661540797,
          426121.70570084476,
          428924.0730436542,
          422848.90485102945,
          418174.9203298093,
          407430.8260407709,
          406500.07587637217,
          408837.06813698215,
          411163.9435479792,
          416778.7950832111,
          426121.70570084476,
          422848.90485102945,
          425185.8971116395,
          422848.90485102945,
          425646.2137690323,
          422848.90485102945,
          420046.53750821995,
          417709.5452476099,
          421452.7796044312,
          418174.9203298093,
          422909.6059487076,
          424325.9648945319,
          421488.1885780768,
          436157.62051697104,
          435206.6366533462,
          437573.97946279537,
          439465.830340432,
          434265.7696393343,
          430477.0094592544,
          435677.0701603521,
          428585.15858161775,
          428585.15858161775,
          425747.38226516265,
          419596.33770044014,
          424325.9648945319,
          421963.68050988927,
          430477.0094592544,
          427639.2331427994,
          430006.5759522485,
          426217.8157721686,
          421963.68050988927,
          411553.4422580809,
          424796.39840153774,
          418174.9203298093,
          411553.4422580809,
          408245.2324346199,
          398785.9780464364,
          402094.1878698973,
          403040.11330871575,
          406353.38155698316,
          402094.1878698973,
          406353.38155698316,
          403515.6052405281,
          410607.5168192625,
          414396.27699934243,
          420547.321564065,
          413920.78506753,
          411083.0087510749,
          410607.5168192625,
          407294.248570995,
          409191.15787343826,
          412028.93418989325,
          412028.93418989325,
          409666.64980525064,
          412504.42612170574,
          414866.71050634835,
          422909.6059487076,
          430006.5759522485,
          428114.7250746118,
          425276.9487581567,
          423385.09788052004,
          422434.1140168951,
          425747.38226516265,
          427163.7412109869,
          415342.2024381608,
          406828.87348879565,
          408245.2324346199,
          411083.0087510749,
          411553.4422580809,
          411553.4422580809,
          413445.2931357175,
          413445.2931357175,
          416758.56138398504,
          417704.4868228034,
          415301.73503970867,
          410966.6649805251,
          410005.5642672872,
          416257.7773281401,
          419631.7466740857,
          418665.58753604133,
          414335.5759016642,
          415782.2853963276,
          416257.7773281401,
          426845.06044817646,
          427330.6692296019,
          440320.70413273305,
          436956.8516364005,
          436476.30127978156,
          427330.6692296019,
          429733.42101269664,
          431180.13050736004,
          431180.13050736004,
          432141.231220598,
          434068.4910718803,
          431180.13050736004,
          429733.42101269664,
          427330.6692296019,
          431180.13050736004,
          433102.33193383587,
          435029.59178511816,
          433582.8822904548,
          433102.33193383587,
          433102.33193383587,
          432141.231220598,
          434549.0414284992,
          433102.33193383587,
          428772.32029945875,
          435510.1421417371,
          433582.8822904548,
          431180.13050736004,
          435029.59178511816,
          435990.69249835605,
          436476.30127978156,
          433102.33193383587,
          429252.8706560777,
          424442.30866508174
         ]
        }
       ],
       "layout": {
        "height": 500,
        "template": {
         "data": {
          "bar": [
           {
            "error_x": {
             "color": "#2a3f5f"
            },
            "error_y": {
             "color": "#2a3f5f"
            },
            "marker": {
             "line": {
              "color": "#E5ECF6",
              "width": 0.5
             },
             "pattern": {
              "fillmode": "overlay",
              "size": 10,
              "solidity": 0.2
             }
            },
            "type": "bar"
           }
          ],
          "barpolar": [
           {
            "marker": {
             "line": {
              "color": "#E5ECF6",
              "width": 0.5
             },
             "pattern": {
              "fillmode": "overlay",
              "size": 10,
              "solidity": 0.2
             }
            },
            "type": "barpolar"
           }
          ],
          "carpet": [
           {
            "aaxis": {
             "endlinecolor": "#2a3f5f",
             "gridcolor": "white",
             "linecolor": "white",
             "minorgridcolor": "white",
             "startlinecolor": "#2a3f5f"
            },
            "baxis": {
             "endlinecolor": "#2a3f5f",
             "gridcolor": "white",
             "linecolor": "white",
             "minorgridcolor": "white",
             "startlinecolor": "#2a3f5f"
            },
            "type": "carpet"
           }
          ],
          "choropleth": [
           {
            "colorbar": {
             "outlinewidth": 0,
             "ticks": ""
            },
            "type": "choropleth"
           }
          ],
          "contour": [
           {
            "colorbar": {
             "outlinewidth": 0,
             "ticks": ""
            },
            "colorscale": [
             [
              0,
              "#0d0887"
             ],
             [
              0.1111111111111111,
              "#46039f"
             ],
             [
              0.2222222222222222,
              "#7201a8"
             ],
             [
              0.3333333333333333,
              "#9c179e"
             ],
             [
              0.4444444444444444,
              "#bd3786"
             ],
             [
              0.5555555555555556,
              "#d8576b"
             ],
             [
              0.6666666666666666,
              "#ed7953"
             ],
             [
              0.7777777777777778,
              "#fb9f3a"
             ],
             [
              0.8888888888888888,
              "#fdca26"
             ],
             [
              1,
              "#f0f921"
             ]
            ],
            "type": "contour"
           }
          ],
          "contourcarpet": [
           {
            "colorbar": {
             "outlinewidth": 0,
             "ticks": ""
            },
            "type": "contourcarpet"
           }
          ],
          "heatmap": [
           {
            "colorbar": {
             "outlinewidth": 0,
             "ticks": ""
            },
            "colorscale": [
             [
              0,
              "#0d0887"
             ],
             [
              0.1111111111111111,
              "#46039f"
             ],
             [
              0.2222222222222222,
              "#7201a8"
             ],
             [
              0.3333333333333333,
              "#9c179e"
             ],
             [
              0.4444444444444444,
              "#bd3786"
             ],
             [
              0.5555555555555556,
              "#d8576b"
             ],
             [
              0.6666666666666666,
              "#ed7953"
             ],
             [
              0.7777777777777778,
              "#fb9f3a"
             ],
             [
              0.8888888888888888,
              "#fdca26"
             ],
             [
              1,
              "#f0f921"
             ]
            ],
            "type": "heatmap"
           }
          ],
          "heatmapgl": [
           {
            "colorbar": {
             "outlinewidth": 0,
             "ticks": ""
            },
            "colorscale": [
             [
              0,
              "#0d0887"
             ],
             [
              0.1111111111111111,
              "#46039f"
             ],
             [
              0.2222222222222222,
              "#7201a8"
             ],
             [
              0.3333333333333333,
              "#9c179e"
             ],
             [
              0.4444444444444444,
              "#bd3786"
             ],
             [
              0.5555555555555556,
              "#d8576b"
             ],
             [
              0.6666666666666666,
              "#ed7953"
             ],
             [
              0.7777777777777778,
              "#fb9f3a"
             ],
             [
              0.8888888888888888,
              "#fdca26"
             ],
             [
              1,
              "#f0f921"
             ]
            ],
            "type": "heatmapgl"
           }
          ],
          "histogram": [
           {
            "marker": {
             "pattern": {
              "fillmode": "overlay",
              "size": 10,
              "solidity": 0.2
             }
            },
            "type": "histogram"
           }
          ],
          "histogram2d": [
           {
            "colorbar": {
             "outlinewidth": 0,
             "ticks": ""
            },
            "colorscale": [
             [
              0,
              "#0d0887"
             ],
             [
              0.1111111111111111,
              "#46039f"
             ],
             [
              0.2222222222222222,
              "#7201a8"
             ],
             [
              0.3333333333333333,
              "#9c179e"
             ],
             [
              0.4444444444444444,
              "#bd3786"
             ],
             [
              0.5555555555555556,
              "#d8576b"
             ],
             [
              0.6666666666666666,
              "#ed7953"
             ],
             [
              0.7777777777777778,
              "#fb9f3a"
             ],
             [
              0.8888888888888888,
              "#fdca26"
             ],
             [
              1,
              "#f0f921"
             ]
            ],
            "type": "histogram2d"
           }
          ],
          "histogram2dcontour": [
           {
            "colorbar": {
             "outlinewidth": 0,
             "ticks": ""
            },
            "colorscale": [
             [
              0,
              "#0d0887"
             ],
             [
              0.1111111111111111,
              "#46039f"
             ],
             [
              0.2222222222222222,
              "#7201a8"
             ],
             [
              0.3333333333333333,
              "#9c179e"
             ],
             [
              0.4444444444444444,
              "#bd3786"
             ],
             [
              0.5555555555555556,
              "#d8576b"
             ],
             [
              0.6666666666666666,
              "#ed7953"
             ],
             [
              0.7777777777777778,
              "#fb9f3a"
             ],
             [
              0.8888888888888888,
              "#fdca26"
             ],
             [
              1,
              "#f0f921"
             ]
            ],
            "type": "histogram2dcontour"
           }
          ],
          "mesh3d": [
           {
            "colorbar": {
             "outlinewidth": 0,
             "ticks": ""
            },
            "type": "mesh3d"
           }
          ],
          "parcoords": [
           {
            "line": {
             "colorbar": {
              "outlinewidth": 0,
              "ticks": ""
             }
            },
            "type": "parcoords"
           }
          ],
          "pie": [
           {
            "automargin": true,
            "type": "pie"
           }
          ],
          "scatter": [
           {
            "fillpattern": {
             "fillmode": "overlay",
             "size": 10,
             "solidity": 0.2
            },
            "type": "scatter"
           }
          ],
          "scatter3d": [
           {
            "line": {
             "colorbar": {
              "outlinewidth": 0,
              "ticks": ""
             }
            },
            "marker": {
             "colorbar": {
              "outlinewidth": 0,
              "ticks": ""
             }
            },
            "type": "scatter3d"
           }
          ],
          "scattercarpet": [
           {
            "marker": {
             "colorbar": {
              "outlinewidth": 0,
              "ticks": ""
             }
            },
            "type": "scattercarpet"
           }
          ],
          "scattergeo": [
           {
            "marker": {
             "colorbar": {
              "outlinewidth": 0,
              "ticks": ""
             }
            },
            "type": "scattergeo"
           }
          ],
          "scattergl": [
           {
            "marker": {
             "colorbar": {
              "outlinewidth": 0,
              "ticks": ""
             }
            },
            "type": "scattergl"
           }
          ],
          "scattermapbox": [
           {
            "marker": {
             "colorbar": {
              "outlinewidth": 0,
              "ticks": ""
             }
            },
            "type": "scattermapbox"
           }
          ],
          "scatterpolar": [
           {
            "marker": {
             "colorbar": {
              "outlinewidth": 0,
              "ticks": ""
             }
            },
            "type": "scatterpolar"
           }
          ],
          "scatterpolargl": [
           {
            "marker": {
             "colorbar": {
              "outlinewidth": 0,
              "ticks": ""
             }
            },
            "type": "scatterpolargl"
           }
          ],
          "scatterternary": [
           {
            "marker": {
             "colorbar": {
              "outlinewidth": 0,
              "ticks": ""
             }
            },
            "type": "scatterternary"
           }
          ],
          "surface": [
           {
            "colorbar": {
             "outlinewidth": 0,
             "ticks": ""
            },
            "colorscale": [
             [
              0,
              "#0d0887"
             ],
             [
              0.1111111111111111,
              "#46039f"
             ],
             [
              0.2222222222222222,
              "#7201a8"
             ],
             [
              0.3333333333333333,
              "#9c179e"
             ],
             [
              0.4444444444444444,
              "#bd3786"
             ],
             [
              0.5555555555555556,
              "#d8576b"
             ],
             [
              0.6666666666666666,
              "#ed7953"
             ],
             [
              0.7777777777777778,
              "#fb9f3a"
             ],
             [
              0.8888888888888888,
              "#fdca26"
             ],
             [
              1,
              "#f0f921"
             ]
            ],
            "type": "surface"
           }
          ],
          "table": [
           {
            "cells": {
             "fill": {
              "color": "#EBF0F8"
             },
             "line": {
              "color": "white"
             }
            },
            "header": {
             "fill": {
              "color": "#C8D4E3"
             },
             "line": {
              "color": "white"
             }
            },
            "type": "table"
           }
          ]
         },
         "layout": {
          "annotationdefaults": {
           "arrowcolor": "#2a3f5f",
           "arrowhead": 0,
           "arrowwidth": 1
          },
          "autotypenumbers": "strict",
          "coloraxis": {
           "colorbar": {
            "outlinewidth": 0,
            "ticks": ""
           }
          },
          "colorscale": {
           "diverging": [
            [
             0,
             "#8e0152"
            ],
            [
             0.1,
             "#c51b7d"
            ],
            [
             0.2,
             "#de77ae"
            ],
            [
             0.3,
             "#f1b6da"
            ],
            [
             0.4,
             "#fde0ef"
            ],
            [
             0.5,
             "#f7f7f7"
            ],
            [
             0.6,
             "#e6f5d0"
            ],
            [
             0.7,
             "#b8e186"
            ],
            [
             0.8,
             "#7fbc41"
            ],
            [
             0.9,
             "#4d9221"
            ],
            [
             1,
             "#276419"
            ]
           ],
           "sequential": [
            [
             0,
             "#0d0887"
            ],
            [
             0.1111111111111111,
             "#46039f"
            ],
            [
             0.2222222222222222,
             "#7201a8"
            ],
            [
             0.3333333333333333,
             "#9c179e"
            ],
            [
             0.4444444444444444,
             "#bd3786"
            ],
            [
             0.5555555555555556,
             "#d8576b"
            ],
            [
             0.6666666666666666,
             "#ed7953"
            ],
            [
             0.7777777777777778,
             "#fb9f3a"
            ],
            [
             0.8888888888888888,
             "#fdca26"
            ],
            [
             1,
             "#f0f921"
            ]
           ],
           "sequentialminus": [
            [
             0,
             "#0d0887"
            ],
            [
             0.1111111111111111,
             "#46039f"
            ],
            [
             0.2222222222222222,
             "#7201a8"
            ],
            [
             0.3333333333333333,
             "#9c179e"
            ],
            [
             0.4444444444444444,
             "#bd3786"
            ],
            [
             0.5555555555555556,
             "#d8576b"
            ],
            [
             0.6666666666666666,
             "#ed7953"
            ],
            [
             0.7777777777777778,
             "#fb9f3a"
            ],
            [
             0.8888888888888888,
             "#fdca26"
            ],
            [
             1,
             "#f0f921"
            ]
           ]
          },
          "colorway": [
           "#636efa",
           "#EF553B",
           "#00cc96",
           "#ab63fa",
           "#FFA15A",
           "#19d3f3",
           "#FF6692",
           "#B6E880",
           "#FF97FF",
           "#FECB52"
          ],
          "font": {
           "color": "#2a3f5f"
          },
          "geo": {
           "bgcolor": "white",
           "lakecolor": "white",
           "landcolor": "#E5ECF6",
           "showlakes": true,
           "showland": true,
           "subunitcolor": "white"
          },
          "hoverlabel": {
           "align": "left"
          },
          "hovermode": "closest",
          "mapbox": {
           "style": "light"
          },
          "paper_bgcolor": "white",
          "plot_bgcolor": "#E5ECF6",
          "polar": {
           "angularaxis": {
            "gridcolor": "white",
            "linecolor": "white",
            "ticks": ""
           },
           "bgcolor": "#E5ECF6",
           "radialaxis": {
            "gridcolor": "white",
            "linecolor": "white",
            "ticks": ""
           }
          },
          "scene": {
           "xaxis": {
            "backgroundcolor": "#E5ECF6",
            "gridcolor": "white",
            "gridwidth": 2,
            "linecolor": "white",
            "showbackground": true,
            "ticks": "",
            "zerolinecolor": "white"
           },
           "yaxis": {
            "backgroundcolor": "#E5ECF6",
            "gridcolor": "white",
            "gridwidth": 2,
            "linecolor": "white",
            "showbackground": true,
            "ticks": "",
            "zerolinecolor": "white"
           },
           "zaxis": {
            "backgroundcolor": "#E5ECF6",
            "gridcolor": "white",
            "gridwidth": 2,
            "linecolor": "white",
            "showbackground": true,
            "ticks": "",
            "zerolinecolor": "white"
           }
          },
          "shapedefaults": {
           "line": {
            "color": "#2a3f5f"
           }
          },
          "ternary": {
           "aaxis": {
            "gridcolor": "white",
            "linecolor": "white",
            "ticks": ""
           },
           "baxis": {
            "gridcolor": "white",
            "linecolor": "white",
            "ticks": ""
           },
           "bgcolor": "#E5ECF6",
           "caxis": {
            "gridcolor": "white",
            "linecolor": "white",
            "ticks": ""
           }
          },
          "title": {
           "x": 0.05
          },
          "xaxis": {
           "automargin": true,
           "gridcolor": "white",
           "linecolor": "white",
           "ticks": "",
           "title": {
            "standoff": 15
           },
           "zerolinecolor": "white",
           "zerolinewidth": 2
          },
          "yaxis": {
           "automargin": true,
           "gridcolor": "white",
           "linecolor": "white",
           "ticks": "",
           "title": {
            "standoff": 15
           },
           "zerolinecolor": "white",
           "zerolinewidth": 2
          }
         }
        },
        "title": {
         "text": "Buy-n-Hold Comparision, Ticker: VNM",
         "x": 0.5
        },
        "width": 800,
        "xaxis": {
         "title": {
          "text": "Date"
         }
        },
        "yaxis": {
         "title": {
          "text": "Portfolio Value (VND)"
         }
        }
       }
      }
     },
     "metadata": {},
     "output_type": "display_data"
    },
    {
     "data": {
      "image/png": "[encoded data removed]",
      "text/plain": [
       "<Figure size 1200x1000 with 3 Axes>"
      ]
     },
     "metadata": {},
     "output_type": "display_data"
    },
    {
     "data": {
      "image/png": "[encoded data removed]",
      "text/plain": [
       "<Figure size 1500x800 with 2 Axes>"
      ]
     },
     "metadata": {},
     "output_type": "display_data"
    }
   ],
   "source": [
    "ENV_ID = \"VNALL-v0\"\n",
    "TASK = \"VNM\"\n",
    "ITH_ADAPT_STEP = 2\n",
    "\n",
    "args = open_config(\"../configs/maml.yaml\", env_id=ENV_ID)\n",
    "envs = MetaVectorEnv([lambda: gym.make(ENV_ID) for _ in range(1)])\n",
    "agent = MetaAgent(envs=envs, hiddens=args.hiddens)\n",
    "agent.load_state_dict(params[\"maml\"][TASK][ITH_ADAPT_STEP])\n",
    "\n",
    "envs.train(False)\n",
    "envs.reset_task(TASK)\n",
    "\n",
    "info = play_an_episode(agent, envs)\n",
    "df = info[\"final_info\"][0][\"final_history\"]\n",
    "\n",
    "returns = df.set_index(\"time\")[\"portfolio_value\"].pct_change()\n",
    "perf = create_performance(returns, plot=True)\n",
    "\n",
    "plot_trade_log_v2(df)\n",
    "\n",
    "# portfolio value from hodling\n",
    "df[\"pv_from_holding\"] = vbt.Portfolio.from_holding(\n",
    "    df.close, init_cash=envs.envs[0].init_cash\n",
    ").value()\n",
    "df = df.set_index(\"time\")\n",
    "ticker = df[\"ticker_x\"].unique()[0]\n",
    "\n",
    "fig = go.Figure()\n",
    "fig.update_layout(width=800, height=500)\n",
    "fig.update_layout(title=f\"Buy-n-Hold Comparision, Ticker: {ticker}\", title_x=0.5)\n",
    "fig.update_xaxes(title_text=\"Date\")\n",
    "fig.update_yaxes(title_text=\"Portfolio Value (VND)\")\n",
    "\n",
    "df[\"portfolio_value\"].vbt.plot_against(\n",
    "    other=df[\"pv_from_holding\"],\n",
    "    other_trace_kwargs=dict(\n",
    "        line=dict(width=2, color=\"dimgray\"), mode=\"lines\", name=\"Buy-n-Hold\"\n",
    "    ),\n",
    "    trace_kwargs=dict(\n",
    "        mode=\"lines+markers\",\n",
    "        line=dict(width=3, color=\"lightslategray\"),\n",
    "        name=\"MAML\",\n",
    "    ),\n",
    "    pos_trace_kwargs=dict(fillcolor=\"palegreen\"),\n",
    "    neg_trace_kwargs=dict(fillcolor=\"salmon\"),\n",
    "    fig=fig,\n",
    ")\n",
    "fig.show()"
   ]
  },
  {
   "cell_type": "code",
   "execution_count": 53,
   "metadata": {},
   "outputs": [],
   "source": [
    "# # preprocess for plotting\n",
    "# df_result = pd.DataFrame(results)\n",
    "# df_result[\"mean-std\"] = df_result[\"mean\"] - df_result[\"std\"]\n",
    "# df_result[\"mean+std\"] = df_result[\"mean\"] + df_result[\"std\"]\n",
    "# maml_df = df_result[df_result.model_type == \"maml\"]\n",
    "# random_df = df_result[df_result.model_type == \"random\"]\n",
    "\n",
    "# fig = go.Figure()\n",
    "# # adjust size Figure\n",
    "# fig.update_layout(width=500, height=500)\n",
    "# fig.update_layout(\n",
    "#     title=\"Mean Reward +/- Std vs Number of Adaptation Steps\", title_x=0.5\n",
    "# )\n",
    "# fig.update_xaxes(\n",
    "#     title_text=\"Number of Adaptation Steps\", dtick=1, range=[0, TOTAL_ADAPT_STEPS - 1]\n",
    "# )\n",
    "# fig.update_yaxes(title_text=\"Mean Reward +/- Std\", dtick=100)\n",
    "\n",
    "# plot_mean_reward(fig, maml_df, fill_color=\"lightcoral\", line_color=\"red\", name=\"MAML\")\n",
    "# plot_mean_reward(\n",
    "#     fig, random_df, fill_color=\"lightskyblue\", line_color=\"blue\", name=\"Random\"\n",
    "# )\n",
    "\n",
    "# fig.show()"
   ]
  }
 ],
 "metadata": {
  "kernelspec": {
   "display_name": "Python 3.8.13 ('tradingenv')",
   "language": "python",
   "name": "python3"
  },
  "language_info": {
   "codemirror_mode": {
    "name": "ipython",
    "version": 3
   },
   "file_extension": ".py",
   "mimetype": "text/x-python",
   "name": "python",
   "nbconvert_exporter": "python",
   "pygments_lexer": "ipython3",
   "version": "3.8.13"
  },
  "orig_nbformat": 4,
  "vscode": {
   "interpreter": {
    "hash": "faa7f68368d9c9f740356072b5cc858737f0635c1c0b552678cb52f36bb31777"
   }
  }
 },
 "nbformat": 4,
 "nbformat_minor": 2
}
