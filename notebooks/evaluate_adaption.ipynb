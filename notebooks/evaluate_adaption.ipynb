{
 "cells": [
  {
   "attachments": {},
   "cell_type": "markdown",
   "metadata": {},
   "source": [
    "# Adaption Evaluation\n",
    "Comparision between: \n",
    "- MAML\n",
    "- pretrained model"
   ]
  },
  {
   "cell_type": "code",
   "execution_count": null,
   "metadata": {},
   "outputs": [],
   "source": [
    "import torch as th\n",
    "import vectorbt as vbt\n",
    "import gymnasium as gym\n",
    "import torch as th\n",
    "from torchmeta.utils.gradient_based import gradient_update_parameters\n",
    "from collections import OrderedDict\n",
    "import matplotlib.pyplot as plt\n",
    "import numpy as np\n",
    "import seaborn as sns\n",
    "sns.set()\n",
    "import plotly.graph_objects as go\n",
    "\n",
    "from stock_env.envs import *\n",
    "from stock_env.common.evaluation import evaluate_agent, play_an_episode\n",
    "from stock_env.algos.agent import MetaAgent\n",
    "from stock_env.common.common_utils import open_config\n",
    "from stock_env.algos.maml import adapt, get_task_loss\n",
    "from stock_env.algos.buffer import RolloutBuffer"
   ]
  },
  {
   "cell_type": "code",
   "execution_count": 22,
   "metadata": {},
   "outputs": [],
   "source": [
    "def evaluation_results(args, agent, envs, buffer, results, task, adapt_step, model_type, params):\n",
    "    agent.load_state_dict(params)\n",
    "    agent.eval()\n",
    "    envs.train(False)\n",
    "    mean, std = evaluate_agent(agent, envs, n_eval_episodes=args.n_eval_episodes)\n",
    "    \n",
    "    agent.train()\n",
    "    envs.train()\n",
    "    agent.zero_grad()\n",
    "    params, inner_loss = adapt(args, agent, envs, buffer, n_adapt_steps=1)\n",
    "    \n",
    "    # save results\n",
    "    results['task'].append(task)\n",
    "    results['n_adapt_steps'].append(adapt_step)\n",
    "    results['model_type'].append(model_type)\n",
    "    results['mean'].append(mean)\n",
    "    results['std'].append(std)\n",
    "    results['inner_loss'].append(inner_loss)\n",
    "    return params, results\n",
    "\n",
    "def plot_mean_reward(fig, df, fill_color, line_color, name):\n",
    "    \n",
    "    fig.add_trace(go.Scatter(\n",
    "        x=df['n_adapt_steps'], \n",
    "        y=df['mean-std'],\n",
    "        mode='lines', \n",
    "        fill=None,\n",
    "        line=dict(width=0.5, color=fill_color),\n",
    "        showlegend=False))\n",
    "    \n",
    "    fig.add_trace(go.Scatter(\n",
    "        x=df['n_adapt_steps'],\n",
    "        y=df['mean+std'],\n",
    "        fill='tonexty',\n",
    "        mode='lines', \n",
    "        line=dict(width=0.5, color=fill_color),\n",
    "        showlegend=False))\n",
    "    \n",
    "    fig.add_trace(go.Scatter(\n",
    "        x=df['n_adapt_steps'], \n",
    "        y=df['mean'],\n",
    "        fill=None,\n",
    "        line_color=line_color,\n",
    "        name=name))"
   ]
  },
  {
   "cell_type": "code",
   "execution_count": null,
   "metadata": {},
   "outputs": [],
   "source": [
    "meta_state_dict_path = '../model/maml_minifaang_20221214_160142.pth'\n",
    "device = th.device(\"cuda\" if th.cuda.is_available() else \"cpu\")\n",
    "\n",
    "test_env_id = 'MiniVNStock-v0'\n",
    "test_args = open_config('../configs/maml.yaml', env_id=test_env_id)\n",
    "test_envs = MetaVectorEnv([lambda: gym.make(test_env_id) for _ in range(test_args.num_envs)])\n",
    "num_steps = test_envs.envs[0].data_loader.max_episode_steps\n",
    "test_buffer = RolloutBuffer(num_steps, test_envs, device=device, gamma=test_args.gamma, gae_lambda=test_args.gae_lambda)\n",
    "\n",
    "env_id = 'MiniFAANG-v0'\n",
    "args = open_config('../configs/maml.yaml', env_id=env_id)\n",
    "_env = MetaVectorEnv([lambda: gym.make(env_id) for _ in range(1)])\n",
    "\n",
    "# random agent\n",
    "random_agent = MetaAgent(_env)\n",
    "\n",
    "# meta agent\n",
    "meta_agent = MetaAgent(_env)\n",
    "meta_agent.load_state_dict(th.load(meta_state_dict_path))\n",
    "\n",
    "# pretrained agent"
   ]
  },
  {
   "cell_type": "code",
   "execution_count": null,
   "metadata": {},
   "outputs": [],
   "source": [
    "from copy import deepcopy\n",
    "\n",
    "TOTAL_ADAPT_STEPS = 5\n",
    "\n",
    "task = test_envs.sample_task(1)[0]\n",
    "print(f\"Ticker: {task}\")\n",
    "test_envs.reset_task(task)\n",
    "\n",
    "results = {\n",
    "    'task': [],\n",
    "    'n_adapt_steps': [],\n",
    "    'model_type': [],\n",
    "    'mean': [],\n",
    "    'std': [],\n",
    "    'inner_loss': [],\n",
    "}\n",
    "\n",
    "old_params = maml_params = OrderedDict(meta_agent.meta_named_parameters())\n",
    "maml_adapted_agent = deepcopy(meta_agent)\n",
    "\n",
    "old_random_params = random_params = OrderedDict(random_agent.meta_named_parameters())\n",
    "adapted_random_agent = deepcopy(random_agent)\n",
    "for i in range(TOTAL_ADAPT_STEPS):\n",
    "    # MAML\n",
    "    maml_params, results = evaluation_results(test_args, maml_adapted_agent, test_envs, test_buffer, results, task, i, 'maml', maml_params)\n",
    "    \n",
    "    # random\n",
    "    random_params, results = evaluation_results(test_args, adapted_random_agent, test_envs, test_buffer, results, task, i, 'random', random_params)\n",
    "\n",
    "# preprocess for plotting\n",
    "df_result = pd.DataFrame(results)\n",
    "df_result['mean-std'] = df_result['mean'] - df_result['std']\n",
    "df_result['mean+std'] = df_result['mean'] + df_result['std']\n",
    "maml_df = df_result[df_result.model_type == 'maml']\n",
    "random_df = df_result[df_result.model_type == 'random']"
   ]
  },
  {
   "cell_type": "code",
   "execution_count": 39,
   "metadata": {},
   "outputs": [
    {
     "data": {
      "application/vnd.plotly.v1+json": {
       "config": {
        "plotlyServerURL": "https://plot.ly"
       },
       "data": [
        {
         "line": {
          "color": "lightcoral",
          "width": 0.5
         },
         "mode": "lines",
         "showlegend": false,
         "type": "scatter",
         "x": [
          0,
          1,
          2,
          3,
          4
         ],
         "y": [
          -294.6827697753906,
          -285.45770263671875,
          11.09454345703125,
          -189.5164794921875,
          -110.24040222167969
         ]
        },
        {
         "fill": "tonexty",
         "line": {
          "color": "lightcoral",
          "width": 0.5
         },
         "mode": "lines",
         "showlegend": false,
         "type": "scatter",
         "x": [
          0,
          1,
          2,
          3,
          4
         ],
         "y": [
          373.4023132324219,
          46.45747375488281,
          301.4254150390625,
          125.27643585205078,
          140.12020874023438
         ]
        },
        {
         "line": {
          "color": "red"
         },
         "name": "MAML",
         "type": "scatter",
         "x": [
          0,
          1,
          2,
          3,
          4
         ],
         "y": [
          39.359779357910156,
          -119.5001220703125,
          156.25997924804688,
          -32.120018005371094,
          14.939903259277344
         ]
        },
        {
         "line": {
          "color": "lightskyblue",
          "width": 0.5
         },
         "mode": "lines",
         "showlegend": false,
         "type": "scatter",
         "x": [
          0,
          1,
          2,
          3,
          4
         ],
         "y": [
          -285.86138916015625,
          -188.41452026367188,
          -61.593658447265625,
          -359.13055419921875,
          -324.0482177734375
         ]
        },
        {
         "fill": "tonexty",
         "line": {
          "color": "lightskyblue",
          "width": 0.5
         },
         "mode": "lines",
         "showlegend": false,
         "type": "scatter",
         "x": [
          0,
          1,
          2,
          3,
          4
         ],
         "y": [
          77.46138000488281,
          242.894287109375,
          188.3135528564453,
          207.05027770996094,
          -10.671966552734375
         ]
        },
        {
         "line": {
          "color": "blue"
         },
         "name": "Random",
         "type": "scatter",
         "x": [
          0,
          1,
          2,
          3,
          4
         ],
         "y": [
          -104.20001220703125,
          27.239879608154297,
          63.359947204589844,
          -76.04014587402344,
          -167.36009216308594
         ]
        }
       ],
       "layout": {
        "height": 500,
        "template": {
         "data": {
          "bar": [
           {
            "error_x": {
             "color": "#2a3f5f"
            },
            "error_y": {
             "color": "#2a3f5f"
            },
            "marker": {
             "line": {
              "color": "#E5ECF6",
              "width": 0.5
             },
             "pattern": {
              "fillmode": "overlay",
              "size": 10,
              "solidity": 0.2
             }
            },
            "type": "bar"
           }
          ],
          "barpolar": [
           {
            "marker": {
             "line": {
              "color": "#E5ECF6",
              "width": 0.5
             },
             "pattern": {
              "fillmode": "overlay",
              "size": 10,
              "solidity": 0.2
             }
            },
            "type": "barpolar"
           }
          ],
          "carpet": [
           {
            "aaxis": {
             "endlinecolor": "#2a3f5f",
             "gridcolor": "white",
             "linecolor": "white",
             "minorgridcolor": "white",
             "startlinecolor": "#2a3f5f"
            },
            "baxis": {
             "endlinecolor": "#2a3f5f",
             "gridcolor": "white",
             "linecolor": "white",
             "minorgridcolor": "white",
             "startlinecolor": "#2a3f5f"
            },
            "type": "carpet"
           }
          ],
          "choropleth": [
           {
            "colorbar": {
             "outlinewidth": 0,
             "ticks": ""
            },
            "type": "choropleth"
           }
          ],
          "contour": [
           {
            "colorbar": {
             "outlinewidth": 0,
             "ticks": ""
            },
            "colorscale": [
             [
              0,
              "#0d0887"
             ],
             [
              0.1111111111111111,
              "#46039f"
             ],
             [
              0.2222222222222222,
              "#7201a8"
             ],
             [
              0.3333333333333333,
              "#9c179e"
             ],
             [
              0.4444444444444444,
              "#bd3786"
             ],
             [
              0.5555555555555556,
              "#d8576b"
             ],
             [
              0.6666666666666666,
              "#ed7953"
             ],
             [
              0.7777777777777778,
              "#fb9f3a"
             ],
             [
              0.8888888888888888,
              "#fdca26"
             ],
             [
              1,
              "#f0f921"
             ]
            ],
            "type": "contour"
           }
          ],
          "contourcarpet": [
           {
            "colorbar": {
             "outlinewidth": 0,
             "ticks": ""
            },
            "type": "contourcarpet"
           }
          ],
          "heatmap": [
           {
            "colorbar": {
             "outlinewidth": 0,
             "ticks": ""
            },
            "colorscale": [
             [
              0,
              "#0d0887"
             ],
             [
              0.1111111111111111,
              "#46039f"
             ],
             [
              0.2222222222222222,
              "#7201a8"
             ],
             [
              0.3333333333333333,
              "#9c179e"
             ],
             [
              0.4444444444444444,
              "#bd3786"
             ],
             [
              0.5555555555555556,
              "#d8576b"
             ],
             [
              0.6666666666666666,
              "#ed7953"
             ],
             [
              0.7777777777777778,
              "#fb9f3a"
             ],
             [
              0.8888888888888888,
              "#fdca26"
             ],
             [
              1,
              "#f0f921"
             ]
            ],
            "type": "heatmap"
           }
          ],
          "heatmapgl": [
           {
            "colorbar": {
             "outlinewidth": 0,
             "ticks": ""
            },
            "colorscale": [
             [
              0,
              "#0d0887"
             ],
             [
              0.1111111111111111,
              "#46039f"
             ],
             [
              0.2222222222222222,
              "#7201a8"
             ],
             [
              0.3333333333333333,
              "#9c179e"
             ],
             [
              0.4444444444444444,
              "#bd3786"
             ],
             [
              0.5555555555555556,
              "#d8576b"
             ],
             [
              0.6666666666666666,
              "#ed7953"
             ],
             [
              0.7777777777777778,
              "#fb9f3a"
             ],
             [
              0.8888888888888888,
              "#fdca26"
             ],
             [
              1,
              "#f0f921"
             ]
            ],
            "type": "heatmapgl"
           }
          ],
          "histogram": [
           {
            "marker": {
             "pattern": {
              "fillmode": "overlay",
              "size": 10,
              "solidity": 0.2
             }
            },
            "type": "histogram"
           }
          ],
          "histogram2d": [
           {
            "colorbar": {
             "outlinewidth": 0,
             "ticks": ""
            },
            "colorscale": [
             [
              0,
              "#0d0887"
             ],
             [
              0.1111111111111111,
              "#46039f"
             ],
             [
              0.2222222222222222,
              "#7201a8"
             ],
             [
              0.3333333333333333,
              "#9c179e"
             ],
             [
              0.4444444444444444,
              "#bd3786"
             ],
             [
              0.5555555555555556,
              "#d8576b"
             ],
             [
              0.6666666666666666,
              "#ed7953"
             ],
             [
              0.7777777777777778,
              "#fb9f3a"
             ],
             [
              0.8888888888888888,
              "#fdca26"
             ],
             [
              1,
              "#f0f921"
             ]
            ],
            "type": "histogram2d"
           }
          ],
          "histogram2dcontour": [
           {
            "colorbar": {
             "outlinewidth": 0,
             "ticks": ""
            },
            "colorscale": [
             [
              0,
              "#0d0887"
             ],
             [
              0.1111111111111111,
              "#46039f"
             ],
             [
              0.2222222222222222,
              "#7201a8"
             ],
             [
              0.3333333333333333,
              "#9c179e"
             ],
             [
              0.4444444444444444,
              "#bd3786"
             ],
             [
              0.5555555555555556,
              "#d8576b"
             ],
             [
              0.6666666666666666,
              "#ed7953"
             ],
             [
              0.7777777777777778,
              "#fb9f3a"
             ],
             [
              0.8888888888888888,
              "#fdca26"
             ],
             [
              1,
              "#f0f921"
             ]
            ],
            "type": "histogram2dcontour"
           }
          ],
          "mesh3d": [
           {
            "colorbar": {
             "outlinewidth": 0,
             "ticks": ""
            },
            "type": "mesh3d"
           }
          ],
          "parcoords": [
           {
            "line": {
             "colorbar": {
              "outlinewidth": 0,
              "ticks": ""
             }
            },
            "type": "parcoords"
           }
          ],
          "pie": [
           {
            "automargin": true,
            "type": "pie"
           }
          ],
          "scatter": [
           {
            "fillpattern": {
             "fillmode": "overlay",
             "size": 10,
             "solidity": 0.2
            },
            "type": "scatter"
           }
          ],
          "scatter3d": [
           {
            "line": {
             "colorbar": {
              "outlinewidth": 0,
              "ticks": ""
             }
            },
            "marker": {
             "colorbar": {
              "outlinewidth": 0,
              "ticks": ""
             }
            },
            "type": "scatter3d"
           }
          ],
          "scattercarpet": [
           {
            "marker": {
             "colorbar": {
              "outlinewidth": 0,
              "ticks": ""
             }
            },
            "type": "scattercarpet"
           }
          ],
          "scattergeo": [
           {
            "marker": {
             "colorbar": {
              "outlinewidth": 0,
              "ticks": ""
             }
            },
            "type": "scattergeo"
           }
          ],
          "scattergl": [
           {
            "marker": {
             "colorbar": {
              "outlinewidth": 0,
              "ticks": ""
             }
            },
            "type": "scattergl"
           }
          ],
          "scattermapbox": [
           {
            "marker": {
             "colorbar": {
              "outlinewidth": 0,
              "ticks": ""
             }
            },
            "type": "scattermapbox"
           }
          ],
          "scatterpolar": [
           {
            "marker": {
             "colorbar": {
              "outlinewidth": 0,
              "ticks": ""
             }
            },
            "type": "scatterpolar"
           }
          ],
          "scatterpolargl": [
           {
            "marker": {
             "colorbar": {
              "outlinewidth": 0,
              "ticks": ""
             }
            },
            "type": "scatterpolargl"
           }
          ],
          "scatterternary": [
           {
            "marker": {
             "colorbar": {
              "outlinewidth": 0,
              "ticks": ""
             }
            },
            "type": "scatterternary"
           }
          ],
          "surface": [
           {
            "colorbar": {
             "outlinewidth": 0,
             "ticks": ""
            },
            "colorscale": [
             [
              0,
              "#0d0887"
             ],
             [
              0.1111111111111111,
              "#46039f"
             ],
             [
              0.2222222222222222,
              "#7201a8"
             ],
             [
              0.3333333333333333,
              "#9c179e"
             ],
             [
              0.4444444444444444,
              "#bd3786"
             ],
             [
              0.5555555555555556,
              "#d8576b"
             ],
             [
              0.6666666666666666,
              "#ed7953"
             ],
             [
              0.7777777777777778,
              "#fb9f3a"
             ],
             [
              0.8888888888888888,
              "#fdca26"
             ],
             [
              1,
              "#f0f921"
             ]
            ],
            "type": "surface"
           }
          ],
          "table": [
           {
            "cells": {
             "fill": {
              "color": "#EBF0F8"
             },
             "line": {
              "color": "white"
             }
            },
            "header": {
             "fill": {
              "color": "#C8D4E3"
             },
             "line": {
              "color": "white"
             }
            },
            "type": "table"
           }
          ]
         },
         "layout": {
          "annotationdefaults": {
           "arrowcolor": "#2a3f5f",
           "arrowhead": 0,
           "arrowwidth": 1
          },
          "autotypenumbers": "strict",
          "coloraxis": {
           "colorbar": {
            "outlinewidth": 0,
            "ticks": ""
           }
          },
          "colorscale": {
           "diverging": [
            [
             0,
             "#8e0152"
            ],
            [
             0.1,
             "#c51b7d"
            ],
            [
             0.2,
             "#de77ae"
            ],
            [
             0.3,
             "#f1b6da"
            ],
            [
             0.4,
             "#fde0ef"
            ],
            [
             0.5,
             "#f7f7f7"
            ],
            [
             0.6,
             "#e6f5d0"
            ],
            [
             0.7,
             "#b8e186"
            ],
            [
             0.8,
             "#7fbc41"
            ],
            [
             0.9,
             "#4d9221"
            ],
            [
             1,
             "#276419"
            ]
           ],
           "sequential": [
            [
             0,
             "#0d0887"
            ],
            [
             0.1111111111111111,
             "#46039f"
            ],
            [
             0.2222222222222222,
             "#7201a8"
            ],
            [
             0.3333333333333333,
             "#9c179e"
            ],
            [
             0.4444444444444444,
             "#bd3786"
            ],
            [
             0.5555555555555556,
             "#d8576b"
            ],
            [
             0.6666666666666666,
             "#ed7953"
            ],
            [
             0.7777777777777778,
             "#fb9f3a"
            ],
            [
             0.8888888888888888,
             "#fdca26"
            ],
            [
             1,
             "#f0f921"
            ]
           ],
           "sequentialminus": [
            [
             0,
             "#0d0887"
            ],
            [
             0.1111111111111111,
             "#46039f"
            ],
            [
             0.2222222222222222,
             "#7201a8"
            ],
            [
             0.3333333333333333,
             "#9c179e"
            ],
            [
             0.4444444444444444,
             "#bd3786"
            ],
            [
             0.5555555555555556,
             "#d8576b"
            ],
            [
             0.6666666666666666,
             "#ed7953"
            ],
            [
             0.7777777777777778,
             "#fb9f3a"
            ],
            [
             0.8888888888888888,
             "#fdca26"
            ],
            [
             1,
             "#f0f921"
            ]
           ]
          },
          "colorway": [
           "#636efa",
           "#EF553B",
           "#00cc96",
           "#ab63fa",
           "#FFA15A",
           "#19d3f3",
           "#FF6692",
           "#B6E880",
           "#FF97FF",
           "#FECB52"
          ],
          "font": {
           "color": "#2a3f5f"
          },
          "geo": {
           "bgcolor": "white",
           "lakecolor": "white",
           "landcolor": "#E5ECF6",
           "showlakes": true,
           "showland": true,
           "subunitcolor": "white"
          },
          "hoverlabel": {
           "align": "left"
          },
          "hovermode": "closest",
          "mapbox": {
           "style": "light"
          },
          "paper_bgcolor": "white",
          "plot_bgcolor": "#E5ECF6",
          "polar": {
           "angularaxis": {
            "gridcolor": "white",
            "linecolor": "white",
            "ticks": ""
           },
           "bgcolor": "#E5ECF6",
           "radialaxis": {
            "gridcolor": "white",
            "linecolor": "white",
            "ticks": ""
           }
          },
          "scene": {
           "xaxis": {
            "backgroundcolor": "#E5ECF6",
            "gridcolor": "white",
            "gridwidth": 2,
            "linecolor": "white",
            "showbackground": true,
            "ticks": "",
            "zerolinecolor": "white"
           },
           "yaxis": {
            "backgroundcolor": "#E5ECF6",
            "gridcolor": "white",
            "gridwidth": 2,
            "linecolor": "white",
            "showbackground": true,
            "ticks": "",
            "zerolinecolor": "white"
           },
           "zaxis": {
            "backgroundcolor": "#E5ECF6",
            "gridcolor": "white",
            "gridwidth": 2,
            "linecolor": "white",
            "showbackground": true,
            "ticks": "",
            "zerolinecolor": "white"
           }
          },
          "shapedefaults": {
           "line": {
            "color": "#2a3f5f"
           }
          },
          "ternary": {
           "aaxis": {
            "gridcolor": "white",
            "linecolor": "white",
            "ticks": ""
           },
           "baxis": {
            "gridcolor": "white",
            "linecolor": "white",
            "ticks": ""
           },
           "bgcolor": "#E5ECF6",
           "caxis": {
            "gridcolor": "white",
            "linecolor": "white",
            "ticks": ""
           }
          },
          "title": {
           "x": 0.05
          },
          "xaxis": {
           "automargin": true,
           "gridcolor": "white",
           "linecolor": "white",
           "ticks": "",
           "title": {
            "standoff": 15
           },
           "zerolinecolor": "white",
           "zerolinewidth": 2
          },
          "yaxis": {
           "automargin": true,
           "gridcolor": "white",
           "linecolor": "white",
           "ticks": "",
           "title": {
            "standoff": 15
           },
           "zerolinecolor": "white",
           "zerolinewidth": 2
          }
         }
        },
        "title": {
         "text": "Mean Reward +/- Std vs Number of Adaptation Steps",
         "x": 0.5
        },
        "width": 500,
        "xaxis": {
         "dtick": 1,
         "range": [
          0,
          4
         ],
         "title": {
          "text": "Number of Adaptation Steps"
         }
        },
        "yaxis": {
         "dtick": 100,
         "title": {
          "text": "Mean Reward +/- Std"
         }
        }
       }
      }
     },
     "metadata": {},
     "output_type": "display_data"
    }
   ],
   "source": [
    "fig = go.Figure()\n",
    "# adjust size Figure\n",
    "fig.update_layout(width=500, height=500)\n",
    "fig.update_layout(title='Mean Reward +/- Std vs Number of Adaptation Steps', title_x=0.5)\n",
    "fig.update_xaxes(title_text='Number of Adaptation Steps', dtick=1, range=[0, TOTAL_ADAPT_STEPS-1])\n",
    "fig.update_yaxes(title_text='Mean Reward +/- Std', dtick=100)\n",
    "\n",
    "plot_mean_reward(fig, maml_df, fill_color='lightcoral', line_color='red', name='MAML')\n",
    "plot_mean_reward(fig, random_df, fill_color='lightskyblue', line_color='blue', name='Random')\n",
    "\n",
    "fig.show()"
   ]
  }
 ],
 "metadata": {
  "kernelspec": {
   "display_name": "Python 3.8.13 ('tradingenv')",
   "language": "python",
   "name": "python3"
  },
  "language_info": {
   "codemirror_mode": {
    "name": "ipython",
    "version": 3
   },
   "file_extension": ".py",
   "mimetype": "text/x-python",
   "name": "python",
   "nbconvert_exporter": "python",
   "pygments_lexer": "ipython3",
   "version": "3.8.13 (default, Mar 28 2022, 06:13:39) \n[Clang 12.0.0 ]"
  },
  "orig_nbformat": 4,
  "vscode": {
   "interpreter": {
    "hash": "faa7f68368d9c9f740356072b5cc858737f0635c1c0b552678cb52f36bb31777"
   }
  }
 },
 "nbformat": 4,
 "nbformat_minor": 2
}
