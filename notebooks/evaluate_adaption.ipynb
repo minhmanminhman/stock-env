{
 "cells": [
  {
   "attachments": {},
   "cell_type": "markdown",
   "metadata": {},
   "source": [
    "# Adaption Evaluation\n",
    "Comparision between: \n",
    "- MAML\n",
    "- pretrained model"
   ]
  },
  {
   "cell_type": "code",
   "execution_count": 1,
   "metadata": {},
   "outputs": [],
   "source": [
    "import matplotlib.pyplot as plt\n",
    "import numpy as np\n",
    "import seaborn as sns\n",
    "import vectorbt as vbt\n",
    "\n",
    "sns.set()\n",
    "import plotly.graph_objects as go\n",
    "from copy import deepcopy\n",
    "from stock_env.envs import *\n",
    "from stock_env.common.common_utils import (\n",
    "    open_config,\n",
    "    create_performance,\n",
    "    plot_trade_log_v2,\n",
    ")\n",
    "from stock_env.exp_manager import ExperimentManager\n",
    "from stock_env.algos.maml import adapt, get_task_loss\n",
    "from stock_env.algos.buffer import RolloutBuffer\n",
    "from stock_env.algos.agent import MetaAgent\n",
    "from stock_env.common.evaluation import evaluate_agent, play_an_episode\n",
    "\n",
    "\n",
    "def plot_mean_reward(fig, df, fill_color, line_color, name):\n",
    "\n",
    "    fig.add_trace(\n",
    "        go.Scatter(\n",
    "            x=df[\"n_adapt_steps\"],\n",
    "            y=df[\"mean-std\"],\n",
    "            mode=\"lines\",\n",
    "            fill=None,\n",
    "            line=dict(width=0.5, color=fill_color),\n",
    "            showlegend=False,\n",
    "        )\n",
    "    )\n",
    "\n",
    "    fig.add_trace(\n",
    "        go.Scatter(\n",
    "            x=df[\"n_adapt_steps\"],\n",
    "            y=df[\"mean+std\"],\n",
    "            fill=\"tonexty\",\n",
    "            mode=\"lines\",\n",
    "            line=dict(width=0.5, color=fill_color),\n",
    "            showlegend=False,\n",
    "        )\n",
    "    )\n",
    "\n",
    "    fig.add_trace(\n",
    "        go.Scatter(\n",
    "            x=df[\"n_adapt_steps\"],\n",
    "            y=df[\"mean\"],\n",
    "            fill=None,\n",
    "            line_color=line_color,\n",
    "            name=name,\n",
    "        )\n",
    "    )"
   ]
  },
  {
   "cell_type": "code",
   "execution_count": 2,
   "metadata": {},
   "outputs": [],
   "source": [
    "ARGS_PATH = \"../configs/maml.yaml\"\n",
    "ENV_ID = \"VNALL-v0\"\n",
    "METHODS_STATE_DICT = {\n",
    "    \"random\": None,\n",
    "    \"maml\": \"../model/maml_sp500_20221225_083711.pth\",\n",
    "}\n",
    "exp = ExperimentManager(\n",
    "    args_path=ARGS_PATH, env_id=ENV_ID, methods_state_dict=METHODS_STATE_DICT\n",
    ")"
   ]
  },
  {
   "cell_type": "code",
   "execution_count": null,
   "metadata": {},
   "outputs": [],
   "source": [
    "adaption_results = exp.mass_adaption_results(\n",
    "    methods=[\"maml\"],\n",
    "    maybe_num_tasks=5,\n",
    "    total_adapt_steps=4,\n",
    "    n_eval_episodes=5,\n",
    ")\n",
    "adaption_results"
   ]
  },
  {
   "cell_type": "code",
   "execution_count": null,
   "metadata": {},
   "outputs": [],
   "source": [
    "agg_stats = adaption_results.groupby(\"n_adapt_steps\").agg({\"mean\": \"mean\"})\n",
    "agg_stats.reset_index(inplace=True)"
   ]
  },
  {
   "cell_type": "code",
   "execution_count": null,
   "metadata": {},
   "outputs": [],
   "source": [
    "import plotly.express as px\n",
    "\n",
    "fig = px.line(\n",
    "    agg_stats,\n",
    "    x=\"n_adapt_steps\",\n",
    "    y=\"mean\",\n",
    "    # color=\"task\",\n",
    "    # color_discrete_sequence=px.colors.qualitative.Antique,\n",
    ")\n",
    "fig.show()"
   ]
  },
  {
   "cell_type": "code",
   "execution_count": 3,
   "metadata": {},
   "outputs": [
    {
     "name": "stderr",
     "output_type": "stream",
     "text": [
      "2022-12-25 12:21:13,206 : INFO : Adapt #0: trading 'HAH' with method 'maml'...\n"
     ]
    },
    {
     "name": "stdout",
     "output_type": "stream",
     "text": [
      "Ticker: HAH, from date 2016-11-02 00:00:00 to date 2017-11-01 00:00:00\n"
     ]
    },
    {
     "name": "stderr",
     "output_type": "stream",
     "text": [
      "2022-12-25 12:21:34,029 : INFO : Adapt #1: trading 'HAH' with method 'maml'...\n"
     ]
    },
    {
     "name": "stdout",
     "output_type": "stream",
     "text": [
      "Ticker: HAH, from date 2016-11-02 00:00:00 to date 2017-11-01 00:00:00\n"
     ]
    },
    {
     "name": "stderr",
     "output_type": "stream",
     "text": [
      "2022-12-25 12:21:54,666 : INFO : Adapt #2: trading 'HAH' with method 'maml'...\n"
     ]
    },
    {
     "name": "stdout",
     "output_type": "stream",
     "text": [
      "Ticker: HAH, from date 2017-11-01 00:00:00 to date 2018-11-02 00:00:00\n"
     ]
    },
    {
     "name": "stderr",
     "output_type": "stream",
     "text": [
      "2022-12-25 12:22:15,310 : INFO : Adapt #3: trading 'HAH' with method 'maml'...\n"
     ]
    },
    {
     "name": "stdout",
     "output_type": "stream",
     "text": [
      "Ticker: HAH, from date 2016-11-02 00:00:00 to date 2017-11-01 00:00:00\n"
     ]
    },
    {
     "name": "stderr",
     "output_type": "stream",
     "text": [
      "2022-12-25 12:22:35,956 : INFO : Adapt #0: trading 'HPG' with method 'maml'...\n"
     ]
    },
    {
     "name": "stdout",
     "output_type": "stream",
     "text": [
      "Ticker: HPG, from date 2018-11-02 00:00:00 to date 2019-11-05 00:00:00\n"
     ]
    },
    {
     "name": "stderr",
     "output_type": "stream",
     "text": [
      "2022-12-25 12:22:56,638 : INFO : Adapt #1: trading 'HPG' with method 'maml'...\n"
     ]
    },
    {
     "name": "stdout",
     "output_type": "stream",
     "text": [
      "Ticker: HPG, from date 2017-11-01 00:00:00 to date 2018-11-02 00:00:00\n"
     ]
    },
    {
     "name": "stderr",
     "output_type": "stream",
     "text": [
      "2022-12-25 12:23:17,216 : INFO : Adapt #2: trading 'HPG' with method 'maml'...\n"
     ]
    },
    {
     "name": "stdout",
     "output_type": "stream",
     "text": [
      "Ticker: HPG, from date 2017-11-01 00:00:00 to date 2018-11-02 00:00:00\n"
     ]
    },
    {
     "name": "stderr",
     "output_type": "stream",
     "text": [
      "2022-12-25 12:23:37,870 : INFO : Adapt #3: trading 'HPG' with method 'maml'...\n"
     ]
    },
    {
     "name": "stdout",
     "output_type": "stream",
     "text": [
      "Ticker: HPG, from date 2018-11-02 00:00:00 to date 2019-11-05 00:00:00\n"
     ]
    },
    {
     "name": "stderr",
     "output_type": "stream",
     "text": [
      "2022-12-25 12:23:58,488 : INFO : Adapt #0: trading 'VND' with method 'maml'...\n"
     ]
    },
    {
     "name": "stdout",
     "output_type": "stream",
     "text": [
      "Ticker: VND, from date 2016-11-02 00:00:00 to date 2017-11-07 00:00:00\n"
     ]
    },
    {
     "name": "stderr",
     "output_type": "stream",
     "text": [
      "2022-12-25 12:24:19,082 : INFO : Adapt #1: trading 'VND' with method 'maml'...\n"
     ]
    },
    {
     "name": "stdout",
     "output_type": "stream",
     "text": [
      "Ticker: VND, from date 2017-11-07 00:00:00 to date 2018-11-08 00:00:00\n"
     ]
    },
    {
     "name": "stderr",
     "output_type": "stream",
     "text": [
      "2022-12-25 12:24:39,784 : INFO : Adapt #2: trading 'VND' with method 'maml'...\n"
     ]
    },
    {
     "name": "stdout",
     "output_type": "stream",
     "text": [
      "Ticker: VND, from date 2017-11-07 00:00:00 to date 2018-11-08 00:00:00\n"
     ]
    },
    {
     "name": "stderr",
     "output_type": "stream",
     "text": [
      "2022-12-25 12:25:00,774 : INFO : Adapt #3: trading 'VND' with method 'maml'...\n"
     ]
    },
    {
     "name": "stdout",
     "output_type": "stream",
     "text": [
      "Ticker: VND, from date 2016-11-02 00:00:00 to date 2017-11-07 00:00:00\n"
     ]
    },
    {
     "name": "stderr",
     "output_type": "stream",
     "text": [
      "2022-12-25 12:25:21,701 : INFO : Adapt #0: trading 'VNM' with method 'maml'...\n"
     ]
    },
    {
     "name": "stdout",
     "output_type": "stream",
     "text": [
      "Ticker: VNM, from date 2018-11-02 00:00:00 to date 2019-11-05 00:00:00\n"
     ]
    },
    {
     "name": "stderr",
     "output_type": "stream",
     "text": [
      "2022-12-25 12:25:42,733 : INFO : Adapt #1: trading 'VNM' with method 'maml'...\n"
     ]
    },
    {
     "name": "stdout",
     "output_type": "stream",
     "text": [
      "Ticker: VNM, from date 2018-11-02 00:00:00 to date 2019-11-05 00:00:00\n"
     ]
    },
    {
     "name": "stderr",
     "output_type": "stream",
     "text": [
      "2022-12-25 12:26:03,857 : INFO : Adapt #2: trading 'VNM' with method 'maml'...\n"
     ]
    },
    {
     "name": "stdout",
     "output_type": "stream",
     "text": [
      "Ticker: VNM, from date 2018-11-02 00:00:00 to date 2019-11-05 00:00:00\n"
     ]
    },
    {
     "name": "stderr",
     "output_type": "stream",
     "text": [
      "2022-12-25 12:26:25,074 : INFO : Adapt #3: trading 'VNM' with method 'maml'...\n"
     ]
    },
    {
     "name": "stdout",
     "output_type": "stream",
     "text": [
      "Ticker: VNM, from date 2017-11-01 00:00:00 to date 2018-11-02 00:00:00\n"
     ]
    },
    {
     "data": {
      "text/html": [
       "<div>\n",
       "<style scoped>\n",
       "    .dataframe tbody tr th:only-of-type {\n",
       "        vertical-align: middle;\n",
       "    }\n",
       "\n",
       "    .dataframe tbody tr th {\n",
       "        vertical-align: top;\n",
       "    }\n",
       "\n",
       "    .dataframe thead th {\n",
       "        text-align: right;\n",
       "    }\n",
       "</style>\n",
       "<table border=\"1\" class=\"dataframe\">\n",
       "  <thead>\n",
       "    <tr style=\"text-align: right;\">\n",
       "      <th></th>\n",
       "      <th></th>\n",
       "      <th></th>\n",
       "      <th>maml</th>\n",
       "    </tr>\n",
       "    <tr>\n",
       "      <th>n_adapt_steps</th>\n",
       "      <th>ticker</th>\n",
       "      <th>metric</th>\n",
       "      <th></th>\n",
       "    </tr>\n",
       "  </thead>\n",
       "  <tbody>\n",
       "    <tr>\n",
       "      <th rowspan=\"5\" valign=\"top\">0</th>\n",
       "      <th rowspan=\"5\" valign=\"top\">HAH</th>\n",
       "      <th>annual_return</th>\n",
       "      <td>-0.02849</td>\n",
       "    </tr>\n",
       "    <tr>\n",
       "      <th>cum_returns_final</th>\n",
       "      <td>-0.02826</td>\n",
       "    </tr>\n",
       "    <tr>\n",
       "      <th>sharpe_ratio</th>\n",
       "      <td>-0.32634</td>\n",
       "    </tr>\n",
       "    <tr>\n",
       "      <th>max_drawdown</th>\n",
       "      <td>-0.0894</td>\n",
       "    </tr>\n",
       "    <tr>\n",
       "      <th>annual_volatility</th>\n",
       "      <td>0.07932</td>\n",
       "    </tr>\n",
       "    <tr>\n",
       "      <th>...</th>\n",
       "      <th>...</th>\n",
       "      <th>...</th>\n",
       "      <td>...</td>\n",
       "    </tr>\n",
       "    <tr>\n",
       "      <th rowspan=\"5\" valign=\"top\">3</th>\n",
       "      <th rowspan=\"5\" valign=\"top\">VNM</th>\n",
       "      <th>cum_returns_final</th>\n",
       "      <td>-0.04347</td>\n",
       "    </tr>\n",
       "    <tr>\n",
       "      <th>sharpe_ratio</th>\n",
       "      <td>-0.51246</td>\n",
       "    </tr>\n",
       "    <tr>\n",
       "      <th>max_drawdown</th>\n",
       "      <td>-0.1334</td>\n",
       "    </tr>\n",
       "    <tr>\n",
       "      <th>annual_volatility</th>\n",
       "      <td>0.08135</td>\n",
       "    </tr>\n",
       "    <tr>\n",
       "      <th>value_at_risk</th>\n",
       "      <td>NaN</td>\n",
       "    </tr>\n",
       "  </tbody>\n",
       "</table>\n",
       "<p>96 rows × 1 columns</p>\n",
       "</div>"
      ],
      "text/plain": [
       "                                           maml\n",
       "n_adapt_steps ticker metric                    \n",
       "0             HAH    annual_return     -0.02849\n",
       "                     cum_returns_final -0.02826\n",
       "                     sharpe_ratio      -0.32634\n",
       "                     max_drawdown       -0.0894\n",
       "                     annual_volatility  0.07932\n",
       "...                                         ...\n",
       "3             VNM    cum_returns_final -0.04347\n",
       "                     sharpe_ratio      -0.51246\n",
       "                     max_drawdown       -0.1334\n",
       "                     annual_volatility  0.08135\n",
       "                     value_at_risk          NaN\n",
       "\n",
       "[96 rows x 1 columns]"
      ]
     },
     "execution_count": 3,
     "metadata": {},
     "output_type": "execute_result"
    }
   ],
   "source": [
    "TASKS = [\"HAH\", \"HPG\", \"VND\", \"VNM\"]\n",
    "\n",
    "trading_performance, params = exp.mass_trading_performance(\n",
    "    methods=[\"maml\"],\n",
    "    maybe_num_tasks=TASKS,\n",
    "    total_adapt_steps=3,\n",
    ")\n",
    "trading_performance"
   ]
  },
  {
   "cell_type": "code",
   "execution_count": 4,
   "metadata": {},
   "outputs": [
    {
     "data": {
      "text/html": [
       "<div>\n",
       "<style scoped>\n",
       "    .dataframe tbody tr th:only-of-type {\n",
       "        vertical-align: middle;\n",
       "    }\n",
       "\n",
       "    .dataframe tbody tr th {\n",
       "        vertical-align: top;\n",
       "    }\n",
       "\n",
       "    .dataframe thead th {\n",
       "        text-align: right;\n",
       "    }\n",
       "</style>\n",
       "<table border=\"1\" class=\"dataframe\">\n",
       "  <thead>\n",
       "    <tr style=\"text-align: right;\">\n",
       "      <th></th>\n",
       "      <th></th>\n",
       "      <th></th>\n",
       "      <th>maml</th>\n",
       "    </tr>\n",
       "    <tr>\n",
       "      <th>n_adapt_steps</th>\n",
       "      <th>ticker</th>\n",
       "      <th>metric</th>\n",
       "      <th></th>\n",
       "    </tr>\n",
       "  </thead>\n",
       "  <tbody>\n",
       "    <tr>\n",
       "      <th rowspan=\"8\" valign=\"top\">0</th>\n",
       "      <th rowspan=\"2\" valign=\"top\">HAH</th>\n",
       "      <th>max_drawdown</th>\n",
       "      <td>-0.0894</td>\n",
       "    </tr>\n",
       "    <tr>\n",
       "      <th>sharpe_ratio</th>\n",
       "      <td>-0.32634</td>\n",
       "    </tr>\n",
       "    <tr>\n",
       "      <th rowspan=\"2\" valign=\"top\">HPG</th>\n",
       "      <th>max_drawdown</th>\n",
       "      <td>-0.20367</td>\n",
       "    </tr>\n",
       "    <tr>\n",
       "      <th>sharpe_ratio</th>\n",
       "      <td>-1.1175</td>\n",
       "    </tr>\n",
       "    <tr>\n",
       "      <th rowspan=\"2\" valign=\"top\">VND</th>\n",
       "      <th>max_drawdown</th>\n",
       "      <td>-0.1021</td>\n",
       "    </tr>\n",
       "    <tr>\n",
       "      <th>sharpe_ratio</th>\n",
       "      <td>1.25148</td>\n",
       "    </tr>\n",
       "    <tr>\n",
       "      <th rowspan=\"2\" valign=\"top\">VNM</th>\n",
       "      <th>max_drawdown</th>\n",
       "      <td>-0.11536</td>\n",
       "    </tr>\n",
       "    <tr>\n",
       "      <th>sharpe_ratio</th>\n",
       "      <td>0.80681</td>\n",
       "    </tr>\n",
       "    <tr>\n",
       "      <th rowspan=\"8\" valign=\"top\">1</th>\n",
       "      <th rowspan=\"2\" valign=\"top\">HAH</th>\n",
       "      <th>max_drawdown</th>\n",
       "      <td>-0.0992</td>\n",
       "    </tr>\n",
       "    <tr>\n",
       "      <th>sharpe_ratio</th>\n",
       "      <td>-0.35978</td>\n",
       "    </tr>\n",
       "    <tr>\n",
       "      <th rowspan=\"2\" valign=\"top\">HPG</th>\n",
       "      <th>max_drawdown</th>\n",
       "      <td>-0.16544</td>\n",
       "    </tr>\n",
       "    <tr>\n",
       "      <th>sharpe_ratio</th>\n",
       "      <td>1.32196</td>\n",
       "    </tr>\n",
       "    <tr>\n",
       "      <th rowspan=\"2\" valign=\"top\">VND</th>\n",
       "      <th>max_drawdown</th>\n",
       "      <td>-0.21173</td>\n",
       "    </tr>\n",
       "    <tr>\n",
       "      <th>sharpe_ratio</th>\n",
       "      <td>0.62174</td>\n",
       "    </tr>\n",
       "    <tr>\n",
       "      <th rowspan=\"2\" valign=\"top\">VNM</th>\n",
       "      <th>max_drawdown</th>\n",
       "      <td>-0.09952</td>\n",
       "    </tr>\n",
       "    <tr>\n",
       "      <th>sharpe_ratio</th>\n",
       "      <td>0.69281</td>\n",
       "    </tr>\n",
       "    <tr>\n",
       "      <th rowspan=\"8\" valign=\"top\">2</th>\n",
       "      <th rowspan=\"2\" valign=\"top\">HAH</th>\n",
       "      <th>max_drawdown</th>\n",
       "      <td>-0.25767</td>\n",
       "    </tr>\n",
       "    <tr>\n",
       "      <th>sharpe_ratio</th>\n",
       "      <td>-1.5237</td>\n",
       "    </tr>\n",
       "    <tr>\n",
       "      <th rowspan=\"2\" valign=\"top\">HPG</th>\n",
       "      <th>max_drawdown</th>\n",
       "      <td>-0.15552</td>\n",
       "    </tr>\n",
       "    <tr>\n",
       "      <th>sharpe_ratio</th>\n",
       "      <td>1.32126</td>\n",
       "    </tr>\n",
       "    <tr>\n",
       "      <th rowspan=\"2\" valign=\"top\">VND</th>\n",
       "      <th>max_drawdown</th>\n",
       "      <td>-0.21407</td>\n",
       "    </tr>\n",
       "    <tr>\n",
       "      <th>sharpe_ratio</th>\n",
       "      <td>0.6271</td>\n",
       "    </tr>\n",
       "    <tr>\n",
       "      <th rowspan=\"2\" valign=\"top\">VNM</th>\n",
       "      <th>max_drawdown</th>\n",
       "      <td>-0.10187</td>\n",
       "    </tr>\n",
       "    <tr>\n",
       "      <th>sharpe_ratio</th>\n",
       "      <td>0.71891</td>\n",
       "    </tr>\n",
       "    <tr>\n",
       "      <th rowspan=\"8\" valign=\"top\">3</th>\n",
       "      <th rowspan=\"2\" valign=\"top\">HAH</th>\n",
       "      <th>max_drawdown</th>\n",
       "      <td>-0.10108</td>\n",
       "    </tr>\n",
       "    <tr>\n",
       "      <th>sharpe_ratio</th>\n",
       "      <td>-0.36027</td>\n",
       "    </tr>\n",
       "    <tr>\n",
       "      <th rowspan=\"2\" valign=\"top\">HPG</th>\n",
       "      <th>max_drawdown</th>\n",
       "      <td>-0.18695</td>\n",
       "    </tr>\n",
       "    <tr>\n",
       "      <th>sharpe_ratio</th>\n",
       "      <td>-1.09584</td>\n",
       "    </tr>\n",
       "    <tr>\n",
       "      <th rowspan=\"2\" valign=\"top\">VND</th>\n",
       "      <th>max_drawdown</th>\n",
       "      <td>-0.11202</td>\n",
       "    </tr>\n",
       "    <tr>\n",
       "      <th>sharpe_ratio</th>\n",
       "      <td>1.30757</td>\n",
       "    </tr>\n",
       "    <tr>\n",
       "      <th rowspan=\"2\" valign=\"top\">VNM</th>\n",
       "      <th>max_drawdown</th>\n",
       "      <td>-0.1334</td>\n",
       "    </tr>\n",
       "    <tr>\n",
       "      <th>sharpe_ratio</th>\n",
       "      <td>-0.51246</td>\n",
       "    </tr>\n",
       "  </tbody>\n",
       "</table>\n",
       "</div>"
      ],
      "text/plain": [
       "                                      maml\n",
       "n_adapt_steps ticker metric               \n",
       "0             HAH    max_drawdown  -0.0894\n",
       "                     sharpe_ratio -0.32634\n",
       "              HPG    max_drawdown -0.20367\n",
       "                     sharpe_ratio  -1.1175\n",
       "              VND    max_drawdown  -0.1021\n",
       "                     sharpe_ratio  1.25148\n",
       "              VNM    max_drawdown -0.11536\n",
       "                     sharpe_ratio  0.80681\n",
       "1             HAH    max_drawdown  -0.0992\n",
       "                     sharpe_ratio -0.35978\n",
       "              HPG    max_drawdown -0.16544\n",
       "                     sharpe_ratio  1.32196\n",
       "              VND    max_drawdown -0.21173\n",
       "                     sharpe_ratio  0.62174\n",
       "              VNM    max_drawdown -0.09952\n",
       "                     sharpe_ratio  0.69281\n",
       "2             HAH    max_drawdown -0.25767\n",
       "                     sharpe_ratio  -1.5237\n",
       "              HPG    max_drawdown -0.15552\n",
       "                     sharpe_ratio  1.32126\n",
       "              VND    max_drawdown -0.21407\n",
       "                     sharpe_ratio   0.6271\n",
       "              VNM    max_drawdown -0.10187\n",
       "                     sharpe_ratio  0.71891\n",
       "3             HAH    max_drawdown -0.10108\n",
       "                     sharpe_ratio -0.36027\n",
       "              HPG    max_drawdown -0.18695\n",
       "                     sharpe_ratio -1.09584\n",
       "              VND    max_drawdown -0.11202\n",
       "                     sharpe_ratio  1.30757\n",
       "              VNM    max_drawdown  -0.1334\n",
       "                     sharpe_ratio -0.51246"
      ]
     },
     "execution_count": 4,
     "metadata": {},
     "output_type": "execute_result"
    }
   ],
   "source": [
    "trading_performance.loc[\n",
    "    (slice(0, 5), TASKS, (\"sharpe_ratio\", \"max_drawdown\")), :\n",
    "].sort_index()"
   ]
  },
  {
   "attachments": {},
   "cell_type": "markdown",
   "metadata": {},
   "source": [
    "# Evaluate task trading performance"
   ]
  },
  {
   "cell_type": "code",
   "execution_count": 21,
   "metadata": {},
   "outputs": [
    {
     "name": "stdout",
     "output_type": "stream",
     "text": [
      "Ticker: HAH, from date 2022-11-03 00:00:00 to date 2022-12-22 00:00:00\n",
      "\n",
      "        Annual return     : -39.10%\n",
      "        Cumulative return : -6.66%\n",
      "        Sharpe ratio      : -1.29\n",
      "        Maximum Drawdown  : -17.61%\n",
      "        Annual Volatility :  34.88%\n",
      "        Value-At-Risk     :  nan%\n",
      "        \n"
     ]
    },
    {
     "data": {
      "application/vnd.plotly.v1+json": {
       "config": {
        "plotlyServerURL": "https://plot.ly"
       },
       "data": [
        {
         "hoverinfo": "skip",
         "line": {
          "color": "rgba(0, 0, 0, 0)",
          "width": 0
         },
         "opacity": 0,
         "showlegend": false,
         "type": "scatter",
         "x": [
          "2022-11-04T00:00:00",
          "2022-11-07T00:00:00",
          "2022-11-08T00:00:00",
          "2022-11-09T00:00:00",
          "2022-11-10T00:00:00",
          "2022-11-11T00:00:00",
          "2022-11-14T00:00:00",
          "2022-11-15T00:00:00",
          "2022-11-16T00:00:00",
          "2022-11-17T00:00:00",
          "2022-11-18T00:00:00",
          "2022-11-21T00:00:00",
          "2022-11-22T00:00:00",
          "2022-11-23T00:00:00",
          "2022-11-24T00:00:00",
          "2022-11-25T00:00:00",
          "2022-11-28T00:00:00",
          "2022-11-29T00:00:00",
          "2022-11-30T00:00:00",
          "2022-12-01T00:00:00",
          "2022-12-02T00:00:00",
          "2022-12-05T00:00:00",
          "2022-12-06T00:00:00",
          "2022-12-07T00:00:00",
          "2022-12-08T00:00:00",
          "2022-12-09T00:00:00",
          "2022-12-12T00:00:00",
          "2022-12-13T00:00:00",
          "2022-12-14T00:00:00",
          "2022-12-15T00:00:00",
          "2022-12-16T00:00:00",
          "2022-12-19T00:00:00",
          "2022-12-20T00:00:00",
          "2022-12-21T00:00:00",
          "2022-12-22T00:00:00"
         ],
         "y": [
          499999.99999999994,
          465395.4802259887,
          439265.53672316385,
          451977.4011299435,
          420903.95480225986,
          391949.1525423729,
          365112.9943502825,
          339689.2655367232,
          362994.35028248583,
          375706.21468926553,
          370056.49717514124,
          395480.2259887006,
          397598.87005649717,
          407485.8757062147,
          413841.8079096045,
          420903.95480225986,
          444209.03954802256,
          456214.68926553667,
          435028.2485875706,
          442090.39548022597,
          436440.6779661017,
          435734.46327683615,
          466101.69491525425,
          473163.8418079096,
          487288.1355932203,
          473163.8418079096,
          490112.99435028253,
          519774.011299435,
          506355.9322033898,
          506355.9322033898,
          501412.42937853106,
          471751.4124293785,
          472457.6271186441,
          445621.4689265537,
          437853.10734463274
         ]
        },
        {
         "connectgaps": false,
         "fill": "tonexty",
         "fillcolor": "palegreen",
         "hoverinfo": "skip",
         "line": {
          "color": "rgba(0, 0, 0, 0)",
          "width": 0
         },
         "opacity": 0,
         "showlegend": false,
         "type": "scatter",
         "x": [
          "2022-11-04T00:00:00",
          "2022-11-07T00:00:00",
          "2022-11-08T00:00:00",
          "2022-11-09T00:00:00",
          "2022-11-10T00:00:00",
          "2022-11-11T00:00:00",
          "2022-11-14T00:00:00",
          "2022-11-15T00:00:00",
          "2022-11-16T00:00:00",
          "2022-11-17T00:00:00",
          "2022-11-18T00:00:00",
          "2022-11-21T00:00:00",
          "2022-11-22T00:00:00",
          "2022-11-23T00:00:00",
          "2022-11-24T00:00:00",
          "2022-11-25T00:00:00",
          "2022-11-28T00:00:00",
          "2022-11-29T00:00:00",
          "2022-11-30T00:00:00",
          "2022-12-01T00:00:00",
          "2022-12-02T00:00:00",
          "2022-12-05T00:00:00",
          "2022-12-06T00:00:00",
          "2022-12-07T00:00:00",
          "2022-12-08T00:00:00",
          "2022-12-09T00:00:00",
          "2022-12-12T00:00:00",
          "2022-12-13T00:00:00",
          "2022-12-14T00:00:00",
          "2022-12-15T00:00:00",
          "2022-12-16T00:00:00",
          "2022-12-19T00:00:00",
          "2022-12-20T00:00:00",
          "2022-12-21T00:00:00",
          "2022-12-22T00:00:00"
         ],
         "y": [
          508510.33999999997,
          490366.79000000004,
          476430.32999999996,
          483270.32999999996,
          466294.12,
          449484.985,
          434087.23,
          418960.015,
          432646.055,
          440405.175,
          437085.175,
          451714.57499999995,
          452929.57499999995,
          458528.93499999994,
          462128.93499999994,
          466117.985,
          478940.80499999993,
          485449.4049999999,
          473891.17,
          477741.17,
          474696.32999999996,
          474331.32999999996,
          489347.85,
          492847.85,
          499781.06999999995,
          492881.06999999995,
          501161.07,
          519774.011299435,
          508892.11,
          508892.11,
          506547.11,
          492070.03,
          492415.03,
          478678.1,
          474664.895
         ]
        },
        {
         "hoverinfo": "skip",
         "line": {
          "color": "rgba(0, 0, 0, 0)",
          "width": 0
         },
         "opacity": 0,
         "showlegend": false,
         "type": "scatter",
         "x": [
          "2022-11-04T00:00:00",
          "2022-11-07T00:00:00",
          "2022-11-08T00:00:00",
          "2022-11-09T00:00:00",
          "2022-11-10T00:00:00",
          "2022-11-11T00:00:00",
          "2022-11-14T00:00:00",
          "2022-11-15T00:00:00",
          "2022-11-16T00:00:00",
          "2022-11-17T00:00:00",
          "2022-11-18T00:00:00",
          "2022-11-21T00:00:00",
          "2022-11-22T00:00:00",
          "2022-11-23T00:00:00",
          "2022-11-24T00:00:00",
          "2022-11-25T00:00:00",
          "2022-11-28T00:00:00",
          "2022-11-29T00:00:00",
          "2022-11-30T00:00:00",
          "2022-12-01T00:00:00",
          "2022-12-02T00:00:00",
          "2022-12-05T00:00:00",
          "2022-12-06T00:00:00",
          "2022-12-07T00:00:00",
          "2022-12-08T00:00:00",
          "2022-12-09T00:00:00",
          "2022-12-12T00:00:00",
          "2022-12-13T00:00:00",
          "2022-12-14T00:00:00",
          "2022-12-15T00:00:00",
          "2022-12-16T00:00:00",
          "2022-12-19T00:00:00",
          "2022-12-20T00:00:00",
          "2022-12-21T00:00:00",
          "2022-12-22T00:00:00"
         ],
         "y": [
          499999.99999999994,
          465395.4802259887,
          439265.53672316385,
          451977.4011299435,
          420903.95480225986,
          391949.1525423729,
          365112.9943502825,
          339689.2655367232,
          362994.35028248583,
          375706.21468926553,
          370056.49717514124,
          395480.2259887006,
          397598.87005649717,
          407485.8757062147,
          413841.8079096045,
          420903.95480225986,
          444209.03954802256,
          456214.68926553667,
          435028.2485875706,
          442090.39548022597,
          436440.6779661017,
          435734.46327683615,
          466101.69491525425,
          473163.8418079096,
          487288.1355932203,
          473163.8418079096,
          490112.99435028253,
          519774.011299435,
          506355.9322033898,
          506355.9322033898,
          501412.42937853106,
          471751.4124293785,
          472457.6271186441,
          445621.4689265537,
          437853.10734463274
         ]
        },
        {
         "connectgaps": false,
         "fill": "tonexty",
         "fillcolor": "salmon",
         "hoverinfo": "skip",
         "line": {
          "color": "rgba(0, 0, 0, 0)",
          "width": 0
         },
         "opacity": 0,
         "showlegend": false,
         "type": "scatter",
         "x": [
          "2022-11-04T00:00:00",
          "2022-11-07T00:00:00",
          "2022-11-08T00:00:00",
          "2022-11-09T00:00:00",
          "2022-11-10T00:00:00",
          "2022-11-11T00:00:00",
          "2022-11-14T00:00:00",
          "2022-11-15T00:00:00",
          "2022-11-16T00:00:00",
          "2022-11-17T00:00:00",
          "2022-11-18T00:00:00",
          "2022-11-21T00:00:00",
          "2022-11-22T00:00:00",
          "2022-11-23T00:00:00",
          "2022-11-24T00:00:00",
          "2022-11-25T00:00:00",
          "2022-11-28T00:00:00",
          "2022-11-29T00:00:00",
          "2022-11-30T00:00:00",
          "2022-12-01T00:00:00",
          "2022-12-02T00:00:00",
          "2022-12-05T00:00:00",
          "2022-12-06T00:00:00",
          "2022-12-07T00:00:00",
          "2022-12-08T00:00:00",
          "2022-12-09T00:00:00",
          "2022-12-12T00:00:00",
          "2022-12-13T00:00:00",
          "2022-12-14T00:00:00",
          "2022-12-15T00:00:00",
          "2022-12-16T00:00:00",
          "2022-12-19T00:00:00",
          "2022-12-20T00:00:00",
          "2022-12-21T00:00:00",
          "2022-12-22T00:00:00"
         ],
         "y": [
          499999.99999999994,
          465395.4802259887,
          439265.53672316385,
          451977.4011299435,
          420903.95480225986,
          391949.1525423729,
          365112.9943502825,
          339689.2655367232,
          362994.35028248583,
          375706.21468926553,
          370056.49717514124,
          395480.2259887006,
          397598.87005649717,
          407485.8757062147,
          413841.8079096045,
          420903.95480225986,
          444209.03954802256,
          456214.68926553667,
          435028.2485875706,
          442090.39548022597,
          436440.6779661017,
          435734.46327683615,
          466101.69491525425,
          473163.8418079096,
          487288.1355932203,
          473163.8418079096,
          490112.99435028253,
          515257.11,
          506355.9322033898,
          506355.9322033898,
          501412.42937853106,
          471751.4124293785,
          472457.6271186441,
          445621.4689265537,
          437853.10734463274
         ]
        },
        {
         "line": {
          "color": "lightslategray",
          "width": 3
         },
         "mode": "lines+markers",
         "name": "MAML",
         "showlegend": true,
         "type": "scatter",
         "x": [
          "2022-11-04T00:00:00",
          "2022-11-07T00:00:00",
          "2022-11-08T00:00:00",
          "2022-11-09T00:00:00",
          "2022-11-10T00:00:00",
          "2022-11-11T00:00:00",
          "2022-11-14T00:00:00",
          "2022-11-15T00:00:00",
          "2022-11-16T00:00:00",
          "2022-11-17T00:00:00",
          "2022-11-18T00:00:00",
          "2022-11-21T00:00:00",
          "2022-11-22T00:00:00",
          "2022-11-23T00:00:00",
          "2022-11-24T00:00:00",
          "2022-11-25T00:00:00",
          "2022-11-28T00:00:00",
          "2022-11-29T00:00:00",
          "2022-11-30T00:00:00",
          "2022-12-01T00:00:00",
          "2022-12-02T00:00:00",
          "2022-12-05T00:00:00",
          "2022-12-06T00:00:00",
          "2022-12-07T00:00:00",
          "2022-12-08T00:00:00",
          "2022-12-09T00:00:00",
          "2022-12-12T00:00:00",
          "2022-12-13T00:00:00",
          "2022-12-14T00:00:00",
          "2022-12-15T00:00:00",
          "2022-12-16T00:00:00",
          "2022-12-19T00:00:00",
          "2022-12-20T00:00:00",
          "2022-12-21T00:00:00",
          "2022-12-22T00:00:00"
         ],
         "y": [
          508510.33999999997,
          490366.79000000004,
          476430.32999999996,
          483270.32999999996,
          466294.12,
          449484.985,
          434087.23,
          418960.015,
          432646.055,
          440405.175,
          437085.175,
          451714.57499999995,
          452929.57499999995,
          458528.93499999994,
          462128.93499999994,
          466117.985,
          478940.80499999993,
          485449.4049999999,
          473891.17,
          477741.17,
          474696.32999999996,
          474331.32999999996,
          489347.85,
          492847.85,
          499781.06999999995,
          492881.06999999995,
          501161.07,
          515257.11,
          508892.11,
          508892.11,
          506547.11,
          492070.03,
          492415.03,
          478678.1,
          474664.895
         ]
        },
        {
         "line": {
          "color": "dimgray",
          "width": 2
         },
         "mode": "lines",
         "name": "Buy-n-Hold",
         "showlegend": true,
         "type": "scatter",
         "x": [
          "2022-11-04T00:00:00",
          "2022-11-07T00:00:00",
          "2022-11-08T00:00:00",
          "2022-11-09T00:00:00",
          "2022-11-10T00:00:00",
          "2022-11-11T00:00:00",
          "2022-11-14T00:00:00",
          "2022-11-15T00:00:00",
          "2022-11-16T00:00:00",
          "2022-11-17T00:00:00",
          "2022-11-18T00:00:00",
          "2022-11-21T00:00:00",
          "2022-11-22T00:00:00",
          "2022-11-23T00:00:00",
          "2022-11-24T00:00:00",
          "2022-11-25T00:00:00",
          "2022-11-28T00:00:00",
          "2022-11-29T00:00:00",
          "2022-11-30T00:00:00",
          "2022-12-01T00:00:00",
          "2022-12-02T00:00:00",
          "2022-12-05T00:00:00",
          "2022-12-06T00:00:00",
          "2022-12-07T00:00:00",
          "2022-12-08T00:00:00",
          "2022-12-09T00:00:00",
          "2022-12-12T00:00:00",
          "2022-12-13T00:00:00",
          "2022-12-14T00:00:00",
          "2022-12-15T00:00:00",
          "2022-12-16T00:00:00",
          "2022-12-19T00:00:00",
          "2022-12-20T00:00:00",
          "2022-12-21T00:00:00",
          "2022-12-22T00:00:00"
         ],
         "y": [
          499999.99999999994,
          465395.4802259887,
          439265.53672316385,
          451977.4011299435,
          420903.95480225986,
          391949.1525423729,
          365112.9943502825,
          339689.2655367232,
          362994.35028248583,
          375706.21468926553,
          370056.49717514124,
          395480.2259887006,
          397598.87005649717,
          407485.8757062147,
          413841.8079096045,
          420903.95480225986,
          444209.03954802256,
          456214.68926553667,
          435028.2485875706,
          442090.39548022597,
          436440.6779661017,
          435734.46327683615,
          466101.69491525425,
          473163.8418079096,
          487288.1355932203,
          473163.8418079096,
          490112.99435028253,
          519774.011299435,
          506355.9322033898,
          506355.9322033898,
          501412.42937853106,
          471751.4124293785,
          472457.6271186441,
          445621.4689265537,
          437853.10734463274
         ]
        }
       ],
       "layout": {
        "height": 500,
        "template": {
         "data": {
          "bar": [
           {
            "error_x": {
             "color": "#2a3f5f"
            },
            "error_y": {
             "color": "#2a3f5f"
            },
            "marker": {
             "line": {
              "color": "#E5ECF6",
              "width": 0.5
             },
             "pattern": {
              "fillmode": "overlay",
              "size": 10,
              "solidity": 0.2
             }
            },
            "type": "bar"
           }
          ],
          "barpolar": [
           {
            "marker": {
             "line": {
              "color": "#E5ECF6",
              "width": 0.5
             },
             "pattern": {
              "fillmode": "overlay",
              "size": 10,
              "solidity": 0.2
             }
            },
            "type": "barpolar"
           }
          ],
          "carpet": [
           {
            "aaxis": {
             "endlinecolor": "#2a3f5f",
             "gridcolor": "white",
             "linecolor": "white",
             "minorgridcolor": "white",
             "startlinecolor": "#2a3f5f"
            },
            "baxis": {
             "endlinecolor": "#2a3f5f",
             "gridcolor": "white",
             "linecolor": "white",
             "minorgridcolor": "white",
             "startlinecolor": "#2a3f5f"
            },
            "type": "carpet"
           }
          ],
          "choropleth": [
           {
            "colorbar": {
             "outlinewidth": 0,
             "ticks": ""
            },
            "type": "choropleth"
           }
          ],
          "contour": [
           {
            "colorbar": {
             "outlinewidth": 0,
             "ticks": ""
            },
            "colorscale": [
             [
              0,
              "#0d0887"
             ],
             [
              0.1111111111111111,
              "#46039f"
             ],
             [
              0.2222222222222222,
              "#7201a8"
             ],
             [
              0.3333333333333333,
              "#9c179e"
             ],
             [
              0.4444444444444444,
              "#bd3786"
             ],
             [
              0.5555555555555556,
              "#d8576b"
             ],
             [
              0.6666666666666666,
              "#ed7953"
             ],
             [
              0.7777777777777778,
              "#fb9f3a"
             ],
             [
              0.8888888888888888,
              "#fdca26"
             ],
             [
              1,
              "#f0f921"
             ]
            ],
            "type": "contour"
           }
          ],
          "contourcarpet": [
           {
            "colorbar": {
             "outlinewidth": 0,
             "ticks": ""
            },
            "type": "contourcarpet"
           }
          ],
          "heatmap": [
           {
            "colorbar": {
             "outlinewidth": 0,
             "ticks": ""
            },
            "colorscale": [
             [
              0,
              "#0d0887"
             ],
             [
              0.1111111111111111,
              "#46039f"
             ],
             [
              0.2222222222222222,
              "#7201a8"
             ],
             [
              0.3333333333333333,
              "#9c179e"
             ],
             [
              0.4444444444444444,
              "#bd3786"
             ],
             [
              0.5555555555555556,
              "#d8576b"
             ],
             [
              0.6666666666666666,
              "#ed7953"
             ],
             [
              0.7777777777777778,
              "#fb9f3a"
             ],
             [
              0.8888888888888888,
              "#fdca26"
             ],
             [
              1,
              "#f0f921"
             ]
            ],
            "type": "heatmap"
           }
          ],
          "heatmapgl": [
           {
            "colorbar": {
             "outlinewidth": 0,
             "ticks": ""
            },
            "colorscale": [
             [
              0,
              "#0d0887"
             ],
             [
              0.1111111111111111,
              "#46039f"
             ],
             [
              0.2222222222222222,
              "#7201a8"
             ],
             [
              0.3333333333333333,
              "#9c179e"
             ],
             [
              0.4444444444444444,
              "#bd3786"
             ],
             [
              0.5555555555555556,
              "#d8576b"
             ],
             [
              0.6666666666666666,
              "#ed7953"
             ],
             [
              0.7777777777777778,
              "#fb9f3a"
             ],
             [
              0.8888888888888888,
              "#fdca26"
             ],
             [
              1,
              "#f0f921"
             ]
            ],
            "type": "heatmapgl"
           }
          ],
          "histogram": [
           {
            "marker": {
             "pattern": {
              "fillmode": "overlay",
              "size": 10,
              "solidity": 0.2
             }
            },
            "type": "histogram"
           }
          ],
          "histogram2d": [
           {
            "colorbar": {
             "outlinewidth": 0,
             "ticks": ""
            },
            "colorscale": [
             [
              0,
              "#0d0887"
             ],
             [
              0.1111111111111111,
              "#46039f"
             ],
             [
              0.2222222222222222,
              "#7201a8"
             ],
             [
              0.3333333333333333,
              "#9c179e"
             ],
             [
              0.4444444444444444,
              "#bd3786"
             ],
             [
              0.5555555555555556,
              "#d8576b"
             ],
             [
              0.6666666666666666,
              "#ed7953"
             ],
             [
              0.7777777777777778,
              "#fb9f3a"
             ],
             [
              0.8888888888888888,
              "#fdca26"
             ],
             [
              1,
              "#f0f921"
             ]
            ],
            "type": "histogram2d"
           }
          ],
          "histogram2dcontour": [
           {
            "colorbar": {
             "outlinewidth": 0,
             "ticks": ""
            },
            "colorscale": [
             [
              0,
              "#0d0887"
             ],
             [
              0.1111111111111111,
              "#46039f"
             ],
             [
              0.2222222222222222,
              "#7201a8"
             ],
             [
              0.3333333333333333,
              "#9c179e"
             ],
             [
              0.4444444444444444,
              "#bd3786"
             ],
             [
              0.5555555555555556,
              "#d8576b"
             ],
             [
              0.6666666666666666,
              "#ed7953"
             ],
             [
              0.7777777777777778,
              "#fb9f3a"
             ],
             [
              0.8888888888888888,
              "#fdca26"
             ],
             [
              1,
              "#f0f921"
             ]
            ],
            "type": "histogram2dcontour"
           }
          ],
          "mesh3d": [
           {
            "colorbar": {
             "outlinewidth": 0,
             "ticks": ""
            },
            "type": "mesh3d"
           }
          ],
          "parcoords": [
           {
            "line": {
             "colorbar": {
              "outlinewidth": 0,
              "ticks": ""
             }
            },
            "type": "parcoords"
           }
          ],
          "pie": [
           {
            "automargin": true,
            "type": "pie"
           }
          ],
          "scatter": [
           {
            "fillpattern": {
             "fillmode": "overlay",
             "size": 10,
             "solidity": 0.2
            },
            "type": "scatter"
           }
          ],
          "scatter3d": [
           {
            "line": {
             "colorbar": {
              "outlinewidth": 0,
              "ticks": ""
             }
            },
            "marker": {
             "colorbar": {
              "outlinewidth": 0,
              "ticks": ""
             }
            },
            "type": "scatter3d"
           }
          ],
          "scattercarpet": [
           {
            "marker": {
             "colorbar": {
              "outlinewidth": 0,
              "ticks": ""
             }
            },
            "type": "scattercarpet"
           }
          ],
          "scattergeo": [
           {
            "marker": {
             "colorbar": {
              "outlinewidth": 0,
              "ticks": ""
             }
            },
            "type": "scattergeo"
           }
          ],
          "scattergl": [
           {
            "marker": {
             "colorbar": {
              "outlinewidth": 0,
              "ticks": ""
             }
            },
            "type": "scattergl"
           }
          ],
          "scattermapbox": [
           {
            "marker": {
             "colorbar": {
              "outlinewidth": 0,
              "ticks": ""
             }
            },
            "type": "scattermapbox"
           }
          ],
          "scatterpolar": [
           {
            "marker": {
             "colorbar": {
              "outlinewidth": 0,
              "ticks": ""
             }
            },
            "type": "scatterpolar"
           }
          ],
          "scatterpolargl": [
           {
            "marker": {
             "colorbar": {
              "outlinewidth": 0,
              "ticks": ""
             }
            },
            "type": "scatterpolargl"
           }
          ],
          "scatterternary": [
           {
            "marker": {
             "colorbar": {
              "outlinewidth": 0,
              "ticks": ""
             }
            },
            "type": "scatterternary"
           }
          ],
          "surface": [
           {
            "colorbar": {
             "outlinewidth": 0,
             "ticks": ""
            },
            "colorscale": [
             [
              0,
              "#0d0887"
             ],
             [
              0.1111111111111111,
              "#46039f"
             ],
             [
              0.2222222222222222,
              "#7201a8"
             ],
             [
              0.3333333333333333,
              "#9c179e"
             ],
             [
              0.4444444444444444,
              "#bd3786"
             ],
             [
              0.5555555555555556,
              "#d8576b"
             ],
             [
              0.6666666666666666,
              "#ed7953"
             ],
             [
              0.7777777777777778,
              "#fb9f3a"
             ],
             [
              0.8888888888888888,
              "#fdca26"
             ],
             [
              1,
              "#f0f921"
             ]
            ],
            "type": "surface"
           }
          ],
          "table": [
           {
            "cells": {
             "fill": {
              "color": "#EBF0F8"
             },
             "line": {
              "color": "white"
             }
            },
            "header": {
             "fill": {
              "color": "#C8D4E3"
             },
             "line": {
              "color": "white"
             }
            },
            "type": "table"
           }
          ]
         },
         "layout": {
          "annotationdefaults": {
           "arrowcolor": "#2a3f5f",
           "arrowhead": 0,
           "arrowwidth": 1
          },
          "autotypenumbers": "strict",
          "coloraxis": {
           "colorbar": {
            "outlinewidth": 0,
            "ticks": ""
           }
          },
          "colorscale": {
           "diverging": [
            [
             0,
             "#8e0152"
            ],
            [
             0.1,
             "#c51b7d"
            ],
            [
             0.2,
             "#de77ae"
            ],
            [
             0.3,
             "#f1b6da"
            ],
            [
             0.4,
             "#fde0ef"
            ],
            [
             0.5,
             "#f7f7f7"
            ],
            [
             0.6,
             "#e6f5d0"
            ],
            [
             0.7,
             "#b8e186"
            ],
            [
             0.8,
             "#7fbc41"
            ],
            [
             0.9,
             "#4d9221"
            ],
            [
             1,
             "#276419"
            ]
           ],
           "sequential": [
            [
             0,
             "#0d0887"
            ],
            [
             0.1111111111111111,
             "#46039f"
            ],
            [
             0.2222222222222222,
             "#7201a8"
            ],
            [
             0.3333333333333333,
             "#9c179e"
            ],
            [
             0.4444444444444444,
             "#bd3786"
            ],
            [
             0.5555555555555556,
             "#d8576b"
            ],
            [
             0.6666666666666666,
             "#ed7953"
            ],
            [
             0.7777777777777778,
             "#fb9f3a"
            ],
            [
             0.8888888888888888,
             "#fdca26"
            ],
            [
             1,
             "#f0f921"
            ]
           ],
           "sequentialminus": [
            [
             0,
             "#0d0887"
            ],
            [
             0.1111111111111111,
             "#46039f"
            ],
            [
             0.2222222222222222,
             "#7201a8"
            ],
            [
             0.3333333333333333,
             "#9c179e"
            ],
            [
             0.4444444444444444,
             "#bd3786"
            ],
            [
             0.5555555555555556,
             "#d8576b"
            ],
            [
             0.6666666666666666,
             "#ed7953"
            ],
            [
             0.7777777777777778,
             "#fb9f3a"
            ],
            [
             0.8888888888888888,
             "#fdca26"
            ],
            [
             1,
             "#f0f921"
            ]
           ]
          },
          "colorway": [
           "#636efa",
           "#EF553B",
           "#00cc96",
           "#ab63fa",
           "#FFA15A",
           "#19d3f3",
           "#FF6692",
           "#B6E880",
           "#FF97FF",
           "#FECB52"
          ],
          "font": {
           "color": "#2a3f5f"
          },
          "geo": {
           "bgcolor": "white",
           "lakecolor": "white",
           "landcolor": "#E5ECF6",
           "showlakes": true,
           "showland": true,
           "subunitcolor": "white"
          },
          "hoverlabel": {
           "align": "left"
          },
          "hovermode": "closest",
          "mapbox": {
           "style": "light"
          },
          "paper_bgcolor": "white",
          "plot_bgcolor": "#E5ECF6",
          "polar": {
           "angularaxis": {
            "gridcolor": "white",
            "linecolor": "white",
            "ticks": ""
           },
           "bgcolor": "#E5ECF6",
           "radialaxis": {
            "gridcolor": "white",
            "linecolor": "white",
            "ticks": ""
           }
          },
          "scene": {
           "xaxis": {
            "backgroundcolor": "#E5ECF6",
            "gridcolor": "white",
            "gridwidth": 2,
            "linecolor": "white",
            "showbackground": true,
            "ticks": "",
            "zerolinecolor": "white"
           },
           "yaxis": {
            "backgroundcolor": "#E5ECF6",
            "gridcolor": "white",
            "gridwidth": 2,
            "linecolor": "white",
            "showbackground": true,
            "ticks": "",
            "zerolinecolor": "white"
           },
           "zaxis": {
            "backgroundcolor": "#E5ECF6",
            "gridcolor": "white",
            "gridwidth": 2,
            "linecolor": "white",
            "showbackground": true,
            "ticks": "",
            "zerolinecolor": "white"
           }
          },
          "shapedefaults": {
           "line": {
            "color": "#2a3f5f"
           }
          },
          "ternary": {
           "aaxis": {
            "gridcolor": "white",
            "linecolor": "white",
            "ticks": ""
           },
           "baxis": {
            "gridcolor": "white",
            "linecolor": "white",
            "ticks": ""
           },
           "bgcolor": "#E5ECF6",
           "caxis": {
            "gridcolor": "white",
            "linecolor": "white",
            "ticks": ""
           }
          },
          "title": {
           "x": 0.05
          },
          "xaxis": {
           "automargin": true,
           "gridcolor": "white",
           "linecolor": "white",
           "ticks": "",
           "title": {
            "standoff": 15
           },
           "zerolinecolor": "white",
           "zerolinewidth": 2
          },
          "yaxis": {
           "automargin": true,
           "gridcolor": "white",
           "linecolor": "white",
           "ticks": "",
           "title": {
            "standoff": 15
           },
           "zerolinecolor": "white",
           "zerolinewidth": 2
          }
         }
        },
        "title": {
         "text": "Buy-n-Hold Comparision, Ticker: HAH",
         "x": 0.5
        },
        "width": 800,
        "xaxis": {
         "title": {
          "text": "Date"
         }
        },
        "yaxis": {
         "title": {
          "text": "Portfolio Value (VND)"
         }
        }
       }
      }
     },
     "metadata": {},
     "output_type": "display_data"
    },
    {
     "data": {
      "image/png": "[encoded data removed]",
      "text/plain": [
       "<Figure size 1200x1000 with 3 Axes>"
      ]
     },
     "metadata": {},
     "output_type": "display_data"
    },
    {
     "data": {
      "image/png": "[encoded data removed]",
      "text/plain": [
       "<Figure size 1500x800 with 2 Axes>"
      ]
     },
     "metadata": {},
     "output_type": "display_data"
    }
   ],
   "source": [
    "ENV_ID = \"VNALL-v0\"\n",
    "TASK = \"HAH\"\n",
    "ITH_ADAPT_STEP = 0\n",
    "\n",
    "args = open_config(\"../configs/maml.yaml\", env_id=ENV_ID)\n",
    "envs = MetaVectorEnv([lambda: gym.make(ENV_ID) for _ in range(1)])\n",
    "agent = MetaAgent(envs=envs, hiddens=args.hiddens)\n",
    "agent.load_state_dict(params[\"maml\"][TASK][ITH_ADAPT_STEP])\n",
    "\n",
    "envs.train(False)\n",
    "envs.reset_task(TASK)\n",
    "\n",
    "info = play_an_episode(agent, envs)\n",
    "df = info[\"final_info\"][0][\"final_history\"]\n",
    "\n",
    "returns = df.set_index(\"time\")[\"portfolio_value\"].pct_change()\n",
    "perf = create_performance(returns, plot=True)\n",
    "\n",
    "plot_trade_log_v2(df)\n",
    "\n",
    "# portfolio value from hodling\n",
    "df[\"pv_from_holding\"] = vbt.Portfolio.from_holding(\n",
    "    df.close, init_cash=envs.envs[0].init_cash\n",
    ").value()\n",
    "df = df.set_index(\"time\")\n",
    "ticker = df[\"ticker_x\"].unique()[0]\n",
    "\n",
    "fig = go.Figure()\n",
    "fig.update_layout(width=800, height=500)\n",
    "fig.update_layout(title=f\"Buy-n-Hold Comparision, Ticker: {ticker}\", title_x=0.5)\n",
    "fig.update_xaxes(title_text=\"Date\")\n",
    "fig.update_yaxes(title_text=\"Portfolio Value (VND)\")\n",
    "\n",
    "df[\"portfolio_value\"].vbt.plot_against(\n",
    "    other=df[\"pv_from_holding\"],\n",
    "    other_trace_kwargs=dict(\n",
    "        line=dict(width=2, color=\"dimgray\"), mode=\"lines\", name=\"Buy-n-Hold\"\n",
    "    ),\n",
    "    trace_kwargs=dict(\n",
    "        mode=\"lines+markers\",\n",
    "        line=dict(width=3, color=\"lightslategray\"),\n",
    "        name=\"MAML\",\n",
    "    ),\n",
    "    pos_trace_kwargs=dict(fillcolor=\"palegreen\"),\n",
    "    neg_trace_kwargs=dict(fillcolor=\"salmon\"),\n",
    "    fig=fig,\n",
    ")\n",
    "fig.show()"
   ]
  },
  {
   "cell_type": "code",
   "execution_count": 6,
   "metadata": {},
   "outputs": [],
   "source": [
    "# # preprocess for plotting\n",
    "# df_result = pd.DataFrame(results)\n",
    "# df_result[\"mean-std\"] = df_result[\"mean\"] - df_result[\"std\"]\n",
    "# df_result[\"mean+std\"] = df_result[\"mean\"] + df_result[\"std\"]\n",
    "# maml_df = df_result[df_result.model_type == \"maml\"]\n",
    "# random_df = df_result[df_result.model_type == \"random\"]\n",
    "\n",
    "# fig = go.Figure()\n",
    "# # adjust size Figure\n",
    "# fig.update_layout(width=500, height=500)\n",
    "# fig.update_layout(\n",
    "#     title=\"Mean Reward +/- Std vs Number of Adaptation Steps\", title_x=0.5\n",
    "# )\n",
    "# fig.update_xaxes(\n",
    "#     title_text=\"Number of Adaptation Steps\", dtick=1, range=[0, TOTAL_ADAPT_STEPS - 1]\n",
    "# )\n",
    "# fig.update_yaxes(title_text=\"Mean Reward +/- Std\", dtick=100)\n",
    "\n",
    "# plot_mean_reward(fig, maml_df, fill_color=\"lightcoral\", line_color=\"red\", name=\"MAML\")\n",
    "# plot_mean_reward(\n",
    "#     fig, random_df, fill_color=\"lightskyblue\", line_color=\"blue\", name=\"Random\"\n",
    "# )\n",
    "\n",
    "# fig.show()"
   ]
  }
 ],
 "metadata": {
  "kernelspec": {
   "display_name": "Python 3.8.13 ('tradingenv')",
   "language": "python",
   "name": "python3"
  },
  "language_info": {
   "codemirror_mode": {
    "name": "ipython",
    "version": 3
   },
   "file_extension": ".py",
   "mimetype": "text/x-python",
   "name": "python",
   "nbconvert_exporter": "python",
   "pygments_lexer": "ipython3",
   "version": "3.8.13"
  },
  "orig_nbformat": 4,
  "vscode": {
   "interpreter": {
    "hash": "faa7f68368d9c9f740356072b5cc858737f0635c1c0b552678cb52f36bb31777"
   }
  }
 },
 "nbformat": 4,
 "nbformat_minor": 2
}
