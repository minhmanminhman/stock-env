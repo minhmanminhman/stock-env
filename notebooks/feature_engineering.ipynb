{
 "cells": [
  {
   "cell_type": "code",
   "execution_count": 1,
   "metadata": {},
   "outputs": [],
   "source": [
    "import os\n",
    "from pathlib import Path\n",
    "path = Path(os.getcwd())\n",
    "os.chdir(path.parent.absolute())\n",
    "\n",
    "import warnings\n",
    "warnings.filterwarnings('ignore')\n",
    "\n",
    "import pandas as pd\n",
    "import pandas_ta as ta\n",
    "import matplotlib.pyplot as plt\n",
    "import mt4_hst\n",
    "%matplotlib inline\n",
    "from stock_env.feature.feature_extractor import *\n",
    "# pd.options.display.max_rows = 9999"
   ]
  },
  {
   "cell_type": "code",
   "execution_count": 8,
   "metadata": {},
   "outputs": [
    {
     "data": {
      "text/html": [
       "<div>\n",
       "<style scoped>\n",
       "    .dataframe tbody tr th:only-of-type {\n",
       "        vertical-align: middle;\n",
       "    }\n",
       "\n",
       "    .dataframe tbody tr th {\n",
       "        vertical-align: top;\n",
       "    }\n",
       "\n",
       "    .dataframe thead th {\n",
       "        text-align: right;\n",
       "    }\n",
       "</style>\n",
       "<table border=\"1\" class=\"dataframe\">\n",
       "  <thead>\n",
       "    <tr style=\"text-align: right;\">\n",
       "      <th></th>\n",
       "      <th>time</th>\n",
       "      <th>open</th>\n",
       "      <th>high</th>\n",
       "      <th>low</th>\n",
       "      <th>close</th>\n",
       "      <th>volume</th>\n",
       "    </tr>\n",
       "  </thead>\n",
       "  <tbody>\n",
       "    <tr>\n",
       "      <th>0</th>\n",
       "      <td>2006-12-05</td>\n",
       "      <td>19.115231</td>\n",
       "      <td>19.115231</td>\n",
       "      <td>19.115231</td>\n",
       "      <td>19.115231</td>\n",
       "      <td>25500.0</td>\n",
       "    </tr>\n",
       "    <tr>\n",
       "      <th>1</th>\n",
       "      <td>2006-12-06</td>\n",
       "      <td>18.232988</td>\n",
       "      <td>18.232988</td>\n",
       "      <td>18.232988</td>\n",
       "      <td>18.232988</td>\n",
       "      <td>17860.0</td>\n",
       "    </tr>\n",
       "    <tr>\n",
       "      <th>2</th>\n",
       "      <td>2006-12-07</td>\n",
       "      <td>17.350748</td>\n",
       "      <td>17.350748</td>\n",
       "      <td>17.350748</td>\n",
       "      <td>17.350748</td>\n",
       "      <td>24160.0</td>\n",
       "    </tr>\n",
       "    <tr>\n",
       "      <th>3</th>\n",
       "      <td>2006-12-08</td>\n",
       "      <td>16.615545</td>\n",
       "      <td>16.615545</td>\n",
       "      <td>16.615545</td>\n",
       "      <td>16.615545</td>\n",
       "      <td>20800.0</td>\n",
       "    </tr>\n",
       "    <tr>\n",
       "      <th>4</th>\n",
       "      <td>2006-12-11</td>\n",
       "      <td>16.615545</td>\n",
       "      <td>17.350748</td>\n",
       "      <td>16.615545</td>\n",
       "      <td>17.350748</td>\n",
       "      <td>334090.0</td>\n",
       "    </tr>\n",
       "  </tbody>\n",
       "</table>\n",
       "</div>"
      ],
      "text/plain": [
       "        time       open       high        low      close    volume\n",
       "0 2006-12-05  19.115231  19.115231  19.115231  19.115231   25500.0\n",
       "1 2006-12-06  18.232988  18.232988  18.232988  18.232988   17860.0\n",
       "2 2006-12-07  17.350748  17.350748  17.350748  17.350748   24160.0\n",
       "3 2006-12-08  16.615545  16.615545  16.615545  16.615545   20800.0\n",
       "4 2006-12-11  16.615545  17.350748  16.615545  17.350748  334090.0"
      ]
     },
     "execution_count": 8,
     "metadata": {},
     "output_type": "execute_result"
    }
   ],
   "source": [
    "ticker = 'PVD'\n",
    "df = mt4_hst.read_hst(\"../stock_datasets/\" + ticker + \"1440.hst\")\n",
    "df.sort_values(by='time', inplace=True)\n",
    "df.head()"
   ]
  },
  {
   "cell_type": "code",
   "execution_count": null,
   "metadata": {},
   "outputs": [],
   "source": [
    "features = TrendFeatures().preprocess(df)\n",
    "# cols = \"\"\"\n",
    "# time close ADX_20 AROOND_20 AROONU_20 AROONOSC_20 \n",
    "# STC_10_10_20_0.5 STCstoch_10_10_20_0.5 \n",
    "# NATR_20 RSI_20 CCI_20_0.015\"\"\".split()\n",
    "# features[cols].head()"
   ]
  },
  {
   "cell_type": "code",
   "execution_count": null,
   "metadata": {},
   "outputs": [],
   "source": [
    "features.head()"
   ]
  },
  {
   "cell_type": "code",
   "execution_count": null,
   "metadata": {},
   "outputs": [],
   "source": [
    "help(ta.stc)"
   ]
  },
  {
   "cell_type": "markdown",
   "metadata": {},
   "source": [
    "# Save DataLoader"
   ]
  },
  {
   "cell_type": "code",
   "execution_count": 5,
   "metadata": {},
   "outputs": [],
   "source": [
    "from stock_env.data_loader import RandomStockLoader\n",
    "from stock_env.feature.feature_extractor import TrendFeatures\n",
    "# settings\n",
    "data_path = \"../stock_datasets/\"\n",
    "\n",
    "tickers = (\n",
    "    \"FPT MBB SSI VND HAX HAH VHC ANV HCM MBS \"\n",
    "    \"VCI BCM IDC ACB HPG NKG TCB DCM DPM DGC \" \n",
    "    \"SZC HAG ROS FLC HBC VGC REE NT2 VSH POW \"\n",
    ").split()\n",
    "    \n",
    "feature_extractor = TrendFeatures\n",
    "\n",
    "# data_loader = RandomStockLoader(\n",
    "#     tickers = tickers,\n",
    "#     data_folder_path = data_path,\n",
    "#     feature_extractor = feature_extractor\n",
    "# )\n",
    "\n",
    "# save_path = \"stock_env/datasets/30stocks\"\n",
    "# data_loader.save(save_path)"
   ]
  },
  {
   "cell_type": "code",
   "execution_count": 2,
   "metadata": {},
   "outputs": [],
   "source": [
    "from stock_env.envs import *\n",
    "import gym\n",
    "env = gym.make(\"RandomVN30-v0\")"
   ]
  }
 ],
 "metadata": {
  "kernelspec": {
   "display_name": "Python 3.8.13 ('py38')",
   "language": "python",
   "name": "python3"
  },
  "language_info": {
   "codemirror_mode": {
    "name": "ipython",
    "version": 3
   },
   "file_extension": ".py",
   "mimetype": "text/x-python",
   "name": "python",
   "nbconvert_exporter": "python",
   "pygments_lexer": "ipython3",
   "version": "3.8.13"
  },
  "vscode": {
   "interpreter": {
    "hash": "b6fec2dd9a2861d90b9b32c7c94e7bc501f521a7856255c3157571f0d1c531c5"
   }
  }
 },
 "nbformat": 4,
 "nbformat_minor": 2
}
