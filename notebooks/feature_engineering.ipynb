{
 "cells": [
  {
   "cell_type": "code",
   "execution_count": 1,
   "metadata": {},
   "outputs": [],
   "source": [
    "import os\n",
    "from pathlib import Path\n",
    "path = Path(os.getcwd())\n",
    "os.chdir(path.parent.absolute())\n",
    "\n",
    "import warnings\n",
    "warnings.filterwarnings('ignore')\n",
    "\n",
    "import pandas as pd\n",
    "import pandas_ta as ta\n",
    "import matplotlib.pyplot as plt\n",
    "import mt4_hst\n",
    "%matplotlib inline\n",
    "\n",
    "pd.options.display.max_rows = 4000"
   ]
  },
  {
   "cell_type": "code",
   "execution_count": 2,
   "metadata": {},
   "outputs": [],
   "source": [
    "ticker = 'FPT'\n",
    "df = mt4_hst.read_hst(\"../stock_datasets/\" + ticker + \"1440.hst\")\n",
    "df = df.sort_values('time')\n",
    "df.sort_values(by='time', inplace=True)"
   ]
  },
  {
   "cell_type": "code",
   "execution_count": 3,
   "metadata": {},
   "outputs": [],
   "source": [
    "TechnicalIndicator = ta.Strategy(\n",
    "    name=\"Standard Technical Indicator in various research of automatic stock trading\",\n",
    "    description=\"SMA MACD RSI CCI ADX Bollinger\",\n",
    "    ta=[\n",
    "        {\"kind\": \"sma\", \"length\": 10},\n",
    "        {\"kind\": \"rsi\", \"length\": 14},\n",
    "        {\"kind\": \"cci\", \"length\": 14},\n",
    "        {\"kind\": \"adx\", \"length\": 14},\n",
    "        {\"kind\": \"bbands\"},\n",
    "        {\"kind\": \"macd\"},\n",
    "    ]\n",
    ")"
   ]
  },
  {
   "cell_type": "code",
   "execution_count": 7,
   "metadata": {},
   "outputs": [],
   "source": [
    "df.ta.strategy(TechnicalIndicator)\n",
    "df.dropna(inplace=True)"
   ]
  },
  {
   "cell_type": "code",
   "execution_count": 15,
   "metadata": {},
   "outputs": [
    {
     "data": {
      "text/html": [
       "<div>\n",
       "<style scoped>\n",
       "    .dataframe tbody tr th:only-of-type {\n",
       "        vertical-align: middle;\n",
       "    }\n",
       "\n",
       "    .dataframe tbody tr th {\n",
       "        vertical-align: top;\n",
       "    }\n",
       "\n",
       "    .dataframe thead th {\n",
       "        text-align: right;\n",
       "    }\n",
       "</style>\n",
       "<table border=\"1\" class=\"dataframe\">\n",
       "  <thead>\n",
       "    <tr style=\"text-align: right;\">\n",
       "      <th></th>\n",
       "      <th>close</th>\n",
       "      <th>SMA_10</th>\n",
       "      <th>RSI_14</th>\n",
       "      <th>CCI_14_0.015</th>\n",
       "      <th>BBL_5_2.0</th>\n",
       "      <th>BBU_5_2.0</th>\n",
       "      <th>MACD_12_26_9</th>\n",
       "    </tr>\n",
       "  </thead>\n",
       "  <tbody>\n",
       "    <tr>\n",
       "      <th>33</th>\n",
       "      <td>25.202848</td>\n",
       "      <td>23.262031</td>\n",
       "      <td>74.643164</td>\n",
       "      <td>153.627647</td>\n",
       "      <td>21.926752</td>\n",
       "      <td>25.383161</td>\n",
       "      <td>1.620369</td>\n",
       "    </tr>\n",
       "    <tr>\n",
       "      <th>34</th>\n",
       "      <td>25.599743</td>\n",
       "      <td>23.639081</td>\n",
       "      <td>75.753119</td>\n",
       "      <td>166.128525</td>\n",
       "      <td>22.020349</td>\n",
       "      <td>26.321492</td>\n",
       "      <td>1.717492</td>\n",
       "    </tr>\n",
       "    <tr>\n",
       "      <th>35</th>\n",
       "      <td>24.607506</td>\n",
       "      <td>23.912939</td>\n",
       "      <td>67.766704</td>\n",
       "      <td>109.471672</td>\n",
       "      <td>22.667903</td>\n",
       "      <td>26.308971</td>\n",
       "      <td>1.694860</td>\n",
       "    </tr>\n",
       "    <tr>\n",
       "      <th>36</th>\n",
       "      <td>25.004400</td>\n",
       "      <td>24.119324</td>\n",
       "      <td>69.166974</td>\n",
       "      <td>96.690511</td>\n",
       "      <td>23.802747</td>\n",
       "      <td>25.967917</td>\n",
       "      <td>1.689475</td>\n",
       "    </tr>\n",
       "    <tr>\n",
       "      <th>37</th>\n",
       "      <td>23.774025</td>\n",
       "      <td>24.115355</td>\n",
       "      <td>60.406317</td>\n",
       "      <td>23.063643</td>\n",
       "      <td>23.596342</td>\n",
       "      <td>26.079067</td>\n",
       "      <td>1.567852</td>\n",
       "    </tr>\n",
       "  </tbody>\n",
       "</table>\n",
       "</div>"
      ],
      "text/plain": [
       "        close     SMA_10     RSI_14  CCI_14_0.015  BBL_5_2.0  BBU_5_2.0  \\\n",
       "33  25.202848  23.262031  74.643164    153.627647  21.926752  25.383161   \n",
       "34  25.599743  23.639081  75.753119    166.128525  22.020349  26.321492   \n",
       "35  24.607506  23.912939  67.766704    109.471672  22.667903  26.308971   \n",
       "36  25.004400  24.119324  69.166974     96.690511  23.802747  25.967917   \n",
       "37  23.774025  24.115355  60.406317     23.063643  23.596342  26.079067   \n",
       "\n",
       "    MACD_12_26_9  \n",
       "33      1.620369  \n",
       "34      1.717492  \n",
       "35      1.694860  \n",
       "36      1.689475  \n",
       "37      1.567852  "
      ]
     },
     "execution_count": 15,
     "metadata": {},
     "output_type": "execute_result"
    }
   ],
   "source": [
    "indicators = \"close SMA_10 RSI_14 CCI_14_0.015 BBL_5_2.0 BBU_5_2.0 MACD_12_26_9\".split()\n",
    "df[indicators].head()"
   ]
  },
  {
   "cell_type": "code",
   "execution_count": null,
   "metadata": {},
   "outputs": [],
   "source": [
    "df.ta.rsi(length=20, append=True)\n",
    "df.ta.natr(length=20, scalar=1, append=True)\n",
    "df.ta.log_return(length=5, append=True)\n",
    "df.ta.log_return(length=20, append=True)\n",
    "df.ta.percent_return(length=5, append=True)\n",
    "df.ta.percent_return(length=20, append=True)\n",
    "\n",
    "# trend setup\n",
    "# df.ta.sma(50, append=True)\n",
    "df['close>sma50'] = (df['close'] > df.ta.sma(50)).astype(int)\n",
    "df['close>sma100'] = (df['close'] > df.ta.sma(100)).astype(int)\n",
    "df['close>sma200'] = (df['close'] > df.ta.sma(200)).astype(int)\n",
    "\n",
    "# df.ta.ema(10, append=True)\n",
    "# df.ta.ema(20, append=True)\n",
    "df['ema10>ema20'] = (df.ta.ema(10) > df.ta.ema(20)).astype(int)\n",
    "\n",
    "donchian_20 = ta.donchian(df['high'], df['close'], lower_length=20, upper_length=20)\n",
    "donchian_50 = ta.donchian(df['high'], df['close'], lower_length=50, upper_length=50)\n",
    "df['higher_low'] = (donchian_20['DCL_20_20'] > donchian_50['DCL_50_50']).astype(int)\n",
    "df['breakout'] = (df['close'] > donchian_20['DCU_20_20'].shift(1)).astype(int)\n",
    "\n",
    "# volume confirm\n",
    "df['volume_breakout'] = (df['volume'] > ta.sma(df['volume'], 20)).astype(int)\n",
    "\n",
    "# df.ta.tsignals(ta.ema(df['close'], 10) > ta.ema(df['close'], 20), append=True)\n",
    "# df.ta.log_return(append=True)\n",
    "# df.ta.percent_return(append=True)\n",
    "# df.ta.roc(append=True)\n",
    "# df.ta.stoch(append=True)\n",
    "# df.ta.stochrsi(append=True)\n",
    "# df.ta.tsi(append=True)\n",
    "\n",
    "# df.describe()\n",
    "df.dropna(inplace=True)\n",
    "df.head()\n",
    "df.to_csv('temp/features.csv', index=False)"
   ]
  }
 ],
 "metadata": {
  "kernelspec": {
   "display_name": "Python 3.7.13 ('tradingenv')",
   "language": "python",
   "name": "python3"
  },
  "language_info": {
   "codemirror_mode": {
    "name": "ipython",
    "version": 3
   },
   "file_extension": ".py",
   "mimetype": "text/x-python",
   "name": "python",
   "nbconvert_exporter": "python",
   "pygments_lexer": "ipython3",
   "version": "3.7.13"
  },
  "orig_nbformat": 4,
  "vscode": {
   "interpreter": {
    "hash": "2731de94cdaa6fc28a94d509b273528b2aec7b6d61ee2b4f8544cbcc71fe6bbb"
   }
  }
 },
 "nbformat": 4,
 "nbformat_minor": 2
}
