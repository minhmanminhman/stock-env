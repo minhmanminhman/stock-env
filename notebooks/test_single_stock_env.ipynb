{
 "cells": [
  {
   "cell_type": "markdown",
   "metadata": {},
   "source": [
    "# Evaluate model in paper Machine Learning for Trading\n",
    "Link [paper](https://papers.ssrn.com/sol3/papers.cfm?abstract_id=3015609)"
   ]
  },
  {
   "cell_type": "code",
   "execution_count": 1,
   "metadata": {},
   "outputs": [],
   "source": [
    "import os\n",
    "from pathlib import Path\n",
    "path = Path(os.getcwd())\n",
    "os.chdir(path.parent.absolute())\n",
    "\n",
    "import warnings\n",
    "warnings.filterwarnings('ignore')\n",
    "\n",
    "import pandas as pd\n",
    "from stable_baselines3.dqn import DQN\n",
    "import gym\n",
    "import matplotlib.pyplot as plt\n",
    "from stable_baselines3.common.evaluation import evaluate_policy\n",
    "\n",
    "import stock_env\n",
    "from stock_env.utils import *\n",
    "\n",
    "%matplotlib inline"
   ]
  },
  {
   "cell_type": "code",
   "execution_count": 4,
   "metadata": {},
   "outputs": [],
   "source": [
    "from stable_baselines3.common.env_checker import check_env\n",
    "check_env(gym.make('SimulatorStock-v0'))"
   ]
  },
  {
   "cell_type": "code",
   "execution_count": 5,
   "metadata": {},
   "outputs": [
    {
     "name": "stdout",
     "output_type": "stream",
     "text": [
      "Wrapping the env with a `Monitor` wrapper\n",
      "Wrapping the env in a DummyVecEnv.\n",
      "Mean reward: 421653.47 +/-  25046.88\n"
     ]
    }
   ],
   "source": [
    "# quick evaluate\n",
    "env = gym.make('SimulatorStock-v0')\n",
    "model = DQN.load(\"log/dqn_SimulatorStock-v0\", env=env)\n",
    "mean, std = evaluate_policy(model, model.get_env(), n_eval_episodes=5)\n",
    "print(f\"Mean reward: {mean:.2f} +/- {std: .2f}\")"
   ]
  },
  {
   "cell_type": "code",
   "execution_count": null,
   "metadata": {},
   "outputs": [],
   "source": [
    "\n",
    "# run model to get detailed information in the enviroment\n",
    "\n",
    "done = False\n",
    "obs = env.reset()\n",
    "while not done:\n",
    "    action, _ = model.predict(obs, deterministic=True)\n",
    "    obs, _, done, _ = env.step(action)\n",
    "\n",
    "# get data\n",
    "history_df = pd.DataFrame(env.history)\n",
    "df = env.df\n",
    "data = pd.concat([history_df, df], join='inner', axis=1)\n",
    "data = data.rename(columns={0:'price'})\n",
    "data.index = pd.date_range('2018-01-01', periods=data.shape[0])\n",
    "data.shape"
   ]
  },
  {
   "cell_type": "code",
   "execution_count": null,
   "metadata": {},
   "outputs": [],
   "source": [
    "temp_df = data#[(data.index.year == 2026)]\n",
    "plot_trade_log(temp_df)\n",
    "create_performance(temp_df['portfolio_value'].pct_change())"
   ]
  },
  {
   "cell_type": "code",
   "execution_count": null,
   "metadata": {},
   "outputs": [],
   "source": [
    "temp_df = data[(data.index.month == 2) & (data.index.year == 2018)]\n",
    "temp_df['return'] = temp_df['portfolio_value'].pct_change()\n",
    "temp_df['total_reward'].sum()"
   ]
  },
  {
   "cell_type": "code",
   "execution_count": null,
   "metadata": {},
   "outputs": [],
   "source": [
    "env = gym.make('SimulatorStock-v0')\n",
    "obs = env.reset()"
   ]
  },
  {
   "cell_type": "code",
   "execution_count": null,
   "metadata": {},
   "outputs": [],
   "source": [
    "obs.shape"
   ]
  }
 ],
 "metadata": {
  "kernelspec": {
   "display_name": "Python 3.8.5 ('base')",
   "language": "python",
   "name": "python3"
  },
  "language_info": {
   "codemirror_mode": {
    "name": "ipython",
    "version": 3
   },
   "file_extension": ".py",
   "mimetype": "text/x-python",
   "name": "python",
   "nbconvert_exporter": "python",
   "pygments_lexer": "ipython3",
   "version": "3.8.5"
  },
  "orig_nbformat": 4,
  "vscode": {
   "interpreter": {
    "hash": "af3387936f063b57a596a9dc5b14ec5106d8a1e4829192b4597fd84d62c2102e"
   }
  }
 },
 "nbformat": 4,
 "nbformat_minor": 2
}
