{
 "cells": [
  {
   "cell_type": "markdown",
   "metadata": {},
   "source": [
    "# Evaluate model for Vietnamese Stock Env"
   ]
  },
  {
   "cell_type": "code",
   "execution_count": 3,
   "metadata": {},
   "outputs": [],
   "source": [
    "import vectorbt as vbt\n",
    "import gymnasium as gym\n",
    "from stock_env.common.common_utils import create_performance, plot_trade_log_v2\n",
    "from stock_env.envs import *\n",
    "from stock_env.common.evaluation import evaluate_agent, play_an_episode\n",
    "from stock_env.algos.agent import Agent, MetaAgent\n",
    "import torch as th"
   ]
  },
  {
   "cell_type": "markdown",
   "metadata": {},
   "source": [
    "# Evaluation"
   ]
  },
  {
   "cell_type": "markdown",
   "metadata": {},
   "source": [
    "## Evaluation on random period"
   ]
  },
  {
   "cell_type": "code",
   "execution_count": 4,
   "metadata": {},
   "outputs": [],
   "source": [
    "envs = gym.vector.make(\"MiniFAANG-v0\", num_envs=1, asynchronous=False)\n",
    "agent = MetaAgent(envs)\n",
    "agent.load_state_dict(\n",
    "    th.load(\"/Users/manbnm/stock-env/model/SP500-v0_ppo_2022-12-05_21-49-34.pth\")\n",
    ")\n",
    "agent.eval()"
   ]
  },
  {
   "cell_type": "code",
   "execution_count": null,
   "metadata": {},
   "outputs": [],
   "source": [
    "mean, std = evaluate_agent(agent, envs, n_eval_episodes=10)\n",
    "print(f\"Mean reward: {mean:.2f} +/- {std: .2f}\")"
   ]
  },
  {
   "cell_type": "markdown",
   "metadata": {},
   "source": [
    "# Evaluation on specific stock"
   ]
  },
  {
   "cell_type": "code",
   "execution_count": null,
   "metadata": {},
   "outputs": [],
   "source": [
    "envs = gym.vector.make(\"SP500-v0\", num_envs=1, asynchronous=False)\n",
    "# run model to get detailed information in the enviroment\n",
    "info = play_an_episode(agent, envs)\n",
    "df = info[\"final_info\"][0][\"final_history\"]\n",
    "df.head()"
   ]
  },
  {
   "cell_type": "code",
   "execution_count": null,
   "metadata": {},
   "outputs": [],
   "source": [
    "returns = df.set_index(\"time\")[\"portfolio_value\"].pct_change()\n",
    "create_performance(returns)"
   ]
  },
  {
   "cell_type": "code",
   "execution_count": null,
   "metadata": {},
   "outputs": [],
   "source": [
    "plot_trade_log_v2(df)"
   ]
  },
  {
   "cell_type": "markdown",
   "metadata": {},
   "source": [
    "# Compare with buy-and-hold strategy and feature strategy"
   ]
  },
  {
   "cell_type": "code",
   "execution_count": null,
   "metadata": {},
   "outputs": [],
   "source": [
    "# portfolio value from hodling\n",
    "df[\"pv_from_holding\"] = vbt.Portfolio.from_holding(df.close, init_cash=20e3).value()"
   ]
  },
  {
   "cell_type": "code",
   "execution_count": null,
   "metadata": {},
   "outputs": [],
   "source": [
    "fig = df[\"portfolio_value\"].vbt.plot_against(df[\"pv_from_holding\"])\n",
    "fig.show()"
   ]
  },
  {
   "cell_type": "code",
   "execution_count": null,
   "metadata": {},
   "outputs": [],
   "source": []
  }
 ],
 "metadata": {
  "kernelspec": {
   "display_name": "Python 3.8.13 ('tradingenv')",
   "language": "python",
   "name": "python3"
  },
  "language_info": {
   "codemirror_mode": {
    "name": "ipython",
    "version": 3
   },
   "file_extension": ".py",
   "mimetype": "text/x-python",
   "name": "python",
   "nbconvert_exporter": "python",
   "pygments_lexer": "ipython3",
   "version": "3.8.13"
  },
  "orig_nbformat": 4,
  "vscode": {
   "interpreter": {
    "hash": "faa7f68368d9c9f740356072b5cc858737f0635c1c0b552678cb52f36bb31777"
   }
  }
 },
 "nbformat": 4,
 "nbformat_minor": 2
}
