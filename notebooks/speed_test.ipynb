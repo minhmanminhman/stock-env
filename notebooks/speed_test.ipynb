{
 "cells": [
  {
   "cell_type": "code",
   "execution_count": 1,
   "metadata": {},
   "outputs": [],
   "source": [
    "import os\n",
    "from pathlib import Path\n",
    "path = Path(os.getcwd())\n",
    "os.chdir(path.parent.absolute())\n",
    "\n",
    "import warnings\n",
    "warnings.filterwarnings('ignore')\n",
    "\n",
    "import numpy as np\n",
    "import talib\n",
    "import pandas as pd\n",
    "import pandas_ta as ta\n",
    "from stock_env.feature.feature_extractor import *\n",
    "from stock_env.utils import check_col\n",
    "import mt4_hst"
   ]
  },
  {
   "cell_type": "code",
   "execution_count": 2,
   "metadata": {},
   "outputs": [],
   "source": [
    "# note that all ndarrays must be the same length!\n",
    "df = mt4_hst.read_hst(\"../stock_datasets/\" + 'FPT' + \"1440.hst\")"
   ]
  },
  {
   "cell_type": "code",
   "execution_count": 9,
   "metadata": {},
   "outputs": [],
   "source": [
    "def func1(df):\n",
    "    t = ta.Strategy(\n",
    "        name=\"Trend Signal Strategy\",\n",
    "        description=\"SMA 50,200, BBANDS, RSI, MACD and Volume SMA 20\",\n",
    "        ta=[\n",
    "            {\"kind\": \"sma\", \"length\": 50},\n",
    "            {\"kind\": \"ema\", \"length\": 10},\n",
    "            {\"kind\": \"ema\", \"length\": 20},])\n",
    "    return df.ta.strategy(t)\n",
    "\n",
    "def func2(df):\n",
    "    df['SMA_50'] = ta.sma(close=df['close'], length=50)\n",
    "    df['EMA_10'] = ta.ema(close=df['close'], length=10)\n",
    "    df['EMA_20'] = ta.ema(close=df['close'], length=20)\n",
    "    return df\n",
    "\n",
    "def func3(df):\n",
    "    df['SMA_50'] = talib.SMA(df['close'], timeperiod=50)\n",
    "    df['EMA_10'] = talib.EMA(df['close'], timeperiod=10)\n",
    "    df['EMA_20'] = talib.EMA(df['close'], timeperiod=20)\n",
    "    return df\n",
    "\n",
    "def func4(df):\n",
    "    df.ta.sma(length=50, append=True)\n",
    "    df.ta.ema(length=10, append=True)\n",
    "    df.ta.ema(length=20, append=True)\n",
    "    df['LOW_10'] = talib.MIN(df.low, timeperiod=10)\n",
    "    df['HIGH_10'] = talib.MAX(df.high, timeperiod=10)\n",
    "    df['LOW_50'] = talib.MIN(df.low, timeperiod=50)\n",
    "    df['VOLUME_SMA_20'] = talib.SMA(df.volume, timeperiod=20)\n",
    "    df.ta.adx(length=20, scalar=1, append=True)\n",
    "    df.ta.aroon(length=20, scalar=1, talib=False, append=True)\n",
    "    df.ta.stc(tclength=10, ma1=df['EMA_10'], ma2=df['EMA_20'], fast=10, slow=20, append=True)\n",
    "    df.ta.natr(length=20, scalar=1, talib=False, append=True)\n",
    "    df.ta.rsi(length=20, scalar=1, talib=False, append=True)\n",
    "    df.ta.cci(length=20, scalar=1, append=True)\n",
    "    df['CCI_20_0.015'] = df['CCI_20_0.015'] / 100\n",
    "    df[['STC_10_10_20_0.5', 'STCstoch_10_10_20_0.5']] = df[['STC_10_10_20_0.5', 'STCstoch_10_10_20_0.5']] / 100\n",
    "    df['EMA_ratio'] = df['EMA_10'] / df['EMA_20']\n",
    "    df['LOW_ratio'] = df['LOW_10'] / df['LOW_50']\n",
    "    df['above_MA'] = (df['close'] > df['SMA_50']).astype(int)\n",
    "    return df"
   ]
  },
  {
   "cell_type": "code",
   "execution_count": 6,
   "metadata": {},
   "outputs": [
    {
     "name": "stdout",
     "output_type": "stream",
     "text": [
      "2.745360851287842\n",
      "0.3604402542114258\n"
     ]
    }
   ],
   "source": [
    "import time\n",
    "s = time.time()\n",
    "_df1 = TrendFeatures().preprocess(df.copy())\n",
    "e = time.time()\n",
    "t1 = e-s\n",
    "print(t1)\n",
    "\n",
    "s = time.time()\n",
    "_df2 = TrendFeaturesV2().preprocess(df.copy())\n",
    "e = time.time()\n",
    "t2 = e-s\n",
    "print(t2)"
   ]
  },
  {
   "cell_type": "code",
   "execution_count": 2,
   "metadata": {},
   "outputs": [],
   "source": [
    "from stock_env.data_loader import RandomStockLoader\n",
    "from stock_env.feature import TrendFeaturesV2\n",
    "\n",
    "data_loader = RandomStockLoader(\n",
    "    tickers = \"SSI\".split(),\n",
    "    data_folder_path = \"../stock_datasets/\",\n",
    "    feature_extractor = TrendFeaturesV2\n",
    ")"
   ]
  },
  {
   "cell_type": "code",
   "execution_count": 4,
   "metadata": {},
   "outputs": [],
   "source": [
    "obs = data_loader.reset()\n",
    "ohlcv = data_loader.current_ohlcv"
   ]
  },
  {
   "cell_type": "code",
   "execution_count": 7,
   "metadata": {},
   "outputs": [
    {
     "data": {
      "text/plain": [
       "5.158303737640381"
      ]
     },
     "execution_count": 7,
     "metadata": {},
     "output_type": "execute_result"
    }
   ],
   "source": [
    "ohlcv.open.item()"
   ]
  }
 ],
 "metadata": {
  "kernelspec": {
   "display_name": "Python 3.8.13 ('py38')",
   "language": "python",
   "name": "python3"
  },
  "language_info": {
   "codemirror_mode": {
    "name": "ipython",
    "version": 3
   },
   "file_extension": ".py",
   "mimetype": "text/x-python",
   "name": "python",
   "nbconvert_exporter": "python",
   "pygments_lexer": "ipython3",
   "version": "3.8.13"
  },
  "orig_nbformat": 4,
  "vscode": {
   "interpreter": {
    "hash": "b6fec2dd9a2861d90b9b32c7c94e7bc501f521a7856255c3157571f0d1c531c5"
   }
  }
 },
 "nbformat": 4,
 "nbformat_minor": 2
}
