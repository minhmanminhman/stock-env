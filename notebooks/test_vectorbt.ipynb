{
 "cells": [
  {
   "cell_type": "code",
   "execution_count": 1,
   "metadata": {},
   "outputs": [],
   "source": [
    "import os\n",
    "from pathlib import Path\n",
    "path = Path(os.getcwd())\n",
    "os.chdir(path.parent.absolute())\n",
    "\n",
    "import warnings\n",
    "warnings.filterwarnings('ignore')\n",
    "\n",
    "import numpy as np\n",
    "import pandas as pd\n",
    "import pandas_ta as ta\n",
    "import vectorbt as vbt\n",
    "import mt4_hst\n",
    "from stock_env.feature.feature_extractor import TrendFeatures"
   ]
  },
  {
   "cell_type": "code",
   "execution_count": 2,
   "metadata": {},
   "outputs": [],
   "source": [
    "cheight, cwidth = 500, 1000 # Adjust as needed for Chart Height and Width\n",
    "vbt.settings.set_theme(\"seaborn\") # Options: \"light\" (Default), \"dark\" (my fav), \"seaborn\"\n",
    "\n",
    "# Must be set\n",
    "vbt.settings.portfolio[\"freq\"] = \"1D\" # Daily\n",
    "\n",
    "# Predefine vectorbt Portfolio settings\n",
    "vbt.settings.portfolio[\"init_cash\"] = 1e4\n",
    "vbt.settings.portfolio[\"fees\"] = 0.0015 # 0.25%\n",
    "vbt.settings.portfolio[\"slippage\"] = 0.0015 # 0.25%\n",
    "vbt.settings.portfolio[\"size\"] = 100\n",
    "# vbt.settings.portfolio[\"accumulate\"] = False\n",
    "vbt.settings.portfolio[\"allow_partial\"] = False"
   ]
  },
  {
   "cell_type": "code",
   "execution_count": 3,
   "metadata": {},
   "outputs": [],
   "source": [
    "ticker = 'FPT'\n",
    "benchmark = 'VNINDEX'\n",
    "# df = mt4_hst.read_hst(\"stock_env/datasets/FPT1440.hst\")\n",
    "\n",
    "benchmark = mt4_hst.read_hst(\"../stock_datasets/\" + benchmark + \"1440.hst\")\n",
    "benchmark = benchmark[['time', 'close']].rename(columns={'close': 'benchmark'})\n",
    "df = mt4_hst.read_hst(\"../stock_datasets/\" + ticker + \"1440.hst\")\n",
    "df = df.merge(benchmark, how='inner', on='time')\n",
    "df = TrendFeatures().preprocess(df, asbool=True, return_all=True)\n",
    "df.index = df['time']\n",
    "# df.to_csv('temp/signal/' + ticker + '.csv', index=False)"
   ]
  },
  {
   "cell_type": "markdown",
   "metadata": {},
   "source": [
    "# Backtest"
   ]
  },
  {
   "cell_type": "code",
   "execution_count": 4,
   "metadata": {},
   "outputs": [
    {
     "data": {
      "text/plain": [
       "Start                         2007-03-01 00:00:00\n",
       "End                           2022-08-10 00:00:00\n",
       "Period                         3850 days 00:00:00\n",
       "Start Value                               10000.0\n",
       "End Value                            16252.525321\n",
       "Total Return [%]                        62.525253\n",
       "Benchmark Return [%]                    11.804257\n",
       "Max Gross Exposure [%]                  55.261116\n",
       "Total Fees Paid                        162.192055\n",
       "Max Drawdown [%]                         9.130309\n",
       "Max Drawdown Duration           636 days 00:00:00\n",
       "Total Trades                                   26\n",
       "Total Closed Trades                            26\n",
       "Total Open Trades                               0\n",
       "Open Trade PnL                                0.0\n",
       "Win Rate [%]                            61.538462\n",
       "Best Trade [%]                         120.240429\n",
       "Worst Trade [%]                         -7.369566\n",
       "Avg Winning Trade [%]                   22.712042\n",
       "Avg Losing Trade [%]                     -3.70189\n",
       "Avg Winning Trade Duration       87 days 22:30:00\n",
       "Avg Losing Trade Duration        25 days 07:12:00\n",
       "Profit Factor                            9.569295\n",
       "Expectancy                             240.481743\n",
       "Sharpe Ratio                             0.869577\n",
       "Calmar Ratio                             0.516082\n",
       "Omega Ratio                              1.283777\n",
       "Sortino Ratio                             1.30841\n",
       "dtype: object"
      ]
     },
     "execution_count": 4,
     "metadata": {},
     "output_type": "execute_result"
    }
   ],
   "source": [
    "from stock_env.utils import create_performance\n",
    "\n",
    "# Asset Portfolio from Trade Signals\n",
    "assetpf_signals = vbt.Portfolio.from_signals(\n",
    "    df.close,\n",
    "    entries=df.TS_Entries,\n",
    "    exits=df.TS_Exits,\n",
    ")\n",
    "assetpf_signals.stats(settings=dict(benchmark_rets=df.benchmark.pct_change()))"
   ]
  },
  {
   "cell_type": "code",
   "execution_count": null,
   "metadata": {},
   "outputs": [],
   "source": [
    "values = assetpf_signals.value()\n",
    "values.index = df['time']\n",
    "returns = values.pct_change()\n",
    "create_performance(returns)"
   ]
  },
  {
   "cell_type": "code",
   "execution_count": null,
   "metadata": {},
   "outputs": [],
   "source": [
    "fig = df.close.vbt.plot(trace_kwargs=dict(name=ticker), autosize=False,width=1000,height=500)\n",
    "assetpf_signals.positions.plot(close_trace_kwargs=dict(visible=False), fig=fig)"
   ]
  },
  {
   "cell_type": "code",
   "execution_count": null,
   "metadata": {},
   "outputs": [],
   "source": [
    "values.vbt.drawdowns.plot(top_n=3)"
   ]
  }
 ],
 "metadata": {
  "kernelspec": {
   "display_name": "Python 3.8.13 ('tradingenvv2')",
   "language": "python",
   "name": "python3"
  },
  "language_info": {
   "codemirror_mode": {
    "name": "ipython",
    "version": 3
   },
   "file_extension": ".py",
   "mimetype": "text/x-python",
   "name": "python",
   "nbconvert_exporter": "python",
   "pygments_lexer": "ipython3",
   "version": "3.8.13"
  },
  "vscode": {
   "interpreter": {
    "hash": "b302006791aa5903ad339ba86033ebd234f7a9ca48ef7a2e4b0a0677cb75f24c"
   }
  }
 },
 "nbformat": 4,
 "nbformat_minor": 2
}
