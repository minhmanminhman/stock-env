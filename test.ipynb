{
 "cells": [
  {
   "cell_type": "code",
   "execution_count": 69,
   "metadata": {},
   "outputs": [],
   "source": [
    "from stock_env.envs.single_stock_env import SingleStockEnv\n",
    "import numpy as np\n",
    "import pandas as pd\n",
    "from stable_baselines3.common.env_checker import check_env\n",
    "from stable_baselines3.dqn import DQN\n",
    "import warnings\n",
    "\n",
    "warnings.filterwarnings('ignore')\n",
    "%matplotlib inline"
   ]
  },
  {
   "cell_type": "code",
   "execution_count": null,
   "metadata": {},
   "outputs": [],
   "source": [
    "price = np.load('price.pkl.npy')\n",
    "df = pd.DataFrame()\n",
    "df['A'] = price\n",
    "env = SingleStockEnv(\n",
    "    df=df,\n",
    "    init_cash=5e4,\n",
    ")\n",
    "check_env(env)\n",
    "\n",
    "model = DQN.load(\"log/dqn_single_stock\", env=env)"
   ]
  },
  {
   "cell_type": "code",
   "execution_count": null,
   "metadata": {},
   "outputs": [],
   "source": [
    "done = False\n",
    "obs = env.reset()\n",
    "while not done:\n",
    "    action, _ = model.predict(obs, deterministic=True)\n",
    "    print(action)\n",
    "    obs, _, done, _ = env.step(action)\n",
    "\n",
    "data = pd.concat([df, pd.DataFrame(env.history)], axis=1, join='inner')"
   ]
  },
  {
   "cell_type": "code",
   "execution_count": 29,
   "metadata": {},
   "outputs": [
    {
     "data": {
      "text/html": [
       "<div>\n",
       "<style scoped>\n",
       "    .dataframe tbody tr th:only-of-type {\n",
       "        vertical-align: middle;\n",
       "    }\n",
       "\n",
       "    .dataframe tbody tr th {\n",
       "        vertical-align: top;\n",
       "    }\n",
       "\n",
       "    .dataframe thead th {\n",
       "        text-align: right;\n",
       "    }\n",
       "</style>\n",
       "<table border=\"1\" class=\"dataframe\">\n",
       "  <thead>\n",
       "    <tr style=\"text-align: right;\">\n",
       "      <th></th>\n",
       "      <th>A</th>\n",
       "      <th>actions</th>\n",
       "      <th>delta_shares</th>\n",
       "      <th>quantity</th>\n",
       "      <th>delta_vt</th>\n",
       "      <th>total_reward</th>\n",
       "      <th>total_profit</th>\n",
       "      <th>portfolio_value</th>\n",
       "      <th>nav</th>\n",
       "      <th>cash</th>\n",
       "    </tr>\n",
       "  </thead>\n",
       "  <tbody>\n",
       "    <tr>\n",
       "      <th>0</th>\n",
       "      <td>50.000000</td>\n",
       "      <td>3</td>\n",
       "      <td>-200</td>\n",
       "      <td>-200</td>\n",
       "      <td>-84.978266</td>\n",
       "      <td>-85.339331</td>\n",
       "      <td>-84.978266</td>\n",
       "      <td>49915.021734</td>\n",
       "      <td>-10024.978266</td>\n",
       "      <td>59940.000000</td>\n",
       "    </tr>\n",
       "    <tr>\n",
       "      <th>1</th>\n",
       "      <td>50.124891</td>\n",
       "      <td>3</td>\n",
       "      <td>-200</td>\n",
       "      <td>-400</td>\n",
       "      <td>-71.348092</td>\n",
       "      <td>-156.941950</td>\n",
       "      <td>-156.326357</td>\n",
       "      <td>49843.673643</td>\n",
       "      <td>-20061.304623</td>\n",
       "      <td>69904.978266</td>\n",
       "    </tr>\n",
       "    <tr>\n",
       "      <th>2</th>\n",
       "      <td>50.153262</td>\n",
       "      <td>3</td>\n",
       "      <td>-200</td>\n",
       "      <td>-600</td>\n",
       "      <td>-101.677322</td>\n",
       "      <td>-259.136186</td>\n",
       "      <td>-258.003679</td>\n",
       "      <td>49741.996321</td>\n",
       "      <td>-30133.634256</td>\n",
       "      <td>79875.630577</td>\n",
       "    </tr>\n",
       "    <tr>\n",
       "      <th>3</th>\n",
       "      <td>50.222724</td>\n",
       "      <td>3</td>\n",
       "      <td>-200</td>\n",
       "      <td>-800</td>\n",
       "      <td>-187.523964</td>\n",
       "      <td>-448.418412</td>\n",
       "      <td>-445.527643</td>\n",
       "      <td>49554.472357</td>\n",
       "      <td>-40305.702972</td>\n",
       "      <td>89860.175329</td>\n",
       "    </tr>\n",
       "    <tr>\n",
       "      <th>4</th>\n",
       "      <td>50.382129</td>\n",
       "      <td>3</td>\n",
       "      <td>-200</td>\n",
       "      <td>-1000</td>\n",
       "      <td>-193.228905</td>\n",
       "      <td>-643.514188</td>\n",
       "      <td>-638.756549</td>\n",
       "      <td>49361.243451</td>\n",
       "      <td>-50515.357621</td>\n",
       "      <td>99876.601072</td>\n",
       "    </tr>\n",
       "  </tbody>\n",
       "</table>\n",
       "</div>"
      ],
      "text/plain": [
       "           A  actions  delta_shares  quantity    delta_vt  total_reward  \\\n",
       "0  50.000000        3          -200      -200  -84.978266    -85.339331   \n",
       "1  50.124891        3          -200      -400  -71.348092   -156.941950   \n",
       "2  50.153262        3          -200      -600 -101.677322   -259.136186   \n",
       "3  50.222724        3          -200      -800 -187.523964   -448.418412   \n",
       "4  50.382129        3          -200     -1000 -193.228905   -643.514188   \n",
       "\n",
       "   total_profit  portfolio_value           nav          cash  \n",
       "0    -84.978266     49915.021734 -10024.978266  59940.000000  \n",
       "1   -156.326357     49843.673643 -20061.304623  69904.978266  \n",
       "2   -258.003679     49741.996321 -30133.634256  79875.630577  \n",
       "3   -445.527643     49554.472357 -40305.702972  89860.175329  \n",
       "4   -638.756549     49361.243451 -50515.357621  99876.601072  "
      ]
     },
     "execution_count": 29,
     "metadata": {},
     "output_type": "execute_result"
    }
   ],
   "source": [
    "data = pd.read_csv('history.csv', index_col=0)\n",
    "data.head()"
   ]
  },
  {
   "cell_type": "code",
   "execution_count": 40,
   "metadata": {},
   "outputs": [],
   "source": [
    "returns = data['portfolio_value'].pct_change()\n",
    "returns.index = pd.date_range(\"2018-01-01\", periods=4999, freq=\"D\").to_pydatetime()\n",
    "returns = returns.dropna()"
   ]
  }
 ],
 "metadata": {
  "kernelspec": {
   "display_name": "Python 3.8.5 ('base')",
   "language": "python",
   "name": "python3"
  },
  "language_info": {
   "codemirror_mode": {
    "name": "ipython",
    "version": 3
   },
   "file_extension": ".py",
   "mimetype": "text/x-python",
   "name": "python",
   "nbconvert_exporter": "python",
   "pygments_lexer": "ipython3",
   "version": "3.8.5"
  },
  "orig_nbformat": 4,
  "vscode": {
   "interpreter": {
    "hash": "af3387936f063b57a596a9dc5b14ec5106d8a1e4829192b4597fd84d62c2102e"
   }
  }
 },
 "nbformat": 4,
 "nbformat_minor": 2
}
