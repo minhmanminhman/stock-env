{
 "cells": [
  {
   "cell_type": "code",
   "execution_count": 2,
   "metadata": {},
   "outputs": [],
   "source": [
    "# from stock_env.envs.single_stock_env import SingleStockEnv\n",
    "import numpy as np\n",
    "import pandas as pd\n",
    "from stable_baselines3.common.env_checker import check_env\n",
    "from stable_baselines3.dqn import DQN\n",
    "import warnings\n",
    "\n",
    "warnings.filterwarnings('ignore')\n",
    "%matplotlib inline"
   ]
  },
  {
   "cell_type": "code",
   "execution_count": 9,
   "metadata": {},
   "outputs": [
    {
     "data": {
      "text/html": [
       "<div>\n",
       "<style scoped>\n",
       "    .dataframe tbody tr th:only-of-type {\n",
       "        vertical-align: middle;\n",
       "    }\n",
       "\n",
       "    .dataframe tbody tr th {\n",
       "        vertical-align: top;\n",
       "    }\n",
       "\n",
       "    .dataframe thead th {\n",
       "        text-align: right;\n",
       "    }\n",
       "</style>\n",
       "<table border=\"1\" class=\"dataframe\">\n",
       "  <thead>\n",
       "    <tr style=\"text-align: right;\">\n",
       "      <th></th>\n",
       "      <th>price</th>\n",
       "    </tr>\n",
       "  </thead>\n",
       "  <tbody>\n",
       "    <tr>\n",
       "      <th>2018-01-01</th>\n",
       "      <td>50.000000</td>\n",
       "    </tr>\n",
       "    <tr>\n",
       "      <th>2018-01-02</th>\n",
       "      <td>50.124891</td>\n",
       "    </tr>\n",
       "    <tr>\n",
       "      <th>2018-01-03</th>\n",
       "      <td>50.153262</td>\n",
       "    </tr>\n",
       "    <tr>\n",
       "      <th>2018-01-04</th>\n",
       "      <td>50.222724</td>\n",
       "    </tr>\n",
       "    <tr>\n",
       "      <th>2018-01-05</th>\n",
       "      <td>50.382129</td>\n",
       "    </tr>\n",
       "    <tr>\n",
       "      <th>...</th>\n",
       "      <td>...</td>\n",
       "    </tr>\n",
       "    <tr>\n",
       "      <th>2031-09-05</th>\n",
       "      <td>45.423907</td>\n",
       "    </tr>\n",
       "    <tr>\n",
       "      <th>2031-09-06</th>\n",
       "      <td>45.417516</td>\n",
       "    </tr>\n",
       "    <tr>\n",
       "      <th>2031-09-07</th>\n",
       "      <td>45.465620</td>\n",
       "    </tr>\n",
       "    <tr>\n",
       "      <th>2031-09-08</th>\n",
       "      <td>45.525523</td>\n",
       "    </tr>\n",
       "    <tr>\n",
       "      <th>2031-09-09</th>\n",
       "      <td>45.540415</td>\n",
       "    </tr>\n",
       "  </tbody>\n",
       "</table>\n",
       "<p>5000 rows × 1 columns</p>\n",
       "</div>"
      ],
      "text/plain": [
       "                price\n",
       "2018-01-01  50.000000\n",
       "2018-01-02  50.124891\n",
       "2018-01-03  50.153262\n",
       "2018-01-04  50.222724\n",
       "2018-01-05  50.382129\n",
       "...               ...\n",
       "2031-09-05  45.423907\n",
       "2031-09-06  45.417516\n",
       "2031-09-07  45.465620\n",
       "2031-09-08  45.525523\n",
       "2031-09-09  45.540415\n",
       "\n",
       "[5000 rows x 1 columns]"
      ]
     },
     "execution_count": 9,
     "metadata": {},
     "output_type": "execute_result"
    }
   ],
   "source": [
    "price = pd.read_csv('stock_env/datasets/data/SIMULATE_STOCK.csv', index_col=0)\n",
    "# env = SingleStockEnv(\n",
    "#     df=df,\n",
    "#     init_cash=5e4,\n",
    "# )\n",
    "# check_env(env)\n",
    "price\n",
    "# model = DQN.load(\"log/dqn_single_stock\", env=env)"
   ]
  },
  {
   "cell_type": "code",
   "execution_count": null,
   "metadata": {},
   "outputs": [],
   "source": []
  },
  {
   "cell_type": "code",
   "execution_count": null,
   "metadata": {},
   "outputs": [],
   "source": [
    "done = False\n",
    "obs = env.reset()\n",
    "while not done:\n",
    "    action, _ = model.predict(obs, deterministic=True)\n",
    "    print(action)\n",
    "    obs, _, done, _ = env.step(action)\n",
    "\n",
    "data = pd.concat([df, pd.DataFrame(env.history)], axis=1, join='inner')"
   ]
  },
  {
   "cell_type": "code",
   "execution_count": null,
   "metadata": {},
   "outputs": [],
   "source": [
    "data = pd.read_csv('history.csv', index_col=0)\n",
    "data.head()"
   ]
  },
  {
   "cell_type": "code",
   "execution_count": null,
   "metadata": {},
   "outputs": [],
   "source": [
    "returns = data['portfolio_value'].pct_change()\n",
    "returns.index = pd.date_range(\"2018-01-01\", periods=4999, freq=\"D\").to_pydatetime()\n",
    "returns = returns.dropna()"
   ]
  },
  {
   "cell_type": "code",
   "execution_count": null,
   "metadata": {},
   "outputs": [],
   "source": [
    "import matplotlib.pyplot\n",
    "simulator = OUSimulator(size=5000, seed=0)\n",
    "price = simulator.simulate()\n",
    "plt.plot"
   ]
  }
 ],
 "metadata": {
  "kernelspec": {
   "display_name": "Python 3.8.5 ('base')",
   "language": "python",
   "name": "python3"
  },
  "language_info": {
   "codemirror_mode": {
    "name": "ipython",
    "version": 3
   },
   "file_extension": ".py",
   "mimetype": "text/x-python",
   "name": "python",
   "nbconvert_exporter": "python",
   "pygments_lexer": "ipython3",
   "version": "3.8.5"
  },
  "orig_nbformat": 4,
  "vscode": {
   "interpreter": {
    "hash": "af3387936f063b57a596a9dc5b14ec5106d8a1e4829192b4597fd84d62c2102e"
   }
  }
 },
 "nbformat": 4,
 "nbformat_minor": 2
}
